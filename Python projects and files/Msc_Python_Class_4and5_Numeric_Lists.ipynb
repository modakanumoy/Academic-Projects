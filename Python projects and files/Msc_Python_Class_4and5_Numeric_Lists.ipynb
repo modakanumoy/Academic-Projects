{
 "cells": [
  {
   "cell_type": "markdown",
   "metadata": {},
   "source": [
    "Making Numeric lists"
   ]
  },
  {
   "cell_type": "markdown",
   "metadata": {},
   "source": [
    "run using  Range function\n",
    "\n",
    "range function is as follows range(Interger to start from,interger to end at)\n",
    "\n",
    "The default start point is 0 is no start is specified"
   ]
  },
  {
   "cell_type": "code",
   "execution_count": 3,
   "metadata": {},
   "outputs": [
    {
     "name": "stdout",
     "output_type": "stream",
     "text": [
      "1\n",
      "1\n",
      "2\n",
      "4\n",
      "3\n",
      "9\n",
      "4\n",
      "16\n",
      "0\n",
      "1\n",
      "2\n",
      "3\n",
      "4\n"
     ]
    }
   ],
   "source": [
    "for value in range(1,5):\n",
    "    print(value)\n",
    "    print(value**2)\n",
    "\n",
    "#no start specified\n",
    "for value in range(5):\n",
    "    print(value)"
   ]
  },
  {
   "cell_type": "markdown",
   "metadata": {},
   "source": [
    "List Function\n",
    "list(range(1,6)) will make a list \n",
    "\n",
    "even numbers can be printed using \n",
    "list(range(start,End,2)) \n",
    "\n",
    "i=1(2)20"
   ]
  },
  {
   "cell_type": "code",
   "execution_count": 19,
   "metadata": {},
   "outputs": [
    {
     "name": "stdout",
     "output_type": "stream",
     "text": [
      "[1, 2, 3, 4, 5]\n",
      "[1, 3, 5, 7, 9, 11, 13, 15, 17, 19]\n"
     ]
    }
   ],
   "source": [
    "numlist = list(range(1,6))\n",
    "\n",
    "print(numlist)\n",
    "\n",
    "evennum = list(range(1,20,2))\n",
    "\n",
    "print(evennum)"
   ]
  },
  {
   "cell_type": "code",
   "execution_count": 49,
   "metadata": {},
   "outputs": [
    {
     "name": "stdout",
     "output_type": "stream",
     "text": [
      "[0, 1, 4, 9, 16, 25, 36, 49, 64, 81, 100]\n"
     ]
    }
   ],
   "source": [
    "squares = []\n",
    "\n",
    "#We cant't do the below as there is no index 0 in empty list\n",
    "# print(squares[0])\n",
    "\n",
    "for value in range(11):\n",
    "    square = value**2\n",
    "    squares.append(square)  \n",
    "print(squares)  \n"
   ]
  },
  {
   "cell_type": "code",
   "execution_count": 52,
   "metadata": {},
   "outputs": [
    {
     "name": "stdout",
     "output_type": "stream",
     "text": [
      "[0, 1, 4, 9, 16, 25, 36, 49, 64, 81, 100]\n"
     ]
    }
   ],
   "source": [
    "squares = []\n",
    "#This can be optimised\n",
    "\n",
    "for value in range(11):\n",
    "    squares.append(value**2)\n",
    "print(squares)"
   ]
  },
  {
   "cell_type": "markdown",
   "metadata": {},
   "source": [
    "Simple statistics with a list of numbers\n",
    "min, max, sum"
   ]
  },
  {
   "cell_type": "code",
   "execution_count": 57,
   "metadata": {},
   "outputs": [
    {
     "name": "stdout",
     "output_type": "stream",
     "text": [
      "[0, 1, 2, 3, 4, 5, 6, 7, 8, 9]\n",
      "0\n",
      "9\n",
      "45\n"
     ]
    }
   ],
   "source": [
    "digits = list(range(10))\n",
    "print(digits)\n",
    "print(min(digits))\n",
    "print(max(digits))\n",
    "print(sum(digits))\n"
   ]
  },
  {
   "cell_type": "markdown",
   "metadata": {},
   "source": [
    "List comprehesnion\n",
    "We can directly make lists"
   ]
  },
  {
   "cell_type": "code",
   "execution_count": 60,
   "metadata": {},
   "outputs": [
    {
     "name": "stdout",
     "output_type": "stream",
     "text": [
      "[0, 1, 4, 9, 16, 25, 36, 49, 64, 81, 100]\n"
     ]
    }
   ],
   "source": [
    "squares =[value**2 for value in range(11)]\n",
    "\n",
    "print(squares)"
   ]
  },
  {
   "cell_type": "markdown",
   "metadata": {},
   "source": [
    "Slicing  a list\n",
    "\n",
    "list[start index:end]\n",
    "\n",
    "list[start index:]  will give from start point at the end of the list"
   ]
  },
  {
   "cell_type": "code",
   "execution_count": 82,
   "metadata": {},
   "outputs": [
    {
     "name": "stdout",
     "output_type": "stream",
     "text": [
      "['micheal', 'florence']\n",
      "last three Players are ['micheal', 'florence', 'pele']\n"
     ]
    }
   ],
   "source": [
    "players=['charles','martina','micheal','florence','pele']\n",
    "\n",
    "print(players[2:4])\n",
    "\n",
    "print(f\"last three Players are {players[-3:]}\")"
   ]
  },
  {
   "cell_type": "markdown",
   "metadata": {},
   "source": []
  },
  {
   "cell_type": "markdown",
   "metadata": {},
   "source": [
    "Slicing a list : "
   ]
  },
  {
   "cell_type": "code",
   "execution_count": 8,
   "metadata": {},
   "outputs": [
    {
     "name": "stdout",
     "output_type": "stream",
     "text": [
      "\n",
      "players[0:3]\n",
      "['jadeja']\n",
      "['Virat', 'Suriya', 'rohit']\n",
      "['Suriya', 'rohit', 'jadeja']\n",
      "['Suriya', 'rohit', 'jadeja']\n",
      "['rohit', 'jadeja']\n"
     ]
    }
   ],
   "source": [
    "players = ['Virat','Suriya','rohit','jadeja']\n",
    "print(f\"\\nplayers[0:3]\")\n",
    "print(players[3:])\n",
    "print(players[:3])\n",
    "print(players[1:])\n",
    "print(players[-3:])\n",
    "print(players[-2:])\n"
   ]
  },
  {
   "cell_type": "markdown",
   "metadata": {},
   "source": [
    "looping Through a slice "
   ]
  },
  {
   "cell_type": "code",
   "execution_count": 9,
   "metadata": {},
   "outputs": [
    {
     "name": "stdout",
     "output_type": "stream",
     "text": [
      "The first three first players on my team\n",
      "Virat\n",
      "Suriya\n",
      "Rohit\n"
     ]
    }
   ],
   "source": [
    "players = ['Virat','Suriya','rohit','jadeja']\n",
    "print(\"The first three first players on my team\")\n",
    "for player in players[:3]:\n",
    " print(player.title())"
   ]
  },
  {
   "cell_type": "code",
   "execution_count": 11,
   "metadata": {},
   "outputs": [
    {
     "name": "stdout",
     "output_type": "stream",
     "text": [
      "The first 2 players\n",
      "Virat\n",
      "Suriya\n"
     ]
    }
   ],
   "source": [
    "players = ['Virat','Suriya','rohit','jadeja']\n",
    "print(\"The first 2 players\")\n",
    "for player in players[:2]:\n",
    " print(player.title())"
   ]
  },
  {
   "cell_type": "code",
   "execution_count": 18,
   "metadata": {},
   "outputs": [
    {
     "name": "stdout",
     "output_type": "stream",
     "text": [
      "My foods are\n",
      "['mutton', 'fuchka', 'biriyani', 'chicken stew']\n",
      "These are my frind's favourite food\n",
      "['mutton', 'fuchka', 'biriyani', 'chicken stew']\n",
      "['mutton', 'fuchka', 'biriyani', 'chicken stew', 'Moghlai']\n"
     ]
    }
   ],
   "source": [
    "my_foods = ['mutton','fuchka','biriyani','chicken stew']\n",
    "friends_food = my_foods[:]\n",
    "\n",
    "print(\"My foods are\")\n",
    "print(my_foods)\n",
    "print(\"These are my frind's favourite food\")\n",
    "print(friends_food)\n",
    "\n",
    "my_foods.append('Moghlai')\n",
    "print(my_foods)\n"
   ]
  }
 ],
 "metadata": {
  "kernelspec": {
   "display_name": "Python 3",
   "language": "python",
   "name": "python3"
  },
  "language_info": {
   "codemirror_mode": {
    "name": "ipython",
    "version": 3
   },
   "file_extension": ".py",
   "mimetype": "text/x-python",
   "name": "python",
   "nbconvert_exporter": "python",
   "pygments_lexer": "ipython3",
   "version": "3.9.10"
  }
 },
 "nbformat": 4,
 "nbformat_minor": 2
}
