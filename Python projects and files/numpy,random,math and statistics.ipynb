{
 "cells": [
  {
   "cell_type": "code",
   "execution_count": null,
   "id": "6802a16f-2e00-401e-b59c-4cd930f2ae57",
   "metadata": {},
   "outputs": [],
   "source": [
    "import numpy"
   ]
  },
  {
   "cell_type": "code",
   "execution_count": 6,
   "id": "3e8a1a7e-0cd8-4bb0-acfd-114b81c0dc0c",
   "metadata": {},
   "outputs": [
    {
     "name": "stdout",
     "output_type": "stream",
     "text": [
      "118\n"
     ]
    }
   ],
   "source": [
    "import random\n",
    "print(random.randint(2,200))"
   ]
  },
  {
   "cell_type": "code",
   "execution_count": 35,
   "id": "a34ebe34-b8bc-4993-a557-e80acbd935b7",
   "metadata": {},
   "outputs": [
    {
     "name": "stdout",
     "output_type": "stream",
     "text": [
      "57\n"
     ]
    }
   ],
   "source": [
    "print(random.randrange(1,500,56))"
   ]
  },
  {
   "cell_type": "code",
   "execution_count": 48,
   "id": "cf96d9b0-dc0e-4fa8-8ff5-722bc10e7b89",
   "metadata": {},
   "outputs": [
    {
     "name": "stdout",
     "output_type": "stream",
     "text": [
      "['watermelon', 'orenge', 'watermelon', 'watermelon', 'watermelon', 'watermelon', 'orenge', 'watermelon', 'banana', 'watermelon', 'watermelon', 'watermelon', 'banana', 'watermelon', 'watermelon', 'watermelon', 'watermelon', 'watermelon', 'watermelon', 'watermelon', 'watermelon', 'banana', 'banana', 'watermelon', 'watermelon', 'banana', 'watermelon', 'watermelon', 'watermelon', 'watermelon', 'watermelon', 'watermelon', 'watermelon', 'watermelon', 'banana', 'watermelon', 'watermelon', 'watermelon', 'watermelon', 'watermelon', 'banana', 'watermelon', 'watermelon', 'watermelon', 'watermelon', 'watermelon', 'watermelon', 'watermelon', 'watermelon', 'watermelon']\n"
     ]
    }
   ],
   "source": [
    "mylist = ['orenge','banana', 'watermelon']\n",
    "print(random.choices(mylist, weights =[1,2,10],k=50))"
   ]
  },
  {
   "cell_type": "code",
   "execution_count": 49,
   "id": "49e43535-c765-43dc-a292-c19743acfe5a",
   "metadata": {},
   "outputs": [
    {
     "name": "stdout",
     "output_type": "stream",
     "text": [
      "0.8337009742994352\n"
     ]
    }
   ],
   "source": [
    "print(random.random())"
   ]
  },
  {
   "cell_type": "code",
   "execution_count": 50,
   "id": "234ff551-df9e-4d0b-969c-a052d7846722",
   "metadata": {},
   "outputs": [
    {
     "name": "stdout",
     "output_type": "stream",
     "text": [
      "61.558597103924235\n"
     ]
    }
   ],
   "source": [
    "print(random.uniform(40,80))"
   ]
  },
  {
   "cell_type": "code",
   "execution_count": null,
   "id": "ceb26109-9b2b-4cc3-9b14-f01498d662be",
   "metadata": {},
   "outputs": [],
   "source": [
    "import random\n",
    "random.seed(20)\n"
   ]
  },
  {
   "cell_type": "code",
   "execution_count": 54,
   "id": "cf239b41-f661-419d-a471-f28724704f62",
   "metadata": {},
   "outputs": [
    {
     "name": "stdout",
     "output_type": "stream",
     "text": [
      "4\n",
      "4\n",
      "1\n"
     ]
    }
   ],
   "source": [
    "import statistics\n",
    "\n",
    "mylist = [1,2,3,4,5,6,7]\n",
    "print(statistics.mean(mylist))\n",
    "print(statistics.median(mylist))\n",
    "print(statistics.mode(mylist))"
   ]
  },
  {
   "cell_type": "code",
   "execution_count": null,
   "id": "70d795e5-75fd-48ef-b982-d92bbc184e0a",
   "metadata": {},
   "outputs": [],
   "source": []
  }
 ],
 "metadata": {
  "kernelspec": {
   "display_name": "Python 3 (ipykernel)",
   "language": "python",
   "name": "python3"
  },
  "language_info": {
   "codemirror_mode": {
    "name": "ipython",
    "version": 3
   },
   "file_extension": ".py",
   "mimetype": "text/x-python",
   "name": "python",
   "nbconvert_exporter": "python",
   "pygments_lexer": "ipython3",
   "version": "3.9.12"
  }
 },
 "nbformat": 4,
 "nbformat_minor": 5
}
