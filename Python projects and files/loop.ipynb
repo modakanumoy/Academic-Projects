{
 "cells": [
  {
   "cell_type": "markdown",
   "metadata": {},
   "source": [
    "Conept of Loop: Looping using list data type.\n",
    "1) for Loop\n",
    "2) for each\n",
    "3) if elif else\n",
    "4) if else \n"
   ]
  },
  {
   "cell_type": "code",
   "execution_count": 2,
   "metadata": {},
   "outputs": [
    {
     "name": "stdout",
     "output_type": "stream",
     "text": [
      "Alice\n",
      "Dead\n",
      "Cardina\n"
     ]
    }
   ],
   "source": [
    "Magicians = ['Alice','Dead','Cardina']\n",
    "for Magician in Magicians:\n",
    "    print(Magician)"
   ]
  },
  {
   "cell_type": "code",
   "execution_count": 3,
   "metadata": {},
   "outputs": [
    {
     "name": "stdout",
     "output_type": "stream",
     "text": [
      "Parsian Cats\n",
      "iranian cats\n",
      "Tiger\n",
      "Black-panther\n"
     ]
    }
   ],
   "source": [
    "\n",
    "Cats = ['Parsian Cats','iranian cats','Tiger','Black-panther']\n",
    "for Cat in Cats:\n",
    "    print(Cat)"
   ]
  },
  {
   "cell_type": "code",
   "execution_count": 5,
   "metadata": {},
   "outputs": [
    {
     "name": "stdout",
     "output_type": "stream",
     "text": [
      "Magician Alice it was a nice trick\n",
      "Magician Dead it was a nice trick\n",
      "Magician Cardina it was a nice trick\n"
     ]
    }
   ],
   "source": [
    "Magicians = ['Alice','Dead','Cardina']\n",
    "for Magician in Magicians:\n",
    "    print(f\"Magician {Magician.title()} it was a nice trick\" )\n",
    "    "
   ]
  },
  {
   "cell_type": "code",
   "execution_count": 12,
   "metadata": {},
   "outputs": [
    {
     "name": "stdout",
     "output_type": "stream",
     "text": [
      "\n",
      " Magician Alice it was a nice trick\n",
      "\n",
      " Alice Please Show us an another trick \n",
      "\n",
      " Magician Dead it was a nice trick\n",
      "\n",
      " Dead Please Show us an another trick \n",
      "\n",
      " Magician Cardina it was a nice trick\n",
      "\n",
      " Cardina Please Show us an another trick \n",
      "\n",
      " Thank you for the Show\n"
     ]
    }
   ],
   "source": [
    "Magicians = ['Alice','Dead','Cardina']\n",
    "for Magician in Magicians:\n",
    "    print(f\"\\n Magician {Magician.title()} it was a nice trick\" )\n",
    "    print(f\"\\n {Magician.title()} Please Show us an another trick \")\n",
    "print(f\"\\n Thank you for the Show\")"
   ]
  },
  {
   "cell_type": "code",
   "execution_count": 15,
   "metadata": {
    "tags": [
     "extra concept: loop "
    ]
   },
   "outputs": [
    {
     "name": "stdout",
     "output_type": "stream",
     "text": [
      "\n",
      " Magician Alice it was a nice trick\n",
      "\n",
      " Alice Please Show us an another trick \n",
      "\n",
      " Magician Dead it was a nice trick\n",
      "\n",
      " Dead Please Show us an another trick \n",
      "\n",
      " Magician Cardina it was a nice trick\n",
      "\n",
      " Cardina Please Show us an another trick \n",
      "\n",
      " Thank you for the Show\n"
     ]
    }
   ],
   "source": [
    "Magicians = ['Alice','Dead','Cardina']\n",
    "for Magician in Magicians:\n",
    "    print(f\"\\n Magician {Magician.title()} it was a nice trick\" )\n",
    "    print(f\"\\n {Magician.title()} Please Show us an another trick \")\n",
    "print(f\"\\n Thank you for the Show\")"
   ]
  },
  {
   "cell_type": "markdown",
   "metadata": {},
   "source": [
    "Making Numericals list: range()"
   ]
  },
  {
   "cell_type": "code",
   "execution_count": 1,
   "metadata": {},
   "outputs": [
    {
     "name": "stdout",
     "output_type": "stream",
     "text": [
      "1\n",
      "2\n",
      "3\n",
      "4\n",
      "5\n",
      "6\n",
      "7\n",
      "8\n",
      "9\n"
     ]
    }
   ],
   "source": [
    "values = [1,2,3,4,5]\n",
    "for value in range(1,10):\n",
    "    print(value)"
   ]
  },
  {
   "cell_type": "code",
   "execution_count": 2,
   "metadata": {},
   "outputs": [
    {
     "name": "stdout",
     "output_type": "stream",
     "text": [
      "1\n",
      "2\n",
      "3\n",
      "4\n",
      "5\n",
      "6\n",
      "7\n",
      "8\n",
      "9\n",
      "10\n",
      "11\n",
      "12\n",
      "13\n",
      "14\n",
      "15\n",
      "16\n",
      "17\n",
      "18\n",
      "19\n"
     ]
    }
   ],
   "source": [
    "values = [1,2,3,4,5,6,7,8,9]\n",
    "for value in range(1,20):\n",
    "    print(value)"
   ]
  },
  {
   "cell_type": "code",
   "execution_count": 3,
   "metadata": {},
   "outputs": [
    {
     "name": "stdout",
     "output_type": "stream",
     "text": [
      "[1, 2, 3, 4, 5]\n"
     ]
    }
   ],
   "source": [
    "number = list(range(1,6))\n",
    "print(number)"
   ]
  },
  {
   "cell_type": "code",
   "execution_count": 6,
   "metadata": {},
   "outputs": [
    {
     "name": "stdout",
     "output_type": "stream",
     "text": [
      "[2, 4, 6, 8, 10]\n"
     ]
    }
   ],
   "source": [
    "even_number = list(range(2,11,2))\n",
    "print(even_number)"
   ]
  },
  {
   "cell_type": "code",
   "execution_count": 11,
   "metadata": {},
   "outputs": [
    {
     "name": "stdout",
     "output_type": "stream",
     "text": [
      "[1, 3, 5, 7, 9]\n"
     ]
    }
   ],
   "source": [
    "odd_number = list(range(1,10,2))\n",
    "print(odd_number)"
   ]
  },
  {
   "cell_type": "code",
   "execution_count": 17,
   "metadata": {},
   "outputs": [
    {
     "name": "stdout",
     "output_type": "stream",
     "text": [
      "[1, 4, 9, 16, 25, 36, 49, 64, 81, 100]\n"
     ]
    }
   ],
   "source": [
    "squares = []\n",
    "for Value in range(1,11):\n",
    "  square = Value**2\n",
    "  squares.append(square)\n",
    "print(squares) "
   ]
  },
  {
   "cell_type": "code",
   "execution_count": 18,
   "metadata": {},
   "outputs": [
    {
     "name": "stdout",
     "output_type": "stream",
     "text": [
      "[1, 8, 27, 64, 125, 216, 343, 512, 729, 1000, 1331, 1728, 2197, 2744, 3375, 4096, 4913, 5832, 6859, 8000, 9261, 10648, 12167, 13824, 15625, 17576, 19683, 21952, 24389, 27000, 29791, 32768, 35937, 39304, 42875, 46656, 50653, 54872, 59319, 64000, 68921, 74088, 79507, 85184, 91125, 97336, 103823, 110592, 117649, 125000, 132651, 140608, 148877, 157464, 166375, 175616, 185193, 195112, 205379, 216000, 226981, 238328, 250047, 262144, 274625, 287496, 300763, 314432, 328509, 343000, 357911, 373248, 389017, 405224, 421875, 438976, 456533, 474552, 493039, 512000, 531441, 551368, 571787, 592704, 614125, 636056, 658503, 681472, 704969, 729000, 753571, 778688, 804357, 830584, 857375, 884736, 912673, 941192, 970299]\n"
     ]
    }
   ],
   "source": [
    "cubes = []\n",
    "for Value in range(1,100):\n",
    "    cube = Value**3\n",
    "    cubes.append(cube)\n",
    "print(cubes)\n"
   ]
  },
  {
   "cell_type": "code",
   "execution_count": 20,
   "metadata": {},
   "outputs": [
    {
     "name": "stdout",
     "output_type": "stream",
     "text": [
      "[49.5, 49.5, 49.5, 49.5, 49.5, 49.5, 49.5, 49.5, 49.5]\n"
     ]
    }
   ],
   "source": [
    "divisible_by_2 = []\n",
    "for Vaule in range(1,10):\n",
    "    divisible = Value/2\n",
    "    divisible_by_2.append(divisible)\n",
    "print(divisible_by_2)\n"
   ]
  },
  {
   "cell_type": "code",
   "execution_count": 21,
   "metadata": {},
   "outputs": [
    {
     "name": "stdout",
     "output_type": "stream",
     "text": [
      "[1, 4, 9, 16, 25, 36, 49, 64, 81, 100, 1, 4, 9, 16, 25, 36, 49, 64, 81, 100]\n"
     ]
    }
   ],
   "source": [
    "Square = []\n",
    "for value in range(1,11):\n",
    "    squares.append(value**2)\n",
    "print(squares)\n"
   ]
  },
  {
   "cell_type": "markdown",
   "metadata": {},
   "source": [
    "Simple Statistics using Numerical list: "
   ]
  },
  {
   "cell_type": "code",
   "execution_count": 23,
   "metadata": {},
   "outputs": [
    {
     "name": "stdout",
     "output_type": "stream",
     "text": [
      "1\n",
      "10\n",
      "55\n"
     ]
    }
   ],
   "source": [
    "digits = [1,2,3,4,5,6,7,8,9,10]\n",
    "print(min(digits))\n",
    "print(max(digits))\n",
    "print(sum(digits))"
   ]
  },
  {
   "cell_type": "markdown",
   "metadata": {},
   "source": [
    "List Comprehension: "
   ]
  },
  {
   "cell_type": "code",
   "execution_count": 28,
   "metadata": {},
   "outputs": [
    {
     "name": "stdout",
     "output_type": "stream",
     "text": [
      "[1, 4, 9, 16, 25, 36, 49, 64, 81, 100]\n"
     ]
    }
   ],
   "source": [
    "s =[value**2 for value in range(1,11)]\n",
    "print (s)\n"
   ]
  },
  {
   "cell_type": "markdown",
   "metadata": {},
   "source": [
    "slicing a list"
   ]
  },
  {
   "cell_type": "code",
   "execution_count": 41,
   "metadata": {},
   "outputs": [
    {
     "name": "stdout",
     "output_type": "stream",
     "text": [
      "['charles', 'anumoy', 'Bhaskar']\n",
      "['anumoy', 'Bhaskar', 'Spandan']\n",
      "['Bhaskar', 'Spandan']\n",
      "['Spandan', 'Abhisekh: the romeo']\n",
      "['Bhaskar', 'Spandan']\n",
      "['Bhaskar', 'Spandan', 'Abhisekh: the romeo']\n",
      "['charles', 'anumoy']\n",
      "['Spandan', 'Abhisekh: the romeo']\n",
      "['Bhaskar', 'Spandan', 'Abhisekh: the romeo']\n",
      "['charles', 'anumoy']\n"
     ]
    }
   ],
   "source": [
    "players = ['charles', 'anumoy', 'Bhaskar','Spandan','Abhisekh: the romeo']\n",
    "print(players[0:3])\n",
    "print(players[1:4])\n",
    "print(players[2:4])\n",
    "print(players[3:5])\n",
    "print(players[-3:-1])\n",
    "print(players[2:])\n",
    "print(players[:2])\n",
    "print(players[3:])\n",
    "print(players[-3:])\n",
    "print(players[:-3])"
   ]
  },
  {
   "cell_type": "markdown",
   "metadata": {},
   "source": [
    "looping throug a slice"
   ]
  },
  {
   "cell_type": "code",
   "execution_count": null,
   "metadata": {},
   "outputs": [],
   "source": []
  }
 ],
 "metadata": {
  "kernelspec": {
   "display_name": "Python 3",
   "language": "python",
   "name": "python3"
  },
  "language_info": {
   "codemirror_mode": {
    "name": "ipython",
    "version": 3
   },
   "file_extension": ".py",
   "mimetype": "text/x-python",
   "name": "python",
   "nbconvert_exporter": "python",
   "pygments_lexer": "ipython3",
   "version": "3.9.10"
  }
 },
 "nbformat": 4,
 "nbformat_minor": 2
}
