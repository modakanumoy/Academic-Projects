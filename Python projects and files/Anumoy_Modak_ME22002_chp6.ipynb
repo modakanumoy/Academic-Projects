{
 "cells": [
  {
   "cell_type": "markdown",
   "metadata": {},
   "source": [
    "6-1. Person: Use a dictionary to store information about a person you know.\n",
    "Store their first name, last name, age, and the city in which they live. You\n",
    "should have keys such as first_name, last_name, age, and city. Print each piece\n",
    "of information stored in your dictionary.\n"
   ]
  },
  {
   "cell_type": "code",
   "execution_count": 2,
   "metadata": {},
   "outputs": [
    {
     "name": "stdout",
     "output_type": "stream",
     "text": [
      "sanchita\n",
      "modak\n",
      "35\n",
      "kolkata\n"
     ]
    }
   ],
   "source": [
    "person ={\n",
    "    'first_name':'sanchita',\n",
    "    'last_name':'modak',\n",
    "    'age':35,\n",
    "    'city':'kolkata'\n",
    "    }\n",
    "\n",
    "for info in person.values():\n",
    "    print(info)"
   ]
  },
  {
   "cell_type": "markdown",
   "metadata": {},
   "source": [
    "6-2. Favorite Numbers: Use a dictionary to store people’s favorite numbers.\n",
    "Think of five names, and use them as keys in your dictionary. Think of a favorite\n",
    "Dictionaries   99\n",
    "number for each person, and store each as a value in your dictionary. Print\n",
    "each person’s name and their favorite number. For even more fun, poll a few\n",
    "friends and get some actual data for your program.\n"
   ]
  },
  {
   "cell_type": "code",
   "execution_count": 4,
   "metadata": {},
   "outputs": [
    {
     "name": "stdout",
     "output_type": "stream",
     "text": [
      "spandans favourite number is 2\n",
      "abhisheks favourite number is 257\n",
      "bhaskars favourite number is 96\n",
      "haris favourite number is 2\n",
      "modis favourite number is 23\n"
     ]
    }
   ],
   "source": [
    "favourite_number = {\n",
    "    'spandan':2,\n",
    "    'abhishek':257,\n",
    "    'bhaskar':96,\n",
    "    'hari':2,\n",
    "    'modi':23\n",
    "}\n",
    "\n",
    "for key,value in favourite_number.items():\n",
    "    print(f'{key}s favourite number is {value}')"
   ]
  },
  {
   "cell_type": "markdown",
   "metadata": {},
   "source": [
    "6-3. Glossary: A Python dictionary can be used to model an actual dictionary.\n",
    "However, to avoid confusion, let’s call it a glossary.\n",
    "• Think of five programming words you’ve learned about in the previous\n",
    "chapters. Use these words as the keys in your glossary, and store their\n",
    "meanings as values.\n",
    "• Print each word and its meaning as neatly formatted output. You might\n",
    "print the word followed by a colon and then its meaning, or print the word\n",
    "on one line and then print its meaning indented on a second line. Use the\n",
    "newline character (\\n) to insert a blank line between each word-meaning\n",
    "pair in your output.\n"
   ]
  },
  {
   "cell_type": "code",
   "execution_count": 5,
   "metadata": {},
   "outputs": [
    {
     "name": "stdout",
     "output_type": "stream",
     "text": [
      "print:\n",
      "Prints value insidr bracket\n",
      "del:\n",
      "deletes variable\n",
      "remove:\n",
      "function to remove item from list\n",
      "if:\n",
      "conditional statment\n",
      "for:\n",
      "for loop\n"
     ]
    }
   ],
   "source": [
    "glossary ={\n",
    "    'print':'Prints value insidr bracket',\n",
    "    'del':'deletes variable',\n",
    "    'remove':'function to remove item from list',\n",
    "    'if':'conditional statment',\n",
    "    'for':'for loop'\n",
    "}\n",
    "\n",
    "for word, meaning in glossary.items():\n",
    "    print(f\"{word}:\\n{meaning}\")"
   ]
  },
  {
   "cell_type": "markdown",
   "metadata": {},
   "source": [
    "6-4. Glossary 2: Now that you know how to loop through a dictionary, clean\n",
    "up the code from Exercise 6-3 (page 99) by replacing your series of print()\n",
    "calls with a loop that runs through the dictionary’s keys and values. When\n",
    "you’re sure that your loop works, add five more Python terms to your glossary.\n",
    "When you run your program again, these new words and meanings should\n",
    "automatically be included in the output."
   ]
  },
  {
   "cell_type": "code",
   "execution_count": 6,
   "metadata": {},
   "outputs": [
    {
     "name": "stdout",
     "output_type": "stream",
     "text": [
      "print:\n",
      "Prints value insidr bracket\n",
      "del:\n",
      "deletes variable\n",
      "remove:\n",
      "function to remove item from list\n",
      "if:\n",
      "conditional statment\n",
      "for:\n",
      "for loop\n"
     ]
    }
   ],
   "source": [
    "glossary ={\n",
    "    'print':'Prints value insidr bracket',\n",
    "    'del':'deletes variable',\n",
    "    'remove':'function to remove item from list',\n",
    "    'if':'conditional statment',\n",
    "    'for':'for loop'\n",
    "}\n",
    "\n",
    "for word, meaning in glossary.items():\n",
    "    print(f\"{word}:\\n{meaning}\")"
   ]
  },
  {
   "cell_type": "markdown",
   "metadata": {},
   "source": [
    "6-5. Rivers: Make a dictionary containing three major rivers and the country\n",
    "each river runs through. One key-value pair might be 'nile': 'egypt'.\n",
    "\n",
    "• Use a loop to print a sentence about each river, such as The Nile runs\n",
    "through Egypt.\n",
    "\n",
    "• Use a loop to print the name of each river included in the dictionary.\n",
    "\n",
    "• Use a loop to print the name of each country included in the dictionary.\n",
    "\n"
   ]
  },
  {
   "cell_type": "code",
   "execution_count": 9,
   "metadata": {},
   "outputs": [
    {
     "name": "stdout",
     "output_type": "stream",
     "text": [
      "The nile runs through egypt.\n",
      "The ganga runs through india.\n",
      "The yellow river runs through china.\n",
      "nile\n",
      "ganga\n",
      "yellow river\n",
      "\n",
      "\n",
      "egypt\n",
      "india\n",
      "china\n",
      "\n",
      "\n"
     ]
    }
   ],
   "source": [
    "rivers ={\n",
    "    'nile':'egypt',\n",
    "    'ganga':'india',\n",
    "    'yellow river':'china',\n",
    "    }\n",
    "\n",
    "for river, country in rivers.items():\n",
    "    print(f'The {river} runs through {country}.')\n",
    "    \n",
    "[print(river) for river in rivers.keys()]\n",
    "\n",
    "print('\\n')\n",
    "\n",
    "[print(country) for country in rivers.values()]\n",
    "print('\\n')\n",
    "\n"
   ]
  },
  {
   "cell_type": "markdown",
   "metadata": {},
   "source": [
    "6-6. Polling: Use the code in favorite_languages.py (page 96).\n",
    "\n",
    "• Make a list of people who should take the favorite languages poll. Include\n",
    "some names that are already in the dictionary and some that are not.\n",
    "\n",
    "• Loop through the list of people who should take the poll. If they have\n",
    "already taken the poll, print a message thanking them for responding.\n",
    "If they have not yet taken the poll, print a message inviting them to take\n",
    "the poll."
   ]
  },
  {
   "cell_type": "code",
   "execution_count": 28,
   "metadata": {},
   "outputs": [
    {
     "name": "stdout",
     "output_type": "stream",
     "text": [
      "Thanks for responding\n",
      "Thanks for responding\n",
      "Thanks for responding\n",
      "Thanks for responding\n",
      "Please respond to poll.\n",
      "Please respond to poll.\n"
     ]
    }
   ],
   "source": [
    "favorite_languages = {\n",
    " 'jen': 'python',\n",
    " 'sarah': 'c',\n",
    " 'edward': 'rust',\n",
    " 'phil': 'python',\n",
    " }\n",
    "\n",
    "people = ['jen','sarah','edward','phil','john','kroner']\n",
    "\n",
    "for person in people:\n",
    "    if person in favorite_languages.keys():\n",
    "        print('Thanking you for responding')\n",
    "    else:\n",
    "        print('Please participate in poll.') "
   ]
  },
  {
   "cell_type": "markdown",
   "metadata": {},
   "source": [
    "6-7. People: Start with the program you wrote for Exercise 6-1 (page 98). Make\n",
    "two new dictionaries representing different people, and store all three dictionaries in a list called people. Loop through your list of people. As you loop through\n",
    "the list, print everything you know about each person.\n"
   ]
  },
  {
   "cell_type": "code",
   "execution_count": 14,
   "metadata": {},
   "outputs": [
    {
     "name": "stdout",
     "output_type": "stream",
     "text": [
      "first_name: sanchita\n",
      "last_name: modak\n",
      "age: 35\n",
      "city: kolkata\n",
      "\n",
      "\n",
      "first_name: spandan\n",
      "last_name: ganguli\n",
      "age: 26\n",
      "city: surat\n",
      "\n",
      "\n",
      "first_name: bhaskar\n",
      "last_name: das\n",
      "age: 22\n",
      "city: kolkata\n",
      "\n",
      "\n",
      "first_name: abhishek\n",
      "last_name: kumar\n",
      "age: 22\n",
      "city: ranchi\n",
      "\n",
      "\n"
     ]
    },
    {
     "data": {
      "text/plain": [
       "dict_items([('first_name', 'sanchita'), ('last_name', 'modak'), ('age', 35), ('city', 'kolkata')])"
      ]
     },
     "execution_count": 14,
     "metadata": {},
     "output_type": "execute_result"
    }
   ],
   "source": [
    "person1 ={\n",
    "    'first_name':'sanchita',\n",
    "    'last_name':'modak',\n",
    "    'age':35,\n",
    "    'city':'kolkata'\n",
    "    }\n",
    "\n",
    "\n",
    "person2 ={\n",
    "    'first_name':'spandan',\n",
    "    'last_name':'ganguli',\n",
    "    'age':26,\n",
    "    'city':'surat'\n",
    "    }\n",
    "\n",
    "person3 ={\n",
    "    'first_name':'bhaskar',\n",
    "    'last_name':'das',\n",
    "    'age':22,\n",
    "    'city':'kolkata'\n",
    "    }\n",
    "\n",
    "person4 ={\n",
    "    'first_name':'abhishek',\n",
    "    'last_name':'kumar',\n",
    "    'age':22,\n",
    "    'city':'ranchi'\n",
    "    }\n",
    "\n",
    "persons = [person1,person2,person3,person4]\n",
    "\n",
    "for person in persons:\n",
    "    for key,value in person.items():\n",
    "        print(f'{key}: {value}')\n",
    "    print('\\n')\n"
   ]
  },
  {
   "cell_type": "markdown",
   "metadata": {},
   "source": [
    "6-8. Pets: Make several dictionaries, where each dictionary represents a different pet. In each dictionary, include the kind of animal and the owner’s name.\n",
    "Store these dictionaries in a list called pets. Next, loop through your list and as\n",
    "you do, print everything you know about each pet.\n"
   ]
  },
  {
   "cell_type": "code",
   "execution_count": 13,
   "metadata": {},
   "outputs": [
    {
     "name": "stdout",
     "output_type": "stream",
     "text": [
      "owner_name: spandan\n",
      "animal: cat\n",
      "\n",
      "\n",
      "owner_name: bhaskar\n",
      "animal: dog\n",
      "\n",
      "\n",
      "owner_name: abhishek\n",
      "animal: cat\n",
      "\n",
      "\n"
     ]
    }
   ],
   "source": [
    "pet1 ={\n",
    "    'owner_name':'spandan',\n",
    "    'animal':'cat'\n",
    "    }\n",
    "\n",
    "pet2 ={\n",
    "    'owner_name':'bhaskar',\n",
    "    'animal':'dog'\n",
    "    }\n",
    "\n",
    "pet3 ={\n",
    "    'owner_name':'abhishek',\n",
    "    'animal':'cat'\n",
    "    }\n",
    "\n",
    "pets = [pet1,pet2,pet3]\n",
    "\n",
    "for pet in pets:\n",
    "    for key,value in pet.items():\n",
    "        print(f'{key}: {value}')\n",
    "    print('\\n')"
   ]
  },
  {
   "cell_type": "markdown",
   "metadata": {},
   "source": [
    "6-9. Favorite Places: Make a dictionary called favorite_places. Think of three\n",
    "names to use as keys in the dictionary, and store one to three favorite places for\n",
    "each person. To make this exercise a bit more interesting, ask some friends to\n",
    "name a few of their favorite places. Loop through the dictionary, and print each\n",
    "person’s name and their favorite places.\n"
   ]
  },
  {
   "cell_type": "code",
   "execution_count": 17,
   "metadata": {},
   "outputs": [
    {
     "name": "stdout",
     "output_type": "stream",
     "text": [
      "\n",
      "spandan:\n",
      "india\n",
      "china\n",
      "\n",
      "anumoy:\n",
      "darjeeling\n",
      "shimla\n",
      "kashmir\n",
      "\n",
      "bhaskar:\n",
      "america\n",
      "kolkata\n"
     ]
    }
   ],
   "source": [
    "favorite_places ={\n",
    "    'spandan':['india','china'],\n",
    "    'anumoy':['darjeeling','shimla','kashmir'],\n",
    "    'bhaskar':['america','kolkata']\n",
    "\n",
    "}\n",
    "\n",
    "for person_name,places in favorite_places.items():\n",
    "    print('\\n'+person_name+':')\n",
    "    for place in places:\n",
    "        print(place)"
   ]
  },
  {
   "cell_type": "markdown",
   "metadata": {},
   "source": [
    "6-10. Favorite Numbers: Modify your program from Exercise 6-2 (page 98) so\n",
    "each person can have more than one favorite number. Then print each person’s\n",
    "name along with their favorite numbers."
   ]
  },
  {
   "cell_type": "code",
   "execution_count": 19,
   "metadata": {},
   "outputs": [
    {
     "name": "stdout",
     "output_type": "stream",
     "text": [
      "\n",
      "spandans favourite numbers are:\n",
      "2\n",
      "2\n",
      "1\n",
      "4\n",
      "4\n",
      "3\n",
      "3\n",
      "\n",
      "abhisheks favourite numbers are:\n",
      "257\n",
      "21\n",
      "4\n",
      "45\n",
      "23235\n",
      "\n",
      "bhaskars favourite numbers are:\n",
      "9246\n",
      "2435\n",
      "13\n",
      "35\n",
      "\n",
      "haris favourite numbers are:\n",
      "254\n",
      "245\n",
      "53\n",
      "323\n",
      "\n",
      "modis favourite numbers are:\n",
      "3\n",
      "34\n",
      "6\n",
      "43\n",
      "24\n",
      "524\n"
     ]
    }
   ],
   "source": [
    "favourite_number = {\n",
    "    'spandan':[2,2,1,4,4,3,3],\n",
    "    'abhishek':[257,21,4,45,23235],\n",
    "    'bhaskar':[9246,2435,13,35],\n",
    "    'hari':[254,245,53,323],\n",
    "    'modi':[3,34,6,43,24,524]\n",
    "}\n",
    "\n",
    "\n",
    "for key,values in favourite_number.items():\n",
    "    print(f'\\n{key}s favourite numbers are:')\n",
    "    for value in values:\n",
    "        print(value)\n"
   ]
  },
  {
   "cell_type": "markdown",
   "metadata": {},
   "source": [
    "\n",
    "6-11. Cities: Make a dictionary called cities. Use the names of three cities as\n",
    "keys in your dictionary. Create a dictionary of information about each city and\n",
    "include the country that the city is in, its approximate population, and one fact\n",
    "about that city. The keys for each city’s dictionary should be something like\n",
    "country, population, and fact. Print the name of each city and all of the information you have stored about it.\n"
   ]
  },
  {
   "cell_type": "code",
   "execution_count": 21,
   "metadata": {},
   "outputs": [
    {
     "name": "stdout",
     "output_type": "stream",
     "text": [
      "mumbai\n",
      "country:india\n",
      "population:2700000\n",
      "fact:Economic Capital\n",
      "kolkata\n",
      "country:india\n",
      "population:1000000\n",
      "fact:Original Capital\n",
      "lucknow\n",
      "country:india\n",
      "population:10\n",
      "fact:Mughali cuisne\n"
     ]
    }
   ],
   "source": [
    "cities = {\n",
    "    'mumbai':{\n",
    "        'country':'india',\n",
    "        'population':2700000,\n",
    "        'fact':'Economic Capital'\n",
    "    },\n",
    "    'kolkata':{\n",
    "        'country':'india',\n",
    "        'population':1000000,\n",
    "        'fact':'Original Capital'\n",
    "    },\n",
    "    'lucknow':{\n",
    "        'country':'india',\n",
    "        'population':10,\n",
    "        'fact':'Mughali cuisne'\n",
    "    }\n",
    "}\n",
    "\n",
    "for city,data in cities.items():\n",
    "    print(f'{city}')\n",
    "    for infoname,info in data.items():\n",
    "        print(f'{infoname}:{info}')    "
   ]
  },
  {
   "cell_type": "markdown",
   "metadata": {},
   "source": [
    "6-12. Extensions: We’re now working with examples that are complex enough\n",
    "that they can be extended in any number of ways. Use one of the example programs from this chapter, and extend it by adding new keys and values, changing the context of the program, or improving the formatting of the outp\n"
   ]
  },
  {
   "cell_type": "code",
   "execution_count": 22,
   "metadata": {},
   "outputs": [
    {
     "name": "stdout",
     "output_type": "stream",
     "text": [
      "mumbai\n",
      "country:india\n",
      "population:2700000\n",
      "fact:Economic Capital\n",
      "kolkata\n",
      "country:india\n",
      "population:1000000\n",
      "fact:Original Capital\n",
      "lucknow\n",
      "country:india\n",
      "population:10\n",
      "fact:Mughali cuisne\n",
      "country:india\n",
      "population:2700000\n",
      "fact:Economic Capital\n",
      "country:india\n",
      "population:1000000\n",
      "fact:Original Capital\n",
      "country:india\n",
      "population:10\n",
      "fact:Mughali cuisne\n"
     ]
    }
   ],
   "source": [
    "cities = {\n",
    "    'mumbai':{\n",
    "        'country':'india',\n",
    "        'population':2700000,\n",
    "        'fact':'Economic Capital'\n",
    "    },\n",
    "    'kolkata':{\n",
    "        'country':'india',\n",
    "        'population':1000000,\n",
    "        'fact':'Original Capital'\n",
    "    },\n",
    "    'lucknow':{\n",
    "        'country':'india',\n",
    "        'population':10,\n",
    "        'fact':'Mughali cuisne'\n",
    "    }\n",
    "}\n",
    "\n",
    "for city,data in cities.items():\n",
    "    print(f'{city}')\n",
    "    for infoname,info in data.items():\n",
    "        print(f'{infoname}:{info}')    \n",
    "for data in cities.values():\n",
    "    for infoname,info in data.items():\n",
    "        print(f'{infoname}:{info}')    "
   ]
  },
  {
   "cell_type": "markdown",
   "metadata": {},
   "source": []
  },
  {
   "cell_type": "markdown",
   "metadata": {},
   "source": []
  },
  {
   "cell_type": "markdown",
   "metadata": {},
   "source": []
  },
  {
   "cell_type": "markdown",
   "metadata": {},
   "source": []
  },
  {
   "cell_type": "markdown",
   "metadata": {},
   "source": []
  }
 ],
 "metadata": {
  "kernelspec": {
   "display_name": "Python 3",
   "language": "python",
   "name": "python3"
  },
  "language_info": {
   "codemirror_mode": {
    "name": "ipython",
    "version": 3
   },
   "file_extension": ".py",
   "mimetype": "text/x-python",
   "name": "python",
   "nbconvert_exporter": "python",
   "pygments_lexer": "ipython3",
   "version": "3.9.10"
  }
 },
 "nbformat": 4,
 "nbformat_minor": 2
}
