{
 "cells": [
  {
   "cell_type": "markdown",
   "metadata": {},
   "source": [
    "5-1. Conditional Tests: Write a series of conditional tests. Print a statement \n",
    "describing each test and your prediction for the results of each test. Your code \n",
    "should look something like this:\n",
    "\n",
    "car = 'subaru'\n",
    "\n",
    "print(\"Is car == 'subaru'? I predict True.\")\n",
    "\n",
    "print(car == 'subaru')\n",
    "\n",
    "print(\"\\nIs car == 'audi'? I predict False.\")\n",
    "\n",
    "print(car == 'audi')\n",
    "\n",
    "• Look closely at your results, and make sure you understand why each line \n",
    "evaluates to True or False.\n",
    "\n",
    "• Create at least 10 tests. Have at least 5 tests evaluate to True and another \n",
    "5 tests evaluate to False"
   ]
  },
  {
   "cell_type": "code",
   "execution_count": 18,
   "metadata": {},
   "outputs": [
    {
     "name": "stdout",
     "output_type": "stream",
     "text": [
      " 1)False\n",
      " 2)False\n",
      " 3)False\n",
      " 4)False\n",
      " 5)False\n",
      " 6)False\n",
      " 7)False\n",
      " 8)False\n",
      " 9)False\n",
      "10)False\n"
     ]
    }
   ],
   "source": [
    "test_items = ['subaru','honda','ertiga','activa','ferrari',1,2,3,4,5]\n",
    "\n",
    "print(f\" 1){test_items[0] == 'a'}\")\n",
    "print(f\" 2){test_items[1] == 'b'}\")\n",
    "print(f\" 3){test_items[2] == 'c'}\")\n",
    "print(f\" 4){test_items[3] == 'd'}\")\n",
    "print(f\" 5){test_items[4] == 'e'}\")\n",
    "print(f\" 6){test_items[5] == '1'}\")\n",
    "print(f\" 7){test_items[6] == '2'}\")\n",
    "print(f\" 8){test_items[7] == '3'}\")\n",
    "print(f\" 9){test_items[8] == '4'}\")\n",
    "print(f\"10){test_items[9] == '5'}\")\n",
    "\n",
    "\n"
   ]
  },
  {
   "cell_type": "markdown",
   "metadata": {},
   "source": [
    "5-2. More Conditional Tests: You don’t have to limit the number of tests you create to 10. If you want to try more comparisons, write more tests and add them \n",
    "to conditional_tests.py. Have at least one True and one False result for each of \n",
    "the following:\n",
    "\n",
    "• Tests for equality and inequality with strings\n",
    "\n",
    "• Tests using the lower() method\n",
    "\n",
    "• Numerical tests involving equality and inequality, greater than and less \n",
    "than, greater than or equal to, and less than or equal to\n",
    "\n",
    "• Tests using the and keyword and the or keyword\n",
    "\n",
    "• Test whether an item is in a list\n",
    "\n",
    "• Test whether an item is not in a list"
   ]
  },
  {
   "cell_type": "code",
   "execution_count": 19,
   "metadata": {},
   "outputs": [
    {
     "name": "stdout",
     "output_type": "stream",
     "text": [
      "1)True\n",
      "False\n",
      "\n",
      "2)False\n",
      "True\n",
      "\n",
      "3)True\n",
      "False\n",
      "\n",
      "4)True\n",
      "True\n",
      "True\n",
      "False\n",
      "\n",
      "5)True\n",
      "False\n",
      "\n",
      "6)False\n",
      "True\n"
     ]
    }
   ],
   "source": [
    "print(f\"1){'fast' == 'fast'}\")\n",
    "print(f\"{'fast' == 'slow'}\")\n",
    "\n",
    "print(f\"\\n2){'fast' == 'FAST'}\")\n",
    "print(f\"{'fast'=='fast'.lower()}\")\n",
    "\n",
    "print(f\"\\n3){10<=11}\")\n",
    "print(f\"{4>=10}\")\n",
    "\n",
    "print(f\"\\n4){5 == 5 and 2 == 2 }\")\n",
    "print(f\"{5 == 5 and 2 == 2 }\")\n",
    "print(f\"{2 == 2 or 6 == 5}\")\n",
    "print(f\"{2 == 1 or 6 == 5}\")\n",
    "\n",
    "numbers =[1,2,3,4,5,6,7,8,9,10]\n",
    "\n",
    "print(f\"\\n5){2 in numbers}\")\n",
    "print(f\"{21 in numbers}\")\n",
    "\n",
    "\n",
    "print(f\"\\n6){2 not in numbers}\")\n",
    "print(f\"{21 not in numbers}\")\n"
   ]
  },
  {
   "cell_type": "markdown",
   "metadata": {},
   "source": [
    "5-3. Alien Colors #1: Imagine an alien was just shot down in a game. Create a\n",
    "variable called alien_color and assign it a value of 'green', 'yellow', or 'red'.\n",
    "\n",
    "• Write an if statement to test whether the alien’s color is green. If it is, print\n",
    "a message that the player just earned 5 points.\n",
    "\n",
    "• Write one version of this program that passes the if test and another that\n",
    "fails. (The version that fails will have no output.)\n",
    "\n",
    "    "
   ]
  },
  {
   "cell_type": "code",
   "execution_count": 20,
   "metadata": {},
   "outputs": [
    {
     "name": "stdout",
     "output_type": "stream",
     "text": [
      "Player earned 5 points\n"
     ]
    }
   ],
   "source": [
    "alien_color = 'red'\n",
    "\n",
    "if alien_color == 'green':\n",
    "    print('Player earned 5 points')\n",
    "\n",
    "alien_color = 'green'\n",
    "\n",
    "if alien_color == 'green':\n",
    "    print('Player earned 5 points')\n"
   ]
  },
  {
   "cell_type": "markdown",
   "metadata": {},
   "source": [
    "5-4. Alien Colors #2: Choose a color for an alien as you did in Exercise 5-3,\n",
    "and write an if-else chain.\n",
    "\n",
    "• If the alien’s color is green, print a statement that the player just earned 5\n",
    "points for shooting the alien.\n",
    "\n",
    "• If the alien’s color isn’t green, print a statement that the player just earned\n",
    "10 points.\n",
    "\n",
    "• Write one version of this program that runs the if block and another that\n",
    "runs the else block.\n",
    "\n",
    "    "
   ]
  },
  {
   "cell_type": "code",
   "execution_count": 21,
   "metadata": {},
   "outputs": [
    {
     "name": "stdout",
     "output_type": "stream",
     "text": [
      "Player earned 10 points\n",
      "Player earned 5 points\n"
     ]
    }
   ],
   "source": [
    "alien_color = 'red'\n",
    "\n",
    "if alien_color == 'green':\n",
    "    print('Player earned 5 points')\n",
    "else:\n",
    "    print('Player earned 10 points')\n",
    "\n",
    "alien_color = 'green'\n",
    "\n",
    "\n",
    "if alien_color == 'green':\n",
    "    print('Player earned 5 points')\n",
    "else:\n",
    "    print('Player earned 10 points')"
   ]
  },
  {
   "cell_type": "markdown",
   "metadata": {},
   "source": [
    "5-5. Alien Colors #3: Turn your if-else chain from Exercise 5-4 into an if-elifelse chain.\n",
    "\n",
    "• If the alien is green, print a message that the player earned 5 points.\n",
    "\n",
    "• If the alien is yellow, print a message that the player earned 10 points.\n",
    "\n",
    "• If the alien is red, print a message that the player earned 15 points.\n",
    "\n",
    "• Write three versions of this program, making sure each message is printed\n",
    "for the appropriate color alien.\n",
    "\n"
   ]
  },
  {
   "cell_type": "code",
   "execution_count": 22,
   "metadata": {},
   "outputs": [
    {
     "name": "stdout",
     "output_type": "stream",
     "text": [
      "Player earned 5 points\n",
      "Player earned 10 points\n",
      "Player earned 15 points\n"
     ]
    }
   ],
   "source": [
    "\n",
    "alien_color = 'green'\n",
    "\n",
    "if alien_color == 'green':\n",
    "    print('Player earned 5 points')\n",
    "elif alien_color == 'yellow':\n",
    "    print('Player earned 10 points')\n",
    "else:\n",
    "    print('Player earned 15 points')\n",
    "\n",
    "alien_color = 'yellow'\n",
    "\n",
    "if alien_color == 'green':\n",
    "    print('Player earned 5 points')\n",
    "elif alien_color == 'yellow':\n",
    "    print('Player earned 10 points')\n",
    "else:\n",
    "    print('Player earned 15 points')\n",
    "\n",
    "alien_color = 'red'\n",
    "\n",
    "if alien_color == 'green':\n",
    "    print('Player earned 5 points')\n",
    "elif alien_color == 'yellow':\n",
    "    print('Player earned 10 points')\n",
    "else:\n",
    "    print('Player earned 15 points')\n"
   ]
  },
  {
   "cell_type": "markdown",
   "metadata": {},
   "source": [
    "5-6. Stages of Life: Write an if-elif-else chain that determines a person’s stage\n",
    "of life. Set a value for the variable age, and then:\n",
    "\n",
    "• If the person is less than 2 years old, print a message that the person is\n",
    "a baby.\n",
    "\n",
    "• If the person is at least 2 years old but less than 4, print a message that the\n",
    "person is a toddler.\n",
    "\n",
    "• If the person is at least 4 years old but less than 13, print a message that\n",
    "the person is a kid.\n",
    "\n",
    "• If the person is at least 13 years old but less than 20, print a message that\n",
    "the person is a teenager.\n",
    "\n",
    "• If the person is at least 20 years old but less than 65, print a message that\n",
    "the person is an adult.\n",
    "\n",
    "• If the person is age 65 or older, print a message that the person is an elder.\n",
    "if Statements   85\n"
   ]
  },
  {
   "cell_type": "code",
   "execution_count": 23,
   "metadata": {},
   "outputs": [
    {
     "name": "stdout",
     "output_type": "stream",
     "text": [
      "Person is adult\n"
     ]
    }
   ],
   "source": [
    "\n",
    "age = 50\n",
    "\n",
    "if age < 2:\n",
    "    print('Person is baby')\n",
    "elif age < 4:\n",
    "    print('Person is toddler')\n",
    "elif age < 13:\n",
    "    print('Person is kid')\n",
    "elif age < 20:\n",
    "    print('Person is teenager')\n",
    "elif age < 65:\n",
    "    print('Person is adult')\n",
    "else:\n",
    "    print('Person is elder')"
   ]
  },
  {
   "cell_type": "markdown",
   "metadata": {},
   "source": [
    "5-7. Favorite Fruit: Make a list of your favorite fruits, and then write a series of\n",
    "independent if statements that check for certain fruits in your list.\n",
    "\n",
    "• Make a list of your three favorite fruits and call it favorite_fruits.\n",
    "\n",
    "• Write five if statements. Each should check whether a certain kind of fruit\n",
    "is in your list. If the fruit is in your list, the if block should print a statement,\n",
    "such as You really like bananas!"
   ]
  },
  {
   "cell_type": "code",
   "execution_count": 24,
   "metadata": {},
   "outputs": [
    {
     "name": "stdout",
     "output_type": "stream",
     "text": [
      "You really like squash\n",
      "You really like watermelon\n",
      "You really like melon\n"
     ]
    }
   ],
   "source": [
    "favorite_fruit = ['squash','watermelon','melon']\n",
    "\n",
    "test_fruits = ['squash','watermelon','melon','chips','mutton']\n",
    "\n",
    "fruit = test_fruits[0]\n",
    "if fruit in favorite_fruit:\n",
    "    print('You really like '+fruit)\n",
    "\n",
    "\n",
    "fruit = test_fruits[1]\n",
    "if fruit in favorite_fruit:\n",
    "    print('You really like '+fruit)\n",
    "\n",
    "fruit = test_fruits[2]\n",
    "if fruit in favorite_fruit:\n",
    "    print('You really like '+fruit)\n",
    "    \n",
    "fruit = test_fruits[3]\n",
    "if fruit in favorite_fruit:\n",
    "    print('You really like '+fruit)\n",
    "\n",
    "fruit = test_fruits[4]\n",
    "if fruit in favorite_fruit:\n",
    "    print('You really like '+fruit)\n",
    "\n",
    "\n",
    " "
   ]
  },
  {
   "cell_type": "markdown",
   "metadata": {},
   "source": [
    "5-8. Hello Admin: Make a list of five or more usernames, including the name\n",
    "'admin'. Imagine you are writing code that will print a greeting to each user\n",
    "after they log in to a website. Loop through the list, and print a greeting to\n",
    "each user.\n",
    "• If the username is 'admin', print a special greeting, such as Hello admin,\n",
    "would you like to see a status report?\n",
    "• Otherwise, print a generic greeting, such as Hello Jaden, thank you for\n",
    "logging in again.\n"
   ]
  },
  {
   "cell_type": "code",
   "execution_count": 25,
   "metadata": {},
   "outputs": [
    {
     "name": "stdout",
     "output_type": "stream",
     "text": [
      "Click yes to  see status, Admin?\n",
      "Hello and Welcome to site, Spandan\n",
      "Hello and Welcome to site, Bhaskar\n",
      "Hello and Welcome to site, Jesus\n",
      "Hello and Welcome to site, Abhishek\n"
     ]
    }
   ],
   "source": [
    "usernames = ['admin','spandan','bhaskar','jesus','abhishek']\n",
    "\n",
    "for user in usernames:\n",
    "    if user=='admin':\n",
    "        print('Click yes to  see status, ' + user.title() +'?')\n",
    "    else:\n",
    "        print('Hello and Welcome to site, ' + user.title())\n",
    "        "
   ]
  },
  {
   "cell_type": "markdown",
   "metadata": {},
   "source": [
    "5-9. No Users: Add an if test to hello_admin.py to make sure the list of users is\n",
    "not empty.\n",
    "• If the list is empty, print the message We need to find some users!\n",
    "• Remove all of the usernames from your list, and make sure the correct message is printed.\n"
   ]
  },
  {
   "cell_type": "code",
   "execution_count": 26,
   "metadata": {},
   "outputs": [
    {
     "name": "stdout",
     "output_type": "stream",
     "text": [
      "We need some Users.\n"
     ]
    }
   ],
   "source": [
    "usernames = []\n",
    "\n",
    "if usernames ==[]:\n",
    "    print('We need some Users.')\n",
    "else:    \n",
    "    for user in usernames:\n",
    "        if user=='admin':\n",
    "            print('Click yes to  see status, ' + user.title() +'?')\n",
    "        else:\n",
    "            print('Hello and Welcome to site, ' + user.title())"
   ]
  },
  {
   "cell_type": "markdown",
   "metadata": {},
   "source": [
    "5-10. Checking Usernames: Do the following to create a program that simulates\n",
    "how websites ensure that everyone has a unique username.\n",
    "• Make a list of five or more usernames called current_users.\n",
    "• Make another list of five usernames called new_users. Make sure one or\n",
    "two of the new usernames are also in the current_users list.\n",
    "• Loop through the new_users list to see if each new username has already\n",
    "been used. If it has, print a message that the person will need to enter a\n",
    "new username. If a username has not been used, print a message saying\n",
    "that the username is available.\n",
    "• Make sure your comparison is case insensitive. If 'John' has been used,\n",
    "'JOHN' should not be accepted. (To do this, you’ll need to make a copy of\n",
    "current_users containing the lowercase versions of all existing users.)\n"
   ]
  },
  {
   "cell_type": "code",
   "execution_count": 27,
   "metadata": {},
   "outputs": [
    {
     "name": "stdout",
     "output_type": "stream",
     "text": [
      "User name sichitaz availabe.\n",
      "User name spandan unavailabe. Please Enter new user name.\n",
      "User name amartya availabe.\n",
      "User name jesus unavailabe. Please Enter new user name.\n",
      "User name paul availabe.\n"
     ]
    }
   ],
   "source": [
    "current_users = ['admin','spandan','bhaskar','jesus','abhishek']\n",
    "\n",
    "new_users     = ['sichitaz','spandan','amartya','jesus','paul']\n",
    "\n",
    "\n",
    "tempuser = []\n",
    "for user in current_users:\n",
    "    lowcase = user.lower()\n",
    "    tempuser.append(lowcase)\n",
    "\n",
    "for user in new_users:\n",
    "    if user.lower() in tempuser:\n",
    "        print(f'User name {user} unavailabe. Please Enter new user name.')\n",
    "    else:\n",
    "        print(f'User name {user} availabe.')"
   ]
  },
  {
   "cell_type": "markdown",
   "metadata": {},
   "source": [
    "5-11. Ordinal Numbers: Ordinal numbers indicate their position in a list, such as\n",
    "1st or 2nd. Most ordinal numbers end in th, except 1, 2, and 3.\n",
    "• Store the numbers 1 through 9 in a list.\n",
    "• Loop through the list.\n",
    "• Use an if-elif-else chain inside the loop to print the proper ordinal ending\n",
    "for each number. Your output should read \"1st 2nd 3rd 4th 5th 6th 7th\n",
    "8th 9th\", and each result should be on a separate line.\n",
    "\n",
    "Styling Your if Statements\n",
    "In every example in this chapter, you’ve seen good styling h"
   ]
  },
  {
   "cell_type": "code",
   "execution_count": 28,
   "metadata": {},
   "outputs": [
    {
     "name": "stdout",
     "output_type": "stream",
     "text": [
      "1st\n",
      "2nd\n",
      "3rd\n",
      "4th\n",
      "5th\n",
      "6th\n",
      "7th\n",
      "8th\n",
      "9th\n"
     ]
    }
   ],
   "source": [
    "numbers = list(range(1,10))\n",
    "\n",
    "for number in numbers:\n",
    "    if number == 1:\n",
    "            print(f'{number}st')\n",
    "    elif number == 2:\n",
    "            print(f'{number}nd')\n",
    "    elif number == 3:\n",
    "            print(f'{number}rd')\n",
    "    else:\n",
    "        print(f'{number}th')"
   ]
  }
 ],
 "metadata": {
  "kernelspec": {
   "display_name": "Python 3",
   "language": "python",
   "name": "python3"
  },
  "language_info": {
   "codemirror_mode": {
    "name": "ipython",
    "version": 3
   },
   "file_extension": ".py",
   "mimetype": "text/x-python",
   "name": "python",
   "nbconvert_exporter": "python",
   "pygments_lexer": "ipython3",
   "version": "3.11.3"
  }
 },
 "nbformat": 4,
 "nbformat_minor": 2
}
