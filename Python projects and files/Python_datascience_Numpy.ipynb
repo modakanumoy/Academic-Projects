{
  "nbformat": 4,
  "nbformat_minor": 0,
  "metadata": {
    "colab": {
      "provenance": [],
      "collapsed_sections": [
        "8y5F4wtty6Pv",
        "-sILmeOZbDkX",
        "sk3aRNw5gLTp",
        "xF8QHtuwo-iY",
        "dZryMWzmvmcy",
        "Gtz9wp7Fw3Bp",
        "uIYVOq073rfQ",
        "9tt2-AuZhVqk",
        "21idHvIRloT8",
        "TlR2Poxon_6w",
        "M2l--aCRyl0K"
      ]
    },
    "kernelspec": {
      "name": "python3",
      "display_name": "Python 3"
    },
    "language_info": {
      "name": "python"
    }
  },
  "cells": [
    {
      "cell_type": "markdown",
      "source": [
        "# **NumPy - Basics**\n",
        "* NumPy is a Python library.\n",
        "\n",
        "* NumPy is used for working with arrays.\n",
        "\n",
        "* NumPy is short for \"Numerical Python\".\n",
        "* It also has functions for working in domain of linear algebra, fourier transform, and matrices."
      ],
      "metadata": {
        "id": "yB5Sh4gfr3YI"
      }
    },
    {
      "cell_type": "markdown",
      "source": [
        "**Why Use NumPy?**\n",
        "* In Python we have lists that serve the purpose of arrays, but they are slow to process.\n",
        "\n",
        "> * NumPy arrays are stored at one continuous place in memory unlike lists, so processes can access and manipulate them very efficiently.\n",
        "\n",
        "> * Also it is optimized to work with latest CPU architectures.\n",
        "\n",
        "* NumPy aims to provide an array object that is up to 50x faster than traditional Python lists.\n",
        "\n",
        "* The array object in NumPy is called ndarray, it provides a lot of supporting functions that make working with ndarray very easy.\n",
        "\n",
        "* Arrays are very frequently used in data science, where speed and resources are very important.\n",
        "\n",
        "**Data Science:** is a branch of computer science where we study how to store, use and analyze data for deriving information from it.\n",
        "\n",
        "**Intall numpy**\n",
        "\n",
        "!pip install numpy"
      ],
      "metadata": {
        "id": "C6txVfaascwL"
      }
    },
    {
      "cell_type": "code",
      "execution_count": null,
      "metadata": {
        "colab": {
          "base_uri": "https://localhost:8080/"
        },
        "id": "02tkHWh1rWpz",
        "outputId": "5207848b-eb7f-4e3a-daa5-376361bac1c4"
      },
      "outputs": [
        {
          "output_type": "stream",
          "name": "stdout",
          "text": [
            "[1 2 3 4 5]\n"
          ]
        }
      ],
      "source": [
        "import numpy\n",
        "\n",
        "\n",
        "arr = numpy.array([1, 2, 3, 4, 5]) # note: the argument is list\n",
        "\n",
        "print(arr)"
      ]
    },
    {
      "cell_type": "markdown",
      "source": [
        "**NumPy** is usually imported under the **np** alias.\n",
        "\n",
        "Create an alias with the **as keyword** while importing:\n",
        "\n",
        "\n",
        "\n",
        "```\n",
        "import numpy as np\n",
        "```\n",
        "\n",
        "\n"
      ],
      "metadata": {
        "id": "zplVxUj1yQEa"
      }
    },
    {
      "cell_type": "code",
      "source": [
        "import numpy as np\n",
        "\n",
        "arr = np.array([1, 2, 3, 4, 5]) # note: the argument is tuple\n",
        "\n",
        "print(arr)\n",
        "\n"
      ],
      "metadata": {
        "colab": {
          "base_uri": "https://localhost:8080/"
        },
        "id": "hB2MxafKyjT4",
        "outputId": "1831d3b0-33a4-4671-ced8-ab95441f468a"
      },
      "execution_count": null,
      "outputs": [
        {
          "output_type": "stream",
          "name": "stdout",
          "text": [
            "[1 2 3 4 5]\n"
          ]
        }
      ]
    },
    {
      "cell_type": "code",
      "source": [
        "print(np.__version__)"
      ],
      "metadata": {
        "colab": {
          "base_uri": "https://localhost:8080/"
        },
        "id": "SwWMWSe7yrPK",
        "outputId": "fd853786-cb49-4ebe-c5d7-f141d89c02b5"
      },
      "execution_count": null,
      "outputs": [
        {
          "output_type": "stream",
          "name": "stdout",
          "text": [
            "1.22.4\n"
          ]
        }
      ]
    },
    {
      "cell_type": "markdown",
      "source": [
        "## **NumPy Creating Arrays**\n",
        "\n",
        "* NumPy is used to work with arrays. The array object in NumPy is called **ndarray**.\n",
        "\n",
        "* We can create a NumPy ndarray object by using the **array()** function.\n",
        "\n",
        "\n"
      ],
      "metadata": {
        "id": "8y5F4wtty6Pv"
      }
    },
    {
      "cell_type": "code",
      "source": [
        "import numpy as np\n",
        "\n",
        "arr = np.array([1, 2, 3, 4, 5])\n",
        "\n",
        "print(arr)\n",
        "\n",
        "print(type(arr))"
      ],
      "metadata": {
        "colab": {
          "base_uri": "https://localhost:8080/"
        },
        "id": "jgUPV9Uey5kr",
        "outputId": "a620cde6-60f7-40fe-9019-f2134787878e"
      },
      "execution_count": null,
      "outputs": [
        {
          "output_type": "stream",
          "name": "stdout",
          "text": [
            "[1 2 3 4 5]\n",
            "<class 'numpy.ndarray'>\n"
          ]
        }
      ]
    },
    {
      "cell_type": "markdown",
      "source": [
        "To create an ndarray, we can pass a list, tuple or any array-like object into the array() method, and it will be converted into an ndarray:"
      ],
      "metadata": {
        "id": "SuhYb5ArzkzD"
      }
    },
    {
      "cell_type": "code",
      "source": [
        "#Use a tuple to create a NumPy array:\n",
        "import numpy as np\n",
        "\n",
        "arr = np.array((1, 2, 3, 4, 5))\n",
        "\n",
        "print(arr)"
      ],
      "metadata": {
        "colab": {
          "base_uri": "https://localhost:8080/"
        },
        "id": "Oi2M7F5bzd3K",
        "outputId": "9c0ca675-e107-4df3-932a-1e7d771bcffa"
      },
      "execution_count": null,
      "outputs": [
        {
          "output_type": "stream",
          "name": "stdout",
          "text": [
            "[1 2 3 4 5]\n"
          ]
        }
      ]
    },
    {
      "cell_type": "markdown",
      "source": [
        "**Dimensions in Arrays**\n",
        "\n",
        "* A dimension in arrays is one level of array depth (nested arrays).\n",
        "\n",
        "* nested array: are arrays that have arrays as their elements.\n",
        "\n",
        "**0-D Arrays**\n",
        "\n",
        "* 0-D arrays, or Scalars, are the elements in an array. Each value in an array is a 0-D array.\n"
      ],
      "metadata": {
        "id": "oUEVKEP_z0zm"
      }
    },
    {
      "cell_type": "code",
      "source": [
        "# Create a 0-D array with value 42\n",
        "\n",
        "import numpy as np\n",
        "\n",
        "arr = np.array(42)\n",
        "\n",
        "print(arr)"
      ],
      "metadata": {
        "colab": {
          "base_uri": "https://localhost:8080/"
        },
        "id": "upmuTekt0K_A",
        "outputId": "441a087d-173c-4f36-8ab2-1dec82d98f44"
      },
      "execution_count": null,
      "outputs": [
        {
          "output_type": "stream",
          "name": "stdout",
          "text": [
            "42\n"
          ]
        }
      ]
    },
    {
      "cell_type": "markdown",
      "source": [
        "**1-D Arrays**\n",
        "\n",
        "* An array that has 0-D arrays as its elements is called uni-dimensional or 1-D array.\n",
        "\n",
        "* These are the most common and basic arrays."
      ],
      "metadata": {
        "id": "buIshfnl0V_t"
      }
    },
    {
      "cell_type": "code",
      "source": [
        "# Create a 1-D array containing the values 1,2,3,4,5:\n",
        "\n",
        "import numpy as np\n",
        "\n",
        "arr = np.array([1, 2, 3, 4, 5])\n",
        "\n",
        "print(arr)"
      ],
      "metadata": {
        "colab": {
          "base_uri": "https://localhost:8080/"
        },
        "id": "0Mw_pwgE0gqx",
        "outputId": "1a3e7692-95e8-4318-ba3c-1dd08eecfa41"
      },
      "execution_count": null,
      "outputs": [
        {
          "output_type": "stream",
          "name": "stdout",
          "text": [
            "[1 2 3 4 5]\n"
          ]
        }
      ]
    },
    {
      "cell_type": "markdown",
      "source": [
        "**2-D Arrays**\n",
        "\n",
        "* An array that has 1-D arrays as its elements is called a 2-D array.\n",
        "\n",
        "* These are often used to represent matrix or 2nd order tensors.\n",
        "\n",
        "> * NumPy has a whole sub module dedicated towards matrix operations called **numpy.mat**\n"
      ],
      "metadata": {
        "id": "vzOSuNyAXylS"
      }
    },
    {
      "cell_type": "code",
      "source": [
        "# Create a 2-D array containing two arrays with the values 1,2,3 and 4,5,6:\n",
        "\n",
        "import numpy as np\n",
        "\n",
        "arr = np.array([[1, 2, 3], [4, 5, 6]])\n",
        "\n",
        "print(arr)"
      ],
      "metadata": {
        "colab": {
          "base_uri": "https://localhost:8080/"
        },
        "id": "xI4z8t2DYDpg",
        "outputId": "d6868106-8977-4d74-c3c5-4893f3011f38"
      },
      "execution_count": null,
      "outputs": [
        {
          "output_type": "stream",
          "name": "stdout",
          "text": [
            "[[1 2 3]\n",
            " [4 5 6]]\n"
          ]
        }
      ]
    },
    {
      "cell_type": "markdown",
      "source": [
        "**3-D arrays**\n",
        "\n",
        "* An array that has 2-D arrays (matrices) as its elements is called 3-D array.\n",
        "\n",
        "* These are often used to represent a 3rd order tensor."
      ],
      "metadata": {
        "id": "LFUxVY-WZDht"
      }
    },
    {
      "cell_type": "code",
      "source": [
        "# Create a 3-D array with two 2-D arrays, both containing two arrays with the values 1,2,3 and 4,5,6:\n",
        "\n",
        "import numpy as np\n",
        "\n",
        "arr = np.array([[[1, 2, 3], [4, 5, 6]], [[1, 2, 3], [4, 5, 6]]])\n",
        "\n",
        "print(arr)"
      ],
      "metadata": {
        "colab": {
          "base_uri": "https://localhost:8080/"
        },
        "id": "kqoHpI58ZLtu",
        "outputId": "9e32c275-a7ab-45ed-d3b6-28b5e5090e40"
      },
      "execution_count": null,
      "outputs": [
        {
          "output_type": "stream",
          "name": "stdout",
          "text": [
            "[[[1 2 3]\n",
            "  [4 5 6]]\n",
            "\n",
            " [[1 2 3]\n",
            "  [4 5 6]]]\n"
          ]
        }
      ]
    },
    {
      "cell_type": "markdown",
      "source": [
        "**Check Number of Dimensions?**\n",
        "\n",
        "NumPy Arrays provides the **ndim** attribute that returns an integer that tells us how many dimensions the array have."
      ],
      "metadata": {
        "id": "Oy5kptamZyS1"
      }
    },
    {
      "cell_type": "code",
      "source": [
        "# Check how many dimensions the arrays have:\n",
        "\n",
        "import numpy as np\n",
        "\n",
        "a = np.array(42)\n",
        "b = np.array([1, 2, 3, 4, 5])\n",
        "c = np.array([[1, 2, 3], [4, 5, 6]])\n",
        "d = np.array([[[1, 2, 3], [4, 5, 6]], [[1, 2, 3], [4, 5, 6]]])\n",
        "\n",
        "print(a.ndim)\n",
        "print(b.ndim)\n",
        "print(c.ndim)\n",
        "print(d.ndim)"
      ],
      "metadata": {
        "colab": {
          "base_uri": "https://localhost:8080/"
        },
        "id": "biG8grMhZ6_N",
        "outputId": "2b100713-696c-44fe-8481-92d04e852394"
      },
      "execution_count": null,
      "outputs": [
        {
          "output_type": "stream",
          "name": "stdout",
          "text": [
            "0\n",
            "1\n",
            "2\n",
            "3\n"
          ]
        }
      ]
    },
    {
      "cell_type": "markdown",
      "source": [
        "**Higher Dimensional Arrays**\n",
        "\n",
        "* An array can have any number of dimensions.\n",
        "\n",
        "* When the array is created, you can define the number of dimensions by using the ndmin argument."
      ],
      "metadata": {
        "id": "IEel4qbeaKjG"
      }
    },
    {
      "cell_type": "code",
      "source": [
        "# Create an array with 5 dimensions and verify that it has 5 dimensions:\n",
        "\n",
        "import numpy as np\n",
        "\n",
        "arr = np.array([1, 2, 3, 4], ndmin=5)\n",
        "\n",
        "print(arr)\n",
        "print('number of dimensions :', arr.ndim)\n",
        "\n",
        "# In this array the innermost dimension (5th dim) has 4 elements, the 4th dim has 1 element that is the vector, the 3rd dim has 1 element that is the matrix with the vector, the 2nd dim has 1 element that is 3D array and 1st dim has 1 element that is a 4D array."
      ],
      "metadata": {
        "colab": {
          "base_uri": "https://localhost:8080/"
        },
        "id": "Fs2zuod4aSXt",
        "outputId": "0ab026e1-a26e-43fd-9cb9-672b61d1a2cf"
      },
      "execution_count": null,
      "outputs": [
        {
          "output_type": "stream",
          "name": "stdout",
          "text": [
            "[[[[[1 2 3 4]]]]]\n",
            "number of dimensions : 5\n"
          ]
        }
      ]
    },
    {
      "cell_type": "markdown",
      "source": [
        "## **NumPy Array Indexing**\n",
        "\n",
        "**Access Array Elements**\n",
        "\n",
        "* Array indexing is the same as accessing an array element.\n",
        "\n",
        "* You can access an array element by referring to its index number.\n",
        "\n",
        "* The indexes in NumPy arrays start with 0, meaning that the first element has index 0, and the second has index 1 etc."
      ],
      "metadata": {
        "id": "-sILmeOZbDkX"
      }
    },
    {
      "cell_type": "code",
      "source": [
        "# Get the first element from the following array:\n",
        "import numpy as np\n",
        "\n",
        "arr = np.array([1, 2, 3, 4])\n",
        "\n",
        "print(arr[0])"
      ],
      "metadata": {
        "colab": {
          "base_uri": "https://localhost:8080/"
        },
        "id": "6QaLV_MybgkJ",
        "outputId": "427a575f-8f96-4318-b2c1-1c7fe2b955a6"
      },
      "execution_count": null,
      "outputs": [
        {
          "output_type": "stream",
          "name": "stdout",
          "text": [
            "1\n"
          ]
        }
      ]
    },
    {
      "cell_type": "code",
      "source": [
        "# Get third and fourth elements from the following array and add them.\n",
        "\n",
        "import numpy as np\n",
        "\n",
        "arr = np.array([1, 2, 3, 4])\n",
        "\n",
        "print(arr[2] + arr[3])"
      ],
      "metadata": {
        "colab": {
          "base_uri": "https://localhost:8080/"
        },
        "id": "CzejVHH2bsSl",
        "outputId": "b02cd072-7af4-4faf-a8e1-7884ffc3a0d3"
      },
      "execution_count": null,
      "outputs": [
        {
          "output_type": "stream",
          "name": "stdout",
          "text": [
            "7\n"
          ]
        }
      ]
    },
    {
      "cell_type": "markdown",
      "source": [
        "**Access 2-D Arrays**\n",
        "\n",
        "* To access elements from 2-D arrays we can use comma separated integers representing the dimension and the index of the element.\n",
        "\n",
        "* Think of 2-D arrays like a table with rows and columns, where the dimension represents the row and the index represents the column."
      ],
      "metadata": {
        "id": "J5raYLQHb0a9"
      }
    },
    {
      "cell_type": "code",
      "source": [
        "# Access the element on the first row, second column:\n",
        "\n",
        "import numpy as np\n",
        "\n",
        "arr = np.array([[1,2,3,4,5], [6,7,8,9,10]])\n",
        "\n",
        "print('1st element on 1st row: ', arr[0, 0])\n",
        "print('2nd element on 1st row: ', arr[0, 1])\n",
        "print('2nd element on 2nd row: ', arr[1, 1])\n",
        "print('4th element on 2nd row: ', arr[1, 3])"
      ],
      "metadata": {
        "colab": {
          "base_uri": "https://localhost:8080/"
        },
        "id": "u0dF-_9lcMby",
        "outputId": "09e4e818-8dcd-41e4-da06-1c8dd86a85e6"
      },
      "execution_count": null,
      "outputs": [
        {
          "output_type": "stream",
          "name": "stdout",
          "text": [
            "1st element on 1st row:  1\n",
            "2nd element on 1st row:  2\n",
            "2nd element on 2nd row:  7\n",
            "4th element on 2nd row:  9\n"
          ]
        }
      ]
    },
    {
      "cell_type": "markdown",
      "source": [
        "**Access 3-D Arrays**\n",
        "\n",
        "To access elements from 3-D arrays we can use comma separated integers representing the dimensions and the index of the element.\n",
        "\n"
      ],
      "metadata": {
        "id": "S-cOTHpKd46U"
      }
    },
    {
      "cell_type": "code",
      "source": [
        "# Access the third element of the second array of the first array:\n",
        "\n",
        "import numpy as np\n",
        "\n",
        "arr = np.array([[[1, 2, 3], [4, 5, 6]], [[7, 8, 9], [10, 11, 12]]])\n",
        "\n",
        "print(arr[0, 1, 2])"
      ],
      "metadata": {
        "colab": {
          "base_uri": "https://localhost:8080/"
        },
        "id": "-6gIg8tieTtq",
        "outputId": "954df0b8-ed6d-4202-aef4-b4b95b0c929e"
      },
      "execution_count": null,
      "outputs": [
        {
          "output_type": "stream",
          "name": "stdout",
          "text": [
            "6\n"
          ]
        }
      ]
    },
    {
      "cell_type": "markdown",
      "source": [
        "**Example Explained**\n",
        "\n",
        "arr[0, 1, 2] prints the value 6.\n",
        "\n",
        "And this is why:\n",
        "\n",
        "The first number represents the first dimension, which contains two arrays:\n",
        "\n",
        "[[1, 2, 3], [4, 5, 6]]\n",
        "\n",
        "and:\n",
        "\n",
        "[[7, 8, 9], [10, 11, 12]]\n",
        "\n",
        "Since we selected 0, we are left with the first array:\n",
        "[[1, 2, 3], [4, 5, 6]]\n",
        "\n",
        "The second number represents the second dimension, which also contains two arrays:\n",
        "\n",
        "[1, 2, 3]\n",
        "\n",
        "and:\n",
        "\n",
        "[4, 5, 6]\n",
        "\n",
        "Since we selected 1, we are left with the second array:\n",
        "\n",
        "[4, 5, 6]\n",
        "\n",
        "The third number represents the third dimension, which contains three values:\n",
        "\n",
        "4\n",
        "5\n",
        "6\n",
        "\n",
        "Since we selected 2, we end up with the third value:\n",
        "6"
      ],
      "metadata": {
        "id": "POc-FWwyeuT6"
      }
    },
    {
      "cell_type": "markdown",
      "source": [
        "**Negative Indexing**\n",
        "\n",
        "Use negative indexing to access an array from the end."
      ],
      "metadata": {
        "id": "r2Ohemf4fHWQ"
      }
    },
    {
      "cell_type": "code",
      "source": [
        "# Print the last element from the 2nd dim:\n",
        "\n",
        "import numpy as np\n",
        "\n",
        "arr = np.array([[1,2,3,4,5], [6,7,8,9,10]])\n",
        "\n",
        "print('Last element from 2nd dim: ', arr[1, -1])\n",
        "print('Last to Last element from 2nd dim: ', arr[1, -2])"
      ],
      "metadata": {
        "colab": {
          "base_uri": "https://localhost:8080/"
        },
        "id": "os-vNYC5fRch",
        "outputId": "3686537d-4957-4253-dc6f-ef0733171ebc"
      },
      "execution_count": null,
      "outputs": [
        {
          "output_type": "stream",
          "name": "stdout",
          "text": [
            "Last element from 2nd dim:  10\n",
            "Last to Last element from 2nd dim:  9\n"
          ]
        }
      ]
    },
    {
      "cell_type": "markdown",
      "source": [
        "## **NumPy Array Slicing**\n",
        "\n",
        "**Slicing arrays**\n",
        "\n",
        "Slicing in python means taking elements from one given index to another given index.\n",
        "\n",
        "* We pass slice instead of index like this: **[start:end]**.\n",
        "\n",
        "* We can also define the step, like this: **[start:end:step].**\n",
        "\n",
        "* If we don't pass **start** its considered 0\n",
        "\n",
        "* If we don't pass **end** its considered length of array in that dimension\n",
        ".\n",
        "* If we don't pass **step** its considered 1. The step value to determine the step of the slicing."
      ],
      "metadata": {
        "id": "sk3aRNw5gLTp"
      }
    },
    {
      "cell_type": "code",
      "source": [
        "# Slice elements from index 1 to index 5 from the following array:\n",
        "\n",
        "import numpy as np\n",
        "\n",
        "arr = np.array([1, 2, 3, 4, 5, 6, 7])\n",
        "\n",
        "print(arr[1:5])"
      ],
      "metadata": {
        "colab": {
          "base_uri": "https://localhost:8080/"
        },
        "id": "C4UgfHyIglli",
        "outputId": "8830306f-261d-42ef-9c74-4a900c73e566"
      },
      "execution_count": null,
      "outputs": [
        {
          "output_type": "stream",
          "name": "stdout",
          "text": [
            "[2 3 4 5]\n"
          ]
        }
      ]
    },
    {
      "cell_type": "code",
      "source": [
        "# Slice elements from index 4 to the end of the array:\n",
        "\n",
        "import numpy as np\n",
        "\n",
        "arr = np.array([1, 2, 3, 4, 5, 6, 7])\n",
        "\n",
        "print(arr[4:])"
      ],
      "metadata": {
        "colab": {
          "base_uri": "https://localhost:8080/"
        },
        "id": "d0fklusahANb",
        "outputId": "7b8c1f8a-176a-4b45-9c4b-bee56fd99a55"
      },
      "execution_count": null,
      "outputs": [
        {
          "output_type": "stream",
          "name": "stdout",
          "text": [
            "[5 6 7]\n"
          ]
        }
      ]
    },
    {
      "cell_type": "code",
      "source": [
        "# Slice elements from the beginning to index 4 (not included):\n",
        "\n",
        "import numpy as np\n",
        "\n",
        "arr = np.array([1, 2, 3, 4, 5, 6, 7])\n",
        "\n",
        "print(arr[:4])"
      ],
      "metadata": {
        "colab": {
          "base_uri": "https://localhost:8080/"
        },
        "id": "wScXH5gOhGpQ",
        "outputId": "4457c0a8-b2c5-43f2-aa19-d869fb809d50"
      },
      "execution_count": null,
      "outputs": [
        {
          "output_type": "stream",
          "name": "stdout",
          "text": [
            "[1 2 3 4]\n"
          ]
        }
      ]
    },
    {
      "cell_type": "code",
      "source": [
        "# Slice elements from the beginning to index 4 (not included), with step 2:\n",
        "\n",
        "import numpy as np\n",
        "\n",
        "arr = np.array([1, 2, 3, 4, 5, 6, 7])\n",
        "\n",
        "print(arr[:4:2])"
      ],
      "metadata": {
        "colab": {
          "base_uri": "https://localhost:8080/"
        },
        "id": "4y6HF1TAhdl4",
        "outputId": "57af3c22-e06b-4ede-a38f-0454b5a75892"
      },
      "execution_count": null,
      "outputs": [
        {
          "output_type": "stream",
          "name": "stdout",
          "text": [
            "[1 3]\n"
          ]
        }
      ]
    },
    {
      "cell_type": "code",
      "source": [
        "# Return every other element from index 1 to index 5:\n",
        "\n",
        "import numpy as np\n",
        "\n",
        "arr = np.array([1, 2, 3, 4, 5, 6, 7])\n",
        "\n",
        "print(arr[1:5:2])"
      ],
      "metadata": {
        "colab": {
          "base_uri": "https://localhost:8080/"
        },
        "id": "PFZD__FWhyo_",
        "outputId": "1945016b-7f45-46bb-da56-8b7183706658"
      },
      "execution_count": null,
      "outputs": [
        {
          "output_type": "stream",
          "name": "stdout",
          "text": [
            "[2 4]\n"
          ]
        }
      ]
    },
    {
      "cell_type": "markdown",
      "source": [
        "**Negative Slicing**\n",
        "\n",
        "Use the minus operator to refer to an index from the end."
      ],
      "metadata": {
        "id": "l_OjqbdwiPHA"
      }
    },
    {
      "cell_type": "code",
      "source": [
        "# Slice from the index 3 from the end to index 1 from the end:\n",
        "\n",
        "import numpy as np\n",
        "\n",
        "arr = np.array([1, 2, 3, 4, 5, 6, 7])\n",
        "\n",
        "print(arr[-3:-1])\n",
        "print(arr[-3:])"
      ],
      "metadata": {
        "colab": {
          "base_uri": "https://localhost:8080/"
        },
        "id": "3vs_YhcgiR-V",
        "outputId": "5bb089e8-0652-4163-87ff-712b0ad67ad7"
      },
      "execution_count": null,
      "outputs": [
        {
          "output_type": "stream",
          "name": "stdout",
          "text": [
            "[5 6]\n",
            "[5 6 7]\n"
          ]
        }
      ]
    },
    {
      "cell_type": "markdown",
      "source": [
        "**Slicing 2-D Arrays**"
      ],
      "metadata": {
        "id": "RzLMRSPLiobG"
      }
    },
    {
      "cell_type": "code",
      "source": [
        "# From the second element, slice elements from index 1 to index 4 (not included):\n",
        "\n",
        "import numpy as np\n",
        "\n",
        "arr = np.array([[1, 2, 3, 4, 5], [6, 7, 8, 9, 10]])\n",
        "\n",
        "print(arr[1, 1:4])"
      ],
      "metadata": {
        "colab": {
          "base_uri": "https://localhost:8080/"
        },
        "id": "0FwvwizpitZr",
        "outputId": "4b2fb87c-034a-4585-e2d7-6e2bc9c30b8c"
      },
      "execution_count": null,
      "outputs": [
        {
          "output_type": "stream",
          "name": "stdout",
          "text": [
            "[7 8 9]\n"
          ]
        }
      ]
    },
    {
      "cell_type": "code",
      "source": [
        "# From both elements, return index 2:\n",
        "\n",
        "import numpy as np\n",
        "\n",
        "arr = np.array([[1, 2, 3, 4, 5], [6, 7, 8, 9, 10]])\n",
        "\n",
        "print(arr[0:2, 2])"
      ],
      "metadata": {
        "colab": {
          "base_uri": "https://localhost:8080/"
        },
        "id": "V3uAvMvrjN8E",
        "outputId": "e7bd5851-dc0f-4981-e68e-3fdf065bb7d0"
      },
      "execution_count": null,
      "outputs": [
        {
          "output_type": "stream",
          "name": "stdout",
          "text": [
            "[3 8]\n"
          ]
        }
      ]
    },
    {
      "cell_type": "code",
      "source": [
        "# From both elements, slice index 1 to index 4 (not included), this will return a 2-D array:\n",
        "\n",
        "import numpy as np\n",
        "\n",
        "arr = np.array([[1, 2, 3, 4, 5], [6, 7, 8, 9, 10]])\n",
        "\n",
        "print(arr[0:2, 1:4])"
      ],
      "metadata": {
        "colab": {
          "base_uri": "https://localhost:8080/"
        },
        "id": "25jiR_bejbxW",
        "outputId": "ebe56b7e-d386-4970-c87c-168946eebd9e"
      },
      "execution_count": null,
      "outputs": [
        {
          "output_type": "stream",
          "name": "stdout",
          "text": [
            "[[2 3 4]\n",
            " [7 8 9]]\n"
          ]
        }
      ]
    },
    {
      "cell_type": "code",
      "source": [
        "arr = np.array([10, 15, 20, 25, 30, 35, 40])\n",
        "\n",
        "print(arr[1:4])"
      ],
      "metadata": {
        "colab": {
          "base_uri": "https://localhost:8080/"
        },
        "id": "yvyccfz_kRqo",
        "outputId": "5d4c8158-278a-4f54-a3c4-97f08b1b205c"
      },
      "execution_count": null,
      "outputs": [
        {
          "output_type": "stream",
          "name": "stdout",
          "text": [
            "[15 20 25]\n"
          ]
        }
      ]
    },
    {
      "cell_type": "markdown",
      "source": [
        "## **NumPy Data Types**\n",
        "\n",
        "**Data Types in NumPy**\n",
        "\n",
        "NumPy has some extra data types, and refer to data types with one character, like i for integers, u for unsigned integers etc.\n",
        "\n",
        "Below is a list of all data types in NumPy and the characters used to represent them.\n",
        "\n",
        "    i - integer\n",
        "    b - boolean\n",
        "    u - unsigned integer\n",
        "    f - float\n",
        "    c - complex float\n",
        "    m - timedelta\n",
        "    M - datetime\n",
        "    O - object\n",
        "    S - string\n",
        "    U - unicode string\n",
        "    V - fixed chunk of memory for other type ( void )\n"
      ],
      "metadata": {
        "id": "-TK4V4QHlB7Z"
      }
    },
    {
      "cell_type": "markdown",
      "source": [
        "**Checking the Data Type of an Array**\n",
        "\n",
        "The NumPy array object has a property called **dtype** that returns the data type of the array."
      ],
      "metadata": {
        "id": "INj71S7tlciq"
      }
    },
    {
      "cell_type": "code",
      "source": [
        "# Get the data type of an array object:\n",
        "\n",
        "import numpy as np\n",
        "\n",
        "arr = np.array([1, 2, 3, 4])\n",
        "\n",
        "print(arr.dtype)"
      ],
      "metadata": {
        "colab": {
          "base_uri": "https://localhost:8080/"
        },
        "id": "3YqpClg1ljoL",
        "outputId": "3747e754-62c3-473a-9ebc-600708cbbe2f"
      },
      "execution_count": null,
      "outputs": [
        {
          "output_type": "stream",
          "name": "stdout",
          "text": [
            "int64\n"
          ]
        }
      ]
    },
    {
      "cell_type": "code",
      "source": [
        "# Get the data type of an array containing strings:\n",
        "\n",
        "import numpy as np\n",
        "\n",
        "arr = np.array(['apple', 'banana', 'cherry'])\n",
        "\n",
        "print(arr.dtype)"
      ],
      "metadata": {
        "colab": {
          "base_uri": "https://localhost:8080/"
        },
        "id": "hmzOm-tUlrM3",
        "outputId": "3d2a2e58-d7ed-4f70-e81d-81bbfba6b503"
      },
      "execution_count": null,
      "outputs": [
        {
          "output_type": "stream",
          "name": "stdout",
          "text": [
            "<U6\n"
          ]
        }
      ]
    },
    {
      "cell_type": "markdown",
      "source": [
        "**Creating Arrays With a Defined Data Type**\n",
        "\n",
        "We use the **array()** function to create arrays, this function can take an optional argument: **dtype** that allows us to define the expected data type of the array elements:"
      ],
      "metadata": {
        "id": "5IZQmBECmAtS"
      }
    },
    {
      "cell_type": "code",
      "source": [
        "# Create an array with data type string:\n",
        "\n",
        "import numpy as np\n",
        "\n",
        "arr = np.array([1, 2, 3, 4], dtype='S')\n",
        "\n",
        "print(arr)\n",
        "print(arr.dtype)\n",
        "\n",
        "#S1 meand S of size 1 byte"
      ],
      "metadata": {
        "colab": {
          "base_uri": "https://localhost:8080/"
        },
        "id": "_LSypoyJmLRp",
        "outputId": "60c67571-5e31-481a-d604-821a7444a3f1"
      },
      "execution_count": null,
      "outputs": [
        {
          "output_type": "stream",
          "name": "stdout",
          "text": [
            "[b'1' b'2' b'3' b'4']\n",
            "|S1\n"
          ]
        }
      ]
    },
    {
      "cell_type": "code",
      "source": [
        "# For i, u, f, S and U we can define size as well.\n",
        "\n",
        "# Create an array with data type 4 bytes integer:\n",
        "\n",
        "import numpy as np\n",
        "\n",
        "arr = np.array([1, 2, 3, 4], dtype='i4')\n",
        "\n",
        "print(arr)\n",
        "print(arr.dtype)"
      ],
      "metadata": {
        "colab": {
          "base_uri": "https://localhost:8080/"
        },
        "id": "M5Bso-MImjyI",
        "outputId": "02aecfa5-0d7a-4190-936a-b2c953479d2f"
      },
      "execution_count": null,
      "outputs": [
        {
          "output_type": "stream",
          "name": "stdout",
          "text": [
            "[1 2 3 4]\n",
            "int32\n"
          ]
        }
      ]
    },
    {
      "cell_type": "markdown",
      "source": [
        "**What if a Value Can Not Be Converted?**\n",
        "\n",
        "If a type is given in which elements can't be casted then NumPy will raise a ValueError.\n",
        "\n",
        "> ValueError: In Python ValueError is raised when the type of passed argument to a function is unexpected/incorrect."
      ],
      "metadata": {
        "id": "llclF_F1m3ev"
      }
    },
    {
      "cell_type": "code",
      "source": [
        "# A non integer string like 'a' can not be converted to integer (will raise an error):\n",
        "\n",
        "import numpy as np\n",
        "\n",
        "arr = np.array(['a', '2', '3'], dtype='i')"
      ],
      "metadata": {
        "colab": {
          "base_uri": "https://localhost:8080/",
          "height": 205
        },
        "id": "sHuH9y5AnAEf",
        "outputId": "e2e9e727-30c9-4b23-e745-6a2cca0e9219"
      },
      "execution_count": null,
      "outputs": [
        {
          "output_type": "error",
          "ename": "ValueError",
          "evalue": "ignored",
          "traceback": [
            "\u001b[0;31m---------------------------------------------------------------------------\u001b[0m",
            "\u001b[0;31mValueError\u001b[0m                                Traceback (most recent call last)",
            "\u001b[0;32m<ipython-input-63-18244ddd1ae1>\u001b[0m in \u001b[0;36m<cell line: 5>\u001b[0;34m()\u001b[0m\n\u001b[1;32m      3\u001b[0m \u001b[0;32mimport\u001b[0m \u001b[0mnumpy\u001b[0m \u001b[0;32mas\u001b[0m \u001b[0mnp\u001b[0m\u001b[0;34m\u001b[0m\u001b[0;34m\u001b[0m\u001b[0m\n\u001b[1;32m      4\u001b[0m \u001b[0;34m\u001b[0m\u001b[0m\n\u001b[0;32m----> 5\u001b[0;31m \u001b[0marr\u001b[0m \u001b[0;34m=\u001b[0m \u001b[0mnp\u001b[0m\u001b[0;34m.\u001b[0m\u001b[0marray\u001b[0m\u001b[0;34m(\u001b[0m\u001b[0;34m[\u001b[0m\u001b[0;34m'a'\u001b[0m\u001b[0;34m,\u001b[0m \u001b[0;34m'2'\u001b[0m\u001b[0;34m,\u001b[0m \u001b[0;34m'3'\u001b[0m\u001b[0;34m]\u001b[0m\u001b[0;34m,\u001b[0m \u001b[0mdtype\u001b[0m\u001b[0;34m=\u001b[0m\u001b[0;34m'i'\u001b[0m\u001b[0;34m)\u001b[0m\u001b[0;34m\u001b[0m\u001b[0;34m\u001b[0m\u001b[0m\n\u001b[0m",
            "\u001b[0;31mValueError\u001b[0m: invalid literal for int() with base 10: 'a'"
          ]
        }
      ]
    },
    {
      "cell_type": "markdown",
      "source": [
        "**Converting Data Type on Existing Arrays**\n",
        "\n",
        "* The best way to change the data type of an existing array, is to make a copy of the array with the **astype()** method.\n",
        "\n",
        "* The **astype()** function creates a copy of the array, and allows you to specify the data type as a parameter.\n",
        "\n",
        "* The data type can be specified using a string, like 'f' for float, 'i' for integer etc. or you can use the data type directly like float for float and int for integer."
      ],
      "metadata": {
        "id": "z3ffAd9MnH_l"
      }
    },
    {
      "cell_type": "code",
      "source": [
        "# Change data type from float to integer by using 'i' as parameter value:\n",
        "\n",
        "import numpy as np\n",
        "\n",
        "arr = np.array([1.1, 2.1, 3.1])\n",
        "\n",
        "newarr = arr.astype('i')\n",
        "\n",
        "print(newarr)\n",
        "print(newarr.dtype)"
      ],
      "metadata": {
        "colab": {
          "base_uri": "https://localhost:8080/"
        },
        "id": "uUKL_SSgnhMx",
        "outputId": "4dd8838a-4936-4176-b4ff-8bf4472f7db7"
      },
      "execution_count": null,
      "outputs": [
        {
          "output_type": "stream",
          "name": "stdout",
          "text": [
            "[1 2 3]\n",
            "int32\n"
          ]
        }
      ]
    },
    {
      "cell_type": "code",
      "source": [
        "# Change data type from float to integer by using int as parameter value:\n",
        "\n",
        "import numpy as np\n",
        "\n",
        "arr = np.array([1.1, 2.1, 3.1])\n",
        "\n",
        "newarr = arr.astype(int)\n",
        "\n",
        "print(newarr)\n",
        "print(newarr.dtype)"
      ],
      "metadata": {
        "colab": {
          "base_uri": "https://localhost:8080/"
        },
        "id": "zBMjIgORn0UU",
        "outputId": "33bd6aa7-48b6-48ed-9fe5-7f72291bf1e8"
      },
      "execution_count": null,
      "outputs": [
        {
          "output_type": "stream",
          "name": "stdout",
          "text": [
            "[1 2 3]\n",
            "int64\n"
          ]
        }
      ]
    },
    {
      "cell_type": "code",
      "source": [
        "# Change data type from integer to boolean:\n",
        "\n",
        "import numpy as np\n",
        "\n",
        "arr = np.array([1, 0, 3])\n",
        "\n",
        "newarr = arr.astype(bool)\n",
        "\n",
        "print(newarr)\n",
        "print(newarr.dtype)"
      ],
      "metadata": {
        "colab": {
          "base_uri": "https://localhost:8080/"
        },
        "id": "iXFdrm6wn-98",
        "outputId": "39f33fb5-a06a-46f5-dbad-75ff7907f685"
      },
      "execution_count": null,
      "outputs": [
        {
          "output_type": "stream",
          "name": "stdout",
          "text": [
            "[ True False  True]\n",
            "bool\n"
          ]
        }
      ]
    },
    {
      "cell_type": "markdown",
      "source": [
        "## **NumPy Array Copy vs View**\n",
        "\n",
        "The Difference Between Copy and View\n",
        "\n",
        "* The main difference between a copy and a view of an array is that the copy is a new array, and the view is just a view of the original array.\n",
        "\n",
        "* The copy owns the data and any changes made to the copy will not affect original array, and any changes made to the original array will not affect the copy.\n",
        "\n",
        "* The view does not own the data and any changes made to the view will affect the original array, and any changes made to the original array will affect the view."
      ],
      "metadata": {
        "id": "xF8QHtuwo-iY"
      }
    },
    {
      "cell_type": "code",
      "source": [
        "# Make a copy, change the original array, and display both arrays:\n",
        "\n",
        "import numpy as np\n",
        "\n",
        "arr = np.array([1, 2, 3, 4, 5])\n",
        "x = arr.copy()\n",
        "arr[0] = 42\n",
        "\n",
        "print(arr)\n",
        "print(x)\n",
        "\n",
        "# The copy SHOULD NOT be affected by the changes made to the original array."
      ],
      "metadata": {
        "id": "ER0TzcZ3rZR9"
      },
      "execution_count": null,
      "outputs": []
    },
    {
      "cell_type": "code",
      "source": [
        "# Make a view, change the original array, and display both arrays:\n",
        "\n",
        "import numpy as np\n",
        "\n",
        "arr = np.array([1, 2, 3, 4, 5])\n",
        "x = arr.view()\n",
        "arr[0] = 42\n",
        "\n",
        "print(arr)\n",
        "print(x)\n",
        "\n",
        "# The view SHOULD be affected by the changes made to the original array."
      ],
      "metadata": {
        "id": "ImyAkpLNrt8p"
      },
      "execution_count": null,
      "outputs": []
    },
    {
      "cell_type": "code",
      "source": [
        "# Make a view, change the view, and display both arrays:\n",
        "\n",
        "import numpy as np\n",
        "\n",
        "arr = np.array([1, 2, 3, 4, 5])\n",
        "x = arr.view()\n",
        "x[0] = 31\n",
        "\n",
        "print(arr)\n",
        "print(x)\n",
        "\n",
        "# The original array SHOULD be affected by the changes made to the view."
      ],
      "metadata": {
        "id": "QOlKrSpjr3lB"
      },
      "execution_count": null,
      "outputs": []
    },
    {
      "cell_type": "markdown",
      "source": [
        "**Check if Array Owns its Data**\n",
        "\n",
        "* As mentioned above, copies owns the data, and views does not own the data, but how can we check this?\n",
        "\n",
        "* Every NumPy array has the attribute **base** that returns None if the array owns the data.\n",
        "\n",
        "* Otherwise, the **base** attribute refers to the original object."
      ],
      "metadata": {
        "id": "1SFLGgquvF3f"
      }
    },
    {
      "cell_type": "code",
      "source": [
        "# Print the value of the base attribute to check if an array owns it's data or not:\n",
        "\n",
        "import numpy as np\n",
        "\n",
        "arr = np.array([1, 2, 3, 4, 5])\n",
        "\n",
        "x = arr.copy()\n",
        "y = arr.view()\n",
        "\n",
        "print(x.base)\n",
        "print(y.base)\n",
        "\n",
        "# The copy returns None.\n",
        "# The view returns the original array."
      ],
      "metadata": {
        "id": "bspFStNkvPYP"
      },
      "execution_count": null,
      "outputs": []
    },
    {
      "cell_type": "markdown",
      "source": [
        "## **NumPy Array Shape**\n",
        "\n",
        "**Shape of an Array**\n",
        "\n",
        "The shape of an array is the number of elements in each dimension.\n",
        "\n",
        "**Get the Shape of an Array**\n",
        "\n",
        "NumPy arrays have an attribute called **shape** that returns a tuple with each index having the number of corresponding elements."
      ],
      "metadata": {
        "id": "dZryMWzmvmcy"
      }
    },
    {
      "cell_type": "code",
      "source": [
        "# Print the shape of a 2-D array:\n",
        "\n",
        "import numpy as np\n",
        "\n",
        "arr = np.array([[1, 2, 3, 4], [5, 6, 7, 8]])\n",
        "\n",
        "print(arr.shape)\n",
        "\n",
        "# The example above returns (2, 4), which means that the array has 2 dimensions, where the first dimension has 2 elements and the second has 4."
      ],
      "metadata": {
        "id": "M7GzZWzgwFrC"
      },
      "execution_count": null,
      "outputs": []
    },
    {
      "cell_type": "code",
      "source": [
        "# Create an array with 5 dimensions using ndmin using a vector with values 1,2,3,4 and verify that last dimension has value 4:\n",
        "\n",
        "import numpy as np\n",
        "\n",
        "arr = np.array([1, 2, 3, 4], ndmin=5)\n",
        "\n",
        "print(arr)\n",
        "print('shape of array :', arr.shape)"
      ],
      "metadata": {
        "id": "R3dVy2OtwiP3"
      },
      "execution_count": null,
      "outputs": []
    },
    {
      "cell_type": "markdown",
      "source": [
        "**What does the shape tuple represent?**\n",
        "\n",
        "* Integers at every index tells about the number of elements the corresponding dimension has.\n",
        "\n",
        "* In the example above at index-4 we have value 4, so we can say that 5th ( 4 + 1 th) dimension has 4 elements.\n"
      ],
      "metadata": {
        "id": "UAjj5e0gwtdH"
      }
    },
    {
      "cell_type": "markdown",
      "source": [
        "## **NumPy Array Reshaping**\n",
        "\n",
        "**Reshaping arrays**\n",
        "\n",
        "* Reshaping means changing the shape of an array.\n",
        "\n",
        "* The shape of an array is the number of elements in each dimension.\n",
        "\n",
        "* By reshaping we can add or remove dimensions or change number of elements in each dimension."
      ],
      "metadata": {
        "id": "Gtz9wp7Fw3Bp"
      }
    },
    {
      "cell_type": "markdown",
      "source": [
        "**Reshape From 1-D to 2-D**"
      ],
      "metadata": {
        "id": "bTU1BjH1xLa_"
      }
    },
    {
      "cell_type": "code",
      "source": [
        "# Convert the following 1-D array with 12 elements into a 2-D array.\n",
        "\n",
        "# The outermost dimension will have 4 arrays, each with 3 elements:\n",
        "\n",
        "import numpy as np\n",
        "\n",
        "arr = np.array([1, 2, 3, 4, 5, 6, 7, 8, 9, 10, 11, 12])\n",
        "\n",
        "print(\"Shape 4 X 3\")\n",
        "newarr = arr.reshape(4, 3)\n",
        "\n",
        "print(newarr)\n",
        "print()\n",
        "print(\"Shape 3 X 4\")\n",
        "newarr1 = arr.reshape(3, 4)\n",
        "\n",
        "print(newarr1)"
      ],
      "metadata": {
        "id": "_O1bedblxQ-g"
      },
      "execution_count": null,
      "outputs": []
    },
    {
      "cell_type": "markdown",
      "source": [
        "**Reshape From 1-D to 3-D**"
      ],
      "metadata": {
        "id": "7kYgi51S0YQB"
      }
    },
    {
      "cell_type": "code",
      "source": [
        "# Convert the following 1-D array with 12 elements into a 3-D array.\n",
        "\n",
        "# The outermost dimension will have 2 arrays that contains 3 arrays, each with 2 elements:\n",
        "\n",
        "import numpy as np\n",
        "\n",
        "arr = np.array([1, 2, 3, 4, 5, 6, 7, 8, 9, 10, 11, 12])\n",
        "\n",
        "print(\"Shape 2 X 3 X 2\")\n",
        "newarr = arr.reshape(2, 3, 2)\n",
        "\n",
        "print(newarr)\n",
        "print()\n",
        "print(\"Shape 2 X 2 X 3\")\n",
        "newarr1 = arr.reshape(2, 2, 3)\n",
        "\n",
        "print(newarr1)"
      ],
      "metadata": {
        "id": "LUGSqrEI0c4l"
      },
      "execution_count": null,
      "outputs": []
    },
    {
      "cell_type": "markdown",
      "source": [
        "**Can We Reshape Into any Shape?**\n",
        "\n",
        "* Yes, as long as the elements required for reshaping are equal in both shapes.\n",
        "\n",
        "* We can reshape an 8 elements 1D array into 4 elements in 2 rows 2D array but we cannot reshape it into a 3 elements 3 rows 2D array as that would require 3x3 = 9 elements."
      ],
      "metadata": {
        "id": "ClgtGak21GFP"
      }
    },
    {
      "cell_type": "markdown",
      "source": [
        "**Unknown Dimension**\n",
        "\n",
        "* You are allowed to have one \"unknown\" dimension.\n",
        "\n",
        "* Meaning that you do not have to specify an exact number for one of the dimensions in the reshape method.\n",
        "\n",
        "* Pass -1 as the value, and NumPy will calculate this number for you."
      ],
      "metadata": {
        "id": "RAmVJOAV1fO1"
      }
    },
    {
      "cell_type": "code",
      "source": [
        "# Convert 1D array with 8 elements to 3D array with 2x2 elements:\n",
        "\n",
        "import numpy as np\n",
        "\n",
        "arr = np.array([1, 2, 3, 4, 5, 6, 7, 8])\n",
        "\n",
        "newarr = arr.reshape(2, 2, -1)\n",
        "\n",
        "print(newarr)\n",
        "\n",
        "# Note: We can not pass -1 to more than one dimension."
      ],
      "metadata": {
        "id": "ybawisL21lKo"
      },
      "execution_count": null,
      "outputs": []
    },
    {
      "cell_type": "markdown",
      "source": [
        "**Flattening the arrays**\n",
        "\n",
        "* Flattening array means converting a multidimensional array into a 1D array.\n",
        "\n",
        "* We can use **reshape(-1)** to do this."
      ],
      "metadata": {
        "id": "s4bLdAIr15bm"
      }
    },
    {
      "cell_type": "code",
      "source": [
        "# Convert the array into a 1D array:\n",
        "\n",
        "import numpy as np\n",
        "\n",
        "arr = np.array([[1, 2, 3], [4, 5, 6]])\n",
        "\n",
        "newarr = arr.reshape(-1)\n",
        "\n",
        "print(newarr)\n",
        "\n",
        "# Note: There are a lot of functions for changing the shapes of arrays in numpy flatten, ravel and also for rearranging the elements rot90, flip, fliplr, flipud etc. These fall under Intermediate to Advanced section of numpy."
      ],
      "metadata": {
        "id": "ufRuX2Y82QNU"
      },
      "execution_count": null,
      "outputs": []
    },
    {
      "cell_type": "markdown",
      "source": [
        "## **NumPy Array Iterating**\n",
        "\n",
        "**Iterating Arrays**\n",
        "\n",
        "* Iterating means going through elements one by one.\n",
        "\n",
        "* As we deal with multi-dimensional arrays in numpy, we can do this using basic for loop of python.\n",
        "\n",
        "* If we iterate on a 1-D array it will go through each element one by one."
      ],
      "metadata": {
        "id": "uIYVOq073rfQ"
      }
    },
    {
      "cell_type": "code",
      "source": [
        "# Iterate on the elements of the following 1-D array:\n",
        "\n",
        "import numpy as np\n",
        "\n",
        "arr = np.array([1, 2, 3])\n",
        "\n",
        "for x in arr:\n",
        "  print(x)"
      ],
      "metadata": {
        "id": "PoXrkk3L4Qwi"
      },
      "execution_count": null,
      "outputs": []
    },
    {
      "cell_type": "markdown",
      "source": [
        "**Iterating 2-D Arrays**\n",
        "\n",
        "In a 2-D array it will go through all the rows."
      ],
      "metadata": {
        "id": "DpBjzsUZ4X7U"
      }
    },
    {
      "cell_type": "code",
      "source": [
        "# Iterate on the elements of the following 2-D array:\n",
        "\n",
        "import numpy as np\n",
        "\n",
        "arr = np.array([[1, 2, 3], [4, 5, 6]])\n",
        "\n",
        "for x in arr:\n",
        "  print(x)"
      ],
      "metadata": {
        "id": "k4bzHs_U4dVE"
      },
      "execution_count": null,
      "outputs": []
    },
    {
      "cell_type": "markdown",
      "source": [
        "\n",
        "\n",
        "If we iterate on a n-D array it will go through n-1th dimension one by one.\n",
        "\n",
        "To return the actual values, the scalars, we have to iterate the arrays in each dimension."
      ],
      "metadata": {
        "id": "nq_4nY4s4noX"
      }
    },
    {
      "cell_type": "code",
      "source": [
        "# Iterate on each scalar element of the 2-D array:\n",
        "\n",
        "import numpy as np\n",
        "\n",
        "arr = np.array([[1, 2, 3], [4, 5, 6]])\n",
        "\n",
        "for x in arr:\n",
        "  print()\n",
        "  for y in x:\n",
        "    print(y)"
      ],
      "metadata": {
        "id": "W2nhBCqp4pRh"
      },
      "execution_count": null,
      "outputs": []
    },
    {
      "cell_type": "markdown",
      "source": [
        "**Iterating 3-D Arrays**\n",
        "\n",
        "In a 3-D array it will go through all the 2-D arrays."
      ],
      "metadata": {
        "id": "ARHGkxHU44a0"
      }
    },
    {
      "cell_type": "code",
      "source": [
        "# Iterate on the elements of the following 3-D array:\n",
        "\n",
        "import numpy as np\n",
        "\n",
        "arr = np.array([[[1, 2, 3], [4, 5, 6]], [[7, 8, 9], [10, 11, 12]]])\n",
        "\n",
        "for x in arr:\n",
        "  print(x)"
      ],
      "metadata": {
        "id": "6pArExv447tc"
      },
      "execution_count": null,
      "outputs": []
    },
    {
      "cell_type": "code",
      "source": [
        "# Iterate down to the scalars:\n",
        "\n",
        "import numpy as np\n",
        "\n",
        "arr = np.array([[[1, 2, 3], [4, 5, 6]], [[7, 8, 9], [10, 11, 12]]])\n",
        "\n",
        "for x in arr:\n",
        "  print('-----')\n",
        "  for y in x:\n",
        "    print('----')\n",
        "    for z in y:\n",
        "      print(z)"
      ],
      "metadata": {
        "id": "NX16uiUG5Cpq"
      },
      "execution_count": null,
      "outputs": []
    },
    {
      "cell_type": "markdown",
      "source": [
        "**Iterating Arrays Using nditer()**\n",
        "\n",
        "* The function nditer() is a helping function that can be used from very basic to very advanced iterations. It solves some basic issues which we face in iteration, lets go through it with examples.\n",
        "\n",
        "**Iterating on Each Scalar Element**\n",
        "\n",
        "* In basic for loops, iterating through each scalar of an array we need to use n for loops which can be difficult to write for arrays with very high dimensionality."
      ],
      "metadata": {
        "id": "KXzAqSCrdvhw"
      }
    },
    {
      "cell_type": "code",
      "source": [
        "# Iterate through the following 3-D array:\n",
        "\n",
        "import numpy as np\n",
        "\n",
        "arr = np.array([[[1, 2], [3, 4]], [[5, 6], [7, 8]]])\n",
        "\n",
        "for x in np.nditer(arr):\n",
        "  print(x)"
      ],
      "metadata": {
        "id": "AwJqXukpg0O7"
      },
      "execution_count": null,
      "outputs": []
    },
    {
      "cell_type": "markdown",
      "source": [
        "## **Joining NumPy Arrays**\n",
        "\n",
        "* Joining means putting contents of two or more arrays in a single array.\n",
        "\n",
        "* In SQL we join tables based on a key, whereas in NumPy we join arrays by axes.\n",
        "\n",
        "* We pass a sequence of arrays that we want to join to the **concatenate()** function, along with the axis. If axis is not explicitly passed, it is taken as 0.\n",
        "* Axes are defined for arrays with more than one dimension. A 2-dimensional array has two corresponding axes: the first running vertically downwards across rows (axis 0), and the second running horizontally across columns (axis 1). Many operation can take place along one of these axes.\n",
        "\n",
        "![ax.png](data:image/png;base64,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)"
      ],
      "metadata": {
        "id": "9tt2-AuZhVqk"
      }
    },
    {
      "cell_type": "code",
      "source": [
        "# Join two arrays\n",
        "\n",
        "import numpy as np\n",
        "\n",
        "arr1 = np.array([1, 2, 3])\n",
        "\n",
        "arr2 = np.array([4, 5, 6])\n",
        "\n",
        "arr = np.concatenate((arr1, arr2))\n",
        "\n",
        "print(arr)"
      ],
      "metadata": {
        "id": "4TdE7aIAhsxI"
      },
      "execution_count": null,
      "outputs": []
    },
    {
      "cell_type": "code",
      "source": [
        "# Join two 2-D arrays along rows (axis=1):\n",
        "\n",
        "import numpy as np\n",
        "\n",
        "arr1 = np.array([[1, 2], [3, 4]])\n",
        "\n",
        "arr2 = np.array([[5, 6], [7, 8]])\n",
        "\n",
        "arr = np.concatenate((arr1, arr2), axis=1)\n",
        "\n",
        "print(arr)"
      ],
      "metadata": {
        "id": "k6ePzr0Biubb"
      },
      "execution_count": null,
      "outputs": []
    },
    {
      "cell_type": "code",
      "source": [
        "# Join two 2-D arrays along rows (axis=0):\n",
        "\n",
        "import numpy as np\n",
        "\n",
        "arr1 = np.array([[1, 2], [3, 4]])\n",
        "\n",
        "arr2 = np.array([[5, 6], [7, 8]])\n",
        "\n",
        "arr = np.concatenate((arr1, arr2), axis=0)\n",
        "\n",
        "print(arr)"
      ],
      "metadata": {
        "id": "6nGwHnkNi06v"
      },
      "execution_count": null,
      "outputs": []
    },
    {
      "cell_type": "markdown",
      "source": [
        "**Joining Arrays Using Stack Functions**\n",
        "\n",
        "* Stacking is same as concatenation, the only difference is that stacking is done along a new axis.\n",
        "\n",
        "* We can concatenate two 1-D arrays along the second axis which would result in putting them one over the other, ie. stacking.\n",
        "\n",
        "* We pass a sequence of arrays that we want to join to the stack() method along with the axis. If axis is not explicitly passed it is taken as 0.\n",
        "\n",
        "**Stacking Along Rows**\n",
        "\n",
        "NumPy provides a helper function: **hstack()** to stack along rows.\n",
        "\n",
        "**Stacking Along Columns**\n",
        "\n",
        "NumPy provides a helper function: **vstack()**  to stack along columns.\n",
        "\n",
        "**Stacking Along Height (depth)**\n",
        "\n",
        "NumPy provides a helper function: **dstack()** to stack along height, which is the same as depth."
      ],
      "metadata": {
        "id": "7M6Ax1y1kOIV"
      }
    },
    {
      "cell_type": "code",
      "source": [
        "import numpy as np\n",
        "\n",
        "arr1 = np.array([1, 2, 3])\n",
        "\n",
        "arr2 = np.array([4, 5, 6])\n",
        "\n",
        "arr = np.stack((arr1, arr2), axis=1)\n",
        "\n",
        "print(arr)"
      ],
      "metadata": {
        "id": "tdDI4_YVkZsE"
      },
      "execution_count": null,
      "outputs": []
    },
    {
      "cell_type": "code",
      "source": [
        "import numpy as np\n",
        "\n",
        "arr1 = np.array([1, 2, 3])\n",
        "\n",
        "arr2 = np.array([4, 5, 6])\n",
        "\n",
        "arr = np.stack((arr1, arr2), axis=0) # Same as np.vstack()\n",
        "\n",
        "print(arr)"
      ],
      "metadata": {
        "id": "t0OMPkqIkvNB"
      },
      "execution_count": null,
      "outputs": []
    },
    {
      "cell_type": "code",
      "source": [
        "import numpy as np\n",
        "\n",
        "arr1 = np.array([1, 2, 3])\n",
        "\n",
        "arr2 = np.array([4, 5, 6])\n",
        "\n",
        "arr = np.hstack((arr1, arr2))\n",
        "\n",
        "print(arr)"
      ],
      "metadata": {
        "id": "T7y2v3U7lEP2"
      },
      "execution_count": null,
      "outputs": []
    },
    {
      "cell_type": "code",
      "source": [
        "import numpy as np\n",
        "\n",
        "arr1 = np.array([1, 2, 3])\n",
        "\n",
        "arr2 = np.array([4, 5, 6])\n",
        "\n",
        "arr = np.vstack((arr1, arr2))\n",
        "\n",
        "print(arr)"
      ],
      "metadata": {
        "id": "ODlkIhtMlJra"
      },
      "execution_count": null,
      "outputs": []
    },
    {
      "cell_type": "code",
      "source": [
        "import numpy as np\n",
        "\n",
        "arr1 = np.array([1, 2, 3])\n",
        "\n",
        "arr2 = np.array([4, 5, 6])\n",
        "\n",
        "arr = np.dstack((arr1, arr2))\n",
        "\n",
        "print(arr)\n",
        "print(type(arr))"
      ],
      "metadata": {
        "id": "-L7xH9vFlawe"
      },
      "execution_count": null,
      "outputs": []
    },
    {
      "cell_type": "markdown",
      "source": [
        "## **NumPy Splitting Array**\n",
        "\n",
        "* Splitting is reverse operation of Joining.\n",
        "\n",
        "* Joining merges multiple arrays into one and Splitting breaks one array into multiple.\n",
        "\n",
        "* We use **array_split()** for splitting arrays, we pass it the array we want to split and the number of splits."
      ],
      "metadata": {
        "id": "21idHvIRloT8"
      }
    },
    {
      "cell_type": "code",
      "source": [
        "# Split the array in 3 parts:\n",
        "\n",
        "import numpy as np\n",
        "\n",
        "arr = np.array([1, 2, 3, 4, 5, 6])\n",
        "\n",
        "newarr = np.array_split(arr, 3)\n",
        "\n",
        "print(newarr)\n",
        "\n",
        "print(\"access the elements\")\n",
        "print(newarr[0]) # access the elements\n",
        "\n",
        "# Note: The return value is a list containing three arrays.\n"
      ],
      "metadata": {
        "id": "_NgEsjIql2kB"
      },
      "execution_count": null,
      "outputs": []
    },
    {
      "cell_type": "code",
      "source": [
        "# If the array has less elements than required, it will adjust from the end accordingly.\n",
        "# Split the array in 4 parts:\n",
        "\n",
        "import numpy as np\n",
        "\n",
        "arr = np.array([1, 2, 3, 4, 5, 6])\n",
        "\n",
        "newarr = np.array_split(arr, 4)\n",
        "\n",
        "print(newarr)"
      ],
      "metadata": {
        "id": "gW5jEJe5mKgC"
      },
      "execution_count": null,
      "outputs": []
    },
    {
      "cell_type": "markdown",
      "source": [
        "**Splitting 2-D Arrays**\n",
        "\n",
        "* Use the same syntax when splitting 2-D arrays.\n",
        "\n",
        "* Use the array_split() method, pass in the array you want to split and the number of splits you want to do."
      ],
      "metadata": {
        "id": "XrJL_IHSmwTp"
      }
    },
    {
      "cell_type": "code",
      "source": [
        "# Split the 2-D array into three 2-D arrays.\n",
        "\n",
        "import numpy as np\n",
        "\n",
        "arr = np.array([[1, 2], [3, 4], [5, 6], [7, 8], [9, 10], [11, 12]])\n",
        "\n",
        "newarr = np.array_split(arr, 3)\n",
        "\n",
        "print(newarr)"
      ],
      "metadata": {
        "id": "e0d9hc63m2uz"
      },
      "execution_count": null,
      "outputs": []
    },
    {
      "cell_type": "code",
      "source": [
        "# Split the 2-D array into three 2-D arrays along rows.\n",
        "\n",
        "import numpy as np\n",
        "\n",
        "arr = np.array([[1, 2, 3], [4, 5, 6], [7, 8, 9], [10, 11, 12], [13, 14, 15], [16, 17, 18]])\n",
        "\n",
        "newarr = np.array_split(arr, 3, axis=1)\n",
        "\n",
        "print(newarr)"
      ],
      "metadata": {
        "id": "RexQv6ULnRrT"
      },
      "execution_count": null,
      "outputs": []
    },
    {
      "cell_type": "code",
      "source": [
        "# An alternate solution is using hsplit() opposite of hstack()\n",
        "\n",
        "import numpy as np\n",
        "\n",
        "arr = np.array([[1, 2, 3], [4, 5, 6], [7, 8, 9], [10, 11, 12], [13, 14, 15], [16, 17, 18]])\n",
        "\n",
        "newarr = np.hsplit(arr, 3)\n",
        "\n",
        "print(newarr)\n",
        "\n",
        "# Similar alternates to vstack() and dstack() are available as vsplit() and dsplit(). dsplit() used only on 3D or more."
      ],
      "metadata": {
        "id": "O-ZsVRxRnepR"
      },
      "execution_count": null,
      "outputs": []
    },
    {
      "cell_type": "markdown",
      "source": [
        "## **NumPy Searching Arrays**\n",
        "\n",
        "**Searching Arrays**\n",
        "\n",
        "* You can search an array for a certain value, and return the indexes that get a match.\n",
        "\n",
        "* To search an array, use the **where()** method."
      ],
      "metadata": {
        "id": "TlR2Poxon_6w"
      }
    },
    {
      "cell_type": "code",
      "source": [
        "# Find the indexes where the value is 4:\n",
        "\n",
        "import numpy as np\n",
        "\n",
        "arr = np.array([1, 2, 3, 4, 5, 4, 4])\n",
        "\n",
        "x = np.where(arr == 4)\n",
        "\n",
        "print(x)\n",
        "\n"
      ],
      "metadata": {
        "id": "G2nwgc30oK2y"
      },
      "execution_count": null,
      "outputs": []
    },
    {
      "cell_type": "markdown",
      "source": [
        "The example above will return a tuple: (array([3, 5, 6],)\n",
        "\n",
        "Which means that the value 4 is present at index 3, 5, and 6."
      ],
      "metadata": {
        "id": "tp-qSyZntW7H"
      }
    },
    {
      "cell_type": "code",
      "source": [
        "# Find the indexes where the values are even:\n",
        "\n",
        "import numpy as np\n",
        "\n",
        "arr = np.array([1, 2, 3, 4, 5, 6, 7, 8])\n",
        "\n",
        "x = np.where(arr%2 == 0)\n",
        "\n",
        "print(x)"
      ],
      "metadata": {
        "id": "XbOnmjX7tay0"
      },
      "execution_count": null,
      "outputs": []
    },
    {
      "cell_type": "markdown",
      "source": [
        "**Search Sorted**\n",
        "\n",
        "* There is a method called searchsorted() which performs a binary search in the array, and returns the index where the specified value would be inserted to maintain the search order.\n",
        "\n",
        "* The searchsorted() method is assumed to be used on sorted arrays.\n"
      ],
      "metadata": {
        "id": "VwPgfkgHtsYX"
      }
    },
    {
      "cell_type": "code",
      "source": [
        "# Find the indexes where the value 7 should be inserted:\n",
        "\n",
        "import numpy as np\n",
        "\n",
        "arr = np.array([6, 7, 8, 10])\n",
        "\n",
        "x = np.searchsorted(arr, 9)\n",
        "\n",
        "print(x)"
      ],
      "metadata": {
        "id": "Ts23jgREtxq7"
      },
      "execution_count": null,
      "outputs": []
    },
    {
      "cell_type": "code",
      "source": [
        "# Find the indexes where the values 2, 4, and 6 should be inserted:\n",
        "\n",
        "import numpy as np\n",
        "\n",
        "arr = np.array([1, 3, 5, 7])\n",
        "\n",
        "x = np.searchsorted(arr, [2, 4, 6])\n",
        "\n",
        "print(x)"
      ],
      "metadata": {
        "id": "BIma2fwQuVIc"
      },
      "execution_count": null,
      "outputs": []
    },
    {
      "cell_type": "markdown",
      "source": [
        "## **NumPy Sorting Arrays**\n",
        "\n",
        "* Sorting means putting elements in an ordered sequence.\n",
        "\n",
        "* Ordered sequence is any sequence that has an order corresponding to elements, like numeric or alphabetical, ascending or descending.\n",
        "\n",
        "* The NumPy ndarray object has a function called sort(), that will sort a specified array."
      ],
      "metadata": {
        "id": "M2l--aCRyl0K"
      }
    },
    {
      "cell_type": "code",
      "source": [
        "# Sort the array:\n",
        "\n",
        "import numpy as np\n",
        "\n",
        "arr = np.array([3, 2, 0, 1])\n",
        "\n",
        "print(np.sort(arr))\n",
        "\n",
        "# This method returns a copy of the array, leaving the original array unchanged."
      ],
      "metadata": {
        "id": "tVcHEr9syyXB"
      },
      "execution_count": null,
      "outputs": []
    },
    {
      "cell_type": "code",
      "source": [
        "# Sort the array alphabetically:\n",
        "\n",
        "import numpy as np\n",
        "\n",
        "arr = np.array(['banana', 'cherry', 'apple'])\n",
        "\n",
        "print(np.sort(arr))"
      ],
      "metadata": {
        "id": "EIFNiaQJy_YQ"
      },
      "execution_count": null,
      "outputs": []
    },
    {
      "cell_type": "code",
      "source": [
        "# Sort a 2-D array:\n",
        "\n",
        "import numpy as np\n",
        "\n",
        "arr = np.array([[3, 2, 4], [5, 0, 1]])\n",
        "\n",
        "print(np.sort(arr))"
      ],
      "metadata": {
        "id": "VC-VbFhDzFcp"
      },
      "execution_count": null,
      "outputs": []
    },
    {
      "cell_type": "markdown",
      "source": [
        "## **Numpy Basic Excercise**"
      ],
      "metadata": {
        "id": "CR36AoYxzjTS"
      }
    },
    {
      "cell_type": "markdown",
      "source": [
        "# **NumPy ufuncs**\n",
        "\n",
        "**ufuncs** stands for \"**Universal Functions**\" and they are NumPy functions that operate on the ndarray object.\n",
        "\n"
      ],
      "metadata": {
        "id": "osxnxFBdzr_K"
      }
    },
    {
      "cell_type": "markdown",
      "source": [
        "**Why use ufuncs?**\n",
        "\n",
        "* ufuncs are used to implement vectorization in NumPy which is way faster than iterating over elements.\n",
        "\n",
        "* They also provide broadcasting and additional methods like reduce, accumulate etc. that are very helpful for computation.\n",
        "\n",
        "* ufuncs also take additional arguments, like:\n",
        "\n",
        "> * **where**: boolean array or condition defining where the operations should take place.\n",
        "\n",
        "> * **dtype**: defining the return type of elements.\n",
        "\n",
        "> * **out**: output array where the return value should be copied."
      ],
      "metadata": {
        "id": "bQZeQ2Ur0UhK"
      }
    },
    {
      "cell_type": "markdown",
      "source": [
        "**What is Vectorization?**\n",
        "\n",
        "* Converting iterative statements into a vector based operation is called vectorization.\n",
        "\n",
        "* It is faster as modern CPUs are optimized for such operations.\n",
        "\n",
        "Add the Elements of Two Lists\n",
        "\n",
        "list 1: [1, 2, 3, 4]\n",
        "\n",
        "list 2: [4, 5, 6, 7]\n",
        "\n",
        "> * One way of doing it is to iterate over both of the lists and then sum each elements.\n",
        "\n",
        "> * NumPy has a ufunc for this, called add(x, y) that will produce the same result."
      ],
      "metadata": {
        "id": "rf9bTLz91Qza"
      }
    },
    {
      "cell_type": "code",
      "source": [
        "# Without ufunc, we can use Python's built-in zip() method:\n",
        "\n",
        "x = [1, 2, 3, 4]\n",
        "y = [4, 5, 6, 7]\n",
        "z = []\n",
        "\n",
        "for i, j in zip(x, y):\n",
        "  z.append(i + j)\n",
        "print(z)"
      ],
      "metadata": {
        "colab": {
          "base_uri": "https://localhost:8080/"
        },
        "id": "J7BTvttX2FQY",
        "outputId": "d332847b-cfd8-4909-93f0-ac5813599c1e"
      },
      "execution_count": null,
      "outputs": [
        {
          "output_type": "stream",
          "name": "stdout",
          "text": [
            "[5, 7, 9, 11]\n"
          ]
        }
      ]
    },
    {
      "cell_type": "code",
      "source": [
        "# With ufunc, we can use the add() function:\n",
        "\n",
        "import numpy as np\n",
        "\n",
        "x = [1, 2, 3, 4]\n",
        "y = [4, 5, 6, 7]\n",
        "z = np.add(x, y)\n",
        "\n",
        "print(z)"
      ],
      "metadata": {
        "colab": {
          "base_uri": "https://localhost:8080/"
        },
        "id": "GJaN-UHE2OEw",
        "outputId": "348094d0-ef77-42d3-b440-ca11c07c477b"
      },
      "execution_count": null,
      "outputs": [
        {
          "output_type": "stream",
          "name": "stdout",
          "text": [
            "[ 5  7  9 11]\n"
          ]
        }
      ]
    },
    {
      "cell_type": "markdown",
      "source": [
        "## **Simple Arithmetic**\n",
        "\n",
        "* You could use arithmetic operators + - * / directly between NumPy arrays, but this section discusses an extension of the same where we have functions that can take any array-like objects e.g. lists, tuples etc. and perform arithmetic conditionally.\n",
        "\n",
        "* Arithmetic Conditionally: means that we can define conditions where the arithmetic operation should happen.\n",
        "\n",
        "* All of the discussed arithmetic functions take a where parameter in which we can specify that condition."
      ],
      "metadata": {
        "id": "gmIWDzeFEBBR"
      }
    },
    {
      "cell_type": "code",
      "source": [
        "# Add the values in arr1 to the values in arr2:\n",
        "\n",
        "import numpy as np\n",
        "\n",
        "arr1 = np.array([10, 11, 12, 13, 14, 15])\n",
        "arr2 = np.array([20, 21, 22, 23, 24, 25])\n",
        "\n",
        "newarr = np.add(arr1, arr2)\n",
        "\n",
        "print(newarr)\n",
        "\n",
        "# The example above will return [30 32 34 36 38 40] which is the sums of 10+20, 11+21, 12+22 etc."
      ],
      "metadata": {
        "colab": {
          "base_uri": "https://localhost:8080/"
        },
        "id": "LYmw0WJOgPFO",
        "outputId": "76174f93-d69b-484e-8751-ef883230f85f"
      },
      "execution_count": null,
      "outputs": [
        {
          "output_type": "stream",
          "name": "stdout",
          "text": [
            "[30 32 34 36 38 40]\n"
          ]
        }
      ]
    },
    {
      "cell_type": "code",
      "source": [
        "# Subtract the values in arr2 from the values in arr1:\n",
        "\n",
        "import numpy as np\n",
        "\n",
        "arr1 = np.array([10, 20, 30, 40, 50, 60])\n",
        "arr2 = np.array([20, 21, 22, 23, 24, 25])\n",
        "\n",
        "newarr = np.subtract(arr1, arr2)\n",
        "\n",
        "print(newarr)\n",
        "\n",
        "# The example above will return [-10 -1 8 17 26 35] which is the result of 10-20, 20-21, 30-22 etc."
      ],
      "metadata": {
        "colab": {
          "base_uri": "https://localhost:8080/"
        },
        "id": "bfCyxWjtgZyo",
        "outputId": "7fe05d38-f83f-4846-e4c9-20832a3ec21d"
      },
      "execution_count": null,
      "outputs": [
        {
          "output_type": "stream",
          "name": "stdout",
          "text": [
            "[-10  -1   8  17  26  35]\n"
          ]
        }
      ]
    },
    {
      "cell_type": "code",
      "source": [
        "# Multiply the values in arr1 with the values in arr2:\n",
        "\n",
        "import numpy as np\n",
        "\n",
        "arr1 = np.array([10, 20, 30, 40, 50, 60])\n",
        "arr2 = np.array([20, 21, 22, 23, 24, 25])\n",
        "\n",
        "newarr = np.multiply(arr1, arr2)\n",
        "\n",
        "print(newarr)\n",
        "\n",
        "# The example above will return [200 420 660 920 1200 1500] which is the result of 10*20, 20*21, 30*22 etc."
      ],
      "metadata": {
        "colab": {
          "base_uri": "https://localhost:8080/"
        },
        "id": "lsPdepPvgoFh",
        "outputId": "1297511b-930b-4540-e9c6-b02b5cbf3d0b"
      },
      "execution_count": null,
      "outputs": [
        {
          "output_type": "stream",
          "name": "stdout",
          "text": [
            "[ 200  420  660  920 1200 1500]\n"
          ]
        }
      ]
    },
    {
      "cell_type": "code",
      "source": [
        "# Divide the values in arr1 with the values in arr2:\n",
        "\n",
        "import numpy as np\n",
        "\n",
        "arr1 = np.array([10, 20, 30, 40, 50, 60])\n",
        "arr2 = np.array([3, 5, 10, 8, 2, 33])\n",
        "\n",
        "newarr = np.divide(arr1, arr2)\n",
        "\n",
        "print(newarr)\n",
        "\n",
        "# The example above will return [3.33333333 4. 3. 5. 25. 1.81818182] which is the result of 10/3, 20/5, 30/10 etc.\n"
      ],
      "metadata": {
        "colab": {
          "base_uri": "https://localhost:8080/"
        },
        "id": "nGWv4e3zgywB",
        "outputId": "d2a964a3-e78a-46a6-b08b-998aeec201e0"
      },
      "execution_count": null,
      "outputs": [
        {
          "output_type": "stream",
          "name": "stdout",
          "text": [
            "[ 3.33333333  4.          3.          5.         25.          1.81818182]\n"
          ]
        }
      ]
    },
    {
      "cell_type": "code",
      "source": [
        "# Raise the valules in arr1 to the power of values in arr2:\n",
        "\n",
        "import numpy as np\n",
        "\n",
        "arr1 = np.array([10, 20, 30, 40, 50, 60])\n",
        "arr2 = np.array([3, 5, 6, 8, 2, 33])\n",
        "\n",
        "newarr = np.power(arr1, arr2)\n",
        "\n",
        "print(newarr)\n",
        "\n",
        "# The example above will return [1000 3200000 729000000 6553600000000 2500 0] which is the result of 10*10*10, 20*20*20*20*20, 30*30*30*30*30*30 etc."
      ],
      "metadata": {
        "colab": {
          "base_uri": "https://localhost:8080/"
        },
        "id": "fWbiexRSg97w",
        "outputId": "f6d2ff31-6734-4ffe-e16d-ddc9b6eca757"
      },
      "execution_count": null,
      "outputs": [
        {
          "output_type": "stream",
          "name": "stdout",
          "text": [
            "[         1000       3200000     729000000 6553600000000          2500\n",
            "             0]\n"
          ]
        }
      ]
    },
    {
      "cell_type": "code",
      "source": [
        "# Return the remainders:\n",
        "\n",
        "import numpy as np\n",
        "\n",
        "arr1 = np.array([10, 20, 30, 40, 50, 60])\n",
        "arr2 = np.array([3, 7, 9, 8, 2, 33])\n",
        "\n",
        "newarr = np.mod(arr1, arr2)\n",
        "\n",
        "print(newarr)"
      ],
      "metadata": {
        "colab": {
          "base_uri": "https://localhost:8080/"
        },
        "id": "gfbegleahLCd",
        "outputId": "1c7c1cf2-d2d3-45d1-d136-8af5f9c5aaaa"
      },
      "execution_count": null,
      "outputs": [
        {
          "output_type": "stream",
          "name": "stdout",
          "text": [
            "[ 1  6  3  0  0 27]\n"
          ]
        }
      ]
    },
    {
      "cell_type": "code",
      "source": [
        "# # Return the remainders:\n",
        "import numpy as np\n",
        "\n",
        "arr1 = np.array([10, 20, 30, 40, 50, 60])\n",
        "arr2 = np.array([3, 7, 9, 8, 2, 33])\n",
        "\n",
        "newarr = np.remainder(arr1, arr2)\n",
        "\n",
        "print(newarr)"
      ],
      "metadata": {
        "colab": {
          "base_uri": "https://localhost:8080/"
        },
        "id": "zHUe3pBHhcNv",
        "outputId": "055bcc0a-d99a-4045-f676-1215a896ac91"
      },
      "execution_count": null,
      "outputs": [
        {
          "output_type": "stream",
          "name": "stdout",
          "text": [
            "[ 1  6  3  0  0 27]\n"
          ]
        }
      ]
    },
    {
      "cell_type": "code",
      "source": [
        "# Return the quotient and mod:\n",
        "\n",
        "import numpy as np\n",
        "\n",
        "arr1 = np.array([10, 20, 30, 40, 50, 60])\n",
        "arr2 = np.array([3, 7, 9, 8, 2, 33])\n",
        "\n",
        "newarr = np.divmod(arr1, arr2)\n",
        "\n",
        "print(newarr)"
      ],
      "metadata": {
        "colab": {
          "base_uri": "https://localhost:8080/"
        },
        "id": "ztb5KDe1hm1X",
        "outputId": "729e6474-809d-49de-c2c0-8c340be207e1"
      },
      "execution_count": null,
      "outputs": [
        {
          "output_type": "stream",
          "name": "stdout",
          "text": [
            "(array([ 3,  2,  3,  5, 25,  1]), array([ 1,  6,  3,  0,  0, 27]))\n"
          ]
        }
      ]
    },
    {
      "cell_type": "code",
      "source": [
        "# Return absolute value\n",
        "\n",
        "import numpy as np\n",
        "\n",
        "arr = np.array([-1, -2, 1, 2, 3, -4])\n",
        "\n",
        "newarr = np.absolute(arr)\n",
        "\n",
        "print(newarr)"
      ],
      "metadata": {
        "colab": {
          "base_uri": "https://localhost:8080/"
        },
        "id": "PI30GOZ5hyLu",
        "outputId": "a0a976f1-a7b7-45cf-8d17-608299684a66"
      },
      "execution_count": null,
      "outputs": [
        {
          "output_type": "stream",
          "name": "stdout",
          "text": [
            "[1 2 1 2 3 4]\n"
          ]
        }
      ]
    },
    {
      "cell_type": "markdown",
      "source": [
        "## **Rounding Decimals**\n",
        "\n",
        "There are primarily five ways of rounding off decimals in NumPy:\n",
        "\n",
        "    truncation\n",
        "    fix\n",
        "    rounding\n",
        "    floor\n",
        "    ceil\n"
      ],
      "metadata": {
        "id": "tzyy2YzqiK1w"
      }
    },
    {
      "cell_type": "code",
      "source": [
        "# Truncation\n",
        "\n",
        "# Remove the decimals, and return the float number closest to zero. Use the trunc() and fix() functions.\n",
        "\n",
        "import numpy as np\n",
        "\n",
        "arr = np.trunc([-3.1666, 3.6667])\n",
        "\n",
        "print(arr)\n",
        "\n",
        "arr = np.fix([-3.1666, 3.6667])\n",
        "\n",
        "print(arr)"
      ],
      "metadata": {
        "colab": {
          "base_uri": "https://localhost:8080/"
        },
        "id": "Cri_4zF3iOiu",
        "outputId": "931f252b-c944-4130-f86c-bca0ca836355"
      },
      "execution_count": null,
      "outputs": [
        {
          "output_type": "stream",
          "name": "stdout",
          "text": [
            "[-3.  3.]\n",
            "[-3.  3.]\n"
          ]
        }
      ]
    },
    {
      "cell_type": "code",
      "source": [
        "# Rounding\n",
        "\n",
        "# The around() function increments preceding digit or decimal by 1 if >=5 else do nothing.\n",
        "\n",
        "# E.g. round off to 1 decimal point, 3.16666 is 3.2\n",
        "\n",
        "# Round off 3.1666 to 2 decimal places:\n",
        "\n",
        "import numpy as np\n",
        "\n",
        "arr = np.around(3.1666, 2)\n",
        "\n",
        "print(arr)"
      ],
      "metadata": {
        "colab": {
          "base_uri": "https://localhost:8080/"
        },
        "id": "Gr7gvArUidjO",
        "outputId": "fcc5f664-698e-48d6-eaf5-469b87d774c2"
      },
      "execution_count": null,
      "outputs": [
        {
          "output_type": "stream",
          "name": "stdout",
          "text": [
            "3.17\n"
          ]
        }
      ]
    },
    {
      "cell_type": "code",
      "source": [
        "# Floor\n",
        "\n",
        "# The floor() function rounds off decimal to nearest lower integer.\n",
        "\n",
        "# E.g. floor of 3.166 is 3.\n",
        "\n",
        "import numpy as np\n",
        "\n",
        "arr = np.floor([3.1666, 3.6667, -3.1666])\n",
        "\n",
        "print(arr)"
      ],
      "metadata": {
        "colab": {
          "base_uri": "https://localhost:8080/"
        },
        "id": "JExGuSluiz05",
        "outputId": "7ec295a4-b4e6-40a3-91c9-c76e38f9f283"
      },
      "execution_count": null,
      "outputs": [
        {
          "output_type": "stream",
          "name": "stdout",
          "text": [
            "[ 3.  3. -4.]\n"
          ]
        }
      ]
    },
    {
      "cell_type": "code",
      "source": [
        "# Ceil\n",
        "\n",
        "# The ceil() function rounds off decimal to nearest upper integer.\n",
        "\n",
        "# E.g. ceil of 3.166 is 4.\n",
        "\n",
        "import numpy as np\n",
        "\n",
        "arr = np.ceil([3.1666, 3.6667, -3.1666])\n",
        "\n",
        "print(arr)"
      ],
      "metadata": {
        "colab": {
          "base_uri": "https://localhost:8080/"
        },
        "id": "nijtABa3i8qs",
        "outputId": "db5b4cbc-2078-40a8-d2c2-eb4cca3c29af"
      },
      "execution_count": null,
      "outputs": [
        {
          "output_type": "stream",
          "name": "stdout",
          "text": [
            "[ 4.  4. -3.]\n"
          ]
        }
      ]
    },
    {
      "cell_type": "markdown",
      "source": [
        "## **NumPy Logs**\n",
        "\n",
        "* NumPy provides functions to perform log at the base 2, e and 10.\n",
        "\n",
        "* We will also explore how we can take log for any base by creating a custom ufunc.\n",
        "\n",
        "* All of the log functions will place -inf or inf in the elements if the log can not be computed."
      ],
      "metadata": {
        "id": "Swnwcu3jkB-N"
      }
    },
    {
      "cell_type": "code",
      "source": [
        "# Find log at base 2 of all elements of following array:\n",
        "\n",
        "import numpy as np\n",
        "\n",
        "arr = np.arange(1, 10)\n",
        "\n",
        "print(np.log2(arr))"
      ],
      "metadata": {
        "colab": {
          "base_uri": "https://localhost:8080/"
        },
        "id": "2xmmNXZckMLs",
        "outputId": "b6a4001c-73f2-4576-ee1e-2eb5b7c33262"
      },
      "execution_count": null,
      "outputs": [
        {
          "output_type": "stream",
          "name": "stdout",
          "text": [
            "[0.         1.         1.5849625  2.         2.32192809 2.5849625\n",
            " 2.80735492 3.         3.169925  ]\n"
          ]
        }
      ]
    },
    {
      "cell_type": "code",
      "source": [
        "# Find log at base 10 of all elements of following array:\n",
        "\n",
        "import numpy as np\n",
        "\n",
        "arr = np.arange(1, 10)\n",
        "\n",
        "print(np.log10(arr))"
      ],
      "metadata": {
        "colab": {
          "base_uri": "https://localhost:8080/"
        },
        "id": "UG79sDr2kS1Y",
        "outputId": "8bbfae30-4a7c-42ab-bca6-625cbb09ad38"
      },
      "execution_count": null,
      "outputs": [
        {
          "output_type": "stream",
          "name": "stdout",
          "text": [
            "[0.         0.30103    0.47712125 0.60205999 0.69897    0.77815125\n",
            " 0.84509804 0.90308999 0.95424251]\n"
          ]
        }
      ]
    },
    {
      "cell_type": "code",
      "source": [
        "# Find log at base e of all elements of following array:\n",
        "\n",
        "import numpy as np\n",
        "\n",
        "arr = np.arange(1, 10)\n",
        "\n",
        "print(np.log(arr))"
      ],
      "metadata": {
        "colab": {
          "base_uri": "https://localhost:8080/"
        },
        "id": "Zah7SEMJkY6B",
        "outputId": "84e2f3f4-4138-4268-a867-9aba453c08f3"
      },
      "execution_count": null,
      "outputs": [
        {
          "output_type": "stream",
          "name": "stdout",
          "text": [
            "[0.         0.69314718 1.09861229 1.38629436 1.60943791 1.79175947\n",
            " 1.94591015 2.07944154 2.19722458]\n"
          ]
        }
      ]
    },
    {
      "cell_type": "markdown",
      "source": [
        "## **NumPy Summations**\n",
        "\n",
        "**Summations**\n",
        "\n",
        "What is the difference between summation and addition?\n",
        "\n",
        "Addition is done between two arguments whereas summation happens over n elements."
      ],
      "metadata": {
        "id": "hbYS82Prkgff"
      }
    },
    {
      "cell_type": "code",
      "source": [
        "# Sum the values in arr1 and the values in arr2:\n",
        "\n",
        "import numpy as np\n",
        "\n",
        "arr1 = np.array([1, 2, 3])\n",
        "arr2 = np.array([1, 2, 3])\n",
        "\n",
        "newarr = np.sum([arr1, arr2])\n",
        "\n",
        "print(newarr)"
      ],
      "metadata": {
        "colab": {
          "base_uri": "https://localhost:8080/"
        },
        "id": "55guWnpekukQ",
        "outputId": "b4f4a323-5bfd-4cfa-9bf7-cf3d64e33020"
      },
      "execution_count": null,
      "outputs": [
        {
          "output_type": "stream",
          "name": "stdout",
          "text": [
            "12\n"
          ]
        }
      ]
    },
    {
      "cell_type": "code",
      "source": [
        "# Perform summation in the following array over 1st axis:\n",
        "\n",
        "import numpy as np\n",
        "\n",
        "arr1 = np.array([1, 2, 3])\n",
        "arr2 = np.array([1, 2, 3])\n",
        "\n",
        "newarr = np.sum([arr1, arr2], axis=1)\n",
        "\n",
        "print(newarr)"
      ],
      "metadata": {
        "colab": {
          "base_uri": "https://localhost:8080/"
        },
        "id": "TdTEWT9Sk0YU",
        "outputId": "43258874-5c6d-40cb-c2e3-8adf8da5b6c3"
      },
      "execution_count": null,
      "outputs": [
        {
          "output_type": "stream",
          "name": "stdout",
          "text": [
            "[6 6]\n"
          ]
        }
      ]
    },
    {
      "cell_type": "markdown",
      "source": [
        "**Cummulative Sum**\n",
        "\n",
        "* Cummulative sum means partially adding the elements in array.\n",
        "\n",
        "* E.g. The partial sum of [1, 2, 3, 4] would be [1, 1+2, 1+2+3, 1+2+3+4] = [1, 3, 6, 10].\n",
        "\n",
        "* Perfom partial sum with the **cumsum()** function."
      ],
      "metadata": {
        "id": "Z_P9c2SRlCUU"
      }
    },
    {
      "cell_type": "code",
      "source": [
        "import numpy as np\n",
        "\n",
        "arr = np.array([1, 2, 3])\n",
        "\n",
        "newarr = np.cumsum(arr)\n",
        "\n",
        "print(newarr)"
      ],
      "metadata": {
        "colab": {
          "base_uri": "https://localhost:8080/"
        },
        "id": "UlFsAFn6lKcW",
        "outputId": "d5adac00-8bef-4294-9f8b-da15e5c66eae"
      },
      "execution_count": null,
      "outputs": [
        {
          "output_type": "stream",
          "name": "stdout",
          "text": [
            "[1 3 6]\n"
          ]
        }
      ]
    },
    {
      "cell_type": "markdown",
      "source": [
        "## **NumPy Products**\n",
        "\n",
        "To find the product of the elements in an array, use the prod() function."
      ],
      "metadata": {
        "id": "o8wcEVorlO99"
      }
    },
    {
      "cell_type": "code",
      "source": [
        "# Find the product of the elements of this array:\n",
        "\n",
        "import numpy as np\n",
        "\n",
        "arr = np.array([1, 2, 3, 4])\n",
        "\n",
        "x = np.prod(arr)\n",
        "\n",
        "print(x)\n",
        "\n",
        "# Returns: 24 because 1*2*3*4 = 24"
      ],
      "metadata": {
        "colab": {
          "base_uri": "https://localhost:8080/"
        },
        "id": "3ceIh8j8lVmW",
        "outputId": "98c624f7-5dc0-4a63-cc59-b8ab4e8e3f0a"
      },
      "execution_count": null,
      "outputs": [
        {
          "output_type": "stream",
          "name": "stdout",
          "text": [
            "24\n"
          ]
        }
      ]
    },
    {
      "cell_type": "code",
      "source": [
        "# Find the product of the elements of two arrays:\n",
        "\n",
        "import numpy as np\n",
        "\n",
        "arr1 = np.array([1, 2, 3, 4])\n",
        "arr2 = np.array([5, 6, 7, 8])\n",
        "\n",
        "x = np.prod([arr1, arr2])\n",
        "\n",
        "print(x)\n",
        "\n",
        "# Returns: 40320 because 1*2*3*4*5*6*7*8 = 40320"
      ],
      "metadata": {
        "colab": {
          "base_uri": "https://localhost:8080/"
        },
        "id": "RehRTcmZle2z",
        "outputId": "8ef254bf-09df-4e4f-ef20-4b6b886e4544"
      },
      "execution_count": null,
      "outputs": [
        {
          "output_type": "stream",
          "name": "stdout",
          "text": [
            "40320\n"
          ]
        }
      ]
    },
    {
      "cell_type": "code",
      "source": [
        "# Perform summation in the following array over 1st axis:\n",
        "\n",
        "import numpy as np\n",
        "\n",
        "arr1 = np.array([1, 2, 3, 4])\n",
        "arr2 = np.array([5, 6, 7, 8])\n",
        "\n",
        "newarr = np.prod([arr1, arr2], axis=1)\n",
        "\n",
        "print(newarr)"
      ],
      "metadata": {
        "colab": {
          "base_uri": "https://localhost:8080/"
        },
        "id": "FG_7HLoGlovm",
        "outputId": "0a09d0f9-6667-4079-939c-842758a8b28e"
      },
      "execution_count": null,
      "outputs": [
        {
          "output_type": "stream",
          "name": "stdout",
          "text": [
            "[  24 1680]\n"
          ]
        }
      ]
    },
    {
      "cell_type": "markdown",
      "source": [
        "**Cummulative Product**\n",
        "\n",
        "* Cummulative product means taking the product partially.\n",
        "\n",
        "* E.g. The partial product of [1, 2, 3, 4] is [1, 1\\*2, 1\\*2\\*3, 1\\*2\\*3\\*4] = [1, 2, 6, 24]\n",
        "\n",
        "* Perfom partial sum with the cumprod() function."
      ],
      "metadata": {
        "id": "PnyqedAul1H7"
      }
    },
    {
      "cell_type": "code",
      "source": [
        "import numpy as np\n",
        "\n",
        "arr = np.array([5, 6, 7, 8])\n",
        "\n",
        "newarr = np.cumprod(arr)\n",
        "\n",
        "print(newarr)"
      ],
      "metadata": {
        "colab": {
          "base_uri": "https://localhost:8080/"
        },
        "id": "VVSzQ-yol8Dt",
        "outputId": "7965ca6c-a17e-4934-80fb-ccc3f7c1d9e4"
      },
      "execution_count": null,
      "outputs": [
        {
          "output_type": "stream",
          "name": "stdout",
          "text": [
            "[   5   30  210 1680]\n"
          ]
        }
      ]
    },
    {
      "cell_type": "markdown",
      "source": [
        "## **NumPy Differences**\n",
        "\n",
        "* A discrete difference means subtracting two successive elements.\n",
        "\n",
        "* E.g. for [1, 2, 3, 4], the discrete difference would be [2-1, 3-2, 4-3] = [1, 1, 1]\n",
        "\n",
        "* To find the discrete difference, use the diff() function."
      ],
      "metadata": {
        "id": "un_a0I1YmOvQ"
      }
    },
    {
      "cell_type": "code",
      "source": [
        "# Compute discrete difference of the following array:\n",
        "\n",
        "import numpy as np\n",
        "\n",
        "arr = np.array([10, 15, 25, 5])\n",
        "\n",
        "newarr = np.diff(arr)\n",
        "\n",
        "print(newarr)\n",
        "\n",
        "# Returns: [5 10 -20] because 15-10=5, 25-15=10, and 5-25=-20"
      ],
      "metadata": {
        "colab": {
          "base_uri": "https://localhost:8080/"
        },
        "id": "I5F9GOhKmZLo",
        "outputId": "47fe9eed-2852-414b-b215-46aa82d0577a"
      },
      "execution_count": null,
      "outputs": [
        {
          "output_type": "stream",
          "name": "stdout",
          "text": [
            "[  5  10 -20]\n"
          ]
        }
      ]
    },
    {
      "cell_type": "code",
      "source": [
        "# Compute discrete difference of the following array twice:\n",
        "\n",
        "import numpy as np\n",
        "\n",
        "arr = np.array([10, 15, 25, 5])\n",
        "\n",
        "newarr = np.diff(arr, n=2)\n",
        "\n",
        "print(newarr)\n",
        "\n",
        "# Returns: [5 -30] because: 15-10=5, 25-15=10, and 5-25=-20 AND 10-5=5 and -20-10=-30"
      ],
      "metadata": {
        "colab": {
          "base_uri": "https://localhost:8080/"
        },
        "id": "5yocUHskmsAP",
        "outputId": "1952627b-4a88-4753-86fb-a0a26a009613"
      },
      "execution_count": null,
      "outputs": [
        {
          "output_type": "stream",
          "name": "stdout",
          "text": [
            "[  5 -30]\n"
          ]
        }
      ]
    },
    {
      "cell_type": "markdown",
      "source": [
        "## **Misclenious functions**"
      ],
      "metadata": {
        "id": "h_NDgIMXnBxu"
      }
    },
    {
      "cell_type": "markdown",
      "source": [
        "**LCM, GCD**"
      ],
      "metadata": {
        "id": "SmG6VfIsoE26"
      }
    },
    {
      "cell_type": "code",
      "source": [
        "# Find the LCM of the following two numbers:\n",
        "\n",
        "import numpy as np\n",
        "\n",
        "num1 = 4\n",
        "num2 = 6\n",
        "\n",
        "x = np.lcm(num1, num2)\n",
        "\n",
        "print(x)\n",
        "\n",
        "# Returns: 12 because that is the lowest common multiple of both numbers (4*3=12 and 6*2=12)."
      ],
      "metadata": {
        "colab": {
          "base_uri": "https://localhost:8080/"
        },
        "id": "WrXb6ERYnRLd",
        "outputId": "818bed14-7f12-4eff-8379-d8944bbf2e1f"
      },
      "execution_count": null,
      "outputs": [
        {
          "output_type": "stream",
          "name": "stdout",
          "text": [
            "12\n"
          ]
        }
      ]
    },
    {
      "cell_type": "code",
      "source": [
        "# Find the LCM of the values of the following array:\n",
        "\n",
        "import numpy as np\n",
        "\n",
        "arr = np.array([3, 6, 9])\n",
        "\n",
        "x = np.lcm.reduce(arr)\n",
        "\n",
        "print(x)\n",
        "\n",
        "# Returns: 18 because that is the lowest common multiple of all three numbers (3*6=18, 6*3=18 and 9*2=18)."
      ],
      "metadata": {
        "colab": {
          "base_uri": "https://localhost:8080/"
        },
        "id": "ytGWf5Bsnga0",
        "outputId": "7a8b399b-e615-4223-94c5-df6aa90ea4d7"
      },
      "execution_count": null,
      "outputs": [
        {
          "output_type": "stream",
          "name": "stdout",
          "text": [
            "18\n"
          ]
        }
      ]
    },
    {
      "cell_type": "code",
      "source": [
        "# The GCD (Greatest Common Denominator), also known as HCF (Highest Common Factor) is the biggest number that is a common factor of both of the numbers.\n",
        "\n",
        "# Find the HCF of the following two numbers:\n",
        "\n",
        "import numpy as np\n",
        "\n",
        "num1 = 6\n",
        "num2 = 9\n",
        "\n",
        "x = np.gcd(num1, num2)\n",
        "\n",
        "print(x)\n",
        "\n",
        "# Returns: 3 because that is the highest number both numbers can be divided by (6/3=2 and 9/3=3)."
      ],
      "metadata": {
        "colab": {
          "base_uri": "https://localhost:8080/"
        },
        "id": "AdAGSXcDnsA5",
        "outputId": "1162a700-c17e-41cd-9652-6cc1c9e00fad"
      },
      "execution_count": null,
      "outputs": [
        {
          "output_type": "stream",
          "name": "stdout",
          "text": [
            "3\n"
          ]
        }
      ]
    },
    {
      "cell_type": "code",
      "source": [
        "# Find the GCD for all of the numbers in the following array:\n",
        "\n",
        "import numpy as np\n",
        "\n",
        "arr = np.array([20, 8, 32, 36, 16])\n",
        "\n",
        "x = np.gcd.reduce(arr)\n",
        "\n",
        "print(x)\n",
        "\n",
        "# Returns: 4 because that is the highest number all values can be divided by."
      ],
      "metadata": {
        "colab": {
          "base_uri": "https://localhost:8080/"
        },
        "id": "yf7jxR-4n22r",
        "outputId": "1ca77e2c-ec98-4bcc-dcb7-fdcce2e90b2c"
      },
      "execution_count": null,
      "outputs": [
        {
          "output_type": "stream",
          "name": "stdout",
          "text": [
            "4\n"
          ]
        }
      ]
    },
    {
      "cell_type": "markdown",
      "source": [
        "**Trigonometric Functions**\n",
        "\n",
        "NumPy provides the ufuncs sin(), cos() and tan() that take values in radians and produce the corresponding sin, cos and tan values."
      ],
      "metadata": {
        "id": "W0PC6vpBoH4W"
      }
    },
    {
      "cell_type": "code",
      "source": [
        "# Find sine value of PI/2:\n",
        "\n",
        "import numpy as np\n",
        "\n",
        "x = np.sin(np.pi/2)\n",
        "\n",
        "print(x)"
      ],
      "metadata": {
        "colab": {
          "base_uri": "https://localhost:8080/"
        },
        "id": "ECkMMY6UoNpS",
        "outputId": "671a7833-a3e2-49e7-b273-81ff8ff68203"
      },
      "execution_count": null,
      "outputs": [
        {
          "output_type": "stream",
          "name": "stdout",
          "text": [
            "1.0\n"
          ]
        }
      ]
    },
    {
      "cell_type": "code",
      "source": [
        "# Find sine values for all of the values in arr:\n",
        "\n",
        "import numpy as np\n",
        "\n",
        "arr = np.array([np.pi/2, np.pi/3, np.pi/4, np.pi/5])\n",
        "\n",
        "x = np.sin(arr)\n",
        "\n",
        "print(x)"
      ],
      "metadata": {
        "colab": {
          "base_uri": "https://localhost:8080/"
        },
        "id": "wNaBgzjIoUA0",
        "outputId": "d677a233-d88e-40b9-9ef8-c94174d300d6"
      },
      "execution_count": null,
      "outputs": [
        {
          "output_type": "stream",
          "name": "stdout",
          "text": [
            "[1.         0.8660254  0.70710678 0.58778525]\n"
          ]
        }
      ]
    },
    {
      "cell_type": "code",
      "source": [
        "# Convert all of the values in following array arr to radians:\n",
        "\n",
        "# Note: radians values are pi/180 * degree_values.\n",
        "\n",
        "import numpy as np\n",
        "\n",
        "arr = np.array([90, 180, 270, 360])\n",
        "\n",
        "x = np.deg2rad(arr)\n",
        "\n",
        "print(x)"
      ],
      "metadata": {
        "colab": {
          "base_uri": "https://localhost:8080/"
        },
        "id": "7XMHF3F7odix",
        "outputId": "ad778ed8-1f17-498e-c2a5-1881cb496352"
      },
      "execution_count": null,
      "outputs": [
        {
          "output_type": "stream",
          "name": "stdout",
          "text": [
            "[1.57079633 3.14159265 4.71238898 6.28318531]\n"
          ]
        }
      ]
    },
    {
      "cell_type": "markdown",
      "source": [
        "**Set Operations**\n",
        "\n",
        "* A set in mathematics is a collection of unique elements.\n",
        "\n",
        "* Sets are used for operations involving frequent intersection, union and difference operations."
      ],
      "metadata": {
        "id": "Km9KJU0dotxB"
      }
    },
    {
      "cell_type": "code",
      "source": [
        "# Convert following array with repeated elements to a set:\n",
        "\n",
        "import numpy as np\n",
        "\n",
        "arr = np.array([1, 1, 1, 2, 3, 4, 5, 5, 6, 7])\n",
        "\n",
        "x = np.unique(arr)\n",
        "\n",
        "print(x)"
      ],
      "metadata": {
        "colab": {
          "base_uri": "https://localhost:8080/"
        },
        "id": "VwUU1xAIo6DD",
        "outputId": "57dac741-70de-4663-cb1a-04c643a21ada"
      },
      "execution_count": null,
      "outputs": [
        {
          "output_type": "stream",
          "name": "stdout",
          "text": [
            "[1 2 3 4 5 6 7]\n"
          ]
        }
      ]
    },
    {
      "cell_type": "code",
      "source": [
        "# Find union of the following two set arrays:\n",
        "\n",
        "import numpy as np\n",
        "\n",
        "arr1 = np.array([1, 2, 3, 4])\n",
        "arr2 = np.array([3, 4, 5, 6])\n",
        "\n",
        "newarr = np.union1d(arr1, arr2)\n",
        "\n",
        "print(newarr)"
      ],
      "metadata": {
        "colab": {
          "base_uri": "https://localhost:8080/"
        },
        "id": "DJIXTR_No_R-",
        "outputId": "bab37aef-d43a-4aad-9daf-583d7df5d781"
      },
      "execution_count": null,
      "outputs": [
        {
          "output_type": "stream",
          "name": "stdout",
          "text": [
            "[1 2 3 4 5 6]\n"
          ]
        }
      ]
    },
    {
      "cell_type": "code",
      "source": [
        "# Find intersection of the following two set arrays:\n",
        "\n",
        "import numpy as np\n",
        "\n",
        "arr1 = np.array([1, 2, 3, 4])\n",
        "arr2 = np.array([3, 4, 5, 6])\n",
        "\n",
        "newarr = np.intersect1d(arr1, arr2, assume_unique=True)\n",
        "\n",
        "print(newarr)\n",
        "\n",
        "# Note: the setdiff1d() method takes an optional argument assume_unique, which if set to True can speed up computation. It should always be set to True when dealing with sets."
      ],
      "metadata": {
        "colab": {
          "base_uri": "https://localhost:8080/"
        },
        "id": "yqV5w60vpHFT",
        "outputId": "add75caf-cf52-41a7-dbae-9787caab2a2d"
      },
      "execution_count": null,
      "outputs": [
        {
          "output_type": "stream",
          "name": "stdout",
          "text": [
            "[3 4]\n"
          ]
        }
      ]
    },
    {
      "cell_type": "code",
      "source": [
        "# To find only the values in the first set that is NOT present in the seconds set, use the setdiff1d() method.\n",
        "\n",
        "import numpy as np\n",
        "\n",
        "set1 = np.array([1, 2, 3, 4])\n",
        "set2 = np.array([3, 4, 5, 6])\n",
        "\n",
        "newarr = np.setdiff1d(set1, set2, assume_unique=True)\n",
        "\n",
        "print(newarr)"
      ],
      "metadata": {
        "colab": {
          "base_uri": "https://localhost:8080/"
        },
        "id": "WdfWdZLopSVe",
        "outputId": "6196a1c6-1eee-4906-f164-27ee83f76a09"
      },
      "execution_count": null,
      "outputs": [
        {
          "output_type": "stream",
          "name": "stdout",
          "text": [
            "[1 2]\n"
          ]
        }
      ]
    },
    {
      "cell_type": "code",
      "source": [
        "# To find only the values that are NOT present in BOTH sets, use the setxor1d() method.\n",
        "\n",
        "import numpy as np\n",
        "\n",
        "set1 = np.array([1, 2, 3, 4])\n",
        "set2 = np.array([3, 4, 5, 6])\n",
        "\n",
        "newarr = np.setxor1d(set1, set2, assume_unique=True)\n",
        "\n",
        "print(newarr)"
      ],
      "metadata": {
        "colab": {
          "base_uri": "https://localhost:8080/"
        },
        "id": "6QFSEQNPpibU",
        "outputId": "661fe507-d517-4ec3-939c-a4457fe3a2bf"
      },
      "execution_count": null,
      "outputs": [
        {
          "output_type": "stream",
          "name": "stdout",
          "text": [
            "[1 2 5 6]\n"
          ]
        }
      ]
    },
    {
      "cell_type": "markdown",
      "source": [
        "# **Random Numbers in NumPy**\n",
        "\n",
        "**What is a Random Number?**\n",
        "\n",
        "Random number does NOT mean a different number every time. Random means something that can not be predicted logically.\n",
        "\n",
        "**Pseudo Random and True Random.**\n",
        "\n",
        "* Computers work on programs, and programs are definitive set of instructions. So it means there must be some algorithm to generate a random number as well.\n",
        "\n",
        "* If there is a program to generate random number it can be predicted, thus it is not truly random.\n",
        "\n",
        "* Random numbers generated through a generation algorithm are called pseudo random.\n",
        "\n",
        "**Can we make truly random numbers?**\n",
        "\n",
        "* Yes. In order to generate a truly random number on our computers we need to get the random data from some outside source. This outside source is generally our keystrokes, mouse movements, data on network etc.\n",
        "\n",
        "* We do not need truly random numbers, unless its related to security (e.g. encryption keys) or the basis of application is the randomness (e.g. Digital roulette wheels).\n",
        "\n",
        "* In this lecture we will be using pseudo random numbers.\n"
      ],
      "metadata": {
        "id": "z3zKG_D3qGAN"
      }
    },
    {
      "cell_type": "code",
      "source": [
        "# Generate a random integer from 0 to 100:\n",
        "\n",
        "from numpy import random\n",
        "\n",
        "x = random.randint(0,100)\n",
        "\n",
        "print(x)"
      ],
      "metadata": {
        "colab": {
          "base_uri": "https://localhost:8080/"
        },
        "id": "jdv9owCaqvpM",
        "outputId": "002ca4e5-62af-4370-a0a8-a8f225ff61a0"
      },
      "execution_count": null,
      "outputs": [
        {
          "output_type": "stream",
          "name": "stdout",
          "text": [
            "97\n"
          ]
        }
      ]
    },
    {
      "cell_type": "code",
      "source": [
        "# The random module's rand() method returns a random float between 0 and 1.\n",
        "\n",
        "# Generate a random float from 0 to 1:\n",
        "\n",
        "from numpy import random\n",
        "\n",
        "x = random.rand()\n",
        "\n",
        "print(x)"
      ],
      "metadata": {
        "colab": {
          "base_uri": "https://localhost:8080/"
        },
        "id": "fF2gRymrq5rs",
        "outputId": "63981a74-bbf0-4f1c-cfbf-7cf25ed2e84c"
      },
      "execution_count": null,
      "outputs": [
        {
          "output_type": "stream",
          "name": "stdout",
          "text": [
            "0.0709186730060335\n"
          ]
        }
      ]
    },
    {
      "cell_type": "markdown",
      "source": [
        "## **Generate Random Array**\n",
        "\n",
        "In NumPy we work with arrays, and you can use the two methods from the above examples to make random arrays.\n",
        "\n",
        "**Integers**\n",
        "\n",
        "The **randint()** method takes a size parameter where you can specify the shape of an array.\n",
        "\n",
        "**Floats**\n",
        "\n",
        "The **rand()** method also allows you to specify the shape of the array."
      ],
      "metadata": {
        "id": "ai4cq44QrIkJ"
      }
    },
    {
      "cell_type": "code",
      "source": [
        "# Generate a 1-D array containing 5 random integers from 0 to 100:\n",
        "\n",
        "from numpy import random\n",
        "\n",
        "x=random.randint(100, size=(5))\n",
        "\n",
        "print(x)"
      ],
      "metadata": {
        "colab": {
          "base_uri": "https://localhost:8080/"
        },
        "id": "VpY2OyLgrW-8",
        "outputId": "d9ceb4ea-d0af-491e-b87f-89efa82c0db0"
      },
      "execution_count": null,
      "outputs": [
        {
          "output_type": "stream",
          "name": "stdout",
          "text": [
            "[52 63 13  4 30]\n"
          ]
        }
      ]
    },
    {
      "cell_type": "code",
      "source": [
        "# Generate a 2-D array with 3 rows, each row containing 5 random integers from 0 to 100:\n",
        "\n",
        "from numpy import random\n",
        "\n",
        "x = random.randint(100, size=(3, 5))\n",
        "\n",
        "print(x)"
      ],
      "metadata": {
        "colab": {
          "base_uri": "https://localhost:8080/"
        },
        "id": "Y3L1-zyqrdu-",
        "outputId": "67b6daab-c80e-4afa-be54-a924b41cddc6"
      },
      "execution_count": null,
      "outputs": [
        {
          "output_type": "stream",
          "name": "stdout",
          "text": [
            "[[75 59 91 31 94]\n",
            " [25 71 13 92 59]\n",
            " [78 89 37 35 70]]\n"
          ]
        }
      ]
    },
    {
      "cell_type": "code",
      "source": [
        "# Generate a 1-D array containing 5 random floats:\n",
        "\n",
        "from numpy import random\n",
        "\n",
        "x = random.rand(5)\n",
        "\n",
        "print(x)"
      ],
      "metadata": {
        "colab": {
          "base_uri": "https://localhost:8080/"
        },
        "id": "iRez5AtbrmLJ",
        "outputId": "0d53f0d4-2658-4a7a-bacc-c90b56ca5e58"
      },
      "execution_count": null,
      "outputs": [
        {
          "output_type": "stream",
          "name": "stdout",
          "text": [
            "[0.01391179 0.6108595  0.20145711 0.16154368 0.78251024]\n"
          ]
        }
      ]
    },
    {
      "cell_type": "code",
      "source": [
        "# Generate a 2-D array with 3 rows, each row containing 5 random numbers:\n",
        "\n",
        "from numpy import random\n",
        "\n",
        "x = random.rand(3, 5)\n",
        "\n",
        "print(x)"
      ],
      "metadata": {
        "colab": {
          "base_uri": "https://localhost:8080/"
        },
        "id": "ekzT-ynirr9p",
        "outputId": "168acfd8-7cd6-44f8-9616-8042836b6ea4"
      },
      "execution_count": null,
      "outputs": [
        {
          "output_type": "stream",
          "name": "stdout",
          "text": [
            "[[0.50590785 0.50777949 0.67216443 0.97498768 0.24390551]\n",
            " [0.40949025 0.41196582 0.15111884 0.56785113 0.42778276]\n",
            " [0.15936645 0.71743172 0.85005546 0.39732632 0.43006607]]\n"
          ]
        }
      ]
    },
    {
      "cell_type": "markdown",
      "source": [
        "**Generate Random Number From Array**\n",
        "\n",
        "* The **choice()** method allows you to generate a random value based on an array of values.\n",
        "\n",
        "* The **choice()** method takes an array as a parameter and randomly returns one of the values.\n",
        "\n",
        "*   The **choice()** method also allows you to *return an array of values*. Add a **size** parameter to specify the shape of the array.\n",
        "\n"
      ],
      "metadata": {
        "id": "A6-3F8MZr3Fp"
      }
    },
    {
      "cell_type": "code",
      "source": [
        "# Return one of the values in an array:\n",
        "\n",
        "from numpy import random\n",
        "\n",
        "x = random.choice([3, 5, 7, 9])\n",
        "\n",
        "print(x)"
      ],
      "metadata": {
        "colab": {
          "base_uri": "https://localhost:8080/"
        },
        "id": "HoIIzxB2r0zd",
        "outputId": "2b536925-8afb-4f44-a056-78a5c7534261"
      },
      "execution_count": null,
      "outputs": [
        {
          "output_type": "stream",
          "name": "stdout",
          "text": [
            "3\n"
          ]
        }
      ]
    },
    {
      "cell_type": "code",
      "source": [
        "# Generate a 2-D array that consists of the values in the array parameter (3, 5, 7, and 9):\n",
        "\n",
        "from numpy import random\n",
        "\n",
        "x = random.choice([3, 5, 7, 9], size=(3, 5))\n",
        "\n",
        "print(x)"
      ],
      "metadata": {
        "colab": {
          "base_uri": "https://localhost:8080/"
        },
        "id": "YRdl1TdksNPf",
        "outputId": "aad891e0-c93d-46f1-9497-076e34fa4f2f"
      },
      "execution_count": null,
      "outputs": [
        {
          "output_type": "stream",
          "name": "stdout",
          "text": [
            "[[3 7 3 7 7]\n",
            " [5 5 5 7 9]\n",
            " [5 3 3 3 9]]\n"
          ]
        }
      ]
    },
    {
      "cell_type": "markdown",
      "source": [
        "## **Random Data Distribution**\n",
        "\n",
        "**What is Data Distribution?**\n",
        "\n",
        "* Data Distribution is a list of all possible values, and how often each value occurs.\n",
        "\n",
        "* Such lists are important when working with statistics and data science.\n",
        "\n",
        "* The random module offer methods that returns randomly generated data distributions.\n",
        "\n",
        "**Random Distribution**\n",
        "\n",
        "* A random distribution is a set of random numbers that follow a certain probability density function.\n",
        "\n",
        "> **Probability Density Function:** A function that describes a continuous probability. i.e. probability of all values in an array.\n",
        "\n",
        "* We can generate random numbers based on defined probabilities using the choice() method of the random module.\n",
        "\n",
        "* The choice() method allows us to specify the probability for each value.\n",
        "\n",
        "> The **probability** is set by a number between 0 and 1, where 0 means that the value will never occur and 1 means that the value will always occur."
      ],
      "metadata": {
        "id": "gYd5A2C_sqdy"
      }
    },
    {
      "cell_type": "markdown",
      "source": [
        "**Example**\n",
        "\n",
        "\n",
        "Generate a 1-D array containing 100 values, where each value has to be 3, 5, 7 or 9.\n",
        "\n",
        "The probability for the value to be 3 is set to be 0.1\n",
        "\n",
        "The probability for the value to be 5 is set to be 0.3\n",
        "\n",
        "The probability for the value to be 7 is set to be 0.6\n",
        "\n",
        "The probability for the value to be 9 is set to be 0"
      ],
      "metadata": {
        "id": "_eMDEjSxtdar"
      }
    },
    {
      "cell_type": "code",
      "source": [
        "from numpy import random\n",
        "\n",
        "x = random.choice([3, 5, 7, 9], p=[0.1, 0.3, 0.6, 0.0], size=(100))\n",
        "\n",
        "print(x)\n",
        "\n",
        "\n",
        "\n",
        "# The sum of all probability numbers should be 1.\n",
        "\n",
        "# Even if you run the example above 100 times, the value 9 will never occur."
      ],
      "metadata": {
        "colab": {
          "base_uri": "https://localhost:8080/"
        },
        "id": "pkMKsF6utnrR",
        "outputId": "f48ef113-7289-4e41-855c-76c323210f15"
      },
      "execution_count": null,
      "outputs": [
        {
          "output_type": "stream",
          "name": "stdout",
          "text": [
            "[7 5 5 7 5 5 3 7 7 7 7 7 5 7 7 5 7 5 7 7 7 3 3 7 7 5 7 3 5 5 7 5 7 5 3 7 7\n",
            " 5 5 7 3 7 5 5 7 7 7 7 5 3 5 7 7 5 5 7 7 7 7 5 5 3 5 7 7 5 7 5 7 5 3 5 5 5\n",
            " 7 7 7 7 5 7 7 7 7 5 7 7 7 7 5 7 5 5 7 3 7 5 7 7 7 7]\n"
          ]
        }
      ]
    },
    {
      "cell_type": "markdown",
      "source": [
        "**You can return arrays of any shape and size by specifying the shape in the size parameter.**"
      ],
      "metadata": {
        "id": "QkhUQLz3uEzy"
      }
    },
    {
      "cell_type": "code",
      "source": [
        "# Same example as above, but return a 2-D array with 3 rows, each containing 5 values.\n",
        "\n",
        "from numpy import random\n",
        "\n",
        "x = random.choice([3, 5, 7, 9], p=[0.1, 0.3, 0.6, 0.0], size=(3, 5))\n",
        "\n",
        "print(x)"
      ],
      "metadata": {
        "colab": {
          "base_uri": "https://localhost:8080/"
        },
        "id": "lKUyX1DDuGkv",
        "outputId": "bb2bda6b-f0e3-47aa-f46f-5620df3d3954"
      },
      "execution_count": null,
      "outputs": [
        {
          "output_type": "stream",
          "name": "stdout",
          "text": [
            "[[3 5 7 5 7]\n",
            " [3 7 7 5 7]\n",
            " [7 7 5 7 7]]\n"
          ]
        }
      ]
    },
    {
      "cell_type": "markdown",
      "source": [
        "## **Random Permutations**\n",
        "\n",
        "**Random Permutations of Elements**\n",
        "\n",
        "* A permutation refers to an arrangement of elements. e.g. [3, 2, 1] is a permutation of [1, 2, 3] and vice-versa.\n",
        "\n",
        "* The NumPy Random module provides two methods for this: shuffle() and permutation()."
      ],
      "metadata": {
        "id": "qoNeMGcNwal2"
      }
    },
    {
      "cell_type": "code",
      "source": [
        "# Randomly shuffle elements of following array:\n",
        "\n",
        "from numpy import random\n",
        "import numpy as np\n",
        "\n",
        "arr = np.array([1, 2, 3, 4, 5])\n",
        "\n",
        "random.shuffle(arr)\n",
        "\n",
        "print(arr)\n",
        "\n",
        "#The shuffle() method makes changes to the original array."
      ],
      "metadata": {
        "colab": {
          "base_uri": "https://localhost:8080/"
        },
        "id": "lXcYRDrgwrEE",
        "outputId": "24f2c35c-ab0e-4d30-84d1-2bb73e327b83"
      },
      "execution_count": null,
      "outputs": [
        {
          "output_type": "stream",
          "name": "stdout",
          "text": [
            "[4 2 1 5 3]\n"
          ]
        }
      ]
    },
    {
      "cell_type": "code",
      "source": [
        "# Generate a random permutation of elements of following array:\n",
        "\n",
        "from numpy import random\n",
        "import numpy as np\n",
        "\n",
        "arr = np.array([1, 2, 3, 4, 5])\n",
        "\n",
        "print(random.permutation(arr))\n",
        "\n",
        "# The permutation() method returns a re-arranged array (and leaves the original array un-changed)."
      ],
      "metadata": {
        "colab": {
          "base_uri": "https://localhost:8080/"
        },
        "id": "iaItIlaxw-aF",
        "outputId": "778ad57a-e786-433b-9f31-4302daa815eb"
      },
      "execution_count": null,
      "outputs": [
        {
          "output_type": "stream",
          "name": "stdout",
          "text": [
            "[5 3 2 1 4]\n"
          ]
        }
      ]
    },
    {
      "cell_type": "markdown",
      "source": [
        "## **Seaborn**\n",
        "\n",
        "Visualize Distributions With Seaborn\n",
        "\n",
        "Seaborn is a library that uses Matplotlib underneath to plot graphs. It will be used to visualize random distributions."
      ],
      "metadata": {
        "id": "uXmbmisJxLVK"
      }
    },
    {
      "cell_type": "code",
      "source": [
        "# Install seaborn\n",
        "\n",
        "!pip install seaborn"
      ],
      "metadata": {
        "colab": {
          "base_uri": "https://localhost:8080/"
        },
        "id": "DMNoVnmfxSSt",
        "outputId": "37b69a74-e6dc-4738-f5c3-1b7ebca3ced1"
      },
      "execution_count": null,
      "outputs": [
        {
          "output_type": "stream",
          "name": "stdout",
          "text": [
            "Looking in indexes: https://pypi.org/simple, https://us-python.pkg.dev/colab-wheels/public/simple/\n",
            "Requirement already satisfied: seaborn in /usr/local/lib/python3.10/dist-packages (0.12.2)\n",
            "Requirement already satisfied: numpy!=1.24.0,>=1.17 in /usr/local/lib/python3.10/dist-packages (from seaborn) (1.22.4)\n",
            "Requirement already satisfied: pandas>=0.25 in /usr/local/lib/python3.10/dist-packages (from seaborn) (1.5.3)\n",
            "Requirement already satisfied: matplotlib!=3.6.1,>=3.1 in /usr/local/lib/python3.10/dist-packages (from seaborn) (3.7.1)\n",
            "Requirement already satisfied: contourpy>=1.0.1 in /usr/local/lib/python3.10/dist-packages (from matplotlib!=3.6.1,>=3.1->seaborn) (1.0.7)\n",
            "Requirement already satisfied: cycler>=0.10 in /usr/local/lib/python3.10/dist-packages (from matplotlib!=3.6.1,>=3.1->seaborn) (0.11.0)\n",
            "Requirement already satisfied: fonttools>=4.22.0 in /usr/local/lib/python3.10/dist-packages (from matplotlib!=3.6.1,>=3.1->seaborn) (4.39.3)\n",
            "Requirement already satisfied: kiwisolver>=1.0.1 in /usr/local/lib/python3.10/dist-packages (from matplotlib!=3.6.1,>=3.1->seaborn) (1.4.4)\n",
            "Requirement already satisfied: packaging>=20.0 in /usr/local/lib/python3.10/dist-packages (from matplotlib!=3.6.1,>=3.1->seaborn) (23.1)\n",
            "Requirement already satisfied: pillow>=6.2.0 in /usr/local/lib/python3.10/dist-packages (from matplotlib!=3.6.1,>=3.1->seaborn) (8.4.0)\n",
            "Requirement already satisfied: pyparsing>=2.3.1 in /usr/local/lib/python3.10/dist-packages (from matplotlib!=3.6.1,>=3.1->seaborn) (3.0.9)\n",
            "Requirement already satisfied: python-dateutil>=2.7 in /usr/local/lib/python3.10/dist-packages (from matplotlib!=3.6.1,>=3.1->seaborn) (2.8.2)\n",
            "Requirement already satisfied: pytz>=2020.1 in /usr/local/lib/python3.10/dist-packages (from pandas>=0.25->seaborn) (2022.7.1)\n",
            "Requirement already satisfied: six>=1.5 in /usr/local/lib/python3.10/dist-packages (from python-dateutil>=2.7->matplotlib!=3.6.1,>=3.1->seaborn) (1.16.0)\n"
          ]
        }
      ]
    },
    {
      "cell_type": "markdown",
      "source": [
        "**Distplots**\n",
        "\n",
        "Distplot stands for distribution plot, it takes as input an array and plots a curve corresponding to the distribution of points in the array.\n",
        "\n",
        "**Import Matplotlib**\n",
        "Import the pyplot object of the Matplotlib module in your code using the following statement: ***import matplotlib.pyplot as plt***\n",
        "\n",
        "You can learn about the Matplotlib module\n",
        "\n",
        "**Import Seaborn**\n",
        "Import the Seaborn module in your code using the following statement:\n",
        "***import seaborn as sns***\n"
      ],
      "metadata": {
        "id": "CPIXvx4TxfMm"
      }
    },
    {
      "cell_type": "code",
      "source": [
        "# Plotting a Distplot\n",
        "\n",
        "import matplotlib.pyplot as plt\n",
        "import seaborn as sns\n",
        "\n",
        "sns.distplot([0, 1, 2, 3, 4, 5])\n",
        "\n",
        "plt.show()"
      ],
      "metadata": {
        "colab": {
          "base_uri": "https://localhost:8080/",
          "height": 627
        },
        "id": "q2JgsAKkx1Vw",
        "outputId": "a5288c30-4103-45d4-baec-4232b702449a"
      },
      "execution_count": null,
      "outputs": [
        {
          "output_type": "stream",
          "name": "stderr",
          "text": [
            "<ipython-input-74-125797252e7b>:6: UserWarning: \n",
            "\n",
            "`distplot` is a deprecated function and will be removed in seaborn v0.14.0.\n",
            "\n",
            "Please adapt your code to use either `displot` (a figure-level function with\n",
            "similar flexibility) or `histplot` (an axes-level function for histograms).\n",
            "\n",
            "For a guide to updating your code to use the new functions, please see\n",
            "https://gist.github.com/mwaskom/de44147ed2974457ad6372750bbe5751\n",
            "\n",
            "  sns.distplot([0, 1, 2, 3, 4, 5])\n"
          ]
        },
        {
          "output_type": "display_data",
          "data": {
            "text/plain": [
              "<Figure size 640x480 with 1 Axes>"
            ],
            "image/png": "[encoded data removed]"
          },
          "metadata": {}
        }
      ]
    },
    {
      "cell_type": "code",
      "source": [
        "# Plotting a Distplot\n",
        "\n",
        "import matplotlib.pyplot as plt\n",
        "import seaborn as sns\n",
        "\n",
        "sns.displot([0, 1, 2, 3, 4, 5])\n",
        "\n",
        "plt.show()"
      ],
      "metadata": {
        "colab": {
          "base_uri": "https://localhost:8080/",
          "height": 506
        },
        "id": "jgipFT2IyE6M",
        "outputId": "ff7d06aa-6d7a-4c27-ab83-6697569085aa"
      },
      "execution_count": null,
      "outputs": [
        {
          "output_type": "display_data",
          "data": {
            "text/plain": [
              "<Figure size 500x500 with 1 Axes>"
            ],
            "image/png": "[encoded data removed]"
          },
          "metadata": {}
        }
      ]
    },
    {
      "cell_type": "code",
      "source": [
        "# Plotting a Distplot\n",
        "\n",
        "import matplotlib.pyplot as plt\n",
        "import seaborn as sns\n",
        "\n",
        "sns.histplot([0, 1, 2, 3, 4, 5])\n",
        "\n",
        "plt.show()"
      ],
      "metadata": {
        "colab": {
          "base_uri": "https://localhost:8080/",
          "height": 430
        },
        "id": "tzKQF1W4yeqG",
        "outputId": "d148ff07-c57a-4ad4-82cc-38fff7b62564"
      },
      "execution_count": null,
      "outputs": [
        {
          "output_type": "display_data",
          "data": {
            "text/plain": [
              "<Figure size 640x480 with 1 Axes>"
            ],
            "image/png": "[encoded data removed]"
          },
          "metadata": {}
        }
      ]
    },
    {
      "cell_type": "code",
      "source": [
        "# Plotting a Distplot Without the Histogram\n",
        "\n",
        "import matplotlib.pyplot as plt\n",
        "import seaborn as sns\n",
        "\n",
        "sns.distplot([0, 1, 2, 3, 4, 5], hist=False)\n",
        "\n",
        "plt.show()"
      ],
      "metadata": {
        "colab": {
          "base_uri": "https://localhost:8080/",
          "height": 627
        },
        "id": "OYGFTkhSyTAG",
        "outputId": "51e9ba9b-ef83-4bd1-b557-c6dd195e8ec7"
      },
      "execution_count": null,
      "outputs": [
        {
          "output_type": "stream",
          "name": "stderr",
          "text": [
            "<ipython-input-77-73aefa482698>:6: UserWarning: \n",
            "\n",
            "`distplot` is a deprecated function and will be removed in seaborn v0.14.0.\n",
            "\n",
            "Please adapt your code to use either `displot` (a figure-level function with\n",
            "similar flexibility) or `kdeplot` (an axes-level function for kernel density plots).\n",
            "\n",
            "For a guide to updating your code to use the new functions, please see\n",
            "https://gist.github.com/mwaskom/de44147ed2974457ad6372750bbe5751\n",
            "\n",
            "  sns.distplot([0, 1, 2, 3, 4, 5], hist=False)\n"
          ]
        },
        {
          "output_type": "display_data",
          "data": {
            "text/plain": [
              "<Figure size 640x480 with 1 Axes>"
            ],
            "image/png": "[encoded data removed]"
          },
          "metadata": {}
        }
      ]
    },
    {
      "cell_type": "markdown",
      "source": [
        "## **Normal (Gaussian) Distribution**\n",
        "\n",
        "**Normal Distribution**\n",
        "\n",
        "* The Normal Distribution is one of the most important distributions.\n",
        "\n",
        "* It is also called the Gaussian Distribution after the German mathematician Carl Friedrich Gauss.\n",
        "\n",
        "* It fits the probability distribution of many events, eg. IQ Scores, Heartbeat etc.\n",
        "\n",
        "* Use the **random.normal()** method to get a Normal Data Distribution.\n",
        "\n",
        "* It has three parameters:\n",
        ">\n",
        "1. **loc** - (Mean) where the peak of the bell exists.\n",
        "2. **scale** - (Standard Deviation) how flat the graph distribution should be.\n",
        "\n",
        "3. **size** - The shape of the returned array."
      ],
      "metadata": {
        "id": "EmrSbsFKyp1_"
      }
    },
    {
      "cell_type": "code",
      "source": [
        "# Generate a random normal distribution of size 2x3:\n",
        "\n",
        "from numpy import random\n",
        "\n",
        "x = random.normal(size=(2, 3))\n",
        "\n",
        "print(x)"
      ],
      "metadata": {
        "colab": {
          "base_uri": "https://localhost:8080/"
        },
        "id": "y7kfesprzOi9",
        "outputId": "2d56c53a-d032-430c-c272-f1b19a43e5e1"
      },
      "execution_count": null,
      "outputs": [
        {
          "output_type": "stream",
          "name": "stdout",
          "text": [
            "[[ 0.50194419  0.32705737  1.02400082]\n",
            " [-2.14826898  0.92929424  0.23958   ]]\n"
          ]
        }
      ]
    },
    {
      "cell_type": "code",
      "source": [
        "# Generate a random normal distribution of size 2x3 with mean at 1 and standard deviation of 2:\n",
        "\n",
        "from numpy import random\n",
        "\n",
        "x = random.normal(loc=1, scale=2, size=(2, 3))\n",
        "\n",
        "print(x)"
      ],
      "metadata": {
        "colab": {
          "base_uri": "https://localhost:8080/"
        },
        "id": "Hqd8B8-mzWUk",
        "outputId": "f20c1932-3419-4015-de51-32f7439ef926"
      },
      "execution_count": null,
      "outputs": [
        {
          "output_type": "stream",
          "name": "stdout",
          "text": [
            "[[ 2.44584631  0.43774708  0.00796057]\n",
            " [-1.6514192  -1.73191994  1.06005901]]\n"
          ]
        }
      ]
    },
    {
      "cell_type": "markdown",
      "source": [
        "**Visualization of Normal Distribution**"
      ],
      "metadata": {
        "id": "YrlgFPfHzeAc"
      }
    },
    {
      "cell_type": "code",
      "source": [
        "from numpy import random\n",
        "import matplotlib.pyplot as plt\n",
        "import seaborn as sns\n",
        "\n",
        "sns.distplot(random.normal(size=1000), hist=False)\n",
        "\n",
        "plt.show()"
      ],
      "metadata": {
        "colab": {
          "base_uri": "https://localhost:8080/",
          "height": 627
        },
        "id": "yKpO9GdCzhg_",
        "outputId": "37c1463d-18e0-440a-ce4e-9d14f0fe7878"
      },
      "execution_count": null,
      "outputs": [
        {
          "output_type": "stream",
          "name": "stderr",
          "text": [
            "<ipython-input-85-2f9e2247caac>:5: UserWarning: \n",
            "\n",
            "`distplot` is a deprecated function and will be removed in seaborn v0.14.0.\n",
            "\n",
            "Please adapt your code to use either `displot` (a figure-level function with\n",
            "similar flexibility) or `kdeplot` (an axes-level function for kernel density plots).\n",
            "\n",
            "For a guide to updating your code to use the new functions, please see\n",
            "https://gist.github.com/mwaskom/de44147ed2974457ad6372750bbe5751\n",
            "\n",
            "  sns.distplot(random.normal(size=1000), hist=False)\n"
          ]
        },
        {
          "output_type": "display_data",
          "data": {
            "text/plain": [
              "<Figure size 640x480 with 1 Axes>"
            ],
            "image/png": "[encoded data removed]"
          },
          "metadata": {}
        }
      ]
    },
    {
      "cell_type": "markdown",
      "source": [
        "**Note: The curve of a Normal Distribution is also known as the Bell Curve because of the bell-shaped curve.**"
      ],
      "metadata": {
        "id": "NSuAykEw5TfV"
      }
    },
    {
      "cell_type": "markdown",
      "source": [
        "## **Binomial Distribution**\n",
        "\n",
        "**Binomial Distribution is a Discrete Distribution.**\n",
        "\n",
        "* It describes the outcome of binary scenarios, e.g. toss of a coin, it will either be head or tails.\n",
        "\n",
        "It has three parameters:\n",
        "\n",
        "1. **n** - number of trials.\n",
        "\n",
        "2. **p** - probability of occurence of each trial (e.g. for toss of a coin 0.5 each).\n",
        "\n",
        "3. **size** - The shape of the returned array.\n",
        "\n",
        "**Discrete Distribution**:The distribution is defined at separate set of events, e.g. a coin toss's result is discrete as it can be only head or tails whereas height of people is continuous as it can be 170, 170.1, 170.11 and so on."
      ],
      "metadata": {
        "id": "8oVXLO3R50w4"
      }
    },
    {
      "cell_type": "code",
      "source": [
        "# Given 10 trials for coin toss generate 10 data points:\n",
        "\n",
        "from numpy import random\n",
        "\n",
        "x = random.binomial(n=10, p=0.5, size=10)\n",
        "\n",
        "print(x)"
      ],
      "metadata": {
        "colab": {
          "base_uri": "https://localhost:8080/"
        },
        "id": "2IXyMzbu6KLq",
        "outputId": "b4c9a8ea-2f14-4f8e-aa23-7b39145621da"
      },
      "execution_count": null,
      "outputs": [
        {
          "output_type": "stream",
          "name": "stdout",
          "text": [
            "[6 5 7 3 4 8 2 5 7 5]\n"
          ]
        }
      ]
    },
    {
      "cell_type": "code",
      "source": [
        "# Visualization of Binomial Distribution\n",
        "\n",
        "from numpy import random\n",
        "import matplotlib.pyplot as plt\n",
        "import seaborn as sns\n",
        "\n",
        "sns.distplot(random.binomial(n=10, p=0.5, size=1000), hist=True, kde=False)\n",
        "\n",
        "plt.show()"
      ],
      "metadata": {
        "colab": {
          "base_uri": "https://localhost:8080/",
          "height": 627
        },
        "id": "WvsSzIPf6aFx",
        "outputId": "845acecd-9f6b-4cab-c953-6cc7eb7e344b"
      },
      "execution_count": null,
      "outputs": [
        {
          "output_type": "stream",
          "name": "stderr",
          "text": [
            "<ipython-input-87-8d4ca4d2f13d>:7: UserWarning: \n",
            "\n",
            "`distplot` is a deprecated function and will be removed in seaborn v0.14.0.\n",
            "\n",
            "Please adapt your code to use either `displot` (a figure-level function with\n",
            "similar flexibility) or `histplot` (an axes-level function for histograms).\n",
            "\n",
            "For a guide to updating your code to use the new functions, please see\n",
            "https://gist.github.com/mwaskom/de44147ed2974457ad6372750bbe5751\n",
            "\n",
            "  sns.distplot(random.binomial(n=10, p=0.5, size=1000), hist=True, kde=False)\n"
          ]
        },
        {
          "output_type": "display_data",
          "data": {
            "text/plain": [
              "<Figure size 640x480 with 1 Axes>"
            ],
            "image/png": "[encoded data removed]"
          },
          "metadata": {}
        }
      ]
    },
    {
      "cell_type": "markdown",
      "source": [
        "**Difference Between Normal and Binomial Distribution**\n",
        "\n",
        "The main difference is that normal distribution is continous whereas binomial is discrete, but if there are enough data points it will be quite similar to normal distribution with certain loc and scale."
      ],
      "metadata": {
        "id": "xYCUAQ7e6sP7"
      }
    },
    {
      "cell_type": "code",
      "source": [
        "from numpy import random\n",
        "import matplotlib.pyplot as plt\n",
        "import seaborn as sns\n",
        "\n",
        "sns.distplot(random.normal(loc=50, scale=5, size=1000), hist=False, label='normal')\n",
        "sns.distplot(random.binomial(n=100, p=0.5, size=1000), hist=False, label='binomial')\n",
        "\n",
        "plt.show()"
      ],
      "metadata": {
        "colab": {
          "base_uri": "https://localhost:8080/",
          "height": 823
        },
        "id": "nbKk4sLq6vme",
        "outputId": "2d8744ed-6524-4d09-f065-916b5c98b498"
      },
      "execution_count": null,
      "outputs": [
        {
          "output_type": "stream",
          "name": "stderr",
          "text": [
            "<ipython-input-89-a77a88c19db8>:5: UserWarning: \n",
            "\n",
            "`distplot` is a deprecated function and will be removed in seaborn v0.14.0.\n",
            "\n",
            "Please adapt your code to use either `displot` (a figure-level function with\n",
            "similar flexibility) or `kdeplot` (an axes-level function for kernel density plots).\n",
            "\n",
            "For a guide to updating your code to use the new functions, please see\n",
            "https://gist.github.com/mwaskom/de44147ed2974457ad6372750bbe5751\n",
            "\n",
            "  sns.distplot(random.normal(loc=50, scale=5, size=1000), hist=False, label='normal')\n",
            "<ipython-input-89-a77a88c19db8>:6: UserWarning: \n",
            "\n",
            "`distplot` is a deprecated function and will be removed in seaborn v0.14.0.\n",
            "\n",
            "Please adapt your code to use either `displot` (a figure-level function with\n",
            "similar flexibility) or `kdeplot` (an axes-level function for kernel density plots).\n",
            "\n",
            "For a guide to updating your code to use the new functions, please see\n",
            "https://gist.github.com/mwaskom/de44147ed2974457ad6372750bbe5751\n",
            "\n",
            "  sns.distplot(random.binomial(n=100, p=0.5, size=1000), hist=False, label='binomial')\n"
          ]
        },
        {
          "output_type": "display_data",
          "data": {
            "text/plain": [
              "<Figure size 640x480 with 1 Axes>"
            ],
            "image/png": "[encoded data removed]"
          },
          "metadata": {}
        }
      ]
    },
    {
      "cell_type": "code",
      "source": [
        "from numpy import random\n",
        "import matplotlib.pyplot as plt\n",
        "import seaborn as sns\n",
        "\n",
        "sns.kdeplot(random.normal(loc=50, scale=5, size=1000), label='normal')\n",
        "sns.kdeplot(random.binomial(n=100, p=0.5, size=1000), label='binomial')\n",
        "\n",
        "plt.show()"
      ],
      "metadata": {
        "colab": {
          "base_uri": "https://localhost:8080/",
          "height": 430
        },
        "id": "WPQxBL4k67PB",
        "outputId": "24eebf35-6fe5-4b67-c1f2-785f5b436aad"
      },
      "execution_count": null,
      "outputs": [
        {
          "output_type": "display_data",
          "data": {
            "text/plain": [
              "<Figure size 640x480 with 1 Axes>"
            ],
            "image/png": "[encoded data removed]"
          },
          "metadata": {}
        }
      ]
    },
    {
      "cell_type": "markdown",
      "source": [
        "## **Uniform Distribution**\n",
        "\n",
        "* Used to describe probability where every event has equal chances of occuring.\n",
        "\n",
        "* E.g. Generation of random numbers.\n",
        "\n",
        "* It has three parameters:\n",
        "\n",
        "1. a - lower bound - default 0 .0.\n",
        "\n",
        "2. b - upper bound - default 1.0.\n",
        "\n",
        "3. size - The shape of the returned array."
      ],
      "metadata": {
        "id": "6F-JrDVS7W0l"
      }
    },
    {
      "cell_type": "code",
      "source": [
        "# Create a 2x3 uniform distribution sample:\n",
        "\n",
        "from numpy import random\n",
        "\n",
        "x = random.uniform(size=(2, 3))\n",
        "\n",
        "print(x)"
      ],
      "metadata": {
        "colab": {
          "base_uri": "https://localhost:8080/"
        },
        "id": "c05JazLG6693",
        "outputId": "9c9e6b75-8f07-467e-9118-23413641ee76"
      },
      "execution_count": null,
      "outputs": [
        {
          "output_type": "stream",
          "name": "stdout",
          "text": [
            "[[0.5620394  0.09895102 0.69223479]\n",
            " [0.99808841 0.23333924 0.98611595]]\n"
          ]
        }
      ]
    },
    {
      "cell_type": "code",
      "source": [
        "# Visualization of Uniform Distribution\n",
        "\n",
        "from numpy import random\n",
        "import matplotlib.pyplot as plt\n",
        "import seaborn as sns\n",
        "x=random.uniform(size=1000)\n",
        "print(x)\n",
        "sns.kdeplot(x)\n",
        "#sns.kdeplot(random.uniform(size=1000))\n",
        "\n",
        "plt.show()"
      ],
      "metadata": {
        "colab": {
          "base_uri": "https://localhost:8080/",
          "height": 1000
        },
        "id": "czb-LDFn7nm9",
        "outputId": "c96fdeb8-9e6c-4648-ea39-bf9f2e687d26"
      },
      "execution_count": null,
      "outputs": [
        {
          "output_type": "stream",
          "name": "stdout",
          "text": [
            "[0.12129371 0.47499138 0.50625756 0.94551361 0.81006501 0.12599686\n",
            " 0.49080125 0.76429929 0.26513195 0.21250256 0.07282887 0.07155271\n",
            " 0.88968089 0.02211258 0.53421727 0.75016534 0.64231249 0.79150557\n",
            " 0.64896796 0.622294   0.03615882 0.15590834 0.53767411 0.9730628\n",
            " 0.13313618 0.84192428 0.21792364 0.40906571 0.10170139 0.08347615\n",
            " 0.15586033 0.14265185 0.75093151 0.95192549 0.44104286 0.78949765\n",
            " 0.70361262 0.82790139 0.52663865 0.85537972 0.47041119 0.85458479\n",
            " 0.74670548 0.96159659 0.86983746 0.5036456  0.50089137 0.32622319\n",
            " 0.6880969  0.80610487 0.36490365 0.29994873 0.21715165 0.67842918\n",
            " 0.22018596 0.60389025 0.66888637 0.12518027 0.49322016 0.74774481\n",
            " 0.60774462 0.11211235 0.92016458 0.07559396 0.39077113 0.62091601\n",
            " 0.35370559 0.83127618 0.5671645  0.82068197 0.03926551 0.98457296\n",
            " 0.58481579 0.92071658 0.00343417 0.09499769 0.80648589 0.55056087\n",
            " 0.49759394 0.88626823 0.57226238 0.3067188  0.83363839 0.24072742\n",
            " 0.45750955 0.96622746 0.2055466  0.24052142 0.12817774 0.0378213\n",
            " 0.3247922  0.86033354 0.95081947 0.7249943  0.5741084  0.84674079\n",
            " 0.83884659 0.78075287 0.79384185 0.6283914  0.01148418 0.49374733\n",
            " 0.88330075 0.68594445 0.77498726 0.73102969 0.81001736 0.43722485\n",
            " 0.38000623 0.38563981 0.68009324 0.33317467 0.43111812 0.68230384\n",
            " 0.93098321 0.68994508 0.01636319 0.83038338 0.7274867  0.23730157\n",
            " 0.08735403 0.6141687  0.73190831 0.66016167 0.04861614 0.52975495\n",
            " 0.48016177 0.01006724 0.60852291 0.25388973 0.02060385 0.49049778\n",
            " 0.12265867 0.57741682 0.03593082 0.52949256 0.0776387  0.51820019\n",
            " 0.30695069 0.43031536 0.54961821 0.15324936 0.38551749 0.89761841\n",
            " 0.56332541 0.45922734 0.83236163 0.92743369 0.83012497 0.26122488\n",
            " 0.27413411 0.21936915 0.31341538 0.90918321 0.88840383 0.47037959\n",
            " 0.78928868 0.39530661 0.95824203 0.26775488 0.23174407 0.38114783\n",
            " 0.41036958 0.76036664 0.49504504 0.81923454 0.32236092 0.34001273\n",
            " 0.57457586 0.57073072 0.94484644 0.88537635 0.37202925 0.12882994\n",
            " 0.05175035 0.17922589 0.05860813 0.65011069 0.67005999 0.49842562\n",
            " 0.976305   0.29960376 0.45678784 0.58203957 0.1662244  0.59398903\n",
            " 0.02837496 0.17667173 0.08730254 0.83889281 0.84226829 0.06005829\n",
            " 0.04846349 0.73161629 0.0255435  0.79803357 0.23535581 0.29737363\n",
            " 0.23064683 0.09296802 0.65843759 0.6189263  0.04655152 0.28122592\n",
            " 0.45907653 0.00370596 0.13784058 0.86743821 0.076802   0.44626249\n",
            " 0.36722973 0.80816048 0.0971125  0.58295665 0.48529843 0.44162616\n",
            " 0.99015211 0.52244936 0.64469335 0.45338735 0.16531754 0.57101079\n",
            " 0.71620752 0.78102785 0.65739222 0.22348416 0.2816766  0.3473687\n",
            " 0.28340007 0.69486235 0.95985558 0.89929545 0.0587694  0.17572921\n",
            " 0.87361599 0.26223385 0.72623288 0.04538529 0.42339459 0.67708223\n",
            " 0.55087616 0.91254064 0.54507286 0.8721767  0.62289517 0.653829\n",
            " 0.12137513 0.89363034 0.94794855 0.10097146 0.73424207 0.32976759\n",
            " 0.7903811  0.84379511 0.04913522 0.22323885 0.45216388 0.05407441\n",
            " 0.80381981 0.0064508  0.03376236 0.47687823 0.41368837 0.2291377\n",
            " 0.51374881 0.93402357 0.18405233 0.22663809 0.34514534 0.29156485\n",
            " 0.34517618 0.49274965 0.86158758 0.22587629 0.65588071 0.01363915\n",
            " 0.2349336  0.07251336 0.41278326 0.46746162 0.8422205  0.29249928\n",
            " 0.42566891 0.59083227 0.81096119 0.41219705 0.66763656 0.98898136\n",
            " 0.91755663 0.06335891 0.1221281  0.37602054 0.54624482 0.28636437\n",
            " 0.71041155 0.04859839 0.96046368 0.0382041  0.7509149  0.50439437\n",
            " 0.78917726 0.22412299 0.76602026 0.38754807 0.06228181 0.43873031\n",
            " 0.22967193 0.49721526 0.99700799 0.62579706 0.4890125  0.29227002\n",
            " 0.58999741 0.75105232 0.99488684 0.86038355 0.40517074 0.29646981\n",
            " 0.69186029 0.04815342 0.08623415 0.40487813 0.45677938 0.26608742\n",
            " 0.89451951 0.90998963 0.61254353 0.97493631 0.19624821 0.2225926\n",
            " 0.47809511 0.07917929 0.42580611 0.50830092 0.05809934 0.636503\n",
            " 0.87571417 0.34234999 0.57421695 0.51815384 0.51458366 0.7384032\n",
            " 0.18970859 0.05919303 0.25617713 0.70752057 0.64810945 0.99521503\n",
            " 0.2636494  0.14998039 0.0104206  0.53829653 0.94875279 0.51591281\n",
            " 0.79911141 0.19304838 0.19726451 0.45037247 0.41229735 0.84006771\n",
            " 0.15875289 0.08986898 0.51642978 0.64562308 0.73752305 0.18051674\n",
            " 0.66131515 0.81198593 0.29463451 0.94037314 0.55053816 0.48305104\n",
            " 0.47346325 0.23159276 0.84990608 0.71918748 0.84072089 0.05351471\n",
            " 0.20270358 0.40280896 0.8982971  0.7099806  0.0410523  0.79967942\n",
            " 0.6145943  0.68719656 0.29489499 0.28647349 0.75665862 0.24943962\n",
            " 0.12732139 0.52296536 0.94155559 0.84920331 0.44522573 0.23932677\n",
            " 0.51617771 0.11751565 0.29301884 0.34292658 0.38562011 0.03850833\n",
            " 0.99349679 0.73744342 0.47603533 0.64264705 0.31488057 0.28850511\n",
            " 0.60476362 0.78550297 0.75656612 0.78433251 0.52707324 0.68654302\n",
            " 0.18735548 0.66906981 0.13486678 0.50105315 0.16501054 0.72323836\n",
            " 0.83452127 0.43325929 0.49590794 0.58114678 0.5395626  0.21796947\n",
            " 0.54220518 0.56457228 0.91301893 0.76183863 0.48468081 0.11412176\n",
            " 0.98896483 0.45055551 0.18654192 0.26182632 0.99784576 0.0788571\n",
            " 0.47672318 0.77965877 0.24662945 0.1830328  0.83709783 0.17132376\n",
            " 0.5730314  0.31993438 0.63927946 0.06589089 0.94783017 0.63939174\n",
            " 0.15988293 0.41597323 0.55751074 0.68889267 0.73174416 0.18195174\n",
            " 0.76861157 0.50000031 0.49190861 0.22938204 0.89391577 0.22275821\n",
            " 0.76740224 0.79134886 0.98001524 0.08967677 0.20979085 0.11759891\n",
            " 0.13381834 0.7511741  0.1259728  0.01819238 0.63157779 0.01373203\n",
            " 0.49606527 0.07096676 0.65757084 0.89480559 0.33160996 0.67229616\n",
            " 0.00855443 0.47824887 0.56452916 0.73349588 0.42963064 0.10379616\n",
            " 0.11912126 0.87481909 0.34741603 0.79870321 0.18915886 0.17553179\n",
            " 0.1235762  0.97065461 0.49576702 0.75225435 0.99220995 0.53216365\n",
            " 0.47532313 0.07060753 0.89259801 0.27620132 0.28248496 0.57668163\n",
            " 0.74951911 0.55431544 0.38603857 0.0183982  0.91629828 0.00940219\n",
            " 0.26025525 0.59884459 0.06603522 0.26281787 0.47020769 0.24702965\n",
            " 0.31665521 0.47339662 0.74500959 0.97767997 0.71419086 0.91462039\n",
            " 0.29208323 0.59131685 0.11765928 0.68024264 0.91347252 0.2575674\n",
            " 0.97940333 0.46947952 0.78632943 0.37743119 0.57091826 0.12088142\n",
            " 0.03075975 0.99123095 0.30400795 0.27111824 0.02812104 0.6650706\n",
            " 0.34046718 0.96921585 0.27320994 0.66017722 0.14968575 0.28068528\n",
            " 0.41878426 0.07124391 0.18185302 0.64363574 0.46271157 0.21565379\n",
            " 0.43042532 0.65763871 0.25632259 0.15495494 0.8781099  0.45436552\n",
            " 0.3633704  0.13347285 0.66375171 0.24810276 0.02366287 0.32624441\n",
            " 0.99882837 0.9329595  0.83124465 0.63074528 0.2798958  0.83885479\n",
            " 0.44747352 0.4561714  0.56335445 0.79144724 0.49620844 0.15892351\n",
            " 0.17152439 0.66508161 0.02104338 0.97597446 0.26879088 0.66878488\n",
            " 0.85157966 0.31133953 0.96795322 0.96075725 0.21204787 0.87089393\n",
            " 0.28258865 0.23386477 0.86813634 0.88590482 0.93273774 0.20847291\n",
            " 0.89488108 0.14858985 0.36914223 0.52905497 0.36513753 0.47630912\n",
            " 0.36557857 0.96057906 0.04027962 0.28256311 0.88842428 0.60572557\n",
            " 0.62977784 0.67388923 0.99271762 0.01921979 0.68448235 0.74426519\n",
            " 0.89716325 0.62287342 0.62210378 0.90716764 0.42056843 0.35466812\n",
            " 0.35717245 0.4053266  0.96639454 0.05611673 0.2231313  0.80399897\n",
            " 0.10705366 0.23438265 0.61637424 0.48495748 0.37272987 0.09360787\n",
            " 0.43218447 0.30301844 0.38407544 0.25664369 0.76914631 0.24925592\n",
            " 0.4587063  0.33694285 0.92742024 0.67582966 0.34981909 0.80383372\n",
            " 0.52243059 0.27797714 0.75187174 0.7100537  0.38584476 0.87270709\n",
            " 0.15038338 0.63031949 0.44511872 0.14536956 0.34092299 0.72393716\n",
            " 0.6182392  0.22945761 0.34825392 0.05047241 0.22300966 0.64671912\n",
            " 0.48589093 0.52620243 0.60056551 0.61674454 0.41627057 0.47003997\n",
            " 0.47751783 0.47757156 0.55991344 0.23707174 0.06757876 0.86995183\n",
            " 0.41796634 0.84556004 0.76153706 0.56976254 0.44079884 0.84945996\n",
            " 0.78843624 0.22725967 0.91301956 0.5681296  0.33531781 0.94387327\n",
            " 0.43449282 0.29962237 0.9054752  0.87907522 0.7595484  0.22962988\n",
            " 0.98565103 0.8847533  0.99319418 0.3856792  0.18526876 0.96393771\n",
            " 0.21863664 0.12259695 0.43253939 0.29811981 0.92899979 0.6211169\n",
            " 0.61289257 0.47347746 0.13524678 0.96289853 0.50769567 0.35482922\n",
            " 0.90752076 0.71869074 0.01967931 0.98978646 0.76339204 0.87662745\n",
            " 0.66353698 0.21614425 0.78130845 0.64701677 0.84271381 0.18840978\n",
            " 0.0162571  0.73743731 0.78496847 0.19527635 0.74769813 0.69295606\n",
            " 0.03401695 0.27505892 0.01819718 0.34053778 0.85855959 0.77491587\n",
            " 0.30750243 0.04930207 0.21285032 0.69330895 0.65771923 0.00769798\n",
            " 0.13729133 0.69162812 0.73321797 0.22472265 0.39733346 0.39007057\n",
            " 0.72801794 0.69430362 0.49694582 0.14823684 0.95484325 0.07041664\n",
            " 0.23756091 0.42953053 0.7354524  0.3810639  0.03769928 0.06751189\n",
            " 0.42840486 0.96465363 0.03229391 0.32052724 0.17133286 0.02918317\n",
            " 0.34889071 0.55397773 0.32909572 0.37553392 0.51338967 0.45713455\n",
            " 0.04351159 0.02038512 0.01667385 0.06913032 0.20630735 0.77942602\n",
            " 0.43699867 0.69519693 0.44872249 0.36762029 0.21408775 0.09040711\n",
            " 0.46579403 0.02512396 0.7021751  0.98702526 0.47929621 0.47061404\n",
            " 0.86954005 0.62961145 0.79457114 0.84465297 0.91096307 0.98379386\n",
            " 0.1998499  0.89972263 0.376627   0.25155032 0.5918511  0.01671538\n",
            " 0.69675025 0.81811945 0.91080799 0.236246   0.15847204 0.79051417\n",
            " 0.11008609 0.94813357 0.60719751 0.68712542 0.8626481  0.45053207\n",
            " 0.30637592 0.39943299 0.79760024 0.1731594  0.5712939  0.03199356\n",
            " 0.97071285 0.62255711 0.82768292 0.55266885 0.00772995 0.81258955\n",
            " 0.30263309 0.02590212 0.51114328 0.79971691 0.68829141 0.2470744\n",
            " 0.77497449 0.6003425  0.39408976 0.27788781 0.15724449 0.12376967\n",
            " 0.25708038 0.07798882 0.73083124 0.25725497 0.6585882  0.5754628\n",
            " 0.2525263  0.29081252 0.45205822 0.13645343 0.66231668 0.85886548\n",
            " 0.5123865  0.7902377  0.49624622 0.16198384 0.23418532 0.92589363\n",
            " 0.06366919 0.02395422 0.50983096 0.47413371 0.31140687 0.83001421\n",
            " 0.38136884 0.80120848 0.5450758  0.57747906 0.27931941 0.26471036\n",
            " 0.93664657 0.07104856 0.96228514 0.14254637 0.69492447 0.30724152\n",
            " 0.41128042 0.5928354  0.08122198 0.13423782 0.65512149 0.55230987\n",
            " 0.91514195 0.68889502 0.67022723 0.9403879  0.12487749 0.94999933\n",
            " 0.03509584 0.72711761 0.00989912 0.44472789 0.66661168 0.54706141\n",
            " 0.82786772 0.43843571 0.0684801  0.08454111 0.72018936 0.96584291\n",
            " 0.1161892  0.32338134 0.40408528 0.92727769 0.87285713 0.88557093\n",
            " 0.4030173  0.69143851 0.65446981 0.33343994 0.86115937 0.15315198\n",
            " 0.09065393 0.27200766 0.51341804 0.90400766 0.16380524 0.34227143\n",
            " 0.41501369 0.63634201 0.49095598 0.53247034 0.55096809 0.81375967\n",
            " 0.57170166 0.0879166  0.24219775 0.09392365 0.44503893 0.82304107\n",
            " 0.62490724 0.46147704 0.85988173 0.59045524 0.05355159 0.45857243\n",
            " 0.08331716 0.2163373  0.65363327 0.73320244 0.29383088 0.07534989\n",
            " 0.55422537 0.0690996  0.50181938 0.22774582 0.00794318 0.56206348\n",
            " 0.35275765 0.72760143 0.21806457 0.13542437 0.40974145 0.89249204\n",
            " 0.81842636 0.22051204 0.34136775 0.41882772 0.80469845 0.60564336\n",
            " 0.48866825 0.20743785 0.49803115 0.72865584 0.32158222 0.99575341\n",
            " 0.07042009 0.30438516 0.67836053 0.82651408 0.70030055 0.19569736\n",
            " 0.19447979 0.27451977 0.54618225 0.44455825 0.42962262 0.31350303\n",
            " 0.71900407 0.62379155 0.00232301 0.76128107 0.88292121 0.943852\n",
            " 0.47282165 0.96745556 0.28715263 0.97740209 0.76383885 0.79043964\n",
            " 0.92154296 0.80573108 0.3352465  0.46031833 0.66041019 0.10892254\n",
            " 0.32394419 0.68328408 0.75278267 0.66100365 0.31020378 0.82296757\n",
            " 0.47439707 0.40235104 0.69499343 0.89922595]\n"
          ]
        },
        {
          "output_type": "display_data",
          "data": {
            "text/plain": [
              "<Figure size 640x480 with 1 Axes>"
            ],
            "image/png": "[encoded data removed]"
          },
          "metadata": {}
        }
      ]
    },
    {
      "cell_type": "markdown",
      "source": [
        "# **Python Matrix Algebra**\n",
        "\n",
        "Matrix in linear algebra is a n-dimentional array. A matrix is an m x n array of numbers, where m is the number of rows and n is the number of columns. In python numpy, different matrix operations are available and explained in the following order.\n",
        "\n",
        "    Inner product\n",
        "    Dot product\n",
        "    Transpose\n",
        "    Trace\n",
        "    Rank\n",
        "    Determinant\n",
        "    True inverse\n",
        "    Flatten\n",
        "    Eigenvalues and eigenvectors"
      ],
      "metadata": {
        "id": "FMGpX8SY9Lg5"
      }
    },
    {
      "cell_type": "markdown",
      "source": [
        "**Inner product and dot product**\n",
        "\n",
        "The inner product takes two vectors of equal size and returns a single number (scalar). This is calculated by multiplying the corresponding elements in each vector and adding up all of those products. In numpy, vectors are defined as one-dimensional numpy arrays.\n",
        "\n",
        "To get the inner product, we can use either np.inner() or np.dot(). Both give the same results. The inputs for these functions are two vectors and they should be the same size."
      ],
      "metadata": {
        "id": "ZECWcEAOleK8"
      }
    },
    {
      "cell_type": "code",
      "source": [
        "import numpy as np\n",
        "\n",
        "# Vectors as 1D numpy arrays\n",
        "a = np.array([1, 2, 3])\n",
        "b = np.array([4, 5, 6])\n",
        "\n",
        "print(\"a= \", a)\n",
        "print(\"b= \", b)\n",
        "print(\"\\ninner:\", np.inner(a, b))\n",
        "print(\"dot:\", np.dot(a, b))"
      ],
      "metadata": {
        "colab": {
          "base_uri": "https://localhost:8080/"
        },
        "id": "TmZNPjWtmI2G",
        "outputId": "60c6ba02-5edb-46c9-af5b-e58817434e00"
      },
      "execution_count": 1,
      "outputs": [
        {
          "output_type": "stream",
          "name": "stdout",
          "text": [
            "a=  [1 2 3]\n",
            "b=  [4 5 6]\n",
            "\n",
            "inner: 32\n",
            "dot: 32\n"
          ]
        }
      ]
    },
    {
      "cell_type": "markdown",
      "source": [
        "**Dot product**\n",
        "\n",
        "The dot product is defined for matrices. It is the sum of the products of the corresponding elements in the two matrices. To get the dot product, the number of columns in the first matrix should be equal to the number of rows in the second matrix.\n",
        "\n",
        "There are two ways to create matrices in numpy. The most common one is to use the numpy ndarray class. Here we create two-dimensional numpy arrays (**ndarray objects**). The other one is to use the numpy **matrix class**. Here we create matrix objects.\n",
        "\n",
        "The dot product of both ndarray and matrix objects can be obtained using np.dot().\n",
        "\n",
        "![dot.png](data:image/png;base64,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)"
      ],
      "metadata": {
        "id": "0vmm9wzmmaqr"
      }
    },
    {
      "cell_type": "code",
      "source": [
        "import numpy as np\n",
        "\n",
        "# Matrices as ndarray objects\n",
        "a = np.array([[1, 2], [3, 4]])\n",
        "b = np.array([[5, 6, 7], [8, 9, 10]])\n",
        "print(\"a\", type(a))\n",
        "print(a)\n",
        "print(\"\\nb\", type(b))\n",
        "print(b)\n",
        "\n",
        "# Matrices as matrix objects\n",
        "c = np.matrix([[1, 2], [3, 4]])\n",
        "d = np.matrix([[5, 6, 7], [8, 9, 10]])\n",
        "print(\"\\nc\", type(c))\n",
        "print(c)\n",
        "print(\"\\nd\", type(d))\n",
        "print(d)\n",
        "print(\"\\ndot product of two ndarray objects\")\n",
        "print(np.dot(a, b))\n",
        "print(\"\\ndot product of two matrix objects\")\n",
        "print(np.dot(c, d))"
      ],
      "metadata": {
        "colab": {
          "base_uri": "https://localhost:8080/"
        },
        "id": "KA39RoZqoBE0",
        "outputId": "9adc52ed-cf50-4624-9c75-4358800633c7"
      },
      "execution_count": 2,
      "outputs": [
        {
          "output_type": "stream",
          "name": "stdout",
          "text": [
            "a <class 'numpy.ndarray'>\n",
            "[[1 2]\n",
            " [3 4]]\n",
            "\n",
            "b <class 'numpy.ndarray'>\n",
            "[[ 5  6  7]\n",
            " [ 8  9 10]]\n",
            "\n",
            "c <class 'numpy.matrix'>\n",
            "[[1 2]\n",
            " [3 4]]\n",
            "\n",
            "d <class 'numpy.matrix'>\n",
            "[[ 5  6  7]\n",
            " [ 8  9 10]]\n",
            "\n",
            "dot product of two ndarray objects\n",
            "[[21 24 27]\n",
            " [47 54 61]]\n",
            "\n",
            "dot product of two matrix objects\n",
            "[[21 24 27]\n",
            " [47 54 61]]\n"
          ]
        }
      ]
    },
    {
      "cell_type": "markdown",
      "source": [
        "When multiplying two ndarray objects using the * operator, the result is the element-by-element multiplication. On the other hand, when multiplying two matrix objects using the * operator, the result is the dot (matrix) product which is equivalent to the np.dot() as previous."
      ],
      "metadata": {
        "id": "EQJsb3UypGj0"
      }
    },
    {
      "cell_type": "code",
      "source": [
        "import numpy as np\n",
        "\n",
        "# Matrices as ndarray objects\n",
        "a = np.array([[1, 2], [3, 4]])\n",
        "b = np.array([[5, 6], [8, 9]])\n",
        "print(\"a\", type(a))\n",
        "print(a)\n",
        "print(\"\\nb\", type(b))\n",
        "print(b)\n",
        "\n",
        "# Matrices as matrix objects\n",
        "c = np.matrix([[1, 2], [3, 4]])\n",
        "d = np.matrix([[5, 6], [8, 9]])\n",
        "print(\"\\nc\", type(c))\n",
        "print(c)\n",
        "print(\"\\nd\", type(d))\n",
        "print(d)\n",
        "print(\"\\n* operation on two ndarray objects (Elementwise)\")\n",
        "print(a * b)\n",
        "print(\"\\n* operation on two matrix objects (same as np.dot())\")\n",
        "print(c * d)"
      ],
      "metadata": {
        "colab": {
          "base_uri": "https://localhost:8080/"
        },
        "id": "Js86FGTfpJWx",
        "outputId": "6816be61-808e-40c4-c132-31065aa633c1"
      },
      "execution_count": 3,
      "outputs": [
        {
          "output_type": "stream",
          "name": "stdout",
          "text": [
            "a <class 'numpy.ndarray'>\n",
            "[[1 2]\n",
            " [3 4]]\n",
            "\n",
            "b <class 'numpy.ndarray'>\n",
            "[[5 6]\n",
            " [8 9]]\n",
            "\n",
            "c <class 'numpy.matrix'>\n",
            "[[1 2]\n",
            " [3 4]]\n",
            "\n",
            "d <class 'numpy.matrix'>\n",
            "[[5 6]\n",
            " [8 9]]\n",
            "\n",
            "* operation on two ndarray objects (Elementwise)\n",
            "[[ 5 12]\n",
            " [24 36]]\n",
            "\n",
            "* operation on two matrix objects (same as np.dot())\n",
            "[[21 24]\n",
            " [47 54]]\n"
          ]
        }
      ]
    },
    {
      "cell_type": "markdown",
      "source": [
        "**Matrix Transpose**\n",
        "\n",
        "The transpose of a matrix is found by switching its rows with its columns. We can use **np.transpose()** function or NumPy ndarray.transpose() method or **ndarray.T** (a special method which does not require parentheses) to get the transpose. All give the same output."
      ],
      "metadata": {
        "id": "PgA7WGM5pMmL"
      }
    },
    {
      "cell_type": "code",
      "source": [
        "import numpy as np\n",
        "\n",
        "a = np.array([[1, 2], [3, 4], [5, 6]])\n",
        "print(\"a = \")\n",
        "print(a)\n",
        "\n",
        "print(\"\\nWith np.transpose(a) function\")\n",
        "print(np.transpose(a))\n",
        "\n",
        "print(\"\\nWith ndarray.transpose() method\")\n",
        "print(a.transpose())\n",
        "\n",
        "print(\"\\nWith ndarray.T short form\")\n",
        "print(a.T)"
      ],
      "metadata": {
        "colab": {
          "base_uri": "https://localhost:8080/"
        },
        "id": "xcZVuVN_peqb",
        "outputId": "66884f63-84a4-4f20-be6e-5d93bb9208aa"
      },
      "execution_count": 4,
      "outputs": [
        {
          "output_type": "stream",
          "name": "stdout",
          "text": [
            "a = \n",
            "[[1 2]\n",
            " [3 4]\n",
            " [5 6]]\n",
            "\n",
            "With np.transpose(a) function\n",
            "[[1 3 5]\n",
            " [2 4 6]]\n",
            "\n",
            "With ndarray.transpose() method\n",
            "[[1 3 5]\n",
            " [2 4 6]]\n",
            "\n",
            "With ndarray.T short form\n",
            "[[1 3 5]\n",
            " [2 4 6]]\n"
          ]
        }
      ]
    },
    {
      "cell_type": "markdown",
      "source": [
        "**Trace**\n",
        "\n",
        "The trace is the sum of diagonal elements in a square matrix. There are two methods to calculate the trace. We can simply use the **trace()** method of an ndarray object or get the diagonal elements first and then get the sum."
      ],
      "metadata": {
        "id": "SCFFLlf-ptix"
      }
    },
    {
      "cell_type": "code",
      "source": [
        "import numpy as np\n",
        "a = np.matrix([[2, 2, 1],\n",
        "              [1, 3, 1],\n",
        "              [1, 2, 2]])\n",
        "print(\"a = \")\n",
        "print(a)\n",
        "print(\"\\nTrace:\", a.trace())"
      ],
      "metadata": {
        "colab": {
          "base_uri": "https://localhost:8080/"
        },
        "id": "VF6Pgtjkp_07",
        "outputId": "d4aba861-8b00-43ac-c126-050e764644dc"
      },
      "execution_count": 9,
      "outputs": [
        {
          "output_type": "stream",
          "name": "stdout",
          "text": [
            "a = \n",
            "[[2 2 1]\n",
            " [1 3 1]\n",
            " [1 2 2]]\n",
            "\n",
            "Trace: [[7]]\n"
          ]
        }
      ]
    },
    {
      "cell_type": "markdown",
      "source": [
        "**Rank**\n",
        "\n",
        "The rank of a matrix is the dimensions of the vector space spanned (generated) by its columns or rows. In other words, it can be defined as the maximum number of linearly independent column vectors or row vectors.\n",
        "\n",
        "The rank of a matrix can be found using the **matrix_rank()** function which comes from the numpy **linalg package**."
      ],
      "metadata": {
        "id": "0BJUlj_xqceL"
      }
    },
    {
      "cell_type": "code",
      "source": [
        "import numpy as np\n",
        "a = np.arange(1, 10)\n",
        "a.shape = (3, 3)\n",
        "print(\"a = \")\n",
        "print(a)\n",
        "rank = np.linalg.matrix_rank(a)\n",
        "print(\"\\nRank:\", rank)"
      ],
      "metadata": {
        "colab": {
          "base_uri": "https://localhost:8080/"
        },
        "id": "J-GTDt0tramR",
        "outputId": "ab480ee5-d03f-4298-8c9e-0ff84216ef68"
      },
      "execution_count": 10,
      "outputs": [
        {
          "output_type": "stream",
          "name": "stdout",
          "text": [
            "a = \n",
            "[[1 2 3]\n",
            " [4 5 6]\n",
            " [7 8 9]]\n",
            "\n",
            "Rank: 2\n"
          ]
        }
      ]
    },
    {
      "cell_type": "markdown",
      "source": [
        "**Determinant**\n",
        "\n",
        "The determinant of a square matrix can be calculated **det()** function which also comes from the numpy linalg package. If the determinant is 0, that matrix is not invertible. It is known as a singular matrix in algebra terms.\n",
        "\n",
        "https://www.mathsisfun.com/algebra/matrix-determinant.html"
      ],
      "metadata": {
        "id": "mdSzKbr6rkik"
      }
    },
    {
      "cell_type": "code",
      "source": [
        "import numpy as np\n",
        "a = np.array([[2, 2, 1],\n",
        "               [1, 3, 1],\n",
        "               [1, 2, 2]])\n",
        "print(\"a = \")\n",
        "print(a)\n",
        "det = np.linalg.det(a)\n",
        "print(\"\\nDeterminant:\", np.round(det))"
      ],
      "metadata": {
        "colab": {
          "base_uri": "https://localhost:8080/"
        },
        "id": "YpUru5xZsOSP",
        "outputId": "67a91d63-80dc-4eac-e6db-4c6766729169"
      },
      "execution_count": 11,
      "outputs": [
        {
          "output_type": "stream",
          "name": "stdout",
          "text": [
            "a = \n",
            "[[2 2 1]\n",
            " [1 3 1]\n",
            " [1 2 2]]\n",
            "\n",
            "Determinant: 5.0\n"
          ]
        }
      ]
    },
    {
      "cell_type": "markdown",
      "source": [
        "**True inverse**\n",
        "\n",
        "Inverse matrix is obtained by dividing the adjugate of the given matrix by the determinant of the given matrix.\n",
        "\n",
        "The true inverse of a square matrix can be found using the **inv()** function of the numpy linalg package. If the determinant of a square matrix is not 0, it has a true inverse.\n",
        "\n",
        "https://www.mathsisfun.com/algebra/matrix-inverse.html"
      ],
      "metadata": {
        "id": "Xy7Ca-oAt4A8"
      }
    },
    {
      "cell_type": "code",
      "source": [
        "import numpy as np\n",
        "a = np.array([[2, 2, 1],\n",
        "               [1, 3, 1],\n",
        "               [1, 2, 2]])\n",
        "print(\"a = \")\n",
        "print(a)\n",
        "det = np.linalg.det(a)\n",
        "print(\"\\nDeterminant:\", np.round(det))\n",
        "inv = np.linalg.inv(a)\n",
        "print(\"\\nInverse of a = \")\n",
        "print(inv)"
      ],
      "metadata": {
        "colab": {
          "base_uri": "https://localhost:8080/"
        },
        "id": "pN4H_AY9uhXB",
        "outputId": "b50f78f4-af83-454f-e118-4f8fb55f9cc3"
      },
      "execution_count": 12,
      "outputs": [
        {
          "output_type": "stream",
          "name": "stdout",
          "text": [
            "a = \n",
            "[[2 2 1]\n",
            " [1 3 1]\n",
            " [1 2 2]]\n",
            "\n",
            "Determinant: 5.0\n",
            "\n",
            "Inverse of a = \n",
            "[[ 0.8 -0.4 -0.2]\n",
            " [-0.2  0.6 -0.2]\n",
            " [-0.2 -0.4  0.8]]\n"
          ]
        }
      ]
    },
    {
      "cell_type": "markdown",
      "source": [
        "**Flatten**\n",
        "\n",
        "Flatten is a simple method to transform a matrix into a one-dimensional numpy array. For this, we can use the **flatten()** method of an ndarray object."
      ],
      "metadata": {
        "id": "ejqU2ZtKwI14"
      }
    },
    {
      "cell_type": "code",
      "source": [
        "import numpy as np\n",
        "a = np.arange(1, 10)\n",
        "a.shape = (3, 3)\n",
        "print(\"a = \")\n",
        "print(a)\n",
        "print(\"\\nAfter flattening\")\n",
        "print(\"------------------\")\n",
        "print(a.flatten())"
      ],
      "metadata": {
        "colab": {
          "base_uri": "https://localhost:8080/"
        },
        "id": "7rS87fzGwOAD",
        "outputId": "610f6dee-d68e-41c6-f5d3-e11278866bcf"
      },
      "execution_count": 13,
      "outputs": [
        {
          "output_type": "stream",
          "name": "stdout",
          "text": [
            "a = \n",
            "[[1 2 3]\n",
            " [4 5 6]\n",
            " [7 8 9]]\n",
            "\n",
            "After flattening\n",
            "------------------\n",
            "[1 2 3 4 5 6 7 8 9]\n"
          ]
        }
      ]
    },
    {
      "cell_type": "markdown",
      "source": [
        "**Eigenvalues and eigenvectors**\n",
        "\n",
        "Let A be an n x n matrix. A scalar λ is called an eigenvalue of A if there is a non-zero vector x satisfying the following equation.\n",
        "\n",
        "https://www.mathsisfun.com/algebra/eigenvalue.html\n",
        "\n",
        "The vector x is called the eigenvector of A corresponding to λ.\n",
        "\n",
        "In numpy, both eigenvalues and eigenvectors can be calculated simultaneously using the eig() function."
      ],
      "metadata": {
        "id": "eodjEY43wb-A"
      }
    },
    {
      "cell_type": "code",
      "source": [
        "import numpy as np\n",
        "a = np.array([[2, 2, 1],\n",
        "               [1, 3, 1],\n",
        "               [1, 2, 2]])\n",
        "print(\"a = \")\n",
        "print(a)\n",
        "w, v = np.linalg.eig(a)\n",
        "print(\"\\nEigenvalues:\")\n",
        "print(w)\n",
        "print(\"\\nEigenvectors:\")\n",
        "print(v)"
      ],
      "metadata": {
        "colab": {
          "base_uri": "https://localhost:8080/"
        },
        "id": "IXUi65nRxOVs",
        "outputId": "75d25107-24de-478a-c6bf-af074a5a803a"
      },
      "execution_count": 14,
      "outputs": [
        {
          "output_type": "stream",
          "name": "stdout",
          "text": [
            "a = \n",
            "[[2 2 1]\n",
            " [1 3 1]\n",
            " [1 2 2]]\n",
            "\n",
            "Eigenvalues:\n",
            "[5. 1. 1.]\n",
            "\n",
            "Eigenvectors:\n",
            "[[-0.57735027 -0.90453403  0.82529864]\n",
            " [-0.57735027  0.30151134 -0.52125218]\n",
            " [-0.57735027  0.30151134  0.21720572]]\n"
          ]
        }
      ]
    },
    {
      "cell_type": "markdown",
      "source": [
        "## **Matrix Excercise**"
      ],
      "metadata": {
        "id": "ff1bPKoCxUTH"
      }
    }
  ]
}