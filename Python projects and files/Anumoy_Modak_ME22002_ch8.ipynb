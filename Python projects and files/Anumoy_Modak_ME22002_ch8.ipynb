{
 "cells": [
  {
   "cell_type": "markdown",
   "metadata": {},
   "source": [
    "Functions Assignment(chapter 8)"
   ]
  },
  {
   "cell_type": "markdown",
   "metadata": {},
   "source": [
    "8-1. Message: Write a function called display_message() that prints one sentence\n",
    "telling everyone what you are learning about in this chapter. Call the\n",
    "function, and make sure the message displays correctly."
   ]
  },
  {
   "cell_type": "code",
   "execution_count": 2,
   "metadata": {},
   "outputs": [
    {
     "name": "stdout",
     "output_type": "stream",
     "text": [
      "I am learning functions\n"
     ]
    }
   ],
   "source": [
    "def display_message():\n",
    "    print(\"I am learning functions\")\n",
    "display_message()"
   ]
  },
  {
   "cell_type": "markdown",
   "metadata": {},
   "source": [
    "8-2.Write a function called favorite_book() that accepts one\n",
    "parameter, title. The function should print a message, such as One of my\n",
    "favorite books is Alice in Wonderland. Call the function, making sure to\n",
    "include a book title as an argument in the function call."
   ]
  },
  {
   "cell_type": "code",
   "execution_count": 3,
   "metadata": {},
   "outputs": [
    {
     "name": "stdout",
     "output_type": "stream",
     "text": [
      "My favourite book is Good Economics for bad times\n"
     ]
    }
   ],
   "source": [
    "def favorite_book(title):\n",
    "    print(f\"My favourite book is {title}\")\n",
    "favorite_book('Good Economics for bad times')"
   ]
  },
  {
   "cell_type": "markdown",
   "metadata": {},
   "source": [
    "8-3.T-Shirt: Write a function called make_shirt() that accepts a size and the text of a message that should be printed on the shirt. The function should print a sentence summarizing the size of the shirt and the message printed on it.\n",
    "Call the function once using positional arguments to make a shirt. Call the function a second time using keyword arguments"
   ]
  },
  {
   "cell_type": "code",
   "execution_count": 5,
   "metadata": {},
   "outputs": [
    {
     "name": "stdout",
     "output_type": "stream",
     "text": [
      "My T-shirt size is large and please do print a message XIM University\n",
      "My T-shirt size is Large and please do print a message XIM University\n"
     ]
    }
   ],
   "source": [
    "def make_shirt(size,text):\n",
    "    print(f\"My T-shirt size is {size} and please do print a message {text}\")\n",
    "make_shirt(\"large\",\"XIM University\")\n",
    "\n",
    "make_shirt(text='XIM University',size= 'Large')"
   ]
  },
  {
   "cell_type": "markdown",
   "metadata": {},
   "source": [
    "8-4. Large Shirts: Modify the make_shirt() function so that shirts are large\n",
    "by default with a message that reads I love Python. Make a large shirt and a\n",
    "medium shirt with the default message, and a shirt of any size with a different\n",
    "message."
   ]
  },
  {
   "cell_type": "code",
   "execution_count": 6,
   "metadata": {},
   "outputs": [
    {
     "name": "stdout",
     "output_type": "stream",
     "text": [
      "My T-shirt size is Large and please do print a message I love Python\n",
      "My T-shirt size is medium and please do print a message I love Python\n",
      "My T-shirt size is Large and please do print a message XIM University\n"
     ]
    }
   ],
   "source": [
    "def make_shirt(size='Large', text='I love Python'):\n",
    "    print(f\"My T-shirt size is {size} and please do print a message {text}\")\n",
    "make_shirt()\n",
    "make_shirt('medium')\n",
    "make_shirt(text='XIM University')"
   ]
  },
  {
   "cell_type": "markdown",
   "metadata": {},
   "source": [
    "8-5. Cities: Write a function called describe_city() that accepts the name of\n",
    "a city and its country. The function should print a simple sentence, such as\n",
    "Reykjavik is in Iceland. Give the parameter for the country a default value.\n",
    "Call your function for three different cities, at least one of which is not in the\n",
    "default country."
   ]
  },
  {
   "cell_type": "code",
   "execution_count": 8,
   "metadata": {},
   "outputs": [
    {
     "name": "stdout",
     "output_type": "stream",
     "text": [
      "I live in Kolkata, India\n",
      "I live in Bhubhaneshwar, India\n",
      "I live in Reykjavik, Iceland\n"
     ]
    }
   ],
   "source": [
    "def describe_city( city,country = 'India'):\n",
    "    print(f\"I live in {city}, {country}\")\n",
    "describe_city(city='Kolkata')\n",
    "describe_city(city= 'Bhubhaneshwar')\n",
    "describe_city(city='Reykjavik',country= 'Iceland')"
   ]
  },
  {
   "cell_type": "markdown",
   "metadata": {},
   "source": [
    "8-6. City Names: Write a function called city_country() that takes in the name\n",
    "of a city and its country. The function should return a string formatted like this:\n",
    "\n",
    "\"Santiago, Chile\"\n",
    "\n",
    "Call your function with at least three city-country pairs, and print the values\n",
    "that are returned."
   ]
  },
  {
   "cell_type": "code",
   "execution_count": 10,
   "metadata": {},
   "outputs": [
    {
     "name": "stdout",
     "output_type": "stream",
     "text": [
      "Bejing,china\n",
      "kolkata,India\n",
      "Jammu and Kashmir,India\n"
     ]
    }
   ],
   "source": [
    "def city_country(city,country):\n",
    "    return (f\"{city},{country}\")\n",
    "print(city_country('Bejing','china'))\n",
    "print(city_country('kolkata','India'))\n",
    "print(city_country('Jammu and Kashmir','India'))"
   ]
  },
  {
   "cell_type": "markdown",
   "metadata": {},
   "source": [
    "8-7. Album: Write a function called make_album() that builds a dictionary describing a music album. The function should take in an artist name and an album title, and it should return a dictionary containing these two pieces of information. Use the function to make three dictionaries representing different albums. Print each return value to show that the dictionaries are storing the album information correctly.\n",
    "\n",
    "Use None to add an optional parameter to make_album() that allows you to store the number of songs on an album. If the calling line includes a value for the number of songs, add that value to the album’s dictionary. Make at least one new function call that includes the number of songs on an album."
   ]
  },
  {
   "cell_type": "code",
   "execution_count": 3,
   "metadata": {},
   "outputs": [
    {
     "name": "stdout",
     "output_type": "stream",
     "text": [
      "{'Artist': 'Sonu Nigam', 'Album': 'sandaesse atay hai', 'no of songs': 4}\n",
      "{'Artist': 'Sonu Nigam version 2', 'Album': 'sandaesse jate hai', 'no of songs': 43}\n",
      "{'Artist': 'Sonu Nigam', 'Album': 'sandaesse atay hai', 'no of songs': 666}\n"
     ]
    }
   ],
   "source": [
    "def make_album(artist_name, album_title,songs= None):\n",
    "    details = {'Artist': artist_name,'Album': album_title, 'no of songs': songs}\n",
    "    return details\n",
    "print(make_album('Sonu Nigam','sandaesse atay hai',4))\n",
    "print(make_album('Sonu Nigam version 2','sandaesse jate hai',43))    \n",
    "print(make_album('Sonu Nigam','sandaesse atay hai',666))"
   ]
  },
  {
   "cell_type": "markdown",
   "metadata": {},
   "source": [
    "8-8. User Albums: Start with your program from Exercise 8-7. Write a while loop that allows users to enter an album’s artist and title. Once you have that information, call make_album() with the user’s input and print the dictionary that’s created. Be sure to include a quit value in the while loop."
   ]
  },
  {
   "cell_type": "code",
   "execution_count": 7,
   "metadata": {},
   "outputs": [
    {
     "name": "stdout",
     "output_type": "stream",
     "text": [
      "{'Artist': 'sonu nigam', 'Album': 'sandasse aatay hai ', 'no of songs': 4}\n"
     ]
    }
   ],
   "source": [
    "def make_album():\n",
    "    while True:\n",
    "        artist_name = input('artist')\n",
    "        if artist_name == 'q':break\n",
    "        album_title = input('album')\n",
    "        if album_title == 'q':break\n",
    "        songs = input('no of songs')\n",
    "        if songs == 'q':break\n",
    "        songs = int(songs)\n",
    "        details = {'Artist': artist_name,'Album': album_title, 'no of songs': songs}\n",
    "        print(details)\n",
    "make_album()"
   ]
  }
 ],
 "metadata": {
  "kernelspec": {
   "display_name": "Python 3",
   "language": "python",
   "name": "python3"
  },
  "language_info": {
   "codemirror_mode": {
    "name": "ipython",
    "version": 3
   },
   "file_extension": ".py",
   "mimetype": "text/x-python",
   "name": "python",
   "nbconvert_exporter": "python",
   "pygments_lexer": "ipython3",
   "version": "3.9.10"
  }
 },
 "nbformat": 4,
 "nbformat_minor": 2
}
