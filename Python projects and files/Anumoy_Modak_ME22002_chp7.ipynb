{
 "cells": [
  {
   "cell_type": "markdown",
   "metadata": {},
   "source": [
    "7-1. Rental Car: Write a program that asks the user what kind of rental car they\n",
    "would like. Print a message about that car, such as “Let me see if I can find you\n",
    "a Subaru.”"
   ]
  },
  {
   "cell_type": "code",
   "execution_count": 1,
   "metadata": {},
   "outputs": [
    {
     "name": "stdout",
     "output_type": "stream",
     "text": [
      "Let me see if I can find you a Subaru.\n"
     ]
    }
   ],
   "source": [
    "\n",
    "carname = input('What kind of Car do you want?') \n",
    "\n",
    "print(f\"Let me see if I can find you a {carname.lower().title()}.\")"
   ]
  },
  {
   "cell_type": "markdown",
   "metadata": {},
   "source": [
    "7-2. Restaurant Seating: Write a program that asks the user how many people\n",
    "are in their dinner group. If the answer is more than eight, print a message saying they’ll have to wait for a table. Otherwise, report that their table is ready"
   ]
  },
  {
   "cell_type": "code",
   "execution_count": 2,
   "metadata": {},
   "outputs": [
    {
     "name": "stdout",
     "output_type": "stream",
     "text": [
      "Here is your table.\n"
     ]
    }
   ],
   "source": [
    "numberofseats = input('How many seats will you require today?') \n",
    "numberofseats = int(numberofseats)\n",
    "\n",
    "if numberofseats > 8: \n",
    "    print(f\"Sorry, you will have to wait for a table\")\n",
    "else:\n",
    "    print(\"Here is your table.\")"
   ]
  },
  {
   "cell_type": "markdown",
   "metadata": {},
   "source": [
    "7-3. Multiples of Ten: Ask the user for a number, and then report whether the\n",
    "number is a multiple of 10 or not."
   ]
  },
  {
   "cell_type": "code",
   "execution_count": 4,
   "metadata": {},
   "outputs": [
    {
     "name": "stdout",
     "output_type": "stream",
     "text": [
      "98 is not a multiple of 10.\n"
     ]
    }
   ],
   "source": [
    "number_input = input('Input Number please.') \n",
    "number_input = int(number_input)\n",
    "\n",
    "if number_input%10 == 0:\n",
    "    print(f\"{number_input} is a multiple of 10.\")\n",
    "else:\n",
    "    print(f\"{number_input} is not a multiple of 10.\")\n"
   ]
  },
  {
   "cell_type": "markdown",
   "metadata": {},
   "source": [
    "7-4. Pizza Toppings: Write a loop that prompts the user to enter a series of\n",
    "pizza toppings until they enter a 'quit' value. As they enter each topping, print\n",
    "a message saying you’ll add that topping to their pizza."
   ]
  },
  {
   "cell_type": "code",
   "execution_count": 2,
   "metadata": {},
   "outputs": [
    {
     "name": "stdout",
     "output_type": "stream",
     "text": [
      "Your pizza will have: Cheese\n",
      "Your pizza will have: Sauce\n",
      "Your pizza will have :\n",
      "['Cheese', 'Sauce']\n"
     ]
    }
   ],
   "source": [
    "question = 'What topping do you want?'\n",
    " \n",
    "toppings = []\n",
    "\n",
    "accept_input = True\n",
    "while accept_input == True:\n",
    "    topping = input(question).lower()\n",
    "    if topping == 'quit':\n",
    "        accept_input = False\n",
    "    else:\n",
    "        print(f\"Your pizza will have: {topping.title()}\")\n",
    "        toppings.append(topping.title())\n",
    "        \n",
    "print(f\"Your pizza will have :\\n{toppings}\")\n",
    "        "
   ]
  },
  {
   "cell_type": "markdown",
   "metadata": {},
   "source": [
    "7-5. Movie Tickets: A movie theater charges different ticket prices depending on\n",
    "a person’s age. If a person is under the age of 3, the ticket is free; if they are\n",
    "between 3 and 12, the ticket is $10; and if they are over age 12, the ticket is\n",
    "$15. Write a loop in which you ask users their age, and then tell them the cost\n",
    "of their movie ticket"
   ]
  },
  {
   "cell_type": "code",
   "execution_count": 5,
   "metadata": {},
   "outputs": [
    {
     "name": "stdout",
     "output_type": "stream",
     "text": [
      "Your ticket is $15\n",
      "Your ticket is free\n",
      "Your ticket is $15\n",
      "Your ticket is $15\n",
      "Your ticket is $15\n"
     ]
    }
   ],
   "source": [
    "\n",
    "\n",
    "accept_input = True\n",
    "while accept_input == True:\n",
    "    age = input(\"What is your age\")\n",
    "    if age == 'quit':\n",
    "        accept_input = False\n",
    "        break\n",
    "    age = int(age) or 0\n",
    "    if age > 12:\n",
    "        print(f\"Your ticket is $15\")\n",
    "    elif age > 3 :\n",
    "        print(f\"Your ticket is $10\")\n",
    "    else:\n",
    "        print(f\"Your ticket is free\")\n",
    "\n",
    "    "
   ]
  },
  {
   "cell_type": "markdown",
   "metadata": {},
   "source": [
    "7-6. Three Exits: Write different versions of either Exercise 7-4 or 7-5 that do\n",
    "each of the following at least once:\n",
    "\n",
    "• Use a conditional test in the while statement to stop the loop.\n",
    "\n",
    "• Use an active variable to control how long the loop runs.\n",
    "\n",
    "• Use a break statement to exit the loop when the user enters a 'quit' value."
   ]
  },
  {
   "cell_type": "code",
   "execution_count": 13,
   "metadata": {},
   "outputs": [
    {
     "name": "stdout",
     "output_type": "stream",
     "text": [
      "Your pizza will have: Cheese\n",
      "Your pizza will have: Sauce\n",
      "Your pizza will have:\n",
      "['Cheese', 'Sauce']\n"
     ]
    }
   ],
   "source": [
    "\n",
    "question = f'What topping do you want?(Max 3) Type quit to exit.'\n",
    " \n",
    "toppings = []\n",
    "numberoftoppings = 0\n",
    "allowinput = True\n",
    "while allowinput:\n",
    "    topping = input(question).lower()\n",
    "    if numberoftoppings>5:\n",
    "        allowinput = False\n",
    "    elif topping == 'quit':\n",
    "        break\n",
    "    else:\n",
    "        print(f\"Your pizza will have: {topping.title()}\")\n",
    "        toppings.append(topping.title())\n",
    "        numberoftoppings+=1\n",
    "        \n",
    "print(f\"Your pizza will have:\\n{toppings}\")\n",
    "        "
   ]
  },
  {
   "cell_type": "markdown",
   "metadata": {},
   "source": [
    "7-7. Infinity: Write a loop that never ends, and run it. (To end the loop, press\n",
    "CTRL-C or close the window displaying the output.)"
   ]
  },
  {
   "cell_type": "code",
   "execution_count": null,
   "metadata": {},
   "outputs": [],
   "source": [
    "x = 0\n",
    "while x < 1:\n",
    "    print(x)"
   ]
  },
  {
   "cell_type": "markdown",
   "metadata": {},
   "source": [
    "7-8. Deli: Make a list called sandwich_orders and fill it with the names of various\n",
    "sandwiches. Then make an empty list called finished_sandwiches. Loop through\n",
    "the list of sandwich orders and print a message for each order, such as I made\n",
    "your tuna sandwich. As each sandwich is made, move it to the list of finished\n",
    "sandwiches. After all the sandwiches have been made, print a message listing\n",
    "each sandwich that was made."
   ]
  },
  {
   "cell_type": "code",
   "execution_count": 17,
   "metadata": {},
   "outputs": [
    {
     "name": "stdout",
     "output_type": "stream",
     "text": [
      "Your Chicken sandwich\n",
      "Your Egg sandwich\n",
      "Your Mutton sandwich\n",
      "Your Chinese sandwich\n",
      "Your Indian sandwich\n",
      "sandwichs were made:\n",
      "\n",
      "Chicken sandwich\n",
      "Egg sandwich\n",
      "Mutton sandwich\n",
      "Chinese sandwich\n",
      "Indian sandwich\n"
     ]
    }
   ],
   "source": [
    "sandwich_orders =['chicken','egg','mutton','chinese','indian']\n",
    "\n",
    "finished_sandwiches = []\n",
    "\n",
    "for sandwich in sandwich_orders:\n",
    "    print(f'Your {sandwich.title()} sandwich')\n",
    "    finished_sandwiches.append(sandwich)\n",
    "print(f'sandwichs were made:\\n')\n",
    "\n",
    "for sandwich in finished_sandwiches:\n",
    "    print(f'{sandwich.title()} sandwich')"
   ]
  },
  {
   "cell_type": "markdown",
   "metadata": {},
   "source": [
    "7-9. No Pastrami: Using the list sandwich_orders from Exercise 7-8, make sure\n",
    "the sandwich 'pastrami' appears in the list at least three times. Add code\n",
    "near the beginning of your program to print a message saying the deli has\n",
    "run out of pastrami, and then use a while loop to remove all occurrences of\n",
    "'pastrami' from sandwich_orders. Make sure no pastrami sandwiches end up\n",
    "in finished_sandwiches."
   ]
  },
  {
   "cell_type": "code",
   "execution_count": 19,
   "metadata": {},
   "outputs": [
    {
     "name": "stdout",
     "output_type": "stream",
     "text": [
      "There is no Pastrami\n",
      "Your Chicken sandwich\n",
      "Your Egg sandwich\n",
      "Your Mutton sandwich\n",
      "Your Chinese sandwich\n",
      "Your Indian sandwich\n",
      "sandwichs were made:\n",
      "\n",
      "Chicken sandwich\n",
      "Egg sandwich\n",
      "Mutton sandwich\n",
      "Chinese sandwich\n",
      "Indian sandwich\n"
     ]
    }
   ],
   "source": [
    "sandwich_orders =['chicken','egg','mutton','chinese','indian','pastrami']\n",
    "\n",
    "print('There is no Pastrami')\n",
    "\n",
    "while 'pastrami' in sandwich_orders:\n",
    "    sandwich_orders.remove('pastrami')\n",
    "\n",
    "\n",
    "finished_sandwiches = []\n",
    "\n",
    "for sandwich in sandwich_orders:\n",
    "    print(f'Your {sandwich.title()} sandwich')\n",
    "    finished_sandwiches.append(sandwich)\n",
    "print(f'sandwichs were made:\\n')\n",
    "\n",
    "for sandwich in finished_sandwiches:\n",
    "    print(f'{sandwich.title()} sandwich')"
   ]
  },
  {
   "cell_type": "markdown",
   "metadata": {},
   "source": [
    "7-10. Dream Vacation: Write a program that polls users about their dream vacation. Write a prompt similar to If you could visit one place in the world, where\n",
    "would you go? Include a block of code that prints the results of the poll.\n"
   ]
  },
  {
   "cell_type": "code",
   "execution_count": 24,
   "metadata": {},
   "outputs": [
    {
     "name": "stdout",
     "output_type": "stream",
     "text": [
      "{'Anumoy': ['Shimla', 'Kashmir']}\n"
     ]
    }
   ],
   "source": [
    "destinations = {}\n",
    "polled = []\n",
    "\n",
    "\n",
    "while True:\n",
    "    name_input = input('name').lower()\n",
    "    if name_input == 'quit':\n",
    "        break\n",
    "    poll_input = input(\"destination\").lower()\n",
    "    if poll_input == 'quit':\n",
    "        break\n",
    "    \n",
    "    if name_input not in polled:\n",
    "        polled.append(name_input)\n",
    "        destinations[name_input.title()] = [poll_input.title()]\n",
    "    else:\n",
    "        destinations[name_input.title()].append(poll_input.title())\n",
    "\n",
    "\n",
    "print(destinations)    \n"
   ]
  }
 ],
 "metadata": {
  "kernelspec": {
   "display_name": "Python 3",
   "language": "python",
   "name": "python3"
  },
  "language_info": {
   "codemirror_mode": {
    "name": "ipython",
    "version": 3
   },
   "file_extension": ".py",
   "mimetype": "text/x-python",
   "name": "python",
   "nbconvert_exporter": "python",
   "pygments_lexer": "ipython3",
   "version": "3.9.10"
  }
 },
 "nbformat": 4,
 "nbformat_minor": 2
}
