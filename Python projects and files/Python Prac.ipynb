{
 "cells": [
  {
   "cell_type": "code",
   "execution_count": 7,
   "metadata": {},
   "outputs": [
    {
     "name": "stdout",
     "output_type": "stream",
     "text": [
      "Bruh at 675% coefficient\n"
     ]
    }
   ],
   "source": [
    "def bruhmoment(bruh_coeff):\n",
    "    if bruh_coeff > 100:\n",
    "        print(f\"Bruh at {bruh_coeff}% coefficient\")\n",
    "\n",
    "a = 67\n",
    "\n",
    "bruhmoment(10)\n",
    "bruhmoment(675)"
   ]
  },
  {
   "cell_type": "markdown",
   "metadata": {},
   "source": [
    "Python Basics_coding_Msc_Economics_SEM4\n"
   ]
  },
  {
   "cell_type": "code",
   "execution_count": 8,
   "metadata": {},
   "outputs": [
    {
     "name": "stdout",
     "output_type": "stream",
     "text": [
      "<class 'int'>\n"
     ]
    }
   ],
   "source": [
    "#types of Variables : \n",
    "\n",
    "#integer\n",
    "a = 9\n",
    "type(a)\n",
    "print(type(a))"
   ]
  },
  {
   "cell_type": "code",
   "execution_count": 9,
   "metadata": {},
   "outputs": [
    {
     "name": "stdout",
     "output_type": "stream",
     "text": [
      "<class 'float'>\n"
     ]
    }
   ],
   "source": [
    "#float\n",
    "b = 0.05\n",
    "print(type(b))"
   ]
  },
  {
   "cell_type": "code",
   "execution_count": 10,
   "metadata": {},
   "outputs": [
    {
     "name": "stdout",
     "output_type": "stream",
     "text": [
      "<class 'str'> Anumoy\n"
     ]
    }
   ],
   "source": [
    "#String\n",
    "c = \"Anumoy\"\n",
    "print(type(c),c)"
   ]
  },
  {
   "cell_type": "code",
   "execution_count": 11,
   "metadata": {},
   "outputs": [
    {
     "name": "stdout",
     "output_type": "stream",
     "text": [
      "<class 'complex'> (2+3j)\n"
     ]
    }
   ],
   "source": [
    "#complex\n",
    "d = 2+3j\n",
    "print(type(d),d)"
   ]
  },
  {
   "cell_type": "code",
   "execution_count": 13,
   "metadata": {},
   "outputs": [
    {
     "name": "stdout",
     "output_type": "stream",
     "text": [
      "I am reading python for \"data analysis\".\n"
     ]
    }
   ],
   "source": [
    "#how to use quotation marks in string \n",
    "a = \"I am reading python for \\\"data analysis\\\".\"\n",
    "print(a)"
   ]
  },
  {
   "cell_type": "code",
   "execution_count": 19,
   "metadata": {},
   "outputs": [
    {
     "name": "stdout",
     "output_type": "stream",
     "text": [
      "I am \"reading\" python for \"data analysis\".\n"
     ]
    }
   ],
   "source": [
    "a = \"\"\"I am \"reading\" python for \\\"data analysis\\\".\"\"\"\n",
    "print(a)"
   ]
  },
  {
   "cell_type": "code",
   "execution_count": 25,
   "metadata": {},
   "outputs": [
    {
     "name": "stdout",
     "output_type": "stream",
     "text": [
      "list of languages: \n",
      " a) python \n",
      " b) C++ \n",
      " c) javaScript \n"
     ]
    }
   ],
   "source": [
    "B = \"list of languages: \\n a) python \\n b) C++ \\n c) javaScript \"\n",
    "print(B)"
   ]
  },
  {
   "cell_type": "code",
   "execution_count": 29,
   "metadata": {},
   "outputs": [
    {
     "name": "stdout",
     "output_type": "stream",
     "text": [
      "Economics\n",
      "ECONOMICS\n",
      "economics\n"
     ]
    }
   ],
   "source": [
    "#Types of srting methods: \n",
    "\n",
    "A = \"economics\"\n",
    "print(A.title())\n",
    "print(A.upper())\n",
    "print(A.lower())"
   ]
  },
  {
   "cell_type": "markdown",
   "metadata": {},
   "source": [
    "different way of writing commas between strings [Note: there is default space in between, therefore there isa bettwer way]"
   ]
  },
  {
   "cell_type": "code",
   "execution_count": 30,
   "metadata": {},
   "outputs": [
    {
     "name": "stdout",
     "output_type": "stream",
     "text": [
      "Economics , ECONOMICS , economics\n"
     ]
    }
   ],
   "source": [
    "A = \"economics\"\n",
    "print(A.title(),\",\",A.upper(),\",\",A.lower())"
   ]
  },
  {
   "cell_type": "code",
   "execution_count": 33,
   "metadata": {},
   "outputs": [
    {
     "name": "stdout",
     "output_type": "stream",
     "text": [
      "MY favourite languages are Pyhton, C++, stataScript.\n"
     ]
    }
   ],
   "source": [
    "a = \"favourite languages\"\n",
    "lang1 = \"Pyhton\"\n",
    "lang2 = \"C++\"\n",
    "lang3 = \"stataScript\"\n",
    "\n",
    "print(f\"MY {a} are {lang1}, {lang2}, {lang3}.\")"
   ]
  },
  {
   "cell_type": "markdown",
   "metadata": {},
   "source": [
    "Strip method: .rstrip(), .lstrip(), .strp()"
   ]
  },
  {
   "cell_type": "code",
   "execution_count": 44,
   "metadata": {},
   "outputs": [
    {
     "name": "stdout",
     "output_type": "stream",
     "text": [
      "My Favourite Whiskeys            : \n",
      " 1)     Sterling Reserve B7 and B10. \n",
      " 2)   Blenders Pride   . \n",
      " 3)100 pipers    . \n",
      " 4)Willam Lawson. \n",
      " 5)antiquity               . \n",
      " 6)Black Dog.\n",
      " \n",
      "\n",
      "My Favourite Whiskeys: \n",
      " 1)Sterling Reserve B7 and B10. \n",
      " 2)Blenders Pride. \n",
      " 3)100 pipers. \n",
      " 4)Willam Lawson. \n",
      " 5)antiquity. \n",
      " 6)Black Dog.\n",
      "\n",
      "\n",
      "\n",
      "\n",
      "My list of Whiskeys that should be banned.: \n",
      "    1)Sterling Reserve B7 and B10.\n",
      "    2)Blenders Pride.\n",
      "    3)100 pipers.\n",
      "    4)Willam Lawson.\n",
      "    5)antiquity.\n",
      "    6)Black Dog.\n"
     ]
    }
   ],
   "source": [
    "b = \"Favourite Whiskeys            \"\n",
    "\n",
    "whiskey1 = \"     Sterling Reserve B7 and B10\"\n",
    "whiskey2 = \"   Blenders Pride   \"\n",
    "whiskey3 = \"100 pipers    \"\n",
    "whiskey4 = \"Willam Lawson\"\n",
    "whiskey5 = \"antiquity               \"\n",
    "whiskey6 = \"Black Dog\"\n",
    "\n",
    "print(f\"My {b}: \\n 1){whiskey1}. \\n 2){whiskey2}. \\n 3){whiskey3}. \\n 4){whiskey4}. \\n 5){whiskey5}. \\n 6){whiskey6}.\\n \\n\")\n",
    "\n",
    "print(f\"My {b.rstrip()}: \\n 1){whiskey1.lstrip()}. \\n 2){whiskey2.strip()}. \\n 3){whiskey3.rstrip()}. \\n 4){whiskey4}. \\n 5){whiskey5.rstrip()}. \\n 6){whiskey6}.\")\n",
    "\n",
    "c = \"Whiskeys that should be banned.\"\n",
    "print(f\"\"\"\n",
    "\n",
    "\n",
    "\n",
    "My list of {c.strip()}: \n",
    "    1){whiskey1.strip()}.\n",
    "    2){whiskey2.strip()}.\n",
    "    3){whiskey3.strip()}.\n",
    "    4){whiskey4.strip()}.\n",
    "    5){whiskey5.strip()}.\n",
    "    6){whiskey6.strip()}.\"\"\")"
   ]
  }
 ],
 "metadata": {
  "kernelspec": {
   "display_name": "Python 3",
   "language": "python",
   "name": "python3"
  },
  "language_info": {
   "codemirror_mode": {
    "name": "ipython",
    "version": 3
   },
   "file_extension": ".py",
   "mimetype": "text/x-python",
   "name": "python",
   "nbconvert_exporter": "python",
   "pygments_lexer": "ipython3",
   "version": "3.9.10"
  }
 },
 "nbformat": 4,
 "nbformat_minor": 2
}
