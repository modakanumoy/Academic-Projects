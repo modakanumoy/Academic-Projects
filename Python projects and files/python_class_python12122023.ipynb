{
 "cells": [
  {
   "cell_type": "code",
   "execution_count": null,
   "metadata": {},
   "outputs": [],
   "source": []
  },
  {
   "cell_type": "markdown",
   "metadata": {},
   "source": [
    "Removing an item by value : [12/12/2023]"
   ]
  },
  {
   "cell_type": "code",
   "execution_count": 1,
   "metadata": {},
   "outputs": [
    {
     "name": "stdout",
     "output_type": "stream",
     "text": [
      "['Honda', 'Yamaha', 'suzuki', 'Dukati']\n",
      "['Honda', 'Yamaha', 'suzuki']\n"
     ]
    }
   ],
   "source": [
    "Motorcycle = ['Honda','Yamaha','suzuki', 'Dukati']\n",
    "print(Motorcycle)\n",
    "Motorcycle.remove('Dukati')\n",
    "print(Motorcycle)"
   ]
  },
  {
   "cell_type": "markdown",
   "metadata": {},
   "source": [
    "Reason for removing Dukati "
   ]
  },
  {
   "cell_type": "code",
   "execution_count": 3,
   "metadata": {},
   "outputs": [
    {
     "name": "stdout",
     "output_type": "stream",
     "text": [
      "['Honda', 'Yamaha', 'suzuki', 'Dukati']\n",
      "['Honda', 'Yamaha', 'suzuki']\n",
      "Reason for removing : Dukati is costly\n"
     ]
    }
   ],
   "source": [
    "Motorcycle = ['Honda','Yamaha','suzuki', 'Dukati']\n",
    "print(Motorcycle)\n",
    "Motorcycle.remove('Dukati')\n",
    "print(Motorcycle)\n",
    "print(\"Reason for removing Dukati : Dukati is costly\")"
   ]
  },
  {
   "cell_type": "code",
   "execution_count": 6,
   "metadata": {},
   "outputs": [
    {
     "name": "stdout",
     "output_type": "stream",
     "text": [
      "['Honda', 'Yamaha', 'suzuki', 'Dukati']\n",
      "['Honda', 'Yamaha', 'suzuki']\n",
      "\n",
      " A Dukati is too expensive for me\n"
     ]
    }
   ],
   "source": [
    "Motorcycle = ['Honda','Yamaha','suzuki', 'Dukati']\n",
    "print(Motorcycle)\n",
    "too_expensive = 'Dukati'\n",
    "Motorcycle.remove(too_expensive)\n",
    "print(Motorcycle)\n",
    "print(f\"\\n A {too_expensive.title()} is too expensive for me\")"
   ]
  },
  {
   "cell_type": "markdown",
   "metadata": {},
   "source": [
    "Assignment 1 : date- 12/12/2023"
   ]
  },
  {
   "cell_type": "code",
   "execution_count": 1,
   "metadata": {},
   "outputs": [
    {
     "name": "stdout",
     "output_type": "stream",
     "text": [
      "['Spandan', 'Bhaskar', 'Abhishek', 'Rajveer', 'Abhirub']\n"
     ]
    }
   ],
   "source": [
    "Name = ['Spandan','Bhaskar','Abhishek','Rajveer','Abhirub']\n",
    "print(Name)"
   ]
  },
  {
   "cell_type": "code",
   "execution_count": 3,
   "metadata": {},
   "outputs": [
    {
     "name": "stdout",
     "output_type": "stream",
     "text": [
      "Spandan\n",
      "Bhaskar\n",
      "Abhishek\n",
      "Rajveer\n",
      "Abhirub\n"
     ]
    }
   ],
   "source": [
    "Name = ['Spandan','Bhaskar','Abhishek','Rajveer','Abhirub']\n",
    "print(Name[0])\n",
    "print(Name[1])\n",
    "print(Name[2])\n",
    "print(Name[3])\n",
    "print(Name[4])"
   ]
  },
  {
   "cell_type": "code",
   "execution_count": 5,
   "metadata": {},
   "outputs": [
    {
     "name": "stdout",
     "output_type": "stream",
     "text": [
      "hello Spandan have a good day\n",
      "hello Bhaskar have a good day\n",
      "hello Abhishek have a good day\n",
      "hello Rajveer have a good day\n",
      "hello Abhirub have a good day\n"
     ]
    }
   ],
   "source": [
    "Name = ['Spandan','Bhaskar','Abhishek','Rajveer','Abhirub']\n",
    "print(f\"hello {Name[0]} have a good day\")\n",
    "print(f\"hello {Name[1]} have a good day\")\n",
    "print(f\"hello {Name[2]} have a good day\")\n",
    "print(f\"hello {Name[3]} have a good day\")\n",
    "print(f\"hello {Name[4]} have a good day\")\n"
   ]
  },
  {
   "cell_type": "code",
   "execution_count": 9,
   "metadata": {},
   "outputs": [
    {
     "name": "stdout",
     "output_type": "stream",
     "text": [
      "Spandan will come by TataMotors\n",
      "Bhaskar will come by Audi\n",
      "Abhishek will come by Thar\n",
      "Rajveer will come by Jaguar\n",
      "Abhirub will come by lamborgini\n"
     ]
    }
   ],
   "source": [
    "Car = ['TataMotors','Audi','Thar','Jaguar', 'lamborgini']\n",
    "Name = ['Spandan','Bhaskar','Abhishek','Rajveer','Abhirub']\n",
    "print(f\"{Name[0]} will come by {Car[0]}\")\n",
    "print(f\"{Name[1]} will come by {Car[1]}\")\n",
    "print(f\"{Name[2]} will come by {Car[2]}\")\n",
    "print(f\"{Name[3]} will come by {Car[3]}\")\n",
    "print(f\"{Name[4]} will come by {Car[4]}\")"
   ]
  },
  {
   "cell_type": "markdown",
   "metadata": {},
   "source": [
    "Sorting a list : Sorting is a method to sort the objects alphabetically "
   ]
  },
  {
   "cell_type": "code",
   "execution_count": 10,
   "metadata": {},
   "outputs": [
    {
     "name": "stdout",
     "output_type": "stream",
     "text": [
      "['Audi', 'Audi', 'Mahendra', 'Skoda', 'Tata']\n"
     ]
    }
   ],
   "source": [
    "Cars = ['Mahendra','Skoda','Audi','Tata','Audi']\n",
    "Cars.sort()\n",
    "print(Cars)"
   ]
  },
  {
   "cell_type": "code",
   "execution_count": 11,
   "metadata": {},
   "outputs": [
    {
     "name": "stdout",
     "output_type": "stream",
     "text": [
      "['Tata', 'Skoda', 'Mahendra', 'Audi', 'Audi']\n"
     ]
    }
   ],
   "source": [
    "Cars = ['Mahendra','Skoda','Audi','Tata','Audi']\n",
    "Cars.sort(reverse=True)\n",
    "print(Cars)"
   ]
  },
  {
   "cell_type": "code",
   "execution_count": 12,
   "metadata": {},
   "outputs": [
    {
     "name": "stdout",
     "output_type": "stream",
     "text": [
      "['Madhuparna', 'Priyanka', 'Rachita', 'Rajkrishna', 'Rohit', 'Shamikh', 'Subhajit']\n"
     ]
    }
   ],
   "source": [
    "Friends = ['Rajkrishna','Rohit','Subhajit','Shamikh','Madhuparna','Rachita','Priyanka']\n",
    "Friends.sort()\n",
    "print(Friends)"
   ]
  },
  {
   "cell_type": "code",
   "execution_count": 13,
   "metadata": {},
   "outputs": [
    {
     "name": "stdout",
     "output_type": "stream",
     "text": [
      "Original list of friends\n",
      "['Rajkrishna', 'Rohit', 'Subhajit', 'Shamikh', 'Madhuparna', 'Rachita', 'Priyanka']\n",
      "\n",
      " here is the sorted list\n",
      "['Madhuparna', 'Priyanka', 'Rachita', 'Rajkrishna', 'Rohit', 'Shamikh', 'Subhajit']\n",
      "\n",
      " these are the original list\n",
      "['Rajkrishna', 'Rohit', 'Subhajit', 'Shamikh', 'Madhuparna', 'Rachita', 'Priyanka']\n"
     ]
    }
   ],
   "source": [
    "#Sorting a method Temporarily\n",
    "\n",
    "Friends = ['Rajkrishna','Rohit','Subhajit','Shamikh','Madhuparna','Rachita','Priyanka']\n",
    "print(\"Original list of friends\")\n",
    "print(Friends)\n",
    "print(\"\\n here is the sorted list\")\n",
    "print(sorted(Friends))\n",
    "print(\"\\n these are the original list\")\n",
    "print(Friends)"
   ]
  },
  {
   "cell_type": "code",
   "execution_count": 14,
   "metadata": {},
   "outputs": [
    {
     "name": "stdout",
     "output_type": "stream",
     "text": [
      "['Mahendra', 'Skoda', 'Audi', 'Tata', 'Audi']\n",
      "['Audi', 'Tata', 'Audi', 'Skoda', 'Mahendra']\n"
     ]
    }
   ],
   "source": [
    "#printing the list in reverse order \n",
    "#Example: 1\n",
    "\n",
    "Cars = ['Mahendra','Skoda','Audi','Tata','Audi']\n",
    "print(Cars)\n",
    "Cars.reverse()\n",
    "print(Cars)"
   ]
  },
  {
   "cell_type": "code",
   "execution_count": 16,
   "metadata": {},
   "outputs": [
    {
     "name": "stdout",
     "output_type": "stream",
     "text": [
      "['Rajkrishna', 'Rohit', 'Subhajit', 'Shamikh', 'Madhuparna', 'Rachita', 'Priyanka']\n",
      "['Priyanka', 'Rachita', 'Madhuparna', 'Shamikh', 'Subhajit', 'Rohit', 'Rajkrishna']\n"
     ]
    }
   ],
   "source": [
    "#Example 2\n",
    "\n",
    "Friends = ['Rajkrishna','Rohit','Subhajit','Shamikh','Madhuparna','Rachita','Priyanka']\n",
    "print(Friends)\n",
    "Friends.reverse()\n",
    "print(Friends)"
   ]
  },
  {
   "cell_type": "markdown",
   "metadata": {},
   "source": [
    "Making Numericals list: by using range() function "
   ]
  },
  {
   "cell_type": "code",
   "execution_count": 2,
   "metadata": {},
   "outputs": [
    {
     "name": "stdout",
     "output_type": "stream",
     "text": [
      "[1, 2, 3, 4, 5]\n"
     ]
    }
   ],
   "source": [
    "value = [1,2,3,4,5]\n",
    "print(value)\n"
   ]
  },
  {
   "cell_type": "markdown",
   "metadata": {},
   "source": [
    "slicing a list"
   ]
  }
 ],
 "metadata": {
  "kernelspec": {
   "display_name": "Python 3",
   "language": "python",
   "name": "python3"
  },
  "language_info": {
   "codemirror_mode": {
    "name": "ipython",
    "version": 3
   },
   "file_extension": ".py",
   "mimetype": "text/x-python",
   "name": "python",
   "nbconvert_exporter": "python",
   "pygments_lexer": "ipython3",
   "version": "3.9.10"
  }
 },
 "nbformat": 4,
 "nbformat_minor": 2
}
