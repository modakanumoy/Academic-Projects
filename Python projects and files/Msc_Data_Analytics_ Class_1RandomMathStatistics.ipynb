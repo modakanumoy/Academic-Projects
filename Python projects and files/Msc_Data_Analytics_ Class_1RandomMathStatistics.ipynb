{
 "cells": [
  {
   "cell_type": "code",
   "execution_count": 192,
   "metadata": {},
   "outputs": [
    {
     "name": "stdout",
     "output_type": "stream",
     "text": [
      "1\n",
      "6\n",
      "Pizza\n",
      "['Chillies', 'Brinjal', 'Brinjal', 'Chillies']\n",
      "['Cheese', 'Pizza', 'Chillies', 'Brinjal']\n",
      "['Chillies']\n",
      "0.5860643734085744\n",
      "10.720442211430814\n",
      "1.4294996731144203\n"
     ]
    },
    {
     "data": {
      "text/plain": [
       "64"
      ]
     },
     "execution_count": 192,
     "metadata": {},
     "output_type": "execute_result"
    }
   ],
   "source": [
    "import random\n",
    "\n",
    "print(random.randint(1,1))\n",
    "print(random.randrange(0,9,3))\n",
    "\n",
    "fruits = ['Cheese','Pizza','Chillies','Brinjal']\n",
    "\n",
    "print(random.choice(fruits))\n",
    "\n",
    "print((random.choices(fruits,weights=[10,20,5,100],k=4)))\n",
    "\n",
    "shuffled_fruits = fruits[:]\n",
    "random.shuffle(shuffled_fruits)\n",
    "\n",
    "print(shuffled_fruits)\n",
    "\n",
    "print(random.sample(fruits,k=1))\n",
    "\n",
    "print(random.random())\n",
    "\n",
    "print(random.uniform(10,12))\n",
    "\n",
    "print(random.normalvariate())\n",
    "\n",
    "random.seed(51)\n",
    "\n"
   ]
  },
  {
   "cell_type": "code",
   "execution_count": 202,
   "metadata": {},
   "outputs": [
    {
     "name": "stdout",
     "output_type": "stream",
     "text": [
      "10\n",
      "10.0\n",
      "1\n",
      "7.613882366493524\n",
      "6.0553007081949835\n",
      "5.744562646538029\n",
      "36.666666666666664\n"
     ]
    }
   ],
   "source": [
    "import statistics\n",
    "\n",
    "my_list = list(range(1,20,2))\n",
    "\n",
    "print(statistics.mean(my_list))\n",
    "print(statistics.median(my_list))\n",
    "print(statistics.mode(my_list))\n",
    "print(statistics.geometric_mean(my_list))\n",
    "print(statistics.stdev(my_list))\n",
    "print(statistics.pstdev(my_list))\n",
    "print(statistics.variance(my_list))"
   ]
  },
  {
   "cell_type": "code",
   "execution_count": 204,
   "metadata": {},
   "outputs": [],
   "source": [
    "import numpy as GHF"
   ]
  }
 ],
 "metadata": {
  "kernelspec": {
   "display_name": "Python 3",
   "language": "python",
   "name": "python3"
  },
  "language_info": {
   "codemirror_mode": {
    "name": "ipython",
    "version": 3
   },
   "file_extension": ".py",
   "mimetype": "text/x-python",
   "name": "python",
   "nbconvert_exporter": "python",
   "pygments_lexer": "ipython3",
   "version": "3.11.3"
  }
 },
 "nbformat": 4,
 "nbformat_minor": 2
}
