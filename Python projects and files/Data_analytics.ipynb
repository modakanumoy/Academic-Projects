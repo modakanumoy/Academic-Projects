{
 "cells": [
  {
   "cell_type": "markdown",
   "metadata": {},
   "source": [
    "numpy universal functions "
   ]
  },
  {
   "cell_type": "markdown",
   "metadata": {},
   "source": [
    "Universal function : vectorization "
   ]
  },
  {
   "cell_type": "code",
   "execution_count": 1,
   "metadata": {},
   "outputs": [
    {
     "name": "stdout",
     "output_type": "stream",
     "text": [
      "[8, 10, 12, 14, 16]\n"
     ]
    }
   ],
   "source": [
    "#addition under list method (Normal method):zip method \n",
    "\n",
    "list1 = [1,2,3,4,5,6]\n",
    "list2 = [7,8,9,10,11]\n",
    "z = []\n",
    "for i,j in zip(list1,list2):\n",
    "    z.append(i+j)\n",
    "print(z)"
   ]
  },
  {
   "cell_type": "code",
   "execution_count": 2,
   "metadata": {},
   "outputs": [
    {
     "name": "stdout",
     "output_type": "stream",
     "text": [
      "6\n",
      "6\n",
      "[ 8 10 12 14 16 18]\n",
      "[ 124 1256]\n"
     ]
    }
   ],
   "source": [
    "#addition method : by add method \n",
    "\n",
    "import numpy as np  #alais\n",
    "\n",
    "list1 = [1,2,3,4,5,6]\n",
    "list2 = [7,8,9,10,11,12]\n",
    "print(len(list1))\n",
    "print(len(list2))\n",
    "\n",
    "z = np.add(list1,list2)\n",
    "print(z)\n",
    "\n",
    "\n",
    "list1 = [24,56]\n",
    "list2 = [100,1200]\n",
    "z = np.add(list1,list2)\n",
    "print(z)\n"
   ]
  },
  {
   "cell_type": "code",
   "execution_count": 3,
   "metadata": {},
   "outputs": [
    {
     "name": "stdout",
     "output_type": "stream",
     "text": [
      "6\n",
      "6\n",
      "[ 8 10 12 14 16 18]\n",
      "[-6 -6 -6 -6 -6 -6]\n",
      "[ 7 16 27 40 55 72]\n",
      "[0.14285714 0.25       0.33333333 0.4        0.45454545 0.5       ]\n",
      "[          1         256       19683     1048576    48828125 -2118184960]\n",
      "[1 2 3 4 5 6]\n",
      "[1 2 3 4 5 6]\n"
     ]
    }
   ],
   "source": [
    "#subtraction #multiplication #division  #sum\n",
    "\n",
    "list1 = [1,2,3,4,5,6]\n",
    "list2 = [7,8,9,10,11,12]\n",
    "print(len(list1))\n",
    "print(len(list2))\n",
    "z = np.add(list1,list2)\n",
    "print(z)\n",
    "z = np.subtract(list1,list2)\n",
    "print(z)\n",
    "z = np.multiply(list1,list2)\n",
    "print(z)\n",
    "z = np.divide(list1,list2)\n",
    "print(z)\n",
    "z = np.power(list1,list2)\n",
    "print(z)\n",
    "z = np.mod(list1,list2)\n",
    "print(z)\n",
    "z = np.remainder(list1,list2)\n",
    "print(z)\n"
   ]
  },
  {
   "cell_type": "markdown",
   "metadata": {},
   "source": [
    "Rounding up the decimel: "
   ]
  },
  {
   "cell_type": "code",
   "execution_count": 4,
   "metadata": {},
   "outputs": [
    {
     "name": "stdout",
     "output_type": "stream",
     "text": [
      "[-3.  3.]\n",
      "[-3.  3.]\n"
     ]
    }
   ],
   "source": [
    "#remove the decimels, and return the float number \n",
    "\n",
    "import numpy as np \n",
    "\n",
    "arr = np.trunc([-3.16666,3.952222])\n",
    "print(arr)\n",
    "arr = np.fix([-3.16666,3.952222])\n",
    "print(arr)"
   ]
  },
  {
   "cell_type": "code",
   "execution_count": 5,
   "metadata": {},
   "outputs": [
    {
     "name": "stdout",
     "output_type": "stream",
     "text": [
      "[-3.167  3.952]\n",
      "[-3.17  3.95]\n",
      "[-3.2  4. ]\n"
     ]
    }
   ],
   "source": [
    "\n",
    "\n",
    "import numpy as np \n",
    "\n",
    "arr = np.round([-3.16666,3.952222],3)\n",
    "print(arr)\n",
    "arr = np.round([-3.16666,3.952222],2)\n",
    "print(arr)\n",
    "arr = np.round([-3.16666,3.952222],1)\n",
    "print(arr)"
   ]
  },
  {
   "cell_type": "markdown",
   "metadata": {},
   "source": [
    "floor and cieling method: "
   ]
  },
  {
   "cell_type": "code",
   "execution_count": 6,
   "metadata": {},
   "outputs": [
    {
     "name": "stdout",
     "output_type": "stream",
     "text": [
      "[-4.  3.]\n",
      "[-3.  4.]\n",
      "[-4.  3.]\n"
     ]
    }
   ],
   "source": [
    "import numpy as np \n",
    "\n",
    "arr = np.floor([-3.16666,3.952222])\n",
    "print(arr)\n",
    "arr = np.ceil([-3.16666,3.952222])\n",
    "print(arr)\n",
    "arr = np.floor([-3.9666666,3.952222])\n",
    "print(arr)"
   ]
  },
  {
   "cell_type": "markdown",
   "metadata": {},
   "source": [
    "arrenge method "
   ]
  },
  {
   "cell_type": "code",
   "execution_count": 7,
   "metadata": {},
   "outputs": [
    {
     "name": "stdout",
     "output_type": "stream",
     "text": [
      "[ 1  2  3  4  5  6  7  8  9 10 11]\n",
      "[0.         1.         1.5849625  2.         2.32192809 2.5849625\n",
      " 2.80735492 3.         3.169925   3.32192809 3.45943162]\n",
      "15.609640474436812\n"
     ]
    }
   ],
   "source": [
    "import numpy as np\n",
    "\n",
    "arr = np.arange(1,12)\n",
    "print(arr)\n",
    "\n",
    "print(np.log2(arr))\n",
    "print(np.log2(50000))"
   ]
  },
  {
   "cell_type": "code",
   "execution_count": 8,
   "metadata": {},
   "outputs": [
    {
     "name": "stdout",
     "output_type": "stream",
     "text": [
      "2.0\n",
      "3.4771212547196626\n"
     ]
    }
   ],
   "source": [
    "import numpy as np\n",
    "\n",
    "print(np.log10(100))\n",
    "print(np.log10(3000))"
   ]
  },
  {
   "cell_type": "markdown",
   "metadata": {},
   "source": [
    "sum, cumsum, cumprod, sumattion based on axiswise (row and coloumn) method "
   ]
  },
  {
   "cell_type": "code",
   "execution_count": 9,
   "metadata": {},
   "outputs": [
    {
     "name": "stdout",
     "output_type": "stream",
     "text": [
      "12 <class 'numpy.int32'>\n",
      "[ 1  3  6  7  9 12] <class 'numpy.ndarray'>\n",
      "[ 1  2  6  6 12 36] <class 'numpy.ndarray'>\n",
      "[2 4 6]\n",
      "[6 6]\n"
     ]
    }
   ],
   "source": [
    "arr1 = np.array([1,2,3])\n",
    "arr2 = np.array([1,2,3])\n",
    "\n",
    "new = np.sum([arr1,arr2])\n",
    "print(new,type(new))\n",
    "new = np.cumsum([arr1,arr2])\n",
    "print(new,type(new))\n",
    "new = np.cumprod([arr1,arr2])\n",
    "print(new,type(new))\n",
    "\n",
    "new = np.sum([arr1,arr2],axis = 0)\n",
    "print(new)\n",
    "new = np.sum([arr1,arr2],axis = 1)\n",
    "print(new)\n"
   ]
  },
  {
   "cell_type": "code",
   "execution_count": 10,
   "metadata": {},
   "outputs": [
    {
     "name": "stdout",
     "output_type": "stream",
     "text": [
      "907200\n"
     ]
    }
   ],
   "source": [
    "#product method \n",
    "\n",
    "arr1 = np.array([1,2,3,5,6,7,8,9,10])\n",
    "new = np.prod([arr1])\n",
    "print(new)"
   ]
  },
  {
   "cell_type": "code",
   "execution_count": 11,
   "metadata": {},
   "outputs": [
    {
     "name": "stdout",
     "output_type": "stream",
     "text": [
      "[[1 1 2 1 1 1 1 1]]\n",
      "[[ 0  1 -1  0  0  0  0]]\n",
      "[]\n"
     ]
    }
   ],
   "source": [
    "arr1 = np.array([1,2,3,5,6,7,8,9,10])\n",
    "new = np.diff([arr1])\n",
    "print(new)\n",
    "new = np.diff([arr1], n = 2)\n",
    "print(new)\n",
    "new = np.diff([arr1], n = 100)\n",
    "print(new)"
   ]
  },
  {
   "cell_type": "markdown",
   "metadata": {},
   "source": [
    "Set function, boolean, randamization "
   ]
  },
  {
   "cell_type": "code",
   "execution_count": 12,
   "metadata": {},
   "outputs": [
    {
     "name": "stdout",
     "output_type": "stream",
     "text": [
      "64\n"
     ]
    }
   ],
   "source": [
    "from numpy import random\n",
    "\n",
    "x = random.randint(0,100)\n",
    "print(x)"
   ]
  },
  {
   "cell_type": "code",
   "execution_count": 13,
   "metadata": {},
   "outputs": [
    {
     "name": "stdout",
     "output_type": "stream",
     "text": [
      "0.518595835221854\n"
     ]
    }
   ],
   "source": [
    "#getting probality values \n",
    "\n",
    "x = random.rand()\n",
    "print(x)"
   ]
  },
  {
   "cell_type": "code",
   "execution_count": 14,
   "metadata": {},
   "outputs": [
    {
     "name": "stdout",
     "output_type": "stream",
     "text": [
      "[[176  89 169 156 176 136  59 151 182 184 166  79 166  73]\n",
      " [ 56 167 187 107 190  61 128  50 151 171 111 198  83 129]\n",
      " [124 118 101 197  96 186  96  65 144 170 174 190 198  95]\n",
      " [165 111 199 173  80 136 196  67 127 121 175 152 121  93]\n",
      " [142 110 136 142 130 178 166  79 175 149 138 187  78  66]\n",
      " [196 143 194  51 107 169 166  96 134 120  61 162 167 196]\n",
      " [124  81 175 178 149  86 102  87 123  91 122 151 127  89]\n",
      " [ 58 181 138 156  72 101 158 167 196 102  87 165 102 184]\n",
      " [158 158 118 112 121 197 160 151  58  96 107  97 193 160]\n",
      " [ 81 190  93 147 101  90  85  62  50 183  89 115  93  79]\n",
      " [198  69 156  97 199 165 192 146  63 187  72  73 112  53]\n",
      " [197  56 175 105 159 123  70  59  63 128  53 126 170 182]\n",
      " [184  71  85 171 180 105 130  67 127  97 138 148 192 195]]\n"
     ]
    }
   ],
   "source": [
    "#random value\n",
    "\n",
    "from numpy import random \n",
    "\n",
    "arr = random.randint(50,200,size =(13,14))\n",
    "print(arr)   "
   ]
  },
  {
   "cell_type": "code",
   "execution_count": 15,
   "metadata": {},
   "outputs": [
    {
     "name": "stdout",
     "output_type": "stream",
     "text": [
      "[[0.11464883 0.20357089 0.75771996 0.71505292 0.77791368 0.9043504\n",
      "  0.79101569 0.60099841 0.08803365 0.20224314 0.3044851  0.90650485\n",
      "  0.96625774 0.14359885]\n",
      " [0.26138971 0.23494593 0.49090554 0.20483797 0.97312792 0.4922589\n",
      "  0.70901278 0.39435818 0.22378464 0.30861618 0.05134618 0.46274515\n",
      "  0.99425345 0.11654748]\n",
      " [0.83815698 0.87816303 0.98040847 0.30709711 0.63668754 0.22778009\n",
      "  0.31479518 0.11711884 0.87126823 0.64704557 0.19862171 0.04868783\n",
      "  0.66152441 0.82038723]\n",
      " [0.34709277 0.76902854 0.4427435  0.60221755 0.2749722  0.76826303\n",
      "  0.89364371 0.22604632 0.31744623 0.5276897  0.46999477 0.32692713\n",
      "  0.44739921 0.95450839]\n",
      " [0.83889179 0.83695418 0.30588668 0.8982341  0.93635076 0.01259313\n",
      "  0.99388309 0.45192416 0.71961763 0.36617604 0.35969746 0.6565756\n",
      "  0.15723959 0.46393945]\n",
      " [0.35549058 0.82875333 0.91695231 0.49840242 0.4357245  0.59877771\n",
      "  0.70535292 0.5453049  0.10278092 0.24622461 0.90068604 0.8359446\n",
      "  0.61005088 0.66636836]\n",
      " [0.6558169  0.84232743 0.78923607 0.36409553 0.81611619 0.90695991\n",
      "  0.11799605 0.70817692 0.42269669 0.53499283 0.6938131  0.68099946\n",
      "  0.39903384 0.55995223]\n",
      " [0.29777663 0.20370957 0.4951338  0.50007326 0.80899718 0.14985117\n",
      "  0.41573239 0.73034955 0.03573597 0.66501008 0.85929008 0.53159368\n",
      "  0.85469341 0.64661149]\n",
      " [0.31782211 0.42589723 0.87841069 0.10916726 0.46975963 0.13155706\n",
      "  0.87555711 0.65705555 0.82880551 0.94221204 0.82337764 0.14256271\n",
      "  0.42947469 0.50134648]\n",
      " [0.58485133 0.78209859 0.34491716 0.42339196 0.56756266 0.80145321\n",
      "  0.25609137 0.63525094 0.77903302 0.66186238 0.96423129 0.51412858\n",
      "  0.32828182 0.1697931 ]\n",
      " [0.87455738 0.88389025 0.2921169  0.13112712 0.39324852 0.53824442\n",
      "  0.44266107 0.35837142 0.56519445 0.36766459 0.98354971 0.34770296\n",
      "  0.78163642 0.96179455]\n",
      " [0.74590178 0.53467151 0.61726107 0.25392485 0.92560597 0.14202897\n",
      "  0.33574372 0.97149545 0.44618704 0.41833376 0.55894317 0.24821664\n",
      "  0.91447014 0.13253288]\n",
      " [0.01906644 0.5196979  0.3561774  0.99218915 0.64589721 0.69966905\n",
      "  0.99229446 0.46395478 0.84724733 0.22728995 0.97392674 0.0378521\n",
      "  0.92566082 0.64168202]]\n"
     ]
    }
   ],
   "source": [
    "from numpy import random \n",
    "\n",
    "arr = random.rand(13,14)\n",
    "print(arr)   "
   ]
  },
  {
   "cell_type": "code",
   "execution_count": 16,
   "metadata": {},
   "outputs": [
    {
     "name": "stdout",
     "output_type": "stream",
     "text": [
      "[[5 4 3 3 2 1]\n",
      " [5 2 1 2 4 5]\n",
      " [2 1 4 5 4 4]\n",
      " [1 5 1 5 5 3]\n",
      " [1 1 2 1 2 5]]\n"
     ]
    },
    {
     "ename": "ValueError",
     "evalue": "probabilities do not sum to 1",
     "output_type": "error",
     "traceback": [
      "\u001b[1;31m---------------------------------------------------------------------------\u001b[0m",
      "\u001b[1;31mValueError\u001b[0m                                Traceback (most recent call last)",
      "Cell \u001b[1;32mIn[16], line 7\u001b[0m\n\u001b[0;32m      5\u001b[0m arr \u001b[38;5;241m=\u001b[39m random\u001b[38;5;241m.\u001b[39mchoice([\u001b[38;5;241m1\u001b[39m,\u001b[38;5;241m2\u001b[39m,\u001b[38;5;241m3\u001b[39m,\u001b[38;5;241m4\u001b[39m,\u001b[38;5;241m5\u001b[39m],size \u001b[38;5;241m=\u001b[39m(\u001b[38;5;241m5\u001b[39m,\u001b[38;5;241m6\u001b[39m))\n\u001b[0;32m      6\u001b[0m \u001b[38;5;28mprint\u001b[39m(arr)\n\u001b[1;32m----> 7\u001b[0m arr \u001b[38;5;241m=\u001b[39m \u001b[43mrandom\u001b[49m\u001b[38;5;241;43m.\u001b[39;49m\u001b[43mchoice\u001b[49m\u001b[43m(\u001b[49m\u001b[43m[\u001b[49m\u001b[38;5;241;43m1\u001b[39;49m\u001b[43m,\u001b[49m\u001b[38;5;241;43m2\u001b[39;49m\u001b[43m,\u001b[49m\u001b[38;5;241;43m3\u001b[39;49m\u001b[43m,\u001b[49m\u001b[38;5;241;43m4\u001b[39;49m\u001b[43m,\u001b[49m\u001b[38;5;241;43m5\u001b[39;49m\u001b[43m]\u001b[49m\u001b[43m,\u001b[49m\u001b[43mp\u001b[49m\u001b[38;5;241;43m=\u001b[39;49m\u001b[43m \u001b[49m\u001b[43m[\u001b[49m\u001b[38;5;241;43m0.1\u001b[39;49m\u001b[43m,\u001b[49m\u001b[38;5;241;43m0.2\u001b[39;49m\u001b[43m,\u001b[49m\u001b[38;5;241;43m0.6\u001b[39;49m\u001b[43m,\u001b[49m\u001b[38;5;241;43m0.1\u001b[39;49m\u001b[43m,\u001b[49m\u001b[38;5;241;43m0.6\u001b[39;49m\u001b[43m]\u001b[49m\u001b[43m,\u001b[49m\u001b[43msize\u001b[49m\u001b[43m \u001b[49m\u001b[38;5;241;43m=\u001b[39;49m\u001b[43m(\u001b[49m\u001b[38;5;241;43m5\u001b[39;49m\u001b[43m,\u001b[49m\u001b[38;5;241;43m6\u001b[39;49m\u001b[43m)\u001b[49m\u001b[43m)\u001b[49m\n\u001b[0;32m      8\u001b[0m \u001b[38;5;28mprint\u001b[39m \u001b[38;5;241m=\u001b[39m(arr)\n",
      "File \u001b[1;32mmtrand.pyx:939\u001b[0m, in \u001b[0;36mnumpy.random.mtrand.RandomState.choice\u001b[1;34m()\u001b[0m\n",
      "\u001b[1;31mValueError\u001b[0m: probabilities do not sum to 1"
     ]
    }
   ],
   "source": [
    "#random within a choice \n",
    "\n",
    "from numpy import random \n",
    "\n",
    "arr = random.choice([1,2,3,4,5],size =(5,6))\n",
    "print(arr)\n",
    "arr = random.choice([1,2,3,4,5],p= [0.1,0.2,0.6,0.1,0.6],size =(5,6))\n",
    "print =(arr)"
   ]
  },
  {
   "cell_type": "code",
   "execution_count": null,
   "metadata": {},
   "outputs": [
    {
     "name": "stdout",
     "output_type": "stream",
     "text": [
      "Requirement already satisfied: seaborn in c:\\users\\lenovo\\anaconda3\\lib\\site-packages (0.11.2)\n",
      "Requirement already satisfied: scipy>=1.0 in c:\\users\\lenovo\\anaconda3\\lib\\site-packages (from seaborn) (1.7.3)\n",
      "Requirement already satisfied: pandas>=0.23 in c:\\users\\lenovo\\anaconda3\\lib\\site-packages (from seaborn) (1.4.2)\n",
      "Requirement already satisfied: numpy>=1.15 in c:\\users\\lenovo\\anaconda3\\lib\\site-packages (from seaborn) (1.26.3)\n",
      "Requirement already satisfied: matplotlib>=2.2 in c:\\users\\lenovo\\anaconda3\\lib\\site-packages (from seaborn) (3.5.1)\n",
      "Requirement already satisfied: kiwisolver>=1.0.1 in c:\\users\\lenovo\\anaconda3\\lib\\site-packages (from matplotlib>=2.2->seaborn) (1.3.2)\n",
      "Requirement already satisfied: python-dateutil>=2.7 in c:\\users\\lenovo\\appdata\\roaming\\python\\python39\\site-packages (from matplotlib>=2.2->seaborn) (2.8.2)\n",
      "Requirement already satisfied: cycler>=0.10 in c:\\users\\lenovo\\anaconda3\\lib\\site-packages (from matplotlib>=2.2->seaborn) (0.11.0)\n",
      "Requirement already satisfied: packaging>=20.0 in c:\\users\\lenovo\\appdata\\roaming\\python\\python39\\site-packages (from matplotlib>=2.2->seaborn) (23.2)\n",
      "Requirement already satisfied: pillow>=6.2.0 in c:\\users\\lenovo\\anaconda3\\lib\\site-packages (from matplotlib>=2.2->seaborn) (9.0.1)\n",
      "Requirement already satisfied: pyparsing>=2.2.1 in c:\\users\\lenovo\\anaconda3\\lib\\site-packages (from matplotlib>=2.2->seaborn) (3.0.4)\n",
      "Requirement already satisfied: fonttools>=4.22.0 in c:\\users\\lenovo\\anaconda3\\lib\\site-packages (from matplotlib>=2.2->seaborn) (4.25.0)\n",
      "Requirement already satisfied: pytz>=2020.1 in c:\\users\\lenovo\\anaconda3\\lib\\site-packages (from pandas>=0.23->seaborn) (2021.3)\n",
      "Requirement already satisfied: six>=1.5 in c:\\users\\lenovo\\appdata\\roaming\\python\\python39\\site-packages (from python-dateutil>=2.7->matplotlib>=2.2->seaborn) (1.16.0)\n",
      "Collecting numpy>=1.15\n",
      "  Downloading numpy-1.22.4-cp39-cp39-win_amd64.whl (14.7 MB)\n",
      "Installing collected packages: numpy\n",
      "  Attempting uninstall: numpy\n",
      "    Found existing installation: numpy 1.26.3\n",
      "    Uninstalling numpy-1.26.3:\n",
      "      Successfully uninstalled numpy-1.26.3\n",
      "Note: you may need to restart the kernel to use updated packages.\n"
     ]
    },
    {
     "name": "stderr",
     "output_type": "stream",
     "text": [
      "ERROR: Could not install packages due to an OSError: [WinError 5] Access is denied: 'C:\\\\Users\\\\LENOVO\\\\anaconda3\\\\Lib\\\\site-packages\\\\~umpy.libs\\\\libopenblas64__v0.3.23-293-gc2f4bdbb-gcc_10_3_0-2bde3a66a51006b2b53eb373ff767a3f.dll'\n",
      "Consider using the `--user` option or check the permissions.\n",
      "\n"
     ]
    }
   ],
   "source": []
  },
  {
   "cell_type": "markdown",
   "metadata": {},
   "source": [
    "graphical plot presenation "
   ]
  },
  {
   "cell_type": "code",
   "execution_count": 17,
   "metadata": {},
   "outputs": [
    {
     "data": {
      "image/png": "[encoded data removed]",
      "text/plain": [
       "<Figure size 500x500 with 1 Axes>"
      ]
     },
     "metadata": {},
     "output_type": "display_data"
    }
   ],
   "source": [
    "import matplotlib.pyplot as plot\n",
    "import seaborn as sns\n",
    "\n",
    "arr = np.array([3,6,7,3,4,5,9,1,10,4])\n",
    "sns.displot(arr)\n",
    "plot.show()"
   ]
  },
  {
   "cell_type": "code",
   "execution_count": 18,
   "metadata": {},
   "outputs": [
    {
     "data": {
      "image/png": "[encoded data removed]",
      "text/plain": [
       "<Figure size 500x500 with 1 Axes>"
      ]
     },
     "metadata": {},
     "output_type": "display_data"
    }
   ],
   "source": [
    "\n",
    "sns.displot([2,4,5,6,7,7,7,1,1,1,2,2,2,2,2,4,4])\n",
    "plot.show()"
   ]
  },
  {
   "cell_type": "code",
   "execution_count": 19,
   "metadata": {},
   "outputs": [
    {
     "data": {
      "image/png": "[encoded data removed]",
      "text/plain": [
       "<Figure size 640x480 with 1 Axes>"
      ]
     },
     "metadata": {},
     "output_type": "display_data"
    }
   ],
   "source": [
    "sns.histplot(arr)\n",
    "plot.show()"
   ]
  },
  {
   "cell_type": "code",
   "execution_count": 20,
   "metadata": {},
   "outputs": [
    {
     "name": "stdout",
     "output_type": "stream",
     "text": [
      "[[-0.2331751   0.36194239 -0.74881195  1.0632603   1.72815443 -1.03660872]\n",
      " [ 0.04250412  0.28001954  0.05513664 -0.16660377 -0.82442524  0.54778732]\n",
      " [-0.11043791 -1.08831436 -1.26427072 -0.86382572  0.8243321  -0.69847029]\n",
      " [-0.71121619 -0.69304003 -0.47583632  1.44108486  0.11848415 -0.30977007]\n",
      " [-0.89094378 -1.03414231 -0.87992666  0.58706432  0.78193002 -0.79221986]]\n"
     ]
    }
   ],
   "source": [
    "from numpy import random\n",
    "\n",
    "arr = random.normal(size=(5,6))\n",
    "\n",
    "print(arr)"
   ]
  },
  {
   "cell_type": "code",
   "execution_count": null,
   "metadata": {},
   "outputs": [],
   "source": []
  }
 ],
 "metadata": {
  "kernelspec": {
   "display_name": "base",
   "language": "python",
   "name": "python3"
  },
  "language_info": {
   "codemirror_mode": {
    "name": "ipython",
    "version": 3
   },
   "file_extension": ".py",
   "mimetype": "text/x-python",
   "name": "python",
   "nbconvert_exporter": "python",
   "pygments_lexer": "ipython3",
   "version": "3.9.12"
  }
 },
 "nbformat": 4,
 "nbformat_minor": 2
}
