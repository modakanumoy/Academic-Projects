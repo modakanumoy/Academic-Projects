{
 "cells": [
  {
   "cell_type": "markdown",
   "metadata": {},
   "source": [
    "store data"
   ]
  },
  {
   "cell_type": "code",
   "execution_count": 2,
   "metadata": {},
   "outputs": [],
   "source": [
    "\n",
    "import json\n",
    "\n",
    "numbers = [2,3,5,7,11,13]\n",
    "\n",
    "filename = 'numbers.json'\n",
    "\n",
    "with open(filename, 'w')as file:\n",
    "    json.dump(numbers,file)"
   ]
  },
  {
   "cell_type": "code",
   "execution_count": 3,
   "metadata": {},
   "outputs": [
    {
     "name": "stdout",
     "output_type": "stream",
     "text": [
      "[2, 3, 5, 7, 11, 13]\n"
     ]
    }
   ],
   "source": [
    "import json\n",
    "\n",
    "filename = 'numbers.json'\n",
    "with open(filename) as file:\n",
    "    print(json.load(file))"
   ]
  },
  {
   "cell_type": "code",
   "execution_count": 4,
   "metadata": {},
   "outputs": [
    {
     "name": "stdout",
     "output_type": "stream",
     "text": [
      "we will be remembered\n"
     ]
    }
   ],
   "source": [
    "import json\n",
    "\n",
    "username = input ('what is your name?')\n",
    "\n",
    "filename = 'username.json'\n",
    "\n",
    "with open(filename,'w')as file:\n",
    "    json.dump(username,file)\n",
    "    print('we will be remembered')"
   ]
  },
  {
   "cell_type": "code",
   "execution_count": 5,
   "metadata": {},
   "outputs": [
    {
     "name": "stdout",
     "output_type": "stream",
     "text": [
      "Spandan Ganguly\n"
     ]
    }
   ],
   "source": [
    "import json\n",
    "\n",
    "filename = 'username.json'\n",
    "\n",
    "with open(filename)as file:\n",
    "    username = json.load(file)\n",
    "    print(username)"
   ]
  },
  {
   "cell_type": "code",
   "execution_count": 6,
   "metadata": {},
   "outputs": [
    {
     "name": "stdout",
     "output_type": "stream",
     "text": [
      "Spandan Ganguly\n"
     ]
    }
   ],
   "source": [
    "import json\n",
    "\n",
    "filename = \"username.json\"\n",
    "\n",
    "try:\n",
    "    with open(filename) as file:\n",
    "        username=json.load(file)\n",
    "        print(username)\n",
    "except FileNotFoundError:\n",
    "    username = input ('what is your name?')\n",
    "    with open(filename,'w')as file:\n",
    "        json.dump(username,file)\n",
    "        print('we will be remembered')"
   ]
  },
  {
   "cell_type": "markdown",
   "metadata": {},
   "source": [
    "Refactoring: organising code into functions for easier reading and use "
   ]
  },
  {
   "cell_type": "code",
   "execution_count": 7,
   "metadata": {},
   "outputs": [
    {
     "name": "stdout",
     "output_type": "stream",
     "text": [
      "Spandan Ganguly\n"
     ]
    }
   ],
   "source": [
    "import json\n",
    "\n",
    "def greet_user():\n",
    "   \n",
    "    filename = \"username.json\"\n",
    "\n",
    "    try:\n",
    "        with open(filename) as file:\n",
    "            username=json.load(file)\n",
    "            print(username)\n",
    "    except FileNotFoundError:\n",
    "        username = input ('what is your name?')\n",
    "        with open(filename,'w')as file:\n",
    "            json.dump(username,file)\n",
    "            print('we will be remembered')\n",
    "\n",
    "greet_user()"
   ]
  }
 ],
 "metadata": {
  "kernelspec": {
   "display_name": "Python 3",
   "language": "python",
   "name": "python3"
  },
  "language_info": {
   "codemirror_mode": {
    "name": "ipython",
    "version": 3
   },
   "file_extension": ".py",
   "mimetype": "text/x-python",
   "name": "python",
   "nbconvert_exporter": "python",
   "pygments_lexer": "ipython3",
   "version": "3.9.10"
  }
 },
 "nbformat": 4,
 "nbformat_minor": 2
}
