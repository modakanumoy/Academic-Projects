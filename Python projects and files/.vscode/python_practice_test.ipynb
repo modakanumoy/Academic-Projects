{
 "cells": [
  {
   "cell_type": "markdown",
   "metadata": {},
   "source": [
    "Python:Basics"
   ]
  },
  {
   "cell_type": "code",
   "execution_count": 1,
   "metadata": {},
   "outputs": [
    {
     "name": "stdout",
     "output_type": "stream",
     "text": [
      "How old are you\n"
     ]
    }
   ],
   "source": [
    "#print \n",
    "\n",
    "age = 'How old are you'\n",
    "print(age)"
   ]
  },
  {
   "cell_type": "code",
   "execution_count": 3,
   "metadata": {},
   "outputs": [
    {
     "name": "stdout",
     "output_type": "stream",
     "text": [
      "True\n",
      "\n",
      " a is greater than b\n",
      "False\n"
     ]
    }
   ],
   "source": [
    "#boolean \n",
    "\n",
    "a = 10\n",
    "b = 0.5\n",
    "print(a>b)\n",
    "print(\"\\n a is greater than b\")\n",
    "print(a<b)"
   ]
  },
  {
   "cell_type": "code",
   "execution_count": 8,
   "metadata": {},
   "outputs": [
    {
     "name": "stdout",
     "output_type": "stream",
     "text": [
      "good\n"
     ]
    },
    {
     "data": {
      "text/plain": [
       "'good evening'"
      ]
     },
     "execution_count": 8,
     "metadata": {},
     "output_type": "execute_result"
    }
   ],
   "source": [
    "#python formatting [note: be careful of overrride behaviour]\n",
    "\n",
    "'good morning'\n",
    "\n",
    "print('good')\n",
    "\n",
    "'good evening'"
   ]
  },
  {
   "cell_type": "code",
   "execution_count": 11,
   "metadata": {},
   "outputs": [
    {
     "name": "stdout",
     "output_type": "stream",
     "text": [
      " hello this is anumoy \n",
      "\n",
      "\n",
      "                  49\n",
      "      \n",
      "      4\n"
     ]
    }
   ],
   "source": [
    "#concept of triple doble inverted commas [anything within the \n",
    "   #triple inverted commas will preserve position and line when printing]\n",
    "\n",
    "print(\"\"\" hello this is anumoy \n",
    "\n",
    "\n",
    "                  49\n",
    "      \n",
    "      4\"\"\")"
   ]
  },
  {
   "cell_type": "code",
   "execution_count": 12,
   "metadata": {},
   "outputs": [
    {
     "name": "stdout",
     "output_type": "stream",
     "text": [
      "My name is 'Anumoy'\n",
      "My name is \"Anumoy\"\n",
      "My name is \"Anumoy\"\n"
     ]
    }
   ],
   "source": [
    "#Escape character : put \\ infront of inverted comma in order to \"or' in a string:\n",
    "\n",
    "print(\"My name is 'Anumoy'\")\n",
    "print('My name is \"Anumoy\"')\n",
    "print(\"My name is \\\"Anumoy\\\"\") #Escape charachter or backslash \n",
    "\n"
   ]
  },
  {
   "cell_type": "code",
   "execution_count": 18,
   "metadata": {},
   "outputs": [
    {
     "name": "stdout",
     "output_type": "stream",
     "text": [
      "2500000\n",
      "50050\n",
      "1000.0\n",
      "49950\n",
      "8881784197001252323389053344726562500000000000000000000000000000000000000000000000000000000000000000000000000000000000000000000000000000000000000000000000000000000000000000000000000000000000000000000000000000000000000000000000000000000\n",
      "False\n",
      "False\n",
      "False\n",
      "True\n",
      "True\n",
      "False\n",
      "50\n",
      "50000\n"
     ]
    }
   ],
   "source": [
    "#arethmetic and logical operators \n",
    "\n",
    "A = 50000\n",
    "B = 50\n",
    "print (A*B)\n",
    "print(A+B)\n",
    "print(A/B)\n",
    "print(A-B)\n",
    "print(A**B)\n",
    "print(A==B)\n",
    "print(A==B)\n",
    "print(A<=B)\n",
    "print(A>=B)\n",
    "print(A>B)\n",
    "print(A<B)\n",
    "print(A and B)\n",
    "print(A or B)\n",
    "\n"
   ]
  },
  {
   "cell_type": "code",
   "execution_count": 19,
   "metadata": {},
   "outputs": [
    {
     "name": "stdout",
     "output_type": "stream",
     "text": [
      "<class 'int'>\n",
      "<class 'float'>\n",
      "<class 'complex'>\n",
      "<class 'str'>\n",
      "<class 'list'>\n",
      "<class 'tuple'>\n",
      "<class 'set'>\n",
      "{0, 1, 2, 3, 4}\n",
      "<class 'dict'>\n"
     ]
    }
   ],
   "source": [
    "#types of variables: \n",
    "\n",
    "a= 10\n",
    "print(type(a))\n",
    "a = 0.05\n",
    "print(type(a))\n",
    "a = 2+8j\n",
    "print(type(a))\n",
    "a = 'hello'\n",
    "print(type(a))\n",
    "a = ['A','B','C']\n",
    "print(type(a))\n",
    "a = ('A','B',123)\n",
    "print(type(a))\n",
    "a = {1,2,3,4,1,2,3,0}\n",
    "print(type(a))\n",
    "print(a)\n",
    "a = {'student1':'Anumoy', 'Student2': 'Spandan'}\n",
    "print(type(a))"
   ]
  },
  {
   "cell_type": "code",
   "execution_count": 21,
   "metadata": {},
   "outputs": [
    {
     "name": "stdout",
     "output_type": "stream",
     "text": [
      "Anumoy\n",
      "ANUMOY\n",
      "anumoy\n",
      "anumoy       \n",
      "       anumoy\n",
      "anumoy\n"
     ]
    }
   ],
   "source": [
    "#string methods \n",
    "\n",
    "name = 'anumoy'\n",
    "print(name.title())\n",
    "print(name.upper())\n",
    "print(name.lower())\n",
    "\n",
    "name = '       anumoy       '\n",
    "print(name.lstrip())\n",
    "print(name.rstrip())\n",
    "print(name.strip())\n"
   ]
  },
  {
   "cell_type": "code",
   "execution_count": 26,
   "metadata": {},
   "outputs": [
    {
     "name": "stdout",
     "output_type": "stream",
     "text": [
      "1\n",
      "2\n",
      "3\n",
      "9\n",
      "[1, 2, 3, 4, 5, 6, 7, 8]\n",
      "[4, 5, 6, 7, 8]\n",
      "[6, 7]\n"
     ]
    }
   ],
   "source": [
    "#list methods: \n",
    "\n",
    "#identifying index\n",
    "numbers = [1,2,3,4,5,6,7,8,9]\n",
    "print(numbers[0])\n",
    "print(numbers[1])\n",
    "print(numbers[2])\n",
    "print(numbers[-1])\n",
    "\n",
    "#slicing of a given list: \n",
    "\n",
    "print(numbers[0:-1])\n",
    "print(numbers[3:-1])\n",
    "print(numbers[5:-2])\n"
   ]
  },
  {
   "cell_type": "code",
   "execution_count": 40,
   "metadata": {},
   "outputs": [
    {
     "name": "stdout",
     "output_type": "stream",
     "text": [
      "['Spandan', 'bhaskar', 'abhisekh', 'sichitaj']\n",
      "['Spandan', 'bhaskar', 'abhisekh']\n",
      "['Spandan', 'bhaskar']\n",
      "[1, 2, 3, 4, 5, 6, 7, 8, 9, 10]\n",
      "[1, 2, 3, 4, 5, 6, 7, 8, 9]\n",
      "9\n",
      "[1, 2, 3, 4, 5, 6, 7, 8]\n"
     ]
    }
   ],
   "source": [
    "#adding, deleting & inserting into the list \n",
    "\n",
    "friends = ['Spandan','bhaskar','abhisekh']\n",
    "friends.append('sichitaj')\n",
    "print(friends)\n",
    "friends.remove('sichitaj')\n",
    "print(friends)\n",
    "del friends[2]\n",
    "print(friends)\n",
    "\n",
    "numbers = [1,2,3,4,5,6,7,8,9]\n",
    "numbers.append(10)\n",
    "print(numbers)\n",
    "numbers.remove(10)\n",
    "print(numbers)\n",
    "a= numbers.pop()\n",
    "print(a)\n",
    "print(numbers)"
   ]
  },
  {
   "cell_type": "code",
   "execution_count": 44,
   "metadata": {},
   "outputs": [
    {
     "name": "stdout",
     "output_type": "stream",
     "text": [
      "[1, 2, 3, 4, 5, 6, 7, 8, 9, 100]\n",
      "[1, 2, 3, 4, 5, 6, 7, 8, 9]\n",
      "[1, 2, 3, 4, 5, 6, 7, 8, 9, 100]\n"
     ]
    }
   ],
   "source": [
    "#to copy list:\n",
    "\n",
    "numbers1 = [1,2,3,4,5,6,7,8,9]\n",
    "numbers2 = numbers1\n",
    "numbers2.append(100)\n",
    "print(numbers1)\n",
    "\n",
    "\n",
    "numbers1 = [1,2,3,4,5,6,7,8,9]\n",
    "numbers2 = numbers1[:]\n",
    "numbers2.append(100)\n",
    "print(numbers1)\n",
    "print(numbers2)"
   ]
  }
 ],
 "metadata": {
  "kernelspec": {
   "display_name": "Python 3",
   "language": "python",
   "name": "python3"
  },
  "language_info": {
   "codemirror_mode": {
    "name": "ipython",
    "version": 3
   },
   "file_extension": ".py",
   "mimetype": "text/x-python",
   "name": "python",
   "nbconvert_exporter": "python",
   "pygments_lexer": "ipython3",
   "version": "3.9.10"
  }
 },
 "nbformat": 4,
 "nbformat_minor": 2
}
