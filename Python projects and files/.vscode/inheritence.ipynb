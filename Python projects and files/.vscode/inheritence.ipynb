{
 "cells": [
  {
   "cell_type": "markdown",
   "metadata": {},
   "source": [
    "Inheritence : when one class inharites from another it takes on the attribues and methods of the first class. first class is the parent class and which inherites is the child class "
   ]
  },
  {
   "cell_type": "code",
   "execution_count": 1,
   "metadata": {},
   "outputs": [
    {
     "name": "stdout",
     "output_type": "stream",
     "text": [
      "2020 Audi A1\n",
      "This car has 100 miles on it.\n",
      "This car has 2450 miles on it.\n",
      "2022 Tesla Model\n",
      "This car has 75 battery size.\n",
      "2022 Tesla Model\n",
      "This car has 75 battery size.\n"
     ]
    }
   ],
   "source": [
    "class car:\n",
    "    def __init__(self,make,model,year):\n",
    "        self.make = make\n",
    "        self.model = model\n",
    "        self.year = year\n",
    "        self.odometer_reading = 0\n",
    "    def get_descriptive_name(self):\n",
    "        model_name = f\"{self.year} {self.make} {self.model}\"\n",
    "        return model_name.title()\n",
    "    def read_odometer(self):\n",
    "        print(f\"This car has {self.odometer_reading} miles on it.\")\n",
    "    def update_odometer(self,milage):\n",
    "        self.odometer_reading = milage\n",
    "    def increment_odometer(self,miles):\n",
    "        self.odometer_reading += miles\n",
    "my_new_car = car('Audi','a1',2020)\n",
    "print(my_new_car.get_descriptive_name())\n",
    "my_new_car.odometer_reading=23\n",
    "my_new_car.update_odometer(100)\n",
    "my_new_car.read_odometer()\n",
    "my_new_car.update_odometer(2350)\n",
    "my_new_car.increment_odometer(100)\n",
    "my_new_car.read_odometer()\n",
    "\n",
    "class Electric_Car(car):\n",
    "    def __init__(self,make,model,year):\n",
    "        super().__init__(make,model,year)\n",
    "        self.battery_size = 75\n",
    "    def describe_the_battery(self):\n",
    "        print(f\"This car has {self.battery_size} battery size.\")      \n",
    "my_tesla = Electric_Car('tesla','model', 2022)\n",
    "print(my_tesla.get_descriptive_name())\n",
    "my_tesla.describe_the_battery()\n",
    "\n",
    "### Override method###\n",
    "\n",
    "class Electric_Car(car):\n",
    "    def __init__(self,make,model,year):\n",
    "        super().__init__(make,model,year)\n",
    "        self.battery_size = 75\n",
    "    def describe_the_battery(self):\n",
    "        print(f\"This car has {self.battery_size} battery size.\")\n",
    "    def fill_gas_tank(self):\n",
    "      print(\"This car doest need a Gas tank\")      \n",
    "my_tesla = Electric_Car('tesla','model', 2022)\n",
    "print(my_tesla.get_descriptive_name())\n",
    "my_tesla.describe_the_battery()\n",
    "\n",
    "class Battery:\n",
    "    def __init__(self, name):\n",
    "        self.name = name\n",
    "        self.size = 75\n",
    "            \n",
    "    "
   ]
  },
  {
   "cell_type": "markdown",
   "metadata": {},
   "source": [
    "Overrride Method: who to do Override method?"
   ]
  },
  {
   "cell_type": "code",
   "execution_count": null,
   "metadata": {},
   "outputs": [],
   "source": []
  }
 ],
 "metadata": {
  "kernelspec": {
   "display_name": "Python 3",
   "language": "python",
   "name": "python3"
  },
  "language_info": {
   "codemirror_mode": {
    "name": "ipython",
    "version": 3
   },
   "file_extension": ".py",
   "mimetype": "text/x-python",
   "name": "python",
   "nbconvert_exporter": "python",
   "pygments_lexer": "ipython3",
   "version": "3.9.10"
  }
 },
 "nbformat": 4,
 "nbformat_minor": 2
}
