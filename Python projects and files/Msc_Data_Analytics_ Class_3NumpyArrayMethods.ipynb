{
 "cells": [
  {
   "cell_type": "markdown",
   "metadata": {},
   "source": [
    "Numpy Arrays: \n",
    ">Copy,view\n",
    ">Shape,reshape\n",
    ">Iterating\n",
    ">Joining and Splitting\n",
    ">Searching and Sorting\n",
    ">Universal Functions\n"
   ]
  },
  {
   "cell_type": "code",
   "execution_count": 2,
   "metadata": {},
   "outputs": [
    {
     "name": "stdout",
     "output_type": "stream",
     "text": [
      "Original array\n",
      "[1 2 3 4 5]\n",
      "New Array\n",
      "[1 2 3 4 5]\n",
      "Original array after Change\n",
      "[1 2 3 4 5]\n",
      "New Array after Change\n",
      "[ 1  2 10  4  5]\n"
     ]
    }
   ],
   "source": [
    "import numpy as np\n",
    "\n",
    "arr = np.array([1,2,3,4,5])\n",
    "\n",
    "newarr = arr.copy()\n",
    "\n",
    "print('Original array')\n",
    "print(arr)\n",
    "print('New Array')\n",
    "print(newarr)\n",
    "\n",
    "newarr[2]=10\n",
    "\n",
    "print('Original array after Change')\n",
    "print(arr)\n",
    "print('New Array after Change')\n",
    "print(newarr)\n",
    "\n"
   ]
  },
  {
   "cell_type": "code",
   "execution_count": 3,
   "metadata": {},
   "outputs": [
    {
     "name": "stdout",
     "output_type": "stream",
     "text": [
      "[ 1  2 10  4  5]\n",
      "[ 1  2 10  4  5]\n"
     ]
    }
   ],
   "source": [
    "x = arr.view()\n",
    "\n",
    "x[2] =10\n",
    "print(x)\n",
    "\n",
    "print(arr)"
   ]
  },
  {
   "cell_type": "markdown",
   "metadata": {},
   "source": [
    "FOR ARRAYS, [:] DOES NOT WORK TO COPY THE ARRAY. THERE IS NO DIFFRENCE BETWEEN arr = newarr and  arr = newarr[:],BOTH STORE AN IMAGE OF THE ORIGINAL ARRAY.\n",
    "\n",
    "Copy works like arr = newarr[:] for list\n",
    "View works like arr = newarr\n",
    "\n",
    "View saves an Image of the array in a new array. Changing this image will also change the original array."
   ]
  },
  {
   "cell_type": "markdown",
   "metadata": {},
   "source": [
    "Base attribute refers to the original array of a given array  I'e is \n",
    "x = y\n",
    "then x is base of y. "
   ]
  },
  {
   "cell_type": "code",
   "execution_count": 4,
   "metadata": {},
   "outputs": [
    {
     "name": "stdout",
     "output_type": "stream",
     "text": [
      "None\n",
      "[1 2 3 4 5]\n"
     ]
    }
   ],
   "source": [
    "#Copy vs View Base\n",
    "arr = np.array([1,2,3,4,5])\n",
    "\n",
    "x=arr.copy()\n",
    "y=arr.view()\n",
    "\n",
    "print(x.base)\n",
    "print(y.base)\n"
   ]
  },
  {
   "cell_type": "code",
   "execution_count": 5,
   "metadata": {},
   "outputs": [
    {
     "name": "stdout",
     "output_type": "stream",
     "text": [
      "()\n",
      "(4,)\n",
      "(3, 3)\n",
      "(2, 2, 2)\n"
     ]
    }
   ],
   "source": [
    "arr1 = np.array(1)\n",
    "arr2 = np.array([1,2,3,4])\n",
    "arr3 = np.array([[1,2,3],[4,5,6],[7,8,9]])\n",
    "arr4 = np.array([[[1,2],[3,4]],[[5,6],[7,8]]])\n",
    "\n",
    "print(arr1.shape)\n",
    "print(arr2.shape)\n",
    "print(arr3.shape)\n",
    "print(arr4.shape)"
   ]
  },
  {
   "cell_type": "markdown",
   "metadata": {},
   "source": [
    "Reshape matrix. The diemnsions of the matrix can be changed then copied. Will not change the original matrix.\n",
    "The the product of the dimensions shoul be equal to the number of ellements given, "
   ]
  },
  {
   "cell_type": "code",
   "execution_count": 6,
   "metadata": {},
   "outputs": [
    {
     "name": "stdout",
     "output_type": "stream",
     "text": [
      "3 X 4\n",
      "[[ 1  2  3  4]\n",
      " [ 5  6  7  8]\n",
      " [ 9 10 11 12]] \n",
      "\n",
      "3 X 2 X 2\n",
      "[[[ 1  2]\n",
      "  [ 3  4]]\n",
      "\n",
      " [[ 5  6]\n",
      "  [ 7  8]]\n",
      "\n",
      " [[ 9 10]\n",
      "  [11 12]]]\n"
     ]
    }
   ],
   "source": [
    "arr = np.array([1,2,3,4,5,6,7,8,9,10,11,12])\n",
    "\n",
    "newarr1 =arr.reshape(3,4)\n",
    "newarr2 =arr.reshape(3,2,2)\n",
    "print('3 X 4')\n",
    "print(newarr1,'\\n')\n",
    "print('3 X 2 X 2')\n",
    "print(newarr2)"
   ]
  },
  {
   "cell_type": "code",
   "execution_count": 7,
   "metadata": {},
   "outputs": [
    {
     "name": "stdout",
     "output_type": "stream",
     "text": [
      "[[ 1  2  3  4]\n",
      " [ 5  6  7  8]\n",
      " [ 9 10 11 12]] \n",
      "\n",
      "[[ 1  2  3]\n",
      " [ 4  5  6]\n",
      " [ 7  8  9]\n",
      " [10 11 12]]\n"
     ]
    }
   ],
   "source": [
    "# change 3x4 to 4x3\n",
    "\n",
    "arr = np.array([[1,2,3,4],[5,6,7,8],[9,10,11,12]])\n",
    "\n",
    "print(arr,'\\n')\n",
    "\n",
    "newarr= arr.reshape(4,3)\n",
    "\n",
    "print(newarr)"
   ]
  },
  {
   "cell_type": "markdown",
   "metadata": {},
   "source": [
    "We can pass -1 one of the dimensions.It will automatically calcutlate that dimension. It will onle work if passed to 1 ofthe chosen dimensions."
   ]
  },
  {
   "cell_type": "code",
   "execution_count": 8,
   "metadata": {},
   "outputs": [
    {
     "name": "stdout",
     "output_type": "stream",
     "text": [
      "[[ 1  2  3]\n",
      " [ 4  5  6]\n",
      " [ 7  8  9]\n",
      " [10 11 12]] \n",
      "\n",
      "[[[ 1  2  3]\n",
      "  [ 4  5  6]]\n",
      "\n",
      " [[ 7  8  9]\n",
      "  [10 11 12]]]\n",
      "[ 1  2  3  4  5  6  7  8  9 10 11 12]\n"
     ]
    }
   ],
   "source": [
    "print(newarr,'\\n')\n",
    "\n",
    "made_3d = newarr.reshape(2,2,-1)\n",
    "\n",
    "print(made_3d)\n",
    "\n",
    "flattened = newarr.reshape(-1)\n",
    "print(flattened)"
   ]
  },
  {
   "cell_type": "markdown",
   "metadata": {},
   "source": [
    "Iterating across array"
   ]
  },
  {
   "cell_type": "code",
   "execution_count": 14,
   "metadata": {},
   "outputs": [
    {
     "name": "stdout",
     "output_type": "stream",
     "text": [
      "Square of index  1  is: 1 \n",
      "\n",
      "Square of index  2  is: 4 \n",
      "\n",
      "Square of index  3  is: 9 \n",
      "\n",
      "Square of index  4  is: 16 \n",
      "\n",
      "Square of index  5  is: 25 \n",
      "\n",
      "Square of index  6  is: 36 \n",
      "\n"
     ]
    }
   ],
   "source": [
    "arr = np.array([[1,2,3],[4,5,6]])\n",
    "#x = arr[1,2]\n",
    "#print(x*x)\n",
    "\n",
    "#usein forloop to iterate\n",
    "\n",
    "for x in arr:\n",
    "   for y in x:\n",
    "      val = y\n",
    "      print('Square of index ',y,' in array is:',val*val,'\\n')\n",
    "\n"
   ]
  },
  {
   "cell_type": "code",
   "execution_count": 44,
   "metadata": {},
   "outputs": [
    {
     "name": "stdout",
     "output_type": "stream",
     "text": [
      "1\n",
      "2\n",
      "6\n",
      "24\n",
      "120\n",
      "720\n",
      "5040\n",
      "40320\n",
      "362880\n"
     ]
    }
   ],
   "source": [
    "def factorial(number:int):\n",
    "    number = abs(number)\n",
    "    temp_val = 1\n",
    "    for i in range(1,number+1):\n",
    "         temp_val *= i\n",
    "    return(temp_val)\n",
    "\n",
    "#print(factorial(1)) \n",
    "\n",
    "arr = np.array([1,2,3,4,5,6,7,8,9])\n",
    "arr = arr.reshape(3,-1)\n",
    "\n",
    "for i in arr:\n",
    "    for j in i:\n",
    "        print(factorial(j))\n",
    "        \n",
    "\n",
    "\n"
   ]
  },
  {
   "cell_type": "markdown",
   "metadata": {},
   "source": [
    "np.nditer will allow the elements of matrix to be  iterated on ."
   ]
  },
  {
   "cell_type": "code",
   "execution_count": 49,
   "metadata": {},
   "outputs": [
    {
     "name": "stdout",
     "output_type": "stream",
     "text": [
      "1\n",
      "2\n",
      "3\n",
      "4\n"
     ]
    }
   ],
   "source": [
    "arr = np.array([[1,2],[3,4]])\n",
    "\n",
    "\n",
    "for i in np.nditer(arr):\n",
    "    print(i)"
   ]
  },
  {
   "cell_type": "markdown",
   "metadata": {},
   "source": [
    "Joining Python arrays \n",
    "np.concatenate()\n",
    "np.stack()\n",
    "np.vstack() Vertical\n",
    "np.dstack() Depth\n",
    "np.hstack() Horizental\n",
    "\n",
    "columns = axis=1\n",
    "row     = axis=0"
   ]
  },
  {
   "cell_type": "code",
   "execution_count": 53,
   "metadata": {},
   "outputs": [
    {
     "name": "stdout",
     "output_type": "stream",
     "text": [
      "[[1 2 5 6]\n",
      " [3 4 7 8]]\n",
      "[[1 2]\n",
      " [3 4]\n",
      " [5 6]\n",
      " [7 8]]\n"
     ]
    }
   ],
   "source": [
    "arr1 =np.array([[1,2],[3,4]])\n",
    "arr2 =np.array([[5,6],[7,8]])\n",
    "\n",
    "arr_conc = np.concatenate((arr1,arr2),axis=1)\n",
    "\n",
    "print(arr_conc)\n",
    "arr_conc = np.concatenate((arr1,arr2),axis=0)\n",
    "\n",
    "print(arr_conc)\n",
    "\n",
    "#concatenate joins the matrices"
   ]
  },
  {
   "cell_type": "code",
   "execution_count": 61,
   "metadata": {},
   "outputs": [
    {
     "name": "stdout",
     "output_type": "stream",
     "text": [
      "[[1 2]\n",
      " [3 4]]\n",
      "-_________________________________________________________________-\n",
      "[[[1 2]\n",
      "  [5 6]]\n",
      "\n",
      " [[3 4]\n",
      "  [7 8]]]\n",
      "-_________________________________________________________________-\n",
      "[[[1 2]\n",
      "  [3 4]]\n",
      "\n",
      " [[5 6]\n",
      "  [7 8]]]\n"
     ]
    }
   ],
   "source": [
    "#stack\n",
    "print(arr1)\n",
    "\n",
    "print('-_________________________________________________________________-')\n",
    "arr_stack = np.stack((arr1,arr2),axis=1)\n",
    "\n",
    "print(arr_stack)\n",
    "\n",
    "print('-_________________________________________________________________-')\n",
    "\n",
    "arr_stack = np.stack((arr1,arr2),axis=0)\n",
    "\n",
    "print(arr_stack)\n",
    "\n",
    "\n"
   ]
  },
  {
   "cell_type": "code",
   "execution_count": 66,
   "metadata": {},
   "outputs": [
    {
     "name": "stdout",
     "output_type": "stream",
     "text": [
      "[[1 2]\n",
      " [3 4]\n",
      " [5 6]\n",
      " [7 8]]\n",
      "[[1 2 5 6]\n",
      " [3 4 7 8]]\n",
      "[[[1 5]\n",
      "  [2 6]]\n",
      "\n",
      " [[3 7]\n",
      "  [4 8]]]\n"
     ]
    }
   ],
   "source": [
    "arr_vstack = np.vstack((arr1,arr2))\n",
    "\n",
    "print(arr_vstack)\n",
    "\n",
    "arr_hstack = np.hstack((arr1,arr2))\n",
    "\n",
    "print(arr_hstack)\n",
    "\n",
    "arr_dstack = np.dstack((arr1,arr2),)\n",
    "\n",
    "print(arr_dstack)\n"
   ]
  },
  {
   "cell_type": "markdown",
   "metadata": {},
   "source": [
    "Splut will not retun an array, but a list of the splt arrays"
   ]
  },
  {
   "cell_type": "code",
   "execution_count": 69,
   "metadata": {},
   "outputs": [
    {
     "name": "stdout",
     "output_type": "stream",
     "text": [
      "[array([1, 2, 3, 4, 5]), array([6, 7, 8, 9])]\n"
     ]
    }
   ],
   "source": [
    "arr = np.array([1,2,3,4,5,6,7,8,9])\n",
    "\n",
    "newarr = np.array_split(arr,2)\n",
    "\n",
    "print(newarr)"
   ]
  },
  {
   "cell_type": "code",
   "execution_count": 86,
   "metadata": {},
   "outputs": [
    {
     "name": "stdout",
     "output_type": "stream",
     "text": [
      "[array([[ 1],\n",
      "       [ 3],\n",
      "       [ 5],\n",
      "       [ 7],\n",
      "       [ 9],\n",
      "       [11]]), array([[ 2],\n",
      "       [ 4],\n",
      "       [ 6],\n",
      "       [ 8],\n",
      "       [10],\n",
      "       [12]])]\n"
     ]
    }
   ],
   "source": [
    "arr = np.array([[1,2],[3,4],[5,6],[7,8],[9,10],[11,12]])\n",
    "\n",
    "newarr = np.array_split(arr,2,axis=1)\n",
    "print(newarr)"
   ]
  },
  {
   "cell_type": "markdown",
   "metadata": {},
   "source": [
    "np.where() to find indexes where valye has occured"
   ]
  },
  {
   "cell_type": "code",
   "execution_count": 90,
   "metadata": {},
   "outputs": [
    {
     "name": "stdout",
     "output_type": "stream",
     "text": [
      "(array([ 4,  5,  7,  8,  9, 11], dtype=int64),)\n"
     ]
    }
   ],
   "source": [
    "arr = np.array([1,2,3,4,5,5,6,5,5,5,55,5])\n",
    "\n",
    "x = np.where(arr == 5)\n",
    "\n",
    "print(x)"
   ]
  },
  {
   "cell_type": "code",
   "execution_count": 92,
   "metadata": {},
   "outputs": [
    {
     "name": "stdout",
     "output_type": "stream",
     "text": [
      "[[2 4]\n",
      " [1 3]]\n"
     ]
    }
   ],
   "source": [
    "arr = np.array([[2,4],[3,1]])\n",
    "\n",
    "x = np.sort(arr)\n",
    "\n",
    "print(x)\n",
    "\n",
    "#search sorted can only return index if values are sorted\n",
    "\n",
    " \n"
   ]
  }
 ],
 "metadata": {
  "kernelspec": {
   "display_name": "Python 3",
   "language": "python",
   "name": "python3"
  },
  "language_info": {
   "codemirror_mode": {
    "name": "ipython",
    "version": 3
   },
   "file_extension": ".py",
   "mimetype": "text/x-python",
   "name": "python",
   "nbconvert_exporter": "python",
   "pygments_lexer": "ipython3",
   "version": "3.11.3"
  }
 },
 "nbformat": 4,
 "nbformat_minor": 2
}
