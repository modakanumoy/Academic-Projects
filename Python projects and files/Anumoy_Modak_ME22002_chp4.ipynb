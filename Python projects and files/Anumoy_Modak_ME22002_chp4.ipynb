{
 "cells": [
  {
   "cell_type": "markdown",
   "metadata": {},
   "source": [
    "4-1. Pizzas: Think of at least three kinds of your favorite pizza. Store these\n",
    "pizza names in a list, and then use a for loop to print the name of each pizza.\n",
    "\n",
    "• Modify your for loop to print a sentence using the name of the pizza,\n",
    "instead of printing just the name of the pizza. For each pizza, you should\n",
    "have one line of output containing a simple statement like I like pepperoni pizza.\n",
    "\n",
    "• Add a line at the end of your program, outside the for loop, that states\n",
    "how much you like pizza. The output should consist of three or more lines\n",
    "about the kinds of pizza you like and then an additional sentence, such as\n",
    "I really love pizza!"
   ]
  },
  {
   "cell_type": "code",
   "execution_count": 13,
   "metadata": {},
   "outputs": [
    {
     "name": "stdout",
     "output_type": "stream",
     "text": [
      "pepperoni\n",
      "I like pepperoni\n",
      "mushroom\n",
      "I like mushroom\n",
      "cheese\n",
      "I like cheese\n",
      "I like pizza like \n",
      "      1)pepperoni\n",
      "      2)mushroom\n",
      "      3)cheese\n",
      "I really love Pizza\n",
      "        \n",
      "\n"
     ]
    }
   ],
   "source": [
    "pizzas = ['pepperoni','mushroom','cheese']\n",
    "\n",
    "for pizza in pizzas:\n",
    "    print(pizza)\n",
    "    print(f'I like {pizza}')\n",
    "\n",
    "print(f\"\"\"I like pizza like \n",
    "      1){pizzas[0]}\n",
    "      2){pizzas[1]}\n",
    "      3){pizzas[2]}\n",
    "I really love Pizza\n",
    "        \n",
    "\"\"\")"
   ]
  },
  {
   "cell_type": "markdown",
   "metadata": {},
   "source": [
    "4-2. Animals: Think of at least three different animals that have a common characteristic. Store the names of these animals in a list, and then use a for loop to\n",
    "print out the name of each animal.\n",
    "\n",
    "• Modify your program to print a statement about each animal, such as A\n",
    "dog would make a great pet.\n",
    "\n",
    "• Add a line at the end of your program, stating what these animals have in\n",
    "common. You could print a sentence, such as Any of these animals would\n",
    "make a great pet!"
   ]
  },
  {
   "cell_type": "code",
   "execution_count": 14,
   "metadata": {},
   "outputs": [
    {
     "name": "stdout",
     "output_type": "stream",
     "text": [
      "Tiger\n",
      "A Tiger has a tale.\n",
      "Wolf\n",
      "A Wolf has a tale.\n",
      "panther\n",
      "A panther has a tale.\n",
      "They all have a tail.\n"
     ]
    }
   ],
   "source": [
    "animals = ['Tiger','Wolf','panther']\n",
    "\n",
    "for animal in animals:\n",
    "    print(animal)\n",
    "    print(f'A {animal} has a tale.')\n",
    "\n",
    "print('They all have a tail.')"
   ]
  },
  {
   "cell_type": "markdown",
   "metadata": {},
   "source": [
    "4-3. Counting to Twenty: Use a for loop to print the numbers from 1 to 20,\n",
    "inclusive."
   ]
  },
  {
   "cell_type": "code",
   "execution_count": 15,
   "metadata": {},
   "outputs": [
    {
     "name": "stdout",
     "output_type": "stream",
     "text": [
      "1\n",
      "2\n",
      "3\n",
      "4\n",
      "5\n",
      "6\n",
      "7\n",
      "8\n",
      "9\n",
      "10\n",
      "11\n",
      "12\n",
      "13\n",
      "14\n",
      "15\n",
      "16\n",
      "17\n",
      "18\n",
      "19\n",
      "20\n"
     ]
    }
   ],
   "source": [
    "for num in range(1,21):\n",
    "    print(num)"
   ]
  },
  {
   "cell_type": "markdown",
   "metadata": {},
   "source": [
    "4-4. One Million: Make a list of the numbers from one to one million, and then\n",
    "use a for loop to print the numbers. (If the output is taking too long, stop it by\n",
    "pressing CTRL-C or by closing the output window.)"
   ]
  },
  {
   "cell_type": "code",
   "execution_count": null,
   "metadata": {},
   "outputs": [],
   "source": [
    "num = list(range(1,1000001))\n",
    "for value in num:\n",
    "    print(value)"
   ]
  },
  {
   "cell_type": "markdown",
   "metadata": {},
   "source": [
    "4-5. Summing a Million: Make a list of the numbers from one to one million, and\n",
    "then use min() and max() to make sure your list actually starts at one and ends\n",
    "at one million. Also, use the sum() function to see how quickly Python can add\n",
    "a million numbers.\n"
   ]
  },
  {
   "cell_type": "code",
   "execution_count": 17,
   "metadata": {},
   "outputs": [
    {
     "name": "stdout",
     "output_type": "stream",
     "text": [
      "1"
     ]
    },
    {
     "name": "stdout",
     "output_type": "stream",
     "text": [
      "\n",
      "1000000\n"
     ]
    },
    {
     "data": {
      "text/plain": [
       "500000500000"
      ]
     },
     "execution_count": 17,
     "metadata": {},
     "output_type": "execute_result"
    }
   ],
   "source": [
    "num = list(range(1,1000001))\n",
    "\n",
    "print(min(num))\n",
    "\n",
    "print(max(num))\n",
    "\n",
    "sum(num)"
   ]
  },
  {
   "cell_type": "markdown",
   "metadata": {},
   "source": [
    "4-6. Odd Numbers: Use the third argument of the range() function to make a list\n",
    "of the odd numbers from 1 to 20. Use a for loop to print each number."
   ]
  },
  {
   "cell_type": "code",
   "execution_count": 18,
   "metadata": {},
   "outputs": [
    {
     "name": "stdout",
     "output_type": "stream",
     "text": [
      "1\n",
      "3\n",
      "5\n",
      "7\n",
      "9\n",
      "11\n",
      "13\n",
      "15\n",
      "17\n",
      "19\n"
     ]
    }
   ],
   "source": [
    "num = list(range(1,21,2))\n",
    "\n",
    "for number in num:\n",
    "    print(number)\n"
   ]
  },
  {
   "cell_type": "markdown",
   "metadata": {},
   "source": [
    "4-7. Threes: Make a list of the multiples of 3, from 3 to 30. Use a for loop to\n",
    "print the numbers in your list."
   ]
  },
  {
   "cell_type": "code",
   "execution_count": 19,
   "metadata": {},
   "outputs": [
    {
     "name": "stdout",
     "output_type": "stream",
     "text": [
      "3\n",
      "6\n",
      "9\n",
      "12\n",
      "15\n",
      "18\n",
      "21\n",
      "24\n",
      "27\n",
      "30\n"
     ]
    }
   ],
   "source": [
    "numbers = list(range(3,31,3))\n",
    "for number in numbers:\n",
    "    print(number)"
   ]
  },
  {
   "cell_type": "markdown",
   "metadata": {},
   "source": [
    "4-8. Cubes: A number raised to the third power is called a cube. For example,\n",
    "the cube of 2 is written as 2**3 in Python. Make a list of the first 10 cubes (that\n",
    "is, the cube of each integer from 1 through 10), and use a for loop to print out\n",
    "the value of each cube.\n",
    "\n",
    "4-9. Cube Comprehension: Use a list comprehension to generate a list of the first\n",
    "10 cubes."
   ]
  },
  {
   "cell_type": "code",
   "execution_count": 20,
   "metadata": {},
   "outputs": [
    {
     "name": "stdout",
     "output_type": "stream",
     "text": [
      "1\n",
      "4\n",
      "9\n",
      "16\n",
      "25\n",
      "36\n",
      "49\n",
      "64\n",
      "81\n",
      "100\n",
      "\n",
      "\n",
      "1\n",
      "4\n",
      "9\n",
      "16\n",
      "25\n",
      "36\n",
      "49\n",
      "64\n",
      "81\n",
      "100\n"
     ]
    }
   ],
   "source": [
    "#4.8\n",
    "nums = []\n",
    "\n",
    "for value in range(1,11):\n",
    "    value = value**2\n",
    "    nums.append(value)\n",
    "    print(value)  \n",
    "\n",
    "print('\\n')\n",
    "#4.9\n",
    "nums = [value**2 for value in range(1,11)]\n",
    "for number in nums:\n",
    "    print(number)"
   ]
  },
  {
   "cell_type": "markdown",
   "metadata": {},
   "source": [
    "4-10. Slices: Using one of the programs you wrote in this chapter, add several\n",
    "lines to the end of the program that do the following:\n",
    "\n",
    "• Print the message The first three items in the list are:. Then use a slice to\n",
    "print the first three items from that program’s list.\n",
    "\n",
    "• Print the message Three items from the middle of the list are:. Then use a\n",
    "slice to print three items from the middle of the list.\n",
    "\n",
    "• Print the message The last three items in the list are:. Then use a slice to\n",
    "print the last three items in the list"
   ]
  },
  {
   "cell_type": "code",
   "execution_count": 21,
   "metadata": {},
   "outputs": [
    {
     "name": "stdout",
     "output_type": "stream",
     "text": [
      "1\n",
      "4\n",
      "9\n",
      "16\n",
      "25\n",
      "36\n",
      "49\n",
      "64\n",
      "81\n",
      "100\n",
      "The first three items in the list are:[1, 4, 9] \n",
      "Three items from the middle of the list are:[16, 25, 36] \n",
      "The last three items in the list are:[64, 81, 100] \n"
     ]
    }
   ],
   "source": [
    "numbers =[]\n",
    "\n",
    "for value in range(1,11):\n",
    "    numbers.append(value**2)\n",
    "for number in numbers:\n",
    "    print(number)\n",
    "\n",
    "print(f'The first three items in the list are:{numbers[:3]} ')\n",
    "\n",
    "print(f'Three items from the middle of the list are:{numbers[3:6]} ')\n",
    "\n",
    "print(f'The last three items in the list are:{numbers[-3:]} ')\n"
   ]
  },
  {
   "cell_type": "markdown",
   "metadata": {},
   "source": [
    "4-11. My Pizzas, Your Pizzas: Start with your program from Exercise 4-1 (page 56).\n",
    "Make a copy of the list of pizzas, and call it friend_pizzas. Then, do the\n",
    "following:\n",
    "\n",
    "• Add a new pizza to the original list.\n",
    "\n",
    "• Add a different pizza to the list friend_pizzas.\n",
    "\n",
    "• Prove that you have two separate lists. Print the message My favorite pizzas are:, and then use a for loop to print the first list. Print the message My\n",
    "friend’s favorite pizzas are:, and then use a for loop to print the second list.\n",
    "\n",
    "Make sure each new pizza is stored in the appropriate list"
   ]
  },
  {
   "cell_type": "code",
   "execution_count": 22,
   "metadata": {},
   "outputs": [
    {
     "name": "stdout",
     "output_type": "stream",
     "text": [
      "pepperoni\n",
      "I like pepperoni\n",
      "mushroom\n",
      "I like mushroom\n",
      "cheese\n",
      "I like cheese\n",
      "I like pizza like \n",
      "      1)pepperoni\n",
      "      2)mushroom\n",
      "      3)cheese\n",
      "I really love Pizza\n",
      "        \n",
      "\n",
      "Favourite toopings:pepperoni\n",
      "Favourite toopings:mushroom\n",
      "Favourite toopings:cheese\n",
      "Favourite toopings:green chilies\n",
      "\n",
      "\n",
      "My friend's favourite pizzas are:pepperoni\n",
      "My friend's favourite pizzas are:mushroom\n",
      "My friend's favourite pizzas are:cheese\n",
      "My friend's favourite pizzas are:mutton\n"
     ]
    }
   ],
   "source": [
    "pizzas = ['pepperoni','mushroom','cheese']\n",
    "\n",
    "for pizza in pizzas:\n",
    "    print(pizza)\n",
    "    print(f'I like {pizza}')\n",
    "\n",
    "print(f\"\"\"I like pizza like \n",
    "      1){pizzas[0]}\n",
    "      2){pizzas[1]}\n",
    "      3){pizzas[2]}\n",
    "I really love Pizza\n",
    "        \n",
    "\"\"\")\n",
    "\n",
    "friend_pizzas = pizzas[:]\n",
    "\n",
    "pizzas.append('green chilies')\n",
    "friend_pizzas.append('mutton')\n",
    "\n",
    "for pizza in pizzas:\n",
    "    print(f'Favourite toopings:{pizza}')\n",
    "\n",
    "print('\\n')\n",
    "for pizza in friend_pizzas:\n",
    "    print(f'My friend\\'s favourite pizzas are:{pizza}')\n"
   ]
  },
  {
   "cell_type": "markdown",
   "metadata": {},
   "source": [
    "4-12. More Loops: All versions of foods.py in this section have avoided using\n",
    "for loops when printing, to save space. Choose a version of foods.py, and\n",
    "write two for loops to print each list of foods."
   ]
  },
  {
   "cell_type": "code",
   "execution_count": 23,
   "metadata": {},
   "outputs": [
    {
     "name": "stdout",
     "output_type": "stream",
     "text": [
      "My favorite foods are:\n",
      "mutton\n",
      "My favorite foods are:\n",
      "mutton biriyani\n",
      "My favorite foods are:\n",
      "chichen butter-fry\n",
      "My friend's favorite foods are:\n",
      "mutton\n",
      "My friend's favorite foods are:\n",
      "mutton biriyani\n",
      "My friend's favorite foods are:\n",
      "chichen butter-fry\n"
     ]
    }
   ],
   "source": [
    "my_foods = ['mutton', 'mutton biriyani', 'chichen butter-fry']\n",
    "friend_foods = my_foods[:]\n",
    "for food in my_foods:\n",
    "    print(\"My favorite foods are:\")\n",
    "    print(food)\n",
    "for food in friend_foods:    \n",
    "    print(\"My friend's favorite foods are:\")\n",
    "    print(food)\n"
   ]
  },
  {
   "cell_type": "markdown",
   "metadata": {},
   "source": [
    "4-13. Buffet: A buffet-style restaurant offers only five basic foods. Think of five\n",
    "simple foods, and store them in a tuple.\n",
    "\n",
    "• Use a for loop to print each food the restaurant offers.\n",
    "\n",
    "• Try to modify one of the items, and make sure that Python rejects the\n",
    "change.\n",
    "\n",
    "• The restaurant changes its menu, replacing two of the items with different\n",
    "foods. Add a line that rewrites the tuple, and then use a for loop to print\n",
    "each of the items on the revised menu."
   ]
  },
  {
   "cell_type": "code",
   "execution_count": 24,
   "metadata": {},
   "outputs": [
    {
     "ename": "TypeError",
     "evalue": "'tuple' object does not support item assignment",
     "output_type": "error",
     "traceback": [
      "\u001b[1;31m---------------------------------------------------------------------------\u001b[0m",
      "\u001b[1;31mTypeError\u001b[0m                                 Traceback (most recent call last)",
      "Cell \u001b[1;32mIn[24], line 3\u001b[0m\n\u001b[0;32m      1\u001b[0m buffet_items \u001b[38;5;241m=\u001b[39m (\u001b[38;5;124m'\u001b[39m\u001b[38;5;124mcake\u001b[39m\u001b[38;5;124m'\u001b[39m,\u001b[38;5;124m'\u001b[39m\u001b[38;5;124mmutton\u001b[39m\u001b[38;5;124m'\u001b[39m,\u001b[38;5;124m'\u001b[39m\u001b[38;5;124mchilles\u001b[39m\u001b[38;5;124m'\u001b[39m,\u001b[38;5;124m'\u001b[39m\u001b[38;5;124meggs\u001b[39m\u001b[38;5;124m'\u001b[39m,\u001b[38;5;124m'\u001b[39m\u001b[38;5;124mtea\u001b[39m\u001b[38;5;124m'\u001b[39m)\n\u001b[1;32m----> 3\u001b[0m \u001b[43mbuffet_items\u001b[49m\u001b[43m[\u001b[49m\u001b[38;5;241;43m1\u001b[39;49m\u001b[43m]\u001b[49m \u001b[38;5;241m=\u001b[39m \u001b[38;5;124m'\u001b[39m\u001b[38;5;124mjuice\u001b[39m\u001b[38;5;124m'\u001b[39m\n",
      "\u001b[1;31mTypeError\u001b[0m: 'tuple' object does not support item assignment"
     ]
    }
   ],
   "source": [
    "buffet_items = ('cake','mutton','chilles','eggs','tea')\n",
    "\n",
    "buffet_items[1] = 'juice'"
   ]
  },
  {
   "cell_type": "code",
   "execution_count": null,
   "metadata": {},
   "outputs": [
    {
     "name": "stdout",
     "output_type": "stream",
     "text": [
      "toast\n",
      "mutton\n",
      "chicken\n",
      "omlet\n",
      "jam\n"
     ]
    }
   ],
   "source": [
    "buffet_items = ('cake','mutton','chilles','eggs','tea')\n",
    "\n",
    "buffet_items =('toast','mutton','chicken','omlet','jam')\n",
    "\n",
    "for item in buffet_items:\n",
    "    print(item)"
   ]
  }
 ],
 "metadata": {
  "kernelspec": {
   "display_name": "Python 3",
   "language": "python",
   "name": "python3"
  },
  "language_info": {
   "codemirror_mode": {
    "name": "ipython",
    "version": 3
   },
   "file_extension": ".py",
   "mimetype": "text/x-python",
   "name": "python",
   "nbconvert_exporter": "python",
   "pygments_lexer": "ipython3",
   "version": "3.9.10"
  }
 },
 "nbformat": 4,
 "nbformat_minor": 2
}
