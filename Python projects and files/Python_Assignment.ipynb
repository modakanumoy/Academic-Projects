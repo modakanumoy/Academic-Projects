{
 "cells": [
  {
   "cell_type": "markdown",
   "metadata": {},
   "source": [
    "Assignmnet: 1 (Part A)"
   ]
  },
  {
   "cell_type": "markdown",
   "metadata": {},
   "source": [
    "Question 1) Store the names of a few of your friends in a list called names. Print\n",
    "each person’s name by accessing each element in the list, one at a time."
   ]
  },
  {
   "cell_type": "code",
   "execution_count": 1,
   "metadata": {},
   "outputs": [
    {
     "name": "stdout",
     "output_type": "stream",
     "text": [
      "['Spandan', 'Bhaskar', 'Abhishek', 'Rajveer', 'Abhirub']\n",
      "Spandan\n",
      "Bhaskar\n",
      "Abhishek\n",
      "Rajveer\n",
      "Abhirub\n"
     ]
    }
   ],
   "source": [
    "Name = ['Spandan','Bhaskar','Abhishek','Rajveer','Abhirub']\n",
    "print(Name)\n",
    "\n",
    "print(Name[0])\n",
    "print(Name[1])\n",
    "print(Name[2])\n",
    "print(Name[3])\n",
    "print(Name[4])"
   ]
  },
  {
   "cell_type": "markdown",
   "metadata": {},
   "source": [
    "Question 2) Start with the list we used in Previous Exercise (Question 1), but instead of just\n",
    "printing each person’s name, print a message to them. The text of each message\n",
    "should be the same, but each message should be personalized with the\n",
    "person’s name."
   ]
  },
  {
   "cell_type": "code",
   "execution_count": 2,
   "metadata": {},
   "outputs": [
    {
     "name": "stdout",
     "output_type": "stream",
     "text": [
      "hello Spandan have a good day\n",
      "hello Bhaskar have a good day\n",
      "hello Abhishek have a good day\n",
      "hello Rajveer have a good day\n",
      "hello Abhirub have a good day\n"
     ]
    }
   ],
   "source": [
    "\n",
    "\n",
    "Name = ['Spandan','Bhaskar','Abhishek','Rajveer','Abhirub']\n",
    "print(f\"hello {Name[0]} have a good day\")\n",
    "print(f\"hello {Name[1]} have a good day\")\n",
    "print(f\"hello {Name[2]} have a good day\")\n",
    "print(f\"hello {Name[3]} have a good day\")\n",
    "print(f\"hello {Name[4]} have a good day\")\n"
   ]
  },
  {
   "cell_type": "markdown",
   "metadata": {},
   "source": [
    "Question 3) Think of your favorite mode of transportation, such as a\n",
    "motorcycle or a car, and make a list that stores several examples. Use your list\n",
    "to print a series of statements about these items, such as “I would like to own a\n",
    "Honda motorcycle.”"
   ]
  },
  {
   "cell_type": "code",
   "execution_count": 3,
   "metadata": {},
   "outputs": [
    {
     "name": "stdout",
     "output_type": "stream",
     "text": [
      "I would like to own a  TataMotors\n",
      "I would like to own a Audi\n",
      "I would like to own a Thar\n",
      "I would like to own a Jaguar\n",
      "I would like to own a lamborgini\n"
     ]
    }
   ],
   "source": [
    "Car = ['TataMotors','Audi','Thar','Jaguar', 'lamborgini']\n",
    "\n",
    "print(f\"I would like to own a  {Car[0]}\")\n",
    "print(f\"I would like to own a {Car[1]}\")\n",
    "print(f\"I would like to own a {Car[2]}\")\n",
    "print(f\"I would like to own a {Car[3]}\")\n",
    "print(f\"I would like to own a {Car[4]}\")"
   ]
  },
  {
   "cell_type": "markdown",
   "metadata": {},
   "source": [
    "Assignmnet:1 (Part B)"
   ]
  },
  {
   "cell_type": "markdown",
   "metadata": {},
   "source": [
    "Question 1) If we could invite anyone, living or deceased, to dinner, who\n",
    "would you invite? Make a list that includes at least three people you’d like to\n",
    "invite to dinner. Then use your list to print a message to each person, inviting\n",
    "them to dinner."
   ]
  },
  {
   "cell_type": "code",
   "execution_count": 4,
   "metadata": {},
   "outputs": [
    {
     "name": "stdout",
     "output_type": "stream",
     "text": [
      "['Spandan', 'Bhaskar', 'Abhisekh']\n",
      "\n",
      " Hello!, Spandan.I am pleased to inform you to come at my home and have a dinner. Thank you, will be waiting for you\n",
      "\n",
      " Hello!, Bhaskar.I am pleased to inform you to come at my home and have a dinner. Thank you, will be waiting for you\n",
      "\n",
      " Hello!, Abhisekh.I am pleased to inform you to come at my home and have a dinner. Thank you, will be waiting for you\n"
     ]
    }
   ],
   "source": [
    "Guests = ['Spandan','Bhaskar','Abhisekh']\n",
    "print(Guests)\n",
    "print(f\"\\n Hello!, {Guests[0]}.I am pleased to inform you to come at my home and have a dinner. Thank you, will be waiting for you\")\n",
    "print(f\"\\n Hello!, {Guests[1]}.I am pleased to inform you to come at my home and have a dinner. Thank you, will be waiting for you\")\n",
    "print(f\"\\n Hello!, {Guests[2]}.I am pleased to inform you to come at my home and have a dinner. Thank you, will be waiting for you\")"
   ]
  },
  {
   "cell_type": "markdown",
   "metadata": {},
   "source": [
    "Question 2) You just heard that one of your guests can’t make the\n",
    "dinner, so you need to send out a new set of invitations. You’ll have to think of\n",
    "someone else to invite.\n",
    "\n",
    "• Start with your program from previous Excercise. Add a print() call at the end of\n",
    "your program, stating the name of the guest who can’t make it.\n",
    "\n",
    "• Modify your list, replacing the name of the guest who can’t make it with the\n",
    "name of the new person you are inviting.\n",
    "\n",
    "• Print a second set of invitation messages, one for each person who is still in\n",
    "your list."
   ]
  },
  {
   "cell_type": "code",
   "execution_count": 5,
   "metadata": {},
   "outputs": [
    {
     "name": "stdout",
     "output_type": "stream",
     "text": [
      "['Spandan', 'Bhaskar', 'Abhisekh']\n",
      "Guest who cant attend the dinner is Bhaskar, Hope he will attend next time.\n",
      "['Spandan', 'Rajveer', 'Abhisekh']\n",
      "I am happy in inviting you Rajveer for the dinner in replacement of Bhaskar.Due to some health issues Bhaskar couldn't attend the party. hope he will be fine.\n",
      "['Spandan', 'Rajveer', 'Abhisekh']\n",
      "\n",
      " Hello!, Spandan.I am pleased to inform you to come at my home and have a dinner. Thank you, will be waiting for you\n",
      "\n",
      " Hello!, Rajveer.I am pleased to inform you to come at my home and have a dinner. Thank you, will be waiting for you\n",
      "\n",
      " Hello!, Abhisekh.I am pleased to inform you to come at my home and have a dinner. Thank you, will be waiting for you\n"
     ]
    }
   ],
   "source": [
    "Guests = ['Spandan','Bhaskar','Abhisekh']\n",
    "print(Guests)\n",
    "Guest_cant_come = 'Bhaskar'\n",
    "print(f\"Guest who cant attend the dinner is {Guest_cant_come}, Hope he will attend next time.\")\n",
    "\n",
    "Guests[1] = 'Rajveer'\n",
    "print(Guests)\n",
    "Guest_Can_Come = 'Rajveer'\n",
    "print(f\"I am happy in inviting you {Guest_Can_Come} for the dinner in replacement of Bhaskar.Due to some health issues Bhaskar couldn't attend the party. hope he will be fine.\")\n",
    "\n",
    "\n",
    "print(Guests)\n",
    "print(f\"\\n Hello!, {Guests[0]}.I am pleased to inform you to come at my home and have a dinner. Thank you, will be waiting for you\")\n",
    "print(f\"\\n Hello!, {Guests[1]}.I am pleased to inform you to come at my home and have a dinner. Thank you, will be waiting for you\")\n",
    "print(f\"\\n Hello!, {Guests[2]}.I am pleased to inform you to come at my home and have a dinner. Thank you, will be waiting for you\")\n"
   ]
  },
  {
   "cell_type": "markdown",
   "metadata": {},
   "source": [
    "3-6. More Guests: \n",
    "\n",
    "You just found a bigger dinner table, so now more space is\n",
    "available. Think of three more guests to invite to dinner.\n",
    "\n",
    "• Start with your program from Exercise 3-4 or 3-5. Add a print() call to the\n",
    "end of your program, informing people that you found a bigger table.\n",
    "\n",
    "• Use insert() to add one new guest to the beginning of your list.\n",
    "\n",
    "• Use insert() to add one new guest to the middle of your list.\n",
    "\n",
    "• Use append() to add one new guest to the end of your list.\n",
    "\n",
    "• Print a new set of invitation messages, one for each person in your list."
   ]
  },
  {
   "cell_type": "code",
   "execution_count": 6,
   "metadata": {},
   "outputs": [
    {
     "name": "stdout",
     "output_type": "stream",
     "text": [
      "['Spandan', 'Rajveer', 'Abhisekh']\n",
      "\n",
      " Hello!, Spandan.We have found the bigger table\n",
      "\n",
      " Hello!, Rajveer.We have found the bigger table\n",
      "\n",
      " Hello!, Abhisekh.We have found the bigger table\n",
      "\n",
      "['Bhaskar', 'Spandan', 'Rajveer', 'Sichitaj', 'Abhisekh', 'Depaak']\n",
      "['Bhaskar', 'Spandan', 'Rajveer', 'Sichitaj', 'Abhisekh', 'Depaak']\n",
      "\n",
      " Hello!, Bhaskar.I am pleased to inform you to come at my home and have a dinner. Thank you, will be waiting for you\n",
      "\n",
      " Hello!, Spandan.I am pleased to inform you to come at my home and have a dinner. Thank you, will be waiting for you\n",
      "\n",
      " Hello!, Rajveer.I am pleased to inform you to come at my home and have a dinner. Thank you, will be waiting for you\n",
      "\n",
      " Hello!, Sichitaj.I am pleased to inform you to come at my home and have a dinner. Thank you, will be waiting for you\n",
      "\n",
      " Hello!, Abhisekh.I am pleased to inform you to come at my home and have a dinner. Thank you, will be waiting for you\n",
      "\n",
      " Hello!, Depaak.I am pleased to inform you to come at my home and have a dinner. Thank you, will be waiting for you\n"
     ]
    }
   ],
   "source": [
    "\n",
    "\n",
    "\n",
    "Guests = ['Spandan', 'Rajveer', 'Abhisekh']\n",
    "print(Guests)\n",
    "print(f\"\\n Hello!, {Guests[0]}.We have found the bigger table\")\n",
    "print(f\"\\n Hello!, {Guests[1]}.We have found the bigger table\")\n",
    "print(f\"\\n Hello!, {Guests[2]}.We have found the bigger table\\n\")\n",
    "\n",
    "\n",
    "\n",
    "Guests = ['Spandan', 'Rajveer', 'Abhisekh']\n",
    "Guests.insert(0,'Bhaskar')\n",
    "Guests.insert(3,'Sichitaj')\n",
    "Guests.append('Depaak')\n",
    "print(Guests)\n",
    "\n",
    "\n",
    "print(Guests)\n",
    "print(f\"\\n Hello!, {Guests[0]}.I am pleased to inform you to come at my home and have a dinner. Thank you, will be waiting for you\")\n",
    "print(f\"\\n Hello!, {Guests[1]}.I am pleased to inform you to come at my home and have a dinner. Thank you, will be waiting for you\")\n",
    "print(f\"\\n Hello!, {Guests[2]}.I am pleased to inform you to come at my home and have a dinner. Thank you, will be waiting for you\")\n",
    "print(f\"\\n Hello!, {Guests[3]}.I am pleased to inform you to come at my home and have a dinner. Thank you, will be waiting for you\")\n",
    "print(f\"\\n Hello!, {Guests[4]}.I am pleased to inform you to come at my home and have a dinner. Thank you, will be waiting for you\")\n",
    "print(f\"\\n Hello!, {Guests[5]}.I am pleased to inform you to come at my home and have a dinner. Thank you, will be waiting for you\")\n",
    "\n"
   ]
  },
  {
   "cell_type": "markdown",
   "metadata": {},
   "source": [
    "3-7. Shrinking Guest List: \n",
    "\n",
    "You just found out that your new dinner table won’t\n",
    "arrive in time for the dinner, and now you have space for only two guests.\n",
    "\n",
    "• Start with your program from Exercise 3-6. Add a new line that prints a\n",
    "message saying that you can invite only two people for dinner.\n",
    "\n",
    "• Use pop() to remove guests from your list one at a time until only two\n",
    "names remain in your list. Each time you pop a name from your list, print a\n",
    "message to that person letting them know you’re sorry you can’t invite them\n",
    "to dinner.\n",
    "\n",
    "• Print a message to each of the two people still on your list, letting them\n",
    "know they’re still invited.\n",
    "\n",
    "• Use del to remove the last two names from your list, so you have an empty\n",
    "list. Print your list to make sure you actually have an empty list at the end of\n",
    "your program."
   ]
  },
  {
   "cell_type": "code",
   "execution_count": 7,
   "metadata": {},
   "outputs": [
    {
     "name": "stdout",
     "output_type": "stream",
     "text": [
      "['Bhaskar', 'Spandan', 'Rajveer', 'Sichitaj', 'Abhisekh', 'Depaak']\n",
      "\n",
      " Hello!, Bhaskar.Sorry I can invite only two people\n",
      "\n",
      " Hello!, Spandan.Sorry I can invite only two people\n",
      "\n",
      " Hello!, Rajveer.Sorry I can invite only two people\n",
      "\n",
      " Hello!, Sichitaj.Sorry I can invite only two people\n",
      "\n",
      " Hello!, Abhisekh.Sorry I can invite only two people\n",
      "\n",
      " Hello!, Depaak.Sorry I can invite only two people\n",
      "\n",
      "sorry i cannot invite you Depaak\n",
      "sorry i cannot invite you Abhisekh\n",
      "sorry i cannot invite you Sichitaj\n",
      "sorry i cannot invite you Rajveer\n",
      "\n",
      "['Bhaskar', 'Spandan']\n",
      "\n",
      "I am happy to you for the dinner Bhaskar.See you in the party\n",
      "\n",
      "I am happy to you for the dinner Spandan.See you in the party\n",
      "['Bhaskar', 'Spandan']\n",
      "[]\n"
     ]
    }
   ],
   "source": [
    "Guests = ['Bhaskar', 'Spandan', 'Rajveer', 'Sichitaj', 'Abhisekh', 'Depaak']\n",
    "print(Guests)\n",
    "print(f\"\\n Hello!, {Guests[0]}.Sorry I can invite only two people\")\n",
    "print(f\"\\n Hello!, {Guests[1]}.Sorry I can invite only two people\")\n",
    "print(f\"\\n Hello!, {Guests[2]}.Sorry I can invite only two people\")\n",
    "print(f\"\\n Hello!, {Guests[3]}.Sorry I can invite only two people\")\n",
    "print(f\"\\n Hello!, {Guests[4]}.Sorry I can invite only two people\")\n",
    "print(f\"\\n Hello!, {Guests[5]}.Sorry I can invite only two people\\n\")\n",
    "\n",
    "\n",
    "Guests = ['Bhaskar', 'Spandan', 'Rajveer', 'Sichitaj', 'Abhisekh', 'Depaak']\n",
    "print(f\"sorry i cannot invite you {Guests.pop()}\")\n",
    "print(f\"sorry i cannot invite you {Guests.pop()}\")\n",
    "print(f\"sorry i cannot invite you {Guests.pop()}\")\n",
    "print(f\"sorry i cannot invite you {Guests.pop()}\\n\")\n",
    "print(Guests)\n",
    "print(f\"\\nI am happy to you for the dinner {Guests[0]}.See you in the party\")\n",
    "print(f\"\\nI am happy to you for the dinner {Guests[1]}.See you in the party\")\n",
    "\n",
    "\n",
    "print(Guests)\n",
    "del Guests[0]\n",
    "del Guests[0]\n",
    "print(Guests)\n",
    "\n",
    "\n"
   ]
  },
  {
   "cell_type": "markdown",
   "metadata": {},
   "source": [
    "3-8. Seeing the World: \n",
    "\n",
    "Think of at least five places in the world you’d like\n",
    "to visit.\n",
    "\n",
    "• Store the locations in a list. Make sure the list is not in alphabetical order.\n",
    "\n",
    "• Print your list in its original order. Don’t worry about printing the list neatly;\n",
    "just print it as a raw Python list.\n",
    "\n",
    "• Use sorted() to print your list in alphabetical order without modifying the\n",
    "actual list.\n",
    "\n",
    "• Show that your list is still in its original order by printing it.\n",
    "\n",
    "• Use sorted() to print your list in reverse-alphabetical order without changing\n",
    "the order of the original list.\n",
    "\n",
    "• Show that your list is still in its original order by printing it again.\n",
    "\n",
    "• Use reverse() to change the order of your list. Print the list to show that its\n",
    "order has changed.\n",
    "\n",
    "• Use reverse() to change the order of your list again. Print the list to show\n",
    "it’s back to its original order.\n",
    "\n",
    "• Use sort() to change your list so it’s stored in alphabetical order. Print the\n",
    "list to show that its order has been changed.\n",
    "\n",
    "• Use sort() to change your list so it’s stored in reverse-alphabetical order.\n",
    "Print the list to show that its order has changed."
   ]
  },
  {
   "cell_type": "code",
   "execution_count": 8,
   "metadata": {},
   "outputs": [
    {
     "name": "stdout",
     "output_type": "stream",
     "text": [
      "\n",
      "1) ['Kolkata', 'Bhubaneshwar', 'Delhi', 'Ahemdabad']\n",
      "\n",
      "2) ['Ahemdabad', 'Bhubaneshwar', 'Delhi', 'Kolkata']\n",
      "\n",
      "3) ['Kolkata', 'Bhubaneshwar', 'Delhi', 'Ahemdabad']\n",
      "\n",
      "4) ['Kolkata', 'Delhi', 'Bhubaneshwar', 'Ahemdabad']\n",
      "\n",
      "5) ['Ahemdabad', 'Delhi', 'Bhubaneshwar', 'Kolkata']\n",
      "\n",
      "6) ['Kolkata', 'Bhubaneshwar', 'Delhi', 'Ahemdabad']\n",
      "\n",
      "7) ['Ahemdabad', 'Bhubaneshwar', 'Delhi', 'Kolkata']\n",
      "\n",
      "7) ['Kolkata', 'Delhi', 'Bhubaneshwar', 'Ahemdabad']\n"
     ]
    }
   ],
   "source": [
    "Locations = ['Kolkata', 'Bhubaneshwar','Delhi','Ahemdabad']\n",
    "print(f'\\n1) {Locations}')\n",
    "print(f'\\n2) {sorted(Locations)}')\n",
    "print(f'\\n3) {Locations}')\n",
    "print(f'\\n4) {sorted(Locations,reverse=True)}')\n",
    "Locations.reverse()\n",
    "print(f'\\n5) {(Locations)}')\n",
    "Locations.reverse()\n",
    "print(f'\\n6) {(Locations)}')\n",
    "\n",
    "Locations.sort()\n",
    "print(f'\\n7) {(Locations)}')\n",
    "Locations.sort(reverse=True)\n",
    "print(f'\\n7) {(Locations)}')\n",
    "\n",
    "\n"
   ]
  },
  {
   "cell_type": "markdown",
   "metadata": {},
   "source": [
    "3-9. Dinner Guests: Working with one of the programs from Exercises 3-4\n",
    "through 3-7 (pages 41–42), use len() to print a message indicating the number\n",
    "of people you’re inviting to dinner."
   ]
  },
  {
   "cell_type": "code",
   "execution_count": 9,
   "metadata": {},
   "outputs": [
    {
     "name": "stdout",
     "output_type": "stream",
     "text": [
      "['Bhaskar', 'Spandan', 'Rajveer', 'Sichitaj', 'Abhisekh', 'Depaak']\n",
      "\n",
      " Hello!, Bhaskar.Sorry I can invite only two people\n",
      "\n",
      " Hello!, Spandan.Sorry I can invite only two people\n",
      "\n",
      " Hello!, Rajveer.Sorry I can invite only two people\n",
      "\n",
      " Hello!, Sichitaj.Sorry I can invite only two people\n",
      "\n",
      " Hello!, Abhisekh.Sorry I can invite only two people\n",
      "\n",
      " Hello!, Depaak.Sorry I can invite only two people\n",
      "\n",
      "6\n"
     ]
    }
   ],
   "source": [
    "Guests = ['Bhaskar', 'Spandan', 'Rajveer', 'Sichitaj', 'Abhisekh', 'Depaak']\n",
    "print(Guests)\n",
    "print(f\"\\n Hello!, {Guests[0]}.Sorry I can invite only two people\")\n",
    "print(f\"\\n Hello!, {Guests[1]}.Sorry I can invite only two people\")\n",
    "print(f\"\\n Hello!, {Guests[2]}.Sorry I can invite only two people\")\n",
    "print(f\"\\n Hello!, {Guests[3]}.Sorry I can invite only two people\")\n",
    "print(f\"\\n Hello!, {Guests[4]}.Sorry I can invite only two people\")\n",
    "print(f\"\\n Hello!, {Guests[5]}.Sorry I can invite only two people\\n\")\n",
    "\n",
    "print(len(Guests))"
   ]
  },
  {
   "cell_type": "markdown",
   "metadata": {},
   "source": [
    "3-10. Every Function: Think of things you could store in a list. For example, you\n",
    "could make a list of mountains, rivers, countries, cities, languages, or anything\n",
    "else you’d like. Write a program that creates a list containing these items and\n",
    "then uses each function introduced in this chapter at least once."
   ]
  },
  {
   "cell_type": "code",
   "execution_count": 10,
   "metadata": {},
   "outputs": [
    {
     "name": "stdout",
     "output_type": "stream",
     "text": [
      "BHASKAR\n",
      "bhaskar\n",
      "BhaskarDoes nothing since it is already capital in first letter \n",
      "['Bhaskar', 'Spandan', 'Rajveer', 'Sichitaj', 'Abhisekh', 'Depaak']\n",
      "['Bhaskar', 'Spandan', 'Rajveer', 'Sichitaj', 'Abhisekh', 'Depaak', 'Abhirup']\n",
      "Abhirup\n",
      "['Bhaskar', 'Spandan', 'Rajveer', 'Abhirup', 'Sichitaj', 'Abhisekh', 'Depaak']\n",
      "['Bhaskar', 'Spandan', 'Rajveer', 'Sichitaj', 'Abhisekh', 'Depaak']\n",
      "['Abhirup', 'Spandan', 'Rajveer', 'Sichitaj', 'Abhisekh', 'Depaak']\n",
      "['Spandan', 'Rajveer', 'Sichitaj', 'Abhisekh', 'Depaak']\n",
      "message to Abhisekh\n",
      "['Abhisekh', 'Depaak', 'Rajveer', 'Sichitaj', 'Spandan']\n",
      "['Spandan', 'Sichitaj', 'Rajveer', 'Depaak', 'Abhisekh']\n",
      "['Spandan', 'Rajveer', 'Sichitaj', 'Abhisekh', 'Depaak']\n",
      "['Depaak', 'Abhisekh', 'Sichitaj', 'Rajveer', 'Spandan']\n",
      "['Abhisekh', 'Depaak', 'Rajveer', 'Sichitaj', 'Spandan']\n",
      "['Abhisekh', 'Depaak', 'Rajveer', 'Sichitaj', 'Spandan']\n",
      "5\n"
     ]
    }
   ],
   "source": [
    "Guests = ['Bhaskar', 'Spandan', 'Rajveer', 'Sichitaj', 'Abhisekh', 'Depaak']\n",
    "\n",
    "print(Guests[0].upper())\n",
    "print(Guests[0].lower())\n",
    "print(Guests[0].title() +'Does nothing since it is already capital in first letter ')\n",
    "print(Guests)\n",
    "Guests.append('Abhirup')\n",
    "print(Guests)\n",
    "print(Guests.pop())\n",
    "Guests.insert(3,'Abhirup')\n",
    "print(Guests)\n",
    "Guests.remove('Abhirup')\n",
    "print(Guests)\n",
    "Guests[0] = \"Abhirup\"\n",
    "print(Guests)\n",
    "del Guests[0]\n",
    "print(Guests)\n",
    "\n",
    "print(f'message to {Guests[3]}')\n",
    "\n",
    "print(sorted(Guests))\n",
    "print(sorted(Guests,reverse=True))\n",
    "print(Guests)\n",
    "Guests.reverse()\n",
    "print(Guests)\n",
    "Guests.sort()\n",
    "print(Guests)\n",
    "Guests.sort(reverse=0)\n",
    "print(Guests)\n",
    "print(len(Guests))"
   ]
  },
  {
   "cell_type": "markdown",
   "metadata": {},
   "source": [
    "3-11. Intentional Error: If you haven’t received an index error in one of your programs\n",
    "yet, try to make one happen. Change an index in one of your programs\n",
    "to produce an index error. Make sure you correct the error before closing the\n",
    "program."
   ]
  },
  {
   "cell_type": "code",
   "execution_count": 11,
   "metadata": {},
   "outputs": [
    {
     "ename": "IndexError",
     "evalue": "list index out of range",
     "output_type": "error",
     "traceback": [
      "\u001b[1;31m---------------------------------------------------------------------------\u001b[0m",
      "\u001b[1;31mIndexError\u001b[0m                                Traceback (most recent call last)",
      "Cell \u001b[1;32mIn[11], line 3\u001b[0m\n\u001b[0;32m      1\u001b[0m Guests \u001b[38;5;241m=\u001b[39m [\u001b[38;5;124m'\u001b[39m\u001b[38;5;124mBhaskar\u001b[39m\u001b[38;5;124m'\u001b[39m, \u001b[38;5;124m'\u001b[39m\u001b[38;5;124mSpandan\u001b[39m\u001b[38;5;124m'\u001b[39m, \u001b[38;5;124m'\u001b[39m\u001b[38;5;124mRajveer\u001b[39m\u001b[38;5;124m'\u001b[39m, \u001b[38;5;124m'\u001b[39m\u001b[38;5;124mSichitaj\u001b[39m\u001b[38;5;124m'\u001b[39m, \u001b[38;5;124m'\u001b[39m\u001b[38;5;124mAbhisekh\u001b[39m\u001b[38;5;124m'\u001b[39m, \u001b[38;5;124m'\u001b[39m\u001b[38;5;124mDepaak\u001b[39m\u001b[38;5;124m'\u001b[39m]\n\u001b[1;32m----> 3\u001b[0m \u001b[38;5;28mprint\u001b[39m(\u001b[43mGuests\u001b[49m\u001b[43m[\u001b[49m\u001b[38;5;241;43m100\u001b[39;49m\u001b[43m]\u001b[49m)\n",
      "\u001b[1;31mIndexError\u001b[0m: list index out of range"
     ]
    }
   ],
   "source": [
    "Guests = ['Bhaskar', 'Spandan', 'Rajveer', 'Sichitaj', 'Abhisekh', 'Depaak']\n",
    "\n",
    "print(Guests[100])"
   ]
  }
 ],
 "metadata": {
  "kernelspec": {
   "display_name": "Python 3",
   "language": "python",
   "name": "python3"
  },
  "language_info": {
   "codemirror_mode": {
    "name": "ipython",
    "version": 3
   },
   "file_extension": ".py",
   "mimetype": "text/x-python",
   "name": "python",
   "nbconvert_exporter": "python",
   "pygments_lexer": "ipython3",
   "version": "3.9.10"
  }
 },
 "nbformat": 4,
 "nbformat_minor": 2
}
