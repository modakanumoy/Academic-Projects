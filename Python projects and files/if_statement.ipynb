{
 "cells": [
  {
   "cell_type": "markdown",
   "metadata": {},
   "source": [
    "if statement:"
   ]
  },
  {
   "cell_type": "code",
   "execution_count": 1,
   "metadata": {},
   "outputs": [
    {
     "name": "stdout",
     "output_type": "stream",
     "text": [
      "Audi\n",
      "Toyota\n",
      "BMW\n",
      "Jagwar\n",
      "Suzuki\n"
     ]
    }
   ],
   "source": [
    "cars = ['audi','toyota','bmw','jagwar','suzuki']\n",
    "for car in cars:\n",
    "    if car == 'bmw':\n",
    "     print(car.upper())\n",
    "    else:\n",
    "        print(car.title())"
   ]
  },
  {
   "cell_type": "code",
   "execution_count": 2,
   "metadata": {},
   "outputs": [
    {
     "data": {
      "text/plain": [
       "False"
      ]
     },
     "execution_count": 2,
     "metadata": {},
     "output_type": "execute_result"
    }
   ],
   "source": [
    "car = 'audi'\n",
    "car == 'bmw'"
   ]
  },
  {
   "cell_type": "code",
   "execution_count": 11,
   "metadata": {},
   "outputs": [
    {
     "data": {
      "text/plain": [
       "False"
      ]
     },
     "execution_count": 11,
     "metadata": {},
     "output_type": "execute_result"
    }
   ],
   "source": [
    "car = 'audi'\n",
    "car.lower() == 'Audi'\n"
   ]
  },
  {
   "cell_type": "code",
   "execution_count": 12,
   "metadata": {},
   "outputs": [
    {
     "name": "stdout",
     "output_type": "stream",
     "text": [
      "hold the anchovies!\n"
     ]
    }
   ],
   "source": [
    "#using inquality operator \n",
    "\n",
    "requested_topping = 'Mushrooms'\n",
    "if requested_topping != 'anchovies':\n",
    "    print(\"hold the anchovies!\")"
   ]
  },
  {
   "cell_type": "code",
   "execution_count": 22,
   "metadata": {},
   "outputs": [
    {
     "name": "stdout",
     "output_type": "stream",
     "text": [
      "True\n"
     ]
    }
   ],
   "source": [
    "age =17\n",
    "if age == 17:\n",
    "    print(True)\n",
    "else:\n",
    "    print(False)"
   ]
  },
  {
   "cell_type": "code",
   "execution_count": 25,
   "metadata": {},
   "outputs": [
    {
     "name": "stdout",
     "output_type": "stream",
     "text": [
      "False\n",
      "False\n"
     ]
    }
   ],
   "source": [
    "age = 19\n",
    "if age > 21:\n",
    "    print(True)\n",
    "else:\n",
    "    print(False)\n",
    "\n",
    "print(age>21)\n"
   ]
  },
  {
   "cell_type": "code",
   "execution_count": 26,
   "metadata": {},
   "outputs": [
    {
     "name": "stdout",
     "output_type": "stream",
     "text": [
      "True\n"
     ]
    }
   ],
   "source": [
    "age_0 = 22\n",
    "age_1 = 21\n",
    "if age_0 >= 21 and age<= 23:\n",
    "    print(True)\n",
    "else:\n",
    "    print(False)"
   ]
  },
  {
   "cell_type": "code",
   "execution_count": 27,
   "metadata": {},
   "outputs": [
    {
     "name": "stdout",
     "output_type": "stream",
     "text": [
      "True\n"
     ]
    }
   ],
   "source": [
    "age_1 = 22\n",
    "age_2 = 18\n",
    "if age_1 >= 21 or age_2 >= 21:\n",
    "    print(True)\n",
    "else:\n",
    "    print(False)\n"
   ]
  },
  {
   "cell_type": "markdown",
   "metadata": {},
   "source": [
    "checking a value is in list or not "
   ]
  },
  {
   "cell_type": "code",
   "execution_count": 32,
   "metadata": {},
   "outputs": [
    {
     "data": {
      "text/plain": [
       "True"
      ]
     },
     "execution_count": 32,
     "metadata": {},
     "output_type": "execute_result"
    }
   ],
   "source": [
    "requested_toppings = ['chicken','mushroom','tomatto',]\n",
    "'mushroom' in requested_toppings\n"
   ]
  },
  {
   "cell_type": "code",
   "execution_count": 33,
   "metadata": {},
   "outputs": [
    {
     "data": {
      "text/plain": [
       "False"
      ]
     },
     "execution_count": 33,
     "metadata": {},
     "output_type": "execute_result"
    }
   ],
   "source": [
    "requested_toppings = ['chicken','mushroom','tomatto',]\n",
    "'mutton' in requested_toppings"
   ]
  },
  {
   "cell_type": "code",
   "execution_count": 34,
   "metadata": {},
   "outputs": [
    {
     "name": "stdout",
     "output_type": "stream",
     "text": [
      "Allowed to use the computers\n"
     ]
    }
   ],
   "source": [
    "banned_users = ['andrew', 'caratines', 'david']\n",
    "user = 'maric'\n",
    "if user not in banned_users:\n",
    "    print('Allowed to use the computers')\n",
    "else:\n",
    "    print('Not allowed')"
   ]
  },
  {
   "cell_type": "markdown",
   "metadata": {},
   "source": [
    "Boolean Expressions "
   ]
  },
  {
   "cell_type": "code",
   "execution_count": 35,
   "metadata": {},
   "outputs": [],
   "source": [
    "game_activated = True\n",
    "can_edit = False"
   ]
  },
  {
   "cell_type": "markdown",
   "metadata": {},
   "source": [
    "if statement (part 2 : advanced)"
   ]
  },
  {
   "cell_type": "code",
   "execution_count": 38,
   "metadata": {},
   "outputs": [
    {
     "name": "stdout",
     "output_type": "stream",
     "text": [
      "An individual can vote\n"
     ]
    }
   ],
   "source": [
    "age = 21\n",
    "if age >= 18:\n",
    "    print(\"An individual can vote\")"
   ]
  },
  {
   "cell_type": "markdown",
   "metadata": {},
   "source": [
    "if_else statement "
   ]
  },
  {
   "cell_type": "code",
   "execution_count": 39,
   "metadata": {},
   "outputs": [
    {
     "name": "stdout",
     "output_type": "stream",
     "text": [
      "Sorry, Wait for 2 years untill you become 18\n"
     ]
    }
   ],
   "source": [
    "age = 16 \n",
    "if age >= 18:\n",
    "    print(\"an Individual Can Vote\")\n",
    "else:\n",
    "    print(\"Sorry, Wait for 2 years untill you become 18\")"
   ]
  },
  {
   "cell_type": "markdown",
   "metadata": {},
   "source": [
    "If_else_if_else chain "
   ]
  },
  {
   "cell_type": "code",
   "execution_count": 40,
   "metadata": {},
   "outputs": [
    {
     "name": "stdout",
     "output_type": "stream",
     "text": [
      "park fees is Rs.10\n"
     ]
    }
   ],
   "source": [
    "age = 12 \n",
    "if age < 4:\n",
    "    print(\"park fees is Rs.0\")\n",
    "elif age<18:\n",
    "    print(\"park fees is Rs.10\")\n",
    "else:\n",
    "    print(\"general fees in Rs.50\")\n"
   ]
  },
  {
   "cell_type": "code",
   "execution_count": 43,
   "metadata": {},
   "outputs": [
    {
     "name": "stdout",
     "output_type": "stream",
     "text": [
      "the  price is INR 10 according to age. \n"
     ]
    }
   ],
   "source": [
    "age = 12 \n",
    "if age<4:\n",
    "    price = 0\n",
    "elif age<18:\n",
    "    price = 10\n",
    "elif age<50:\n",
    "    price = 0\n",
    "else:\n",
    "    price = 100\n",
    "print(f\"the  price is INR {price} according to age. \")"
   ]
  },
  {
   "cell_type": "code",
   "execution_count": 47,
   "metadata": {},
   "outputs": [
    {
     "name": "stdout",
     "output_type": "stream",
     "text": [
      "adding Mushrooms\n",
      "adding Extra_cheese\n",
      "Finish making delicious pizza\n"
     ]
    }
   ],
   "source": [
    "requested_toppings = ['Mushrooms','Extra_cheese']\n",
    "if 'Mushrooms'in requested_toppings:\n",
    "    print('adding Mushrooms')\n",
    "if 'Pepricorn'in requested_toppings:\n",
    "    print(\"adding Pepricorn\")\n",
    "if 'Extra_cheese'in requested_toppings:\n",
    "    print(\"adding Extra_cheese\")\n",
    "print(\"Finish making delicious pizza\")\n"
   ]
  },
  {
   "cell_type": "code",
   "execution_count": null,
   "metadata": {},
   "outputs": [],
   "source": [
    "requested_toppings = ['Mushrooms', 'green pepers', 'extra cheez']\n",
    "for requested_topping in requested_toppings:\n",
    "    print(f\" Adding {requested_topping}.\")\n",
    "print(\"\\n finished making pizza\")\n"
   ]
  },
  {
   "cell_type": "code",
   "execution_count": 49,
   "metadata": {},
   "outputs": [
    {
     "name": "stdout",
     "output_type": "stream",
     "text": [
      "Adding the Mushrooms\n",
      "sorry, we are out of green pepers\n",
      "Adding the extra cheez\n",
      "\n",
      " finished making Pizza\n"
     ]
    }
   ],
   "source": [
    "requested_toppings = ['Mushrooms', 'green pepers', 'extra cheez']\n",
    "for requested_topping in requested_toppings:\n",
    "    if requested_topping == 'green pepers':\n",
    "        print(\"sorry, we are out of green pepers\")\n",
    "    else:\n",
    "        print(f\"Adding the {requested_topping}\")\n",
    "print(\"\\n finished making Pizza\")"
   ]
  },
  {
   "cell_type": "markdown",
   "metadata": {},
   "source": [
    "In python, empty is false. Thus, any empty list has a false value."
   ]
  },
  {
   "cell_type": "code",
   "execution_count": 50,
   "metadata": {},
   "outputs": [
    {
     "name": "stdout",
     "output_type": "stream",
     "text": [
      "are you sure you want an empty pizza\n"
     ]
    }
   ],
   "source": [
    "requested_toppings = []\n",
    "if requested_toppings:\n",
    "    for requested_topping in requested_toppings:\n",
    "        print(f\"Adding the {requested_topping}\")\n",
    "    print(\"\\n finished making Pizza\")\n",
    "else:\n",
    "    print('are you sure you want an empty pizza') "
   ]
  },
  {
   "cell_type": "markdown",
   "metadata": {},
   "source": [
    "Using multiple lists"
   ]
  },
  {
   "cell_type": "code",
   "execution_count": 52,
   "metadata": {},
   "outputs": [
    {
     "name": "stdout",
     "output_type": "stream",
     "text": [
      "Adding mushrooms\n",
      "No, you will not put french fries on this woman's pizza\n",
      "Adding extra cheese\n"
     ]
    }
   ],
   "source": [
    "available_toppings =['mushrooms','olives','green peppers','pepperoni','pineapple','extra cheese']\n",
    "requested_toppings = ['mushrooms','french fries','extra cheese']\n",
    "\n",
    "for requested_topping in requested_toppings:\n",
    "    if requested_topping in available_toppings:\n",
    "        print(f\"Adding {requested_topping}\")\n",
    "    else:\n",
    "        print(f'No, you will not put {requested_topping} on this woman\\'s pizza')    \n",
    "\n"
   ]
  }
 ],
 "metadata": {
  "kernelspec": {
   "display_name": "Python 3",
   "language": "python",
   "name": "python3"
  },
  "language_info": {
   "codemirror_mode": {
    "name": "ipython",
    "version": 3
   },
   "file_extension": ".py",
   "mimetype": "text/x-python",
   "name": "python",
   "nbconvert_exporter": "python",
   "pygments_lexer": "ipython3",
   "version": "3.9.10"
  }
 },
 "nbformat": 4,
 "nbformat_minor": 2
}
