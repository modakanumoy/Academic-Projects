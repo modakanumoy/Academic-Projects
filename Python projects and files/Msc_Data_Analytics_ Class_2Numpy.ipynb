{
 "cells": [
  {
   "cell_type": "markdown",
   "metadata": {},
   "source": [
    "Array Collection of Dtaa of Interger Flationg Value\n",
    "\n",
    "In python, storing large data in list tuple and Set is inefficient.We instead use Numpy package.\n",
    "\n",
    "\n",
    "Arrays can be 1 dimensional like list or tuple, however, the can also be multple dimension. \n",
    "\n",
    "Python has an inbuilt importable array method, but numpy is better."
   ]
  },
  {
   "cell_type": "code",
   "execution_count": 2,
   "metadata": {},
   "outputs": [
    {
     "name": "stdout",
     "output_type": "stream",
     "text": [
      "2\n"
     ]
    }
   ],
   "source": [
    "#Normal array\n",
    "import array\n",
    "\n",
    "cgpa = array.array('i',[2,2,4,4,5])\n",
    "print(cgpa[0])"
   ]
  },
  {
   "cell_type": "markdown",
   "metadata": {},
   "source": [
    "Arrays are stored in one continuous place in memory and are thus much faster to use.\n",
    "List are stored in diffrent places in list. Array is thus more efficient and fatser.\n",
    "\n",
    "Numpy Arrays are are faster and better. They are called ndarray."
   ]
  },
  {
   "cell_type": "code",
   "execution_count": 3,
   "metadata": {},
   "outputs": [
    {
     "name": "stdout",
     "output_type": "stream",
     "text": [
      "[2 4 6 8 3 5 7]\n",
      "<class 'numpy.ndarray'>\n"
     ]
    }
   ],
   "source": [
    "import numpy\n",
    "\n",
    "myarray = numpy.array([2,4,6,8,3,5,7])\n",
    "\n",
    "print(myarray)\n",
    "\n",
    "print(type(myarray))\n",
    "\n"
   ]
  },
  {
   "cell_type": "code",
   "execution_count": 4,
   "metadata": {},
   "outputs": [
    {
     "name": "stdout",
     "output_type": "stream",
     "text": [
      "[2 4 6 8 3 5 7]\n",
      "<class 'numpy.ndarray'>\n"
     ]
    }
   ],
   "source": [
    "import numpy as np\n",
    "\n",
    "myarray = np.array([2,4,6,8,3,5,7])\n",
    "\n",
    "\n",
    "print(myarray)\n",
    "\n",
    "\n",
    "print(type(myarray))"
   ]
  },
  {
   "cell_type": "markdown",
   "metadata": {},
   "source": [
    "Python will convert the entire array contents to the incompatible type. eg: [1,2,3,4,5,'a'] will be onverted in to  string"
   ]
  },
  {
   "cell_type": "code",
   "execution_count": 5,
   "metadata": {},
   "outputs": [
    {
     "name": "stdout",
     "output_type": "stream",
     "text": [
      "['1' '2' '3' '4' '5' '6' '7' '8' '8' 'a' 'b']\n"
     ]
    }
   ],
   "source": [
    "myarray_text = np.array([1,2,3,4,5,6,7,8,8,'a','b'])\n",
    "print(myarray_text)"
   ]
  },
  {
   "cell_type": "code",
   "execution_count": 6,
   "metadata": {},
   "outputs": [
    {
     "name": "stdout",
     "output_type": "stream",
     "text": [
      "1.26.3\n"
     ]
    }
   ],
   "source": [
    "print(np.__version__)"
   ]
  },
  {
   "cell_type": "code",
   "execution_count": 7,
   "metadata": {},
   "outputs": [
    {
     "name": "stdout",
     "output_type": "stream",
     "text": [
      "2\n",
      "<class 'numpy.ndarray'>\n"
     ]
    }
   ],
   "source": [
    "#using tuple\n",
    "my_tuple = np.array((1,2,3,4,5,6,7))\n",
    "#Using Scalar (0-dimensional list)\n",
    "\n",
    "my_scalar = np.array(2)\n",
    "print(my_scalar)\n",
    "print(type(my_scalar))"
   ]
  },
  {
   "cell_type": "code",
   "execution_count": 8,
   "metadata": {},
   "outputs": [
    {
     "name": "stdout",
     "output_type": "stream",
     "text": [
      "[[2 4 6]\n",
      " [7 3 9]]\n",
      "3\n"
     ]
    }
   ],
   "source": [
    "#2d array\n",
    "\n",
    "my2darray= np.array([[2,4,6],[7,3,9]])\n",
    "print(my2darray)\n",
    "print(my2darray[1][1])\n"
   ]
  },
  {
   "cell_type": "code",
   "execution_count": 9,
   "metadata": {},
   "outputs": [
    {
     "name": "stdout",
     "output_type": "stream",
     "text": [
      "[[[ 2  3]\n",
      "  [ 4  5]]\n",
      "\n",
      " [[ 6  7]\n",
      "  [ 8  9]]\n",
      "\n",
      " [[10 11]\n",
      "  [12 13]]]\n",
      "7\n",
      "2\n"
     ]
    }
   ],
   "source": [
    "#3 dimensional array\n",
    "\n",
    "my3darray = np.array([[[2,3],[4,5]],[[6,7],[8,9]],[[10,11],[12,13]]])\n",
    "\n",
    "print(my3darray)\n",
    "\n",
    "print(my3darray[1][0][1])\n",
    "print(my2darray.ndim)"
   ]
  },
  {
   "cell_type": "code",
   "execution_count": 13,
   "metadata": {},
   "outputs": [
    {
     "name": "stdout",
     "output_type": "stream",
     "text": [
      "7\n"
     ]
    }
   ],
   "source": [
    "my_3by4 = np.array([[1,2,3,4],\n",
    "                    [4,5,6,7],\n",
    "                    [7,8,9,10]])\n",
    "\n",
    "print(my_3by4[1,3])"
   ]
  },
  {
   "cell_type": "code",
   "execution_count": 14,
   "metadata": {},
   "outputs": [],
   "source": [
    "my_3by4 = np.mat([[1,2,3,4],\n",
    "                    [4,5,6,7],\n",
    "                    [7,8,9,10]])"
   ]
  },
  {
   "cell_type": "code",
   "execution_count": 20,
   "metadata": {},
   "outputs": [
    {
     "name": "stdout",
     "output_type": "stream",
     "text": [
      "1\n"
     ]
    }
   ],
   "source": [
    "my3darray = np.array([[[2,3,1],[4,5,1]],[[6,7,1],[8,9,1]],[[10,11,1],[12,13,1]]])\n",
    "# array[height,row,column]\n",
    "print(my3darray[-1,-1,-1])"
   ]
  },
  {
   "cell_type": "markdown",
   "metadata": {},
   "source": [
    "Slicing 2d array\n"
   ]
  },
  {
   "cell_type": "code",
   "execution_count": 22,
   "metadata": {},
   "outputs": [
    {
     "name": "stdout",
     "output_type": "stream",
     "text": [
      "[[7 8 9]]\n"
     ]
    }
   ],
   "source": [
    "my_3by4 = np.mat([[1,2,3,4],\n",
    "                    [4,5,6,7],\n",
    "                    [7,8,9,10]])\n",
    "x = my_3by4[2,:3]\n",
    "print(x)"
   ]
  },
  {
   "cell_type": "code",
   "execution_count": 30,
   "metadata": {},
   "outputs": [
    {
     "name": "stdout",
     "output_type": "stream",
     "text": [
      "[ 5 10]\n"
     ]
    }
   ],
   "source": [
    "my_array = np.array([[1,2,3,4,5],[6,7,8,9,10]])\n",
    "\n",
    "print(my_array[0:2,4])"
   ]
  },
  {
   "cell_type": "code",
   "execution_count": 29,
   "metadata": {},
   "outputs": [
    {
     "name": "stdout",
     "output_type": "stream",
     "text": [
      "[[2 3 4]\n",
      " [7 8 9]]\n"
     ]
    }
   ],
   "source": [
    "my_array = np.array([[1,2,3,4,5],[6,7,8,9,10]])\n",
    "\n",
    "print(my_array[0:2,1:4])"
   ]
  },
  {
   "cell_type": "code",
   "execution_count": 44,
   "metadata": {},
   "outputs": [
    {
     "name": "stdout",
     "output_type": "stream",
     "text": [
      "[[ 1  2  3  4]\n",
      " [ 5  6  7  8]\n",
      " [ 9 10 11 12]\n",
      " [13 14 15 16]] \n",
      "\n",
      "[[ 2  3]\n",
      " [ 6  7]\n",
      " [10 11]\n",
      " [14 15]] \n",
      "\n",
      "[[ 5  6  7  8]\n",
      " [ 9 10 11 12]] \n",
      "\n",
      "[[ 6  7]\n",
      " [10 11]]\n"
     ]
    },
    {
     "data": {
      "text/plain": [
       "dtype('int32')"
      ]
     },
     "execution_count": 44,
     "metadata": {},
     "output_type": "execute_result"
    }
   ],
   "source": [
    "assingment = np.array([[1,2,3,4],[5,6,7,8],[9,10,11,12],[13,14,15,16]])\n",
    "\n",
    "print(assingment,'\\n')\n",
    "\n",
    "x = assingment[:,1:3]\n",
    "y = assingment[1:3,:]\n",
    "z = assingment[1:3,1:3]\n",
    "print(x,'\\n')\n",
    "print(y,'\\n')\n",
    "\n",
    "print(z)\n",
    "\n",
    "assingment.dtype"
   ]
  },
  {
   "cell_type": "code",
   "execution_count": 47,
   "metadata": {},
   "outputs": [
    {
     "data": {
      "text/plain": [
       "dtype('<U1')"
      ]
     },
     "execution_count": 47,
     "metadata": {},
     "output_type": "execute_result"
    }
   ],
   "source": [
    "my_text_array = np.array(['a','A','c'])\n",
    "\n",
    "my_text_array.dtype"
   ]
  },
  {
   "cell_type": "code",
   "execution_count": 60,
   "metadata": {},
   "outputs": [
    {
     "name": "stdout",
     "output_type": "stream",
     "text": [
      "int32\n",
      "uint64\n"
     ]
    }
   ],
   "source": [
    "test_array = np.array([1,2,3,4,5,6,7,8,9])\n",
    "print(test_array.dtype)\n",
    "X = test_array.astype('u8')\n",
    "print(X.dtype)"
   ]
  },
  {
   "cell_type": "code",
   "execution_count": 22,
   "metadata": {},
   "outputs": [
    {
     "name": "stdout",
     "output_type": "stream",
     "text": [
      "    * \n",
      "   * * \n",
      "  * * * \n",
      " * * * * \n",
      "* * * * * \n"
     ]
    }
   ],
   "source": [
    "\n",
    "count = 0\n",
    "x = ''\n",
    "y = ''\n",
    "while count<5:\n",
    "    count+= 1\n",
    "    x=''\n",
    "    y=''\n",
    "    for j in range(5-count):\n",
    "        y+=' '\n",
    "    for i in range(count):\n",
    "        x +='* '    \n",
    "        \n",
    "    print(y+x)         \n"
   ]
  }
 ],
 "metadata": {
  "kernelspec": {
   "display_name": "Python 3",
   "language": "python",
   "name": "python3"
  },
  "language_info": {
   "codemirror_mode": {
    "name": "ipython",
    "version": 3
   },
   "file_extension": ".py",
   "mimetype": "text/x-python",
   "name": "python",
   "nbconvert_exporter": "python",
   "pygments_lexer": "ipython3",
   "version": "3.11.3"
  }
 },
 "nbformat": 4,
 "nbformat_minor": 2
}
