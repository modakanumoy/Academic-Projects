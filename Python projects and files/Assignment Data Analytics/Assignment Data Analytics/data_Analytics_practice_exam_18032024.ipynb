{
 "cells": [
  {
   "cell_type": "markdown",
   "metadata": {},
   "source": [
    "Running Numpy "
   ]
  },
  {
   "cell_type": "code",
   "execution_count": 2,
   "metadata": {},
   "outputs": [],
   "source": [
    "import numpy as np "
   ]
  },
  {
   "cell_type": "code",
   "execution_count": 3,
   "metadata": {},
   "outputs": [
    {
     "name": "stdout",
     "output_type": "stream",
     "text": [
      "<class 'numpy.ndarray'>\n",
      "0\n"
     ]
    }
   ],
   "source": [
    "#writting a program \n",
    "\n",
    "import numpy as np\n",
    "\n",
    "arr = np.array(45)\n",
    "\n",
    "print(type(arr))\n",
    "print(arr.ndim)"
   ]
  },
  {
   "cell_type": "code",
   "execution_count": 7,
   "metadata": {},
   "outputs": [
    {
     "name": "stdout",
     "output_type": "stream",
     "text": [
      "<class 'numpy.ndarray'>\n",
      "<class 'numpy.ndarray'>\n",
      "<class 'numpy.ndarray'>\n",
      "<class 'numpy.ndarray'>\n",
      "1\n",
      "2\n",
      "3\n",
      "4\n",
      "(5,)\n",
      "(1, 4)\n",
      "(2, 2, 3)\n",
      "(1, 1, 3, 3)\n"
     ]
    }
   ],
   "source": [
    "import numpy as np \n",
    "\n",
    "arr1 = np.array([1,2,3,4,5])\n",
    "arr2 = np.array([[1,2,3,4]])\n",
    "arr3 = np.array([[[1,2,3],\n",
    "                  [1,2,3]],\n",
    "                 [[1,2,3],\n",
    "                  [1,2,3]]])\n",
    "arr4 = np.array([[[[1,2,3],\n",
    "                   [1,2,3],\n",
    "                   [1,2,3]\n",
    "                   ]]])\n",
    "\n",
    "print(type(arr1))\n",
    "print(type(arr2))\n",
    "print(type(arr3))\n",
    "print(type(arr4))\n",
    "\n",
    "print(arr1.ndim)\n",
    "print(arr2.ndim)\n",
    "print(arr3.ndim)\n",
    "print(arr4.ndim)\n",
    "\n",
    "print(arr1.shape)\n",
    "print(arr2.shape)\n",
    "print(arr3.shape)\n",
    "print(arr4.shape)"
   ]
  },
  {
   "cell_type": "code",
   "execution_count": 14,
   "metadata": {},
   "outputs": [
    {
     "name": "stdout",
     "output_type": "stream",
     "text": [
      "[1 2 3 4]\n",
      "[1. 2. 3. 4.]\n",
      "[1. 2. 3. 4.]\n",
      "['1' '2' '3' '4']\n"
     ]
    }
   ],
   "source": [
    "#converting array into float array \n",
    "\n",
    "import numpy as np\n",
    "\n",
    "arr = np.array([1,2,3,4])\n",
    "arr_new = np.asfarray(arr)\n",
    "\n",
    "print(arr)\n",
    "print(arr_new) \n",
    "\n",
    "#alternate method \n",
    "\n",
    "import numpy as np \n",
    "\n",
    "arr1 = np.array([1,2,3,4],dtype = float)\n",
    "arr2 = np.array([1,2,3,4],dtype = 'str')\n",
    "\n",
    "print(arr1)\n",
    "print(arr2)"
   ]
  },
  {
   "cell_type": "code",
   "execution_count": 22,
   "metadata": {},
   "outputs": [
    {
     "name": "stdout",
     "output_type": "stream",
     "text": [
      "initial array\n",
      "[[1. 1. 1.]\n",
      " [1. 1. 1.]\n",
      " [1. 1. 1.]]\n",
      "Udated array\n",
      "[[0. 0. 0. 0. 0.]\n",
      " [0. 1. 1. 1. 0.]\n",
      " [0. 1. 1. 1. 0.]\n",
      " [0. 1. 1. 1. 0.]\n",
      " [0. 0. 0. 0. 0.]]\n"
     ]
    }
   ],
   "source": [
    "import numpy as np \n",
    "\n",
    "arr3 = np.ones((3,3))\n",
    "\n",
    "print('initial array')\n",
    "print(arr3)\n",
    "\n",
    "arr_new = np.pad(arr3, pad_width = 1, mode = 'constant', constant_values = 0)\n",
    "\n",
    "print('Udated array')\n",
    "print(arr_new)"
   ]
  },
  {
   "cell_type": "code",
   "execution_count": 28,
   "metadata": {},
   "outputs": [
    {
     "name": "stdout",
     "output_type": "stream",
     "text": [
      "[[4. 4. 4. 4. 4. 4.]\n",
      " [4. 1. 1. 1. 1. 4.]\n",
      " [4. 1. 1. 1. 1. 4.]\n",
      " [4. 1. 1. 1. 1. 4.]\n",
      " [4. 1. 1. 1. 1. 4.]\n",
      " [4. 4. 4. 4. 4. 4.]]\n"
     ]
    }
   ],
   "source": [
    "import numpy as np \n",
    "\n",
    "aree3 = np.ones((4,4))\n",
    "\n",
    "arre_new2 = np.pad(aree3, pad_width = 1, mode= 'constant', constant_values = 4)\n",
    "\n",
    "print(arre_new2)"
   ]
  },
  {
   "cell_type": "code",
   "execution_count": 34,
   "metadata": {},
   "outputs": [
    {
     "name": "stdout",
     "output_type": "stream",
     "text": [
      "[1 2 3]\n",
      "[1 2 3]\n",
      "<class 'numpy.ndarray'>\n",
      "<class 'numpy.ndarray'>\n"
     ]
    }
   ],
   "source": [
    "import numpy as np \n",
    "\n",
    "x = np.array([1,2,3])\n",
    "y = np.array((1,2,3))\n",
    "\n",
    "print(x)\n",
    "print(y)\n",
    "\n",
    "print(type(x))\n",
    "print(type(y))"
   ]
  },
  {
   "cell_type": "code",
   "execution_count": 11,
   "metadata": {},
   "outputs": [
    {
     "name": "stdout",
     "output_type": "stream",
     "text": [
      "[False False  True  True]\n"
     ]
    }
   ],
   "source": [
    "#finding inclusive no between two assigned arrays\n",
    "\n",
    "import numpy as np \n",
    "\n",
    "a = np.array([1,2,3,4])\n",
    "b = np.array([4,3,6,7])\n",
    "\n",
    "\n",
    "c = np.in1d(a,b)\n",
    "\n",
    "print(c)"
   ]
  },
  {
   "cell_type": "code",
   "execution_count": 10,
   "metadata": {},
   "outputs": [
    {
     "name": "stdout",
     "output_type": "stream",
     "text": [
      "[1 2 3 4] [4 5 6 7] [1 2 3 5 6 7]\n"
     ]
    }
   ],
   "source": [
    "#finding exclusive no. between two  assigned arrays \n",
    "\n",
    "import numpy as np\n",
    "\n",
    "arr_1 = np.array([1,2,3,4])\n",
    "arr_2 = np.array([4,5,6,7])\n",
    "\n",
    "arr_3 = np.setxor1d(arr_1,arr_2)\n",
    "\n",
    "print(arr_1,arr_2,arr_3)"
   ]
  },
  {
   "cell_type": "code",
   "execution_count": 19,
   "metadata": {},
   "outputs": [
    {
     "name": "stdout",
     "output_type": "stream",
     "text": [
      "[32  8 37 27 41  3 30 44 28 14 12 15 40 20  9 32 41 20 33  5 20 48 37 49\n",
      "  4 19 48  5  2 44 37 43 49 23  9 39 43 15 43 36 16 28 40  1 33 21 46 19\n",
      " 39 37  3  2 40 41  5 41 47 19 15 18 14 14 41 34 24 37 29 28 43 27 14 20\n",
      "  4 19 13 24  8 15 39 29 28 21 23 42 24  4 33  2 44  8 10 49 25 36 40  2\n",
      " 39 46  5 19]\n",
      "[1 4 2 3 4 0 0 3 2 1 0 1 1 4 4 1 0 1 5 4 2 0 2 3 1 0 2 4 2 1 0 2 3 1 0 2 5\n",
      " 0 4 4 5 1 4 3 0 2 1 2 3] [ 1  2  3  4  5  6  7  8  9 10 11 12 13 14 15 16 17 18 19 20 21 22 23 24\n",
      " 25 26 27 28 29 30 31 32 33 34 35 36 37 38 39 40 41 42 43 44 45 46 47 48\n",
      " 49 50]\n"
     ]
    },
    {
     "name": "stderr",
     "output_type": "stream",
     "text": [
      "C:\\Users\\LENOVO\\AppData\\Local\\Temp\\ipykernel_12968\\3463439019.py:16: UserWarning: Matplotlib is currently using module://matplotlib_inline.backend_inline, which is a non-GUI backend, so cannot show the figure.\n",
      "  fig.show()\n"
     ]
    },
    {
     "data": {
      "image/png": "[encoded data removed]",
      "text/plain": [
       "<Figure size 640x480 with 1 Axes>"
      ]
     },
     "metadata": {},
     "output_type": "display_data"
    }
   ],
   "source": [
    "#computing line graph of a st of data\n",
    "\n",
    "import matplotlib.pyplot as plt\n",
    "import numpy as np \n",
    "\n",
    "x1 = np.random.randint(1,50,100)\n",
    "\n",
    "y,x = np.histogram(x1, bins= np.arange(1,51))\n",
    "\n",
    "fig,ax = plt.subplots()\n",
    "ax.plot(x[:-1],y)\n",
    "\n",
    "print(x1)\n",
    "print(y,x)\n",
    "\n",
    "fig.show()"
   ]
  },
  {
   "cell_type": "code",
   "execution_count": 20,
   "metadata": {},
   "outputs": [
    {
     "name": "stdout",
     "output_type": "stream",
     "text": [
      "[[ 2  4  6]\n",
      " [ 3  5  7]\n",
      " [ 6  8 10]]\n"
     ]
    }
   ],
   "source": [
    "#addition 3*3 matrix and 1*3 matrix \n",
    "\n",
    "import numpy as np \n",
    "\n",
    "p = np.array([[1,2,3],\n",
    "              [2,3,4],\n",
    "              [5,6,7]])\n",
    "q = np.array([1,2,3])\n",
    "\n",
    "r = p+q\n",
    "\n",
    "print(r)"
   ]
  },
  {
   "cell_type": "code",
   "execution_count": 27,
   "metadata": {},
   "outputs": [
    {
     "name": "stdout",
     "output_type": "stream",
     "text": [
      "[[5 7 9]\n",
      " [5 7 9]\n",
      " [5 7 9]\n",
      " [5 7 9]]\n"
     ]
    }
   ],
   "source": [
    "#add of 4*3 matrx and 1*3\n",
    "\n",
    "import numpy as np\n",
    "\n",
    "a = np.array([[1,2,3],\n",
    "              [1,2,3],\n",
    "              [1,2,3],\n",
    "              [1,2,3]])\n",
    "b = np.array([[4,5,6]])\n",
    "\n",
    "c = a+b\n",
    "\n",
    "print(c)"
   ]
  },
  {
   "cell_type": "code",
   "execution_count": 34,
   "metadata": {},
   "outputs": [
    {
     "name": "stdout",
     "output_type": "stream",
     "text": [
      "0    2\n",
      "2    6\n",
      "5    1\n",
      "6    1\n",
      "8    5\n",
      "dtype: object\n"
     ]
    },
    {
     "data": {
      "text/plain": [
       "0    2\n",
       "2    6\n",
       "5    1\n",
       "6    1\n",
       "8    5\n",
       "dtype: object"
      ]
     },
     "execution_count": 34,
     "metadata": {},
     "output_type": "execute_result"
    }
   ],
   "source": [
    "import pandas as pd \n",
    "\n",
    "dta =pd.Series(list('25623112554887996522114551122244587'))\n",
    "position = [0,2,5,6,8]\n",
    "\n",
    "result = dta.take(position)\n",
    "\n",
    "print(result)\n",
    "\n",
    "#alternate method \n",
    "dta.loc[position]\n",
    "\n"
   ]
  },
  {
   "cell_type": "code",
   "execution_count": 38,
   "metadata": {},
   "outputs": [
    {
     "name": "stdout",
     "output_type": "stream",
     "text": [
      "0\n",
      "1\n",
      "10\n",
      "3\n"
     ]
    }
   ],
   "source": [
    "# min and max \n",
    "\n",
    "import pandas as pd \n",
    "\n",
    "num = pd.Series([10,3,4,5,6,7])\n",
    "\n",
    "print(num.idxmax())\n",
    "print(num.idxmin())\n",
    "\n",
    "print(num.max())\n",
    "print(num.min())"
   ]
  },
  {
   "cell_type": "code",
   "execution_count": 49,
   "metadata": {},
   "outputs": [
    {
     "name": "stdout",
     "output_type": "stream",
     "text": [
      "         cities  no of people\n",
      "0  Bhubaneshwar             1\n",
      "1       Kolkata             2\n",
      "2       Naihati             2\n"
     ]
    },
    {
     "data": {
      "image/png": "[encoded data removed]",
      "text/plain": [
       "<Figure size 640x480 with 1 Axes>"
      ]
     },
     "metadata": {},
     "output_type": "display_data"
    }
   ],
   "source": [
    "# #Write a Pandas program to count city wise number of people from a given of data set (city, name of the person).\n",
    "\n",
    "import matplotlib.pyplot as plt\n",
    "import pandas as pd \n",
    "\n",
    "name_city = pd.DataFrame({'cities': [\"Kolkata\",\"Naihati\",\"Bhubaneshwar\",\"Kolkata\",'Naihati'],\n",
    "                         'name of people': [\"Rohit\",\"Anumoy\",\"pradumna\",\"raj\",\"shamar\"] })\n",
    "result2 = name_city.groupby(['cities']).size().reset_index(name='no of people')\n",
    "\n",
    "plt.hist(name_city['cities'])\n",
    "\n",
    "print(result2)"
   ]
  },
  {
   "cell_type": "code",
   "execution_count": 66,
   "metadata": {},
   "outputs": [
    {
     "name": "stdout",
     "output_type": "stream",
     "text": [
      "2024-08-29 05:30:11\n",
      "2024-03-19 00:35:52.545373\n",
      "2024-03-19\n",
      "00:35:52.545373\n"
     ]
    }
   ],
   "source": [
    "#datetime \n",
    "\n",
    "from datetime import datetime as dt\n",
    "\n",
    "print(dt(year = 2024, month = 8 , day= 29, hour= 5, minute= 30, second= 11))\n",
    "print(dt.now())\n",
    "\n",
    "print(dt.now().date())\n",
    "print(dt.now().time())"
   ]
  },
  {
   "cell_type": "code",
   "execution_count": 3,
   "metadata": {},
   "outputs": [
    {
     "name": "stdout",
     "output_type": "stream",
     "text": [
      "   Serial no. names_x  Marks  Serial No.  names_y\n",
      "0           3   Shyam    100           8  Narayan\n",
      "1           7   rohit     88          11     rina\n"
     ]
    }
   ],
   "source": [
    "#dataframe \n",
    "\n",
    "import pandas as pd \n",
    "\n",
    "df1 = ({'Serial no.': [1,2,3,4,5,6,7],\n",
    "        'names':['Anumoy','Ram','Shyam','Jadu','Modu','christan','rohit'],\n",
    "        'Marks': [70,40,100,99,95,78,88]})\n",
    "df2 = ({'Serial No.':[8,9,10,11,12],\n",
    "        'names':['Narayan','janak','puja','rina','sanjay'],\n",
    "        'Marks':[100,20,56,88,89]})\n",
    "\n",
    "data1 = pd.DataFrame(df1)\n",
    "data2 = pd.DataFrame(df2)\n",
    "\n",
    "data = pd.merge(data1,data2, on = 'Marks', how = 'inner')\n",
    "\n",
    "print(data)"
   ]
  }
 ],
 "metadata": {
  "kernelspec": {
   "display_name": "base",
   "language": "python",
   "name": "python3"
  },
  "language_info": {
   "codemirror_mode": {
    "name": "ipython",
    "version": 3
   },
   "file_extension": ".py",
   "mimetype": "text/x-python",
   "name": "python",
   "nbconvert_exporter": "python",
   "pygments_lexer": "ipython3",
   "version": "3.9.12"
  }
 },
 "nbformat": 4,
 "nbformat_minor": 2
}
