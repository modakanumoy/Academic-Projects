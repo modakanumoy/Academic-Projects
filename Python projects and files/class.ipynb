{
 "cells": [
  {
   "cell_type": "markdown",
   "metadata": {},
   "source": [
    "class function "
   ]
  },
  {
   "cell_type": "code",
   "execution_count": 15,
   "metadata": {},
   "outputs": [
    {
     "name": "stdout",
     "output_type": "stream",
     "text": [
      "My Dod name is Rocky\n",
      "MY dogs age is 10 years old\n",
      "Rocky is now sitting.\n",
      "Rocky rolled over!\n",
      "My Dod name is Rocky\n",
      "MY dogs age is 10 years old\n",
      "Rocky is now sitting.\n",
      "Rocky rolled over!\n",
      "Yours Dog name is Muffine\n",
      "Yours dogs age is 8 years old\n",
      "Muffine is now sitting.\n"
     ]
    }
   ],
   "source": [
    "class Dog:\n",
    " def __init__(self, name, age):\n",
    "  self.name = name\n",
    "  self.age = age\n",
    " def sit(self):\n",
    "  print(f\"{self.name} is now sitting.\")\n",
    " def roll_over(self):\n",
    "  print(f\"{self.name} rolled over!\")\n",
    "\n",
    "\n",
    "my_Dog = Dog('Rocky', 10)\n",
    "print(f'My Dod name is {my_Dog.name}')\n",
    "print(f'MY dogs age is {my_Dog.age} years old')\n",
    "\n",
    "my_Dog = Dog('Rocky', 10)\n",
    "my_Dog.sit()\n",
    "my_Dog.roll_over()\n",
    "\n",
    "my_Dog = Dog('Rocky', 10)\n",
    "yours_Dog = Dog('Muffine', 8)\n",
    "print(f'My Dod name is {my_Dog.name}')\n",
    "print(f'MY dogs age is {my_Dog.age} years old')\n",
    "my_Dog.sit()\n",
    "my_Dog.roll_over()\n",
    "print(f'Yours Dog name is {yours_Dog .name}')\n",
    "print(f'Yours dogs age is {yours_Dog .age} years old')\n",
    "yours_Dog.sit()\n"
   ]
  },
  {
   "cell_type": "code",
   "execution_count": 8,
   "metadata": {},
   "outputs": [
    {
     "name": "stdout",
     "output_type": "stream",
     "text": [
      "12\n"
     ]
    }
   ],
   "source": [
    "class My_Class:\n",
    " My_class = 12\n",
    "p = My_Class()\n",
    "print(p.My_class)"
   ]
  },
  {
   "cell_type": "code",
   "execution_count": 9,
   "metadata": {},
   "outputs": [
    {
     "name": "stdout",
     "output_type": "stream",
     "text": [
      "Anumoy\n",
      "26\n"
     ]
    }
   ],
   "source": [
    "class Person:\n",
    "    def __init__(self, name, age):\n",
    "        self.name = name\n",
    "        self.age = age\n",
    "P = Person('Anumoy',26)\n",
    "print(P.name)\n",
    "print(P.age)"
   ]
  },
  {
   "cell_type": "markdown",
   "metadata": {},
   "source": [
    "working with Class and instances"
   ]
  },
  {
   "cell_type": "code",
   "execution_count": 12,
   "metadata": {},
   "outputs": [
    {
     "name": "stdout",
     "output_type": "stream",
     "text": [
      "Rocky is now sitting.\n",
      "Rocky rolled over!\n"
     ]
    }
   ],
   "source": [
    "my_Dog = Dog('Rocky', 10)\n",
    "my_Dog.sit()\n",
    "my_Dog.roll_over()\n"
   ]
  },
  {
   "cell_type": "code",
   "execution_count": 23,
   "metadata": {},
   "outputs": [
    {
     "name": "stdout",
     "output_type": "stream",
     "text": [
      "2020 Audi A1\n",
      "This car has 100 miles on it.\n",
      "This car has 2450 miles on it.\n"
     ]
    }
   ],
   "source": [
    "class car:\n",
    "    def __init__(self,make,model,year):\n",
    "        self.make = make\n",
    "        self.model = model\n",
    "        self.year = year\n",
    "        self.odometer_reading = 0\n",
    "    def get_descriptive_name(self):\n",
    "        model_name = f\"{self.year} {self.make} {self.model}\"\n",
    "        return model_name.title()\n",
    "    def read_odometer(self):\n",
    "        print(f\"This car has {self.odometer_reading} miles on it.\")\n",
    "    def update_odometer(self,milage):\n",
    "        self.odometer_reading = milage\n",
    "    def increment_odometer(self,miles):\n",
    "        self.odometer_reading += miles\n",
    "my_new_car = car('Audi','a1',2020)\n",
    "print(my_new_car.get_descriptive_name())\n",
    "my_new_car.odometer_reading=23\n",
    "my_new_car.update_odometer(100)\n",
    "my_new_car.read_odometer()\n",
    "my_new_car.update_odometer(2350)\n",
    "my_new_car.increment_odometer(100)\n",
    "my_new_car.read_odometer()\n",
    "       \n",
    "\n",
    "\n"
   ]
  }
 ],
 "metadata": {
  "kernelspec": {
   "display_name": "Python 3",
   "language": "python",
   "name": "python3"
  },
  "language_info": {
   "codemirror_mode": {
    "name": "ipython",
    "version": 3
   },
   "file_extension": ".py",
   "mimetype": "text/x-python",
   "name": "python",
   "nbconvert_exporter": "python",
   "pygments_lexer": "ipython3",
   "version": "3.9.10"
  }
 },
 "nbformat": 4,
 "nbformat_minor": 2
}
