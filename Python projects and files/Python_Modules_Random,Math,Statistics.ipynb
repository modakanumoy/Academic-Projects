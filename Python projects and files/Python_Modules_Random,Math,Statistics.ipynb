{
  "nbformat": 4,
  "nbformat_minor": 0,
  "metadata": {
    "colab": {
      "provenance": []
    },
    "kernelspec": {
      "name": "python3",
      "display_name": "Python 3"
    },
    "language_info": {
      "name": "python"
    }
  },
  "cells": [
    {
      "cell_type": "markdown",
      "source": [
        "# **Python Random Module**\n",
        "\n",
        "Python has a built-in module that you can use to make random numbers."
      ],
      "metadata": {
        "id": "b0OmljoxkCOW"
      }
    },
    {
      "cell_type": "markdown",
      "source": [
        "**The randint()** method returns an integer number selected element from the specified range.\n",
        "> Syntax: random.randint(start, stop)\n",
        "\n",
        ">>start: \tRequired. An integer specifying at which position to start.\n",
        "\n",
        ">>stop: \tRequired. An integer specifying at which position to end.\n",
        "\n",
        "\n",
        "\n"
      ],
      "metadata": {
        "id": "9APekFOXJb7P"
      }
    },
    {
      "cell_type": "code",
      "execution_count": null,
      "metadata": {
        "colab": {
          "base_uri": "https://localhost:8080/"
        },
        "id": "go9K43P6jp64",
        "outputId": "ac63e672-522f-4edc-d5ca-2b0297ec5e2d"
      },
      "outputs": [
        {
          "output_type": "stream",
          "name": "stdout",
          "text": [
            "13\n"
          ]
        }
      ],
      "source": [
        "import random\n",
        "\n",
        "print(random.randint(3, 19))"
      ]
    },
    {
      "cell_type": "markdown",
      "source": [
        "The **randrange()** method returns a randomly selected element from the specified range.\n",
        ">Syntax: random.randrange(start, stop, step)\n",
        ">>start: \tOptional. An integer specifying at which position to start. Default 0\n",
        "\n",
        ">>stop: \tRequired. An integer specifying at which position to end.\n",
        "Default 0\n",
        "\n",
        ">>step \tOptional. An integer specifying the incrementation. Default 1"
      ],
      "metadata": {
        "id": "msi1F_-KJ1TG"
      }
    },
    {
      "cell_type": "code",
      "source": [
        "import random\n",
        "\n",
        "print(random.randrange(3, 19))\n",
        "print(random.randrange(3, 19, 2))"
      ],
      "metadata": {
        "colab": {
          "base_uri": "https://localhost:8080/"
        },
        "id": "nJlGle_KI3re",
        "outputId": "64a178ee-3bf7-4961-e30d-c93cd8df4c17"
      },
      "execution_count": null,
      "outputs": [
        {
          "output_type": "stream",
          "name": "stdout",
          "text": [
            "3\n",
            "13\n"
          ]
        }
      ]
    },
    {
      "cell_type": "markdown",
      "source": [
        "**Random choice() Method**\n",
        "\n",
        "\n",
        "*   The choice() method returns a randomly selected element from the specified sequence.\n",
        "\n",
        "*   The sequence can be a string, a range, a list, a tuple or any other kind of sequence.\n",
        "\n",
        "*   Syntax: random.choice(sequence)\n",
        "\n",
        "\n",
        "\n"
      ],
      "metadata": {
        "id": "4uU65Ev4KpHy"
      }
    },
    {
      "cell_type": "code",
      "source": [
        "import random\n",
        "\n",
        "mylist = [\"apple\", \"banana\", \"cherry\"]\n",
        "\n",
        "print(random.choice(mylist))"
      ],
      "metadata": {
        "colab": {
          "base_uri": "https://localhost:8080/"
        },
        "id": "tyb6zKXBK_Vt",
        "outputId": "e8176f4c-2327-4ac2-ae7e-c554886e3579"
      },
      "execution_count": null,
      "outputs": [
        {
          "output_type": "stream",
          "name": "stdout",
          "text": [
            "banana\n"
          ]
        }
      ]
    },
    {
      "cell_type": "code",
      "source": [
        "import random\n",
        "\n",
        "x = \"WELCOME\"\n",
        "\n",
        "print(random.choice(x))"
      ],
      "metadata": {
        "colab": {
          "base_uri": "https://localhost:8080/"
        },
        "id": "poMFaM7cLDwt",
        "outputId": "e9761072-33f9-4200-e713-2d4ff5fdb3cc"
      },
      "execution_count": null,
      "outputs": [
        {
          "output_type": "stream",
          "name": "stdout",
          "text": [
            "L\n"
          ]
        }
      ]
    },
    {
      "cell_type": "markdown",
      "source": [
        "The **choices()** method returns a list with the randomly selected element from the specified sequence.\n",
        "\n",
        "You can weigh the possibility of each result with the weights parameter or the cum_weights parameter.\n",
        "\n",
        "*   Syntax: random.choices(sequence, weights=None, cum_weights=None, k=1)\n",
        "*   sequence- \tRequired. A sequence like a list, a tuple, a range of numbers etc.\n",
        "\n",
        "*   weights- \tOptional. A list were you can weigh the possibility for each value.Default None\n",
        "*   cum_weights- Optional. A list were you can weigh the possibility for each value, only this time the possibility is accumulated.\n",
        "Example: normal weights list: [2, 1, 1] is the same as this cum_weights list; [2, 3, 4]. Default None\n",
        "\n",
        "*   K - Optional. An integer defining the length of the returned list\n",
        "\n",
        "\n"
      ],
      "metadata": {
        "id": "c4MLX0hULlf2"
      }
    },
    {
      "cell_type": "code",
      "source": [
        "import random\n",
        "\n",
        "mylist = [\"apple\", \"banana\", \"cherry\"]\n",
        "\n",
        "print(random.choices(mylist, weights = [10, 1, 1], k = 14))"
      ],
      "metadata": {
        "colab": {
          "base_uri": "https://localhost:8080/"
        },
        "id": "Wy0PLZTKMN6V",
        "outputId": "984670fb-3ca2-49a0-8a90-787ad8d72392"
      },
      "execution_count": null,
      "outputs": [
        {
          "output_type": "stream",
          "name": "stdout",
          "text": [
            "['banana', 'banana', 'apple', 'banana', 'apple', 'apple', 'apple', 'banana', 'apple', 'apple', 'apple', 'apple', 'banana', 'apple']\n"
          ]
        }
      ]
    },
    {
      "cell_type": "markdown",
      "source": [
        "**Random shuffle() Method**\n",
        "\n",
        "The shuffle() method takes a sequence, like a list, and reorganize the order of the items.\n",
        "\n",
        "This method changes the original list, it does not return a new list."
      ],
      "metadata": {
        "id": "cD2ZzBx8Mbtp"
      }
    },
    {
      "cell_type": "code",
      "source": [
        "import random\n",
        "\n",
        "mylist = [\"apple\", \"banana\", \"cherry\"]\n",
        "random.shuffle(mylist)\n",
        "\n",
        "print(mylist)"
      ],
      "metadata": {
        "colab": {
          "base_uri": "https://localhost:8080/"
        },
        "id": "lxjnSre-Mu6z",
        "outputId": "e06fe627-fe61-4fcc-8316-c9608502b044"
      },
      "execution_count": null,
      "outputs": [
        {
          "output_type": "stream",
          "name": "stdout",
          "text": [
            "['cherry', 'apple', 'banana']\n"
          ]
        }
      ]
    },
    {
      "cell_type": "markdown",
      "source": [
        "**Random sample() Method**\n",
        "\n",
        "The sample() method returns a list with a randomly selection of a specified number of items from a sequnce.\n",
        "\n",
        "*   Syntax: random.sample(sequence, k)\n",
        "*   sequence- \tRequired. A sequence. Can be any sequence: list, set, range etc.\n",
        "\n",
        "*   k- \tRequired. The size of the returned list\n",
        "*   This method does not change the original sequence.\n",
        "\n",
        "\n",
        "\n"
      ],
      "metadata": {
        "id": "1NIR7GCIM7PR"
      }
    },
    {
      "cell_type": "code",
      "source": [
        "import random\n",
        "\n",
        "mylist = [\"apple\", \"banana\", \"cherry\"]\n",
        "\n",
        "print(random.sample(mylist, k=2))"
      ],
      "metadata": {
        "colab": {
          "base_uri": "https://localhost:8080/"
        },
        "id": "b1b48Ku-NRQY",
        "outputId": "67e5ef2b-4913-40fa-e209-b0448d769a10"
      },
      "execution_count": null,
      "outputs": [
        {
          "output_type": "stream",
          "name": "stdout",
          "text": [
            "['cherry', 'banana']\n"
          ]
        }
      ]
    },
    {
      "cell_type": "markdown",
      "source": [
        "**Random random() Method**\n",
        "\n",
        "The random() method returns a random floating number between 0 and 1.\n",
        "\n",
        "Syntax: random.random()"
      ],
      "metadata": {
        "id": "bRhwjZTyNbGZ"
      }
    },
    {
      "cell_type": "code",
      "source": [
        "# Return random number between 0.0 and 1.0:\n",
        "\n",
        "import random\n",
        "\n",
        "print(random.random())"
      ],
      "metadata": {
        "colab": {
          "base_uri": "https://localhost:8080/"
        },
        "id": "VN58hN8rNjMP",
        "outputId": "1559e15c-e650-4690-afcd-2fb797349248"
      },
      "execution_count": null,
      "outputs": [
        {
          "output_type": "stream",
          "name": "stdout",
          "text": [
            "0.32438071724603923\n"
          ]
        }
      ]
    },
    {
      "cell_type": "markdown",
      "source": [
        "**Random uniform() Method**\n",
        "\n",
        "The uniform() method returns a random floating number between the two specified numbers (both included).\n",
        "\n",
        "Syntax: random.uniform(a, b)"
      ],
      "metadata": {
        "id": "0fBHPyWuNtlB"
      }
    },
    {
      "cell_type": "code",
      "source": [
        "import random\n",
        "\n",
        "print(random.uniform(20, 60))"
      ],
      "metadata": {
        "colab": {
          "base_uri": "https://localhost:8080/"
        },
        "id": "LGFZvwseN2tl",
        "outputId": "ee31a3cc-211b-4a92-a872-889539beffb7"
      },
      "execution_count": null,
      "outputs": [
        {
          "output_type": "stream",
          "name": "stdout",
          "text": [
            "52.843371534076816\n"
          ]
        }
      ]
    },
    {
      "cell_type": "markdown",
      "source": [
        "**Random seed() Method**\n",
        "\n",
        "\n",
        "*   The seed() method is used to initialize the random number generator.\n",
        "*   The random number generator needs a number to start with (a seed value), to be able to generate a random number.\n",
        "*   By default the random number generator uses the current system time.\n",
        "*   Use the seed() method to customize the start number of the random number generator.\n",
        "\n",
        "\n",
        "\n",
        "\n",
        "\n",
        "\n",
        "\n",
        "\n"
      ],
      "metadata": {
        "id": "8atYPZfIODQD"
      }
    },
    {
      "cell_type": "code",
      "source": [
        "import random\n",
        "\n",
        "random.seed(10)\n",
        "print(random.random())"
      ],
      "metadata": {
        "colab": {
          "base_uri": "https://localhost:8080/"
        },
        "id": "cvyXCmdCOezN",
        "outputId": "70d832d9-637d-4854-940f-8c83f3d5345d"
      },
      "execution_count": null,
      "outputs": [
        {
          "output_type": "stream",
          "name": "stdout",
          "text": [
            "0.5714025946899135\n"
          ]
        }
      ]
    },
    {
      "cell_type": "markdown",
      "source": [
        "# **Python math Module**\n",
        "\n",
        "*   Python has a built-in module that you can use for mathematical tasks.\n",
        "*   The math module has a set of methods and constants.\n",
        "\n"
      ],
      "metadata": {
        "id": "i9DWoh93Otgo"
      }
    },
    {
      "cell_type": "markdown",
      "source": [
        "## **Built-in Math Functions**\n",
        "\n",
        "*   The **min()** and **max()** functions can be used to find the lowest or highest value in an iterable.\n",
        "\n",
        "*   The **abs()** function returns the absolute (positive) value of the specified number.\n",
        "*   The **pow(x, y)** function returns the value of x to the power of y (xy).\n",
        "\n",
        "\n"
      ],
      "metadata": {
        "id": "170vXRv8PJKR"
      }
    },
    {
      "cell_type": "code",
      "source": [
        "x = min(5, 10, 25)\n",
        "y = max(5, 10, 25)\n",
        "\n",
        "print(x)\n",
        "print(y)"
      ],
      "metadata": {
        "colab": {
          "base_uri": "https://localhost:8080/"
        },
        "id": "zm3rIMp4PccT",
        "outputId": "7f6855bd-5665-4e13-9ed7-9f4a89839fcf"
      },
      "execution_count": null,
      "outputs": [
        {
          "output_type": "stream",
          "name": "stdout",
          "text": [
            "5\n",
            "25\n"
          ]
        }
      ]
    },
    {
      "cell_type": "code",
      "source": [
        "x = abs(-7.25)\n",
        "\n",
        "print(x)"
      ],
      "metadata": {
        "colab": {
          "base_uri": "https://localhost:8080/"
        },
        "id": "dppV1kQ-Pfy6",
        "outputId": "ac75514f-fd3a-4744-9032-ff25e50ba2c5"
      },
      "execution_count": null,
      "outputs": [
        {
          "output_type": "stream",
          "name": "stdout",
          "text": [
            "7.25\n"
          ]
        }
      ]
    },
    {
      "cell_type": "code",
      "source": [
        "x = pow(4, 3)\n",
        "\n",
        "print(x)"
      ],
      "metadata": {
        "colab": {
          "base_uri": "https://localhost:8080/"
        },
        "id": "7X1pJFXDPkeV",
        "outputId": "59ea9172-c146-4e7a-f64a-ba4b186e251c"
      },
      "execution_count": null,
      "outputs": [
        {
          "output_type": "stream",
          "name": "stdout",
          "text": [
            "64\n"
          ]
        }
      ]
    },
    {
      "cell_type": "markdown",
      "source": [
        "## **The Math Module**\n",
        "\n",
        "*   Python has also a built-in module called math, which extends the list of mathematical functions.\n",
        "\n",
        "* To use it, you must import the math module: **import math**\n",
        "* When you have imported the math module, you can start using methods and constants of the module.\n",
        "\n"
      ],
      "metadata": {
        "id": "RcWRmZh7Plxc"
      }
    },
    {
      "cell_type": "code",
      "source": [
        "# math.sqrt() method for example, returns the square root of a number:\n",
        "\n",
        "import math\n",
        "\n",
        "x = math.sqrt(64)\n",
        "\n",
        "print(x)"
      ],
      "metadata": {
        "colab": {
          "base_uri": "https://localhost:8080/"
        },
        "id": "_qgmSwCAP-1S",
        "outputId": "fad4805d-8a4a-49ed-98f9-d20c68fca831"
      },
      "execution_count": null,
      "outputs": [
        {
          "output_type": "stream",
          "name": "stdout",
          "text": [
            "8.0\n"
          ]
        }
      ]
    },
    {
      "cell_type": "code",
      "source": [
        "# The math.ceil() method rounds a number upwards to its nearest integer,\n",
        "# and the math.floor() method rounds a number downwards to its nearest integer, and returns the result:\n",
        "\n",
        "import math\n",
        "\n",
        "x = math.ceil(1.4)\n",
        "y = math.floor(1.4)\n",
        "\n",
        "print(x) # returns 2\n",
        "print(y) # returns 1"
      ],
      "metadata": {
        "colab": {
          "base_uri": "https://localhost:8080/"
        },
        "id": "OR_22RIHQFJ0",
        "outputId": "5e0089cd-f30d-4d17-8fc9-f4ec74b9d993"
      },
      "execution_count": null,
      "outputs": [
        {
          "output_type": "stream",
          "name": "stdout",
          "text": [
            "2\n",
            "1\n"
          ]
        }
      ]
    },
    {
      "cell_type": "code",
      "source": [
        "# The math.pi constant, returns the value of PI (3.14...):\n",
        "import math\n",
        "\n",
        "x = math.pi\n",
        "\n",
        "print(x)"
      ],
      "metadata": {
        "colab": {
          "base_uri": "https://localhost:8080/"
        },
        "id": "pqqXunh5QNWi",
        "outputId": "021dd91b-238b-4833-b26e-711c7e0df0e2"
      },
      "execution_count": null,
      "outputs": [
        {
          "output_type": "stream",
          "name": "stdout",
          "text": [
            "3.141592653589793\n"
          ]
        }
      ]
    },
    {
      "cell_type": "code",
      "source": [
        "# Find the area of a circle\n",
        "r=eval(input(\"Enter the radius of the circle\"))\n",
        "area=2*math.pi*r*r\n",
        "print(\"area of the circle is: \",area)"
      ],
      "metadata": {
        "colab": {
          "base_uri": "https://localhost:8080/"
        },
        "id": "vPfkTpXEQVhM",
        "outputId": "747569ff-aa89-4f93-99a9-c9aac1313270"
      },
      "execution_count": null,
      "outputs": [
        {
          "output_type": "stream",
          "name": "stdout",
          "text": [
            "Enter the radius of the circle4\n",
            "area of the circle is:  100.53096491487338\n"
          ]
        }
      ]
    },
    {
      "cell_type": "markdown",
      "source": [
        "Complete Math methods: https://www.w3schools.com/python/module_math.asp\n",
        "\n",
        "Some Examples below:"
      ],
      "metadata": {
        "id": "z5JW6gQmRDUT"
      }
    },
    {
      "cell_type": "code",
      "source": [
        "# math.pow() Method\n",
        "# Import math Library\n",
        "import math\n",
        "\n",
        "#Return the value of 9 raised to the power of 3\n",
        "print(math.pow(9, 3))\n",
        "\n",
        "print(math.pow(9.3, 3.4))\n",
        "#The math.pow() method returns the value of x raised to power y.\n",
        "\n",
        "#If x is negative and y is not an integer, it returns a ValueError."
      ],
      "metadata": {
        "colab": {
          "base_uri": "https://localhost:8080/"
        },
        "id": "WwrX8vzARLJ1",
        "outputId": "de764cbb-446c-4e2b-a45e-715e93591a0f"
      },
      "execution_count": null,
      "outputs": [
        {
          "output_type": "stream",
          "name": "stdout",
          "text": [
            "729.0\n",
            "1962.6462330592344\n"
          ]
        }
      ]
    },
    {
      "cell_type": "code",
      "source": [
        "# math.prod() Method: Return the product of the elements from the given iterable:\n",
        "\n",
        "# Import math Library\n",
        "import math\n",
        "\n",
        "sequence = (2, 2, 2)\n",
        "\n",
        "#Return the product of the elements\n",
        "print(math.prod(sequence))"
      ],
      "metadata": {
        "colab": {
          "base_uri": "https://localhost:8080/"
        },
        "id": "JIn9sskXR8Uz",
        "outputId": "a3dcab69-3310-4051-92a8-785ef2901187"
      },
      "execution_count": null,
      "outputs": [
        {
          "output_type": "stream",
          "name": "stdout",
          "text": [
            "8\n"
          ]
        }
      ]
    },
    {
      "cell_type": "code",
      "source": [
        "# math.fsum() Method: math.fsum() method returns the sum of all items in any iterable (tuples, arrays, lists, etc.).\n",
        "\n",
        "# Import math Library\n",
        "import math\n",
        "\n",
        "# Print the sum of all items\n",
        "print(math.fsum([1, 2, 3, 4, 5]))\n",
        "print(math.fsum([100, 400, 340, 500]))\n",
        "print(math.fsum([1.7, 0.3, 1.5, 4.5]))"
      ],
      "metadata": {
        "colab": {
          "base_uri": "https://localhost:8080/"
        },
        "id": "Sy7Nm1HJSvjR",
        "outputId": "061bd70c-e742-4340-f11a-685a506ac15f"
      },
      "execution_count": null,
      "outputs": [
        {
          "output_type": "stream",
          "name": "stdout",
          "text": [
            "15.0\n",
            "1340.0\n",
            "8.0\n"
          ]
        }
      ]
    },
    {
      "cell_type": "code",
      "source": [
        "# math.exp() Method: Return 'E' raised to the power of different numbers:\n",
        "#The math.exp() method returns E raised to the power of x (Ex).\n",
        "\n",
        "#'E' is the base of the natural system of logarithms (approximately 2.718282) and x is the number passed to it.\n",
        "\n",
        "#Import math Library\n",
        "import math\n",
        "\n",
        "#find the exponential of the specified value\n",
        "print(math.exp(65))\n",
        "print(math.exp(-6.89))\n"
      ],
      "metadata": {
        "colab": {
          "base_uri": "https://localhost:8080/"
        },
        "id": "GQxrQwlmSZHj",
        "outputId": "ae90c75c-1346-4c7f-9150-8720078d4def"
      },
      "execution_count": null,
      "outputs": [
        {
          "output_type": "stream",
          "name": "stdout",
          "text": [
            "1.6948892444103338e+28\n",
            "0.0010179138409954387\n"
          ]
        }
      ]
    },
    {
      "cell_type": "code",
      "source": [
        "# math.log() Method: math.log() method returns the natural logarithm of a number, or the logarithm of number to base.\n",
        "# math.log(x, base), x should be non-zero and non-negative number. The logarithmic base to use. Default is 'e'\n",
        "\n",
        "# Import math Library\n",
        "import math\n",
        "\n",
        "# Return the natural logarithm of different numbers\n",
        "print(math.log(2.7183))\n",
        "print(math.log(2))\n",
        "print(math.log(1))"
      ],
      "metadata": {
        "colab": {
          "base_uri": "https://localhost:8080/"
        },
        "id": "aP86XoZXTIY2",
        "outputId": "f18ac9d2-53ac-482d-e361-ba66b675e574"
      },
      "execution_count": null,
      "outputs": [
        {
          "output_type": "stream",
          "name": "stdout",
          "text": [
            "1.0000066849139877\n",
            "0.6931471805599453\n",
            "0.0\n"
          ]
        }
      ]
    },
    {
      "cell_type": "code",
      "source": [
        "# math.sin() Method returns the sine of a number.\n",
        "\n",
        "# Import math Library\n",
        "import math\n",
        "\n",
        "# Return the sine of different values\n",
        "print (math.sin(0.00))\n",
        "print (math.sin(-1.23))\n",
        "print (math.sin(10))\n",
        "print (math.sin(math.pi))\n",
        "print (math.sin(math.pi/2))"
      ],
      "metadata": {
        "colab": {
          "base_uri": "https://localhost:8080/"
        },
        "id": "5K2z0SQ9T1sZ",
        "outputId": "fde50169-51ec-450b-f929-85ee74b4611c"
      },
      "execution_count": null,
      "outputs": [
        {
          "output_type": "stream",
          "name": "stdout",
          "text": [
            "0.0\n",
            "-0.9424888019316975\n",
            "-0.5440211108893698\n",
            "1.2246467991473532e-16\n",
            "1.0\n"
          ]
        }
      ]
    },
    {
      "cell_type": "code",
      "source": [
        "# math.radians() Method\n",
        "\n",
        "# Import math Library\n",
        "import math\n",
        "\n",
        "# Convert different degrees into radians\n",
        "print(math.radians(180))\n",
        "print(math.radians(100.03))\n",
        "print(math.radians(-20))"
      ],
      "metadata": {
        "colab": {
          "base_uri": "https://localhost:8080/"
        },
        "id": "6v3sYXATVjdI",
        "outputId": "08206e56-30b9-4668-e2b3-71bd3e91c3cf"
      },
      "execution_count": null,
      "outputs": [
        {
          "output_type": "stream",
          "name": "stdout",
          "text": [
            "3.141592653589793\n",
            "1.7458528507699278\n",
            "-0.3490658503988659\n"
          ]
        }
      ]
    },
    {
      "cell_type": "code",
      "source": [
        "# Convert angles from radians to degrees:\n",
        "\n",
        "# Import math Library\n",
        "import math\n",
        "\n",
        "# Convert from radians to degrees:\n",
        "print (math.degrees(8.90))\n",
        "print (math.degrees(-20))\n",
        "print (math.degrees(1))\n",
        "print (math.degrees(90))"
      ],
      "metadata": {
        "colab": {
          "base_uri": "https://localhost:8080/"
        },
        "id": "7wCJwAMaY0hY",
        "outputId": "7c93be44-cfda-4848-fb93-b8358700f427"
      },
      "execution_count": null,
      "outputs": [
        {
          "output_type": "stream",
          "name": "stdout",
          "text": [
            "509.9324376664327\n",
            "-1145.9155902616465\n",
            "57.29577951308232\n",
            "5156.620156177409\n"
          ]
        }
      ]
    },
    {
      "cell_type": "code",
      "source": [
        "# Find the cosine of different numbers:\n",
        "\n",
        "# Import math Library\n",
        "import math\n",
        "\n",
        "# Return the cosine of different numbers\n",
        "print (math.cos(0.00))\n",
        "print (math.cos(-1.23))\n",
        "print (math.cos(10))\n",
        "print (math.cos(3.14159265359))"
      ],
      "metadata": {
        "colab": {
          "base_uri": "https://localhost:8080/"
        },
        "id": "LWeYFqv3Zt-P",
        "outputId": "683d8219-bdc6-460c-c967-e6464e2540a2"
      },
      "execution_count": null,
      "outputs": [
        {
          "output_type": "stream",
          "name": "stdout",
          "text": [
            "1.0\n",
            "0.3342377271245026\n",
            "-0.8390715290764524\n",
            "-1.0\n"
          ]
        }
      ]
    },
    {
      "cell_type": "markdown",
      "source": [
        "# **Python statistics Module**\n",
        "\n",
        "*   Python has a built-in module that you can use to calculate mathematical statistics of numeric data.\n",
        "*   The statistics module was new in Python 3.4.\n",
        "\n",
        "\n"
      ],
      "metadata": {
        "id": "zsczFkvPehcm"
      }
    },
    {
      "cell_type": "markdown",
      "source": [
        "**statistics.mean() Method**\n",
        "\n",
        "\n",
        "*   The statistics.mean() method calculates the mean (average) of the given data set.\n",
        "*   Mean = add up all the given values, then divide by how many values there are.\n",
        "\n"
      ],
      "metadata": {
        "id": "yhveTcAifOkL"
      }
    },
    {
      "cell_type": "code",
      "source": [
        "# Calculate the average of the given data:\n",
        "\n",
        "# Import statistics Library\n",
        "import statistics\n",
        "\n",
        "# Calculate average values\n",
        "print(statistics.mean([1, 3, 5, 7, 9, 11, 13]))\n",
        "print(statistics.mean([1, 3, 5, 7, 9, 11]))\n",
        "print(statistics.mean([-11, 5.5, -3.4, 7.1, -9, 22]))"
      ],
      "metadata": {
        "colab": {
          "base_uri": "https://localhost:8080/"
        },
        "id": "i64pLrtRgkLL",
        "outputId": "f7212369-d2b0-41ec-b915-5bf9c5d4ab18"
      },
      "execution_count": null,
      "outputs": [
        {
          "output_type": "stream",
          "name": "stdout",
          "text": [
            "7\n",
            "6\n",
            "1.8666666666666667\n"
          ]
        }
      ]
    },
    {
      "cell_type": "markdown",
      "source": [
        "**statistics.harmonic_mean() Method**\n",
        "\n",
        "*   The statistics.harmonic_mean() method calculates the harmonic mean (central location) of the given data set.\n",
        "\n",
        "*   Harmonic mean = The reciprocal of the arithmetic mean() of the reciprocals of the data.\n",
        "*   The harmonic mean is calculated as follows: If you have four values (a, b, c and d) - it will be equivalent to 4 / (1/a + 1/b + 1/c + 1/d).\n",
        "\n",
        "\n",
        "*   Syntax: statistics.harmonic_mean(data)\n",
        "> data \tRequired. The data values to be used (can be any sequence, list or iterator). Note: Cannot contain negative values!\n",
        "\n"
      ],
      "metadata": {
        "id": "8NBc9HtziQlE"
      }
    },
    {
      "cell_type": "code",
      "source": [
        "# Import statistics Library\n",
        "import statistics\n",
        "\n",
        "# Calculate harmonic mean\n",
        "print(statistics.harmonic_mean([40, 60, 80]))\n",
        "print(statistics.harmonic_mean([10, 30, 50, 70, 90]))"
      ],
      "metadata": {
        "colab": {
          "base_uri": "https://localhost:8080/"
        },
        "id": "F4lsO52CiyAp",
        "outputId": "8d47de53-4c53-438a-f2b2-35f954f6a340"
      },
      "execution_count": null,
      "outputs": [
        {
          "output_type": "stream",
          "name": "stdout",
          "text": [
            "55.38461538461538\n",
            "27.97513321492007\n"
          ]
        }
      ]
    },
    {
      "cell_type": "markdown",
      "source": [
        "**statistics.median() Method**\n",
        "\n",
        "*  The statistics.median() method calculates the median (middle value) of the given data set. This method also **sorts the data in ascending order** before calculating the median.\n",
        "\n",
        "*   The mathematical formula for Median is: Median = {(n + 1) / 2}th value, where n is the number of values in a set of data. In order to calculate the median, the data must first be sorted in ascending order. The median is the number in the middle.\n",
        "\n",
        "*   If the number of data values is odd, it returns the exact middle value. If the number of data values is even, it returns the average of the two middle values.\n",
        "\n",
        "* Syntax: statistics.median(data)\n",
        "> data \tRequired. The data values to be used (can be any sequence, list or iterator)\n",
        "\n",
        "The **statistics.median_high()** method calculates the high median of the given data set. This method also **sorts the data in ascending order** before calculating the high median.\n",
        "\n",
        "The **statistics.median_low()** method calculates the low median of the given data set. This method also **sorts the data in ascending order** before calculating the low median.\n",
        "\n",
        "> Note: If the number of data values is odd, it returns the exact middle value. If the number of data values is even, it returns the smaller of the two middle values.\n"
      ],
      "metadata": {
        "id": "FVY-oxowjMiA"
      }
    },
    {
      "cell_type": "code",
      "source": [
        "# Import statistics Library\n",
        "import statistics\n",
        "\n",
        "# Calculate middle values\n",
        "print(\"Median value\")\n",
        "print(statistics.median([1, 3, 5, 7, 9, 11, 13]))\n",
        "print(statistics.median([1, 3, 5, 7, 9, 11]))\n",
        "print(statistics.median([-11, 5.5, -3.4, 7.1, -9, 22]))\n",
        "\n",
        "# Calculate the high middle values\n",
        "print(\"Median high value\")\n",
        "print(statistics.median_high([1, 3, 5, 7, 9, 11, 13]))\n",
        "print(statistics.median_high([1, 3, 5, 7, 9, 11]))\n",
        "print(statistics.median_high([-11, 5.5, -3.4, 7.1, -9, 22]))\n",
        "# Calculate the low middle values\n",
        "\n",
        "print(\"Median low value\")\n",
        "print(statistics.median_low([1, 3, 5, 7, 9, 11, 13]))\n",
        "print(statistics.median_low([1, 3, 5, 7, 9, 11]))\n",
        "print(statistics.median_low([-11, 5.5, -3.4, 7.1, -9, 22]))"
      ],
      "metadata": {
        "id": "6hHZMec7jwKb",
        "outputId": "ffd0a55f-4454-4e5a-a3e3-6345917a084e",
        "colab": {
          "base_uri": "https://localhost:8080/"
        }
      },
      "execution_count": 4,
      "outputs": [
        {
          "output_type": "stream",
          "name": "stdout",
          "text": [
            "Median value\n",
            "7\n",
            "6.0\n",
            "1.05\n",
            "Median high value\n",
            "7\n",
            "7\n",
            "5.5\n",
            "Median low value\n",
            "7\n",
            "5\n",
            "-3.4\n"
          ]
        }
      ]
    },
    {
      "cell_type": "markdown",
      "source": [
        "**statistics.mode() Method**\n",
        "\n",
        "*   statistics.mode() method calculates the mode (central tendency) of the given numeric or nominal data set.\n",
        "*   Place all numbers in a given set in order; this can be from lowest to highest or highest to lowest, and then count how many times each number appears in the set or any sequences. The one that appears the most is the mode.\n",
        "\n",
        "\n",
        "\n"
      ],
      "metadata": {
        "id": "m2uSvYjBZqrC"
      }
    },
    {
      "cell_type": "code",
      "source": [
        "# Import statistics Library\n",
        "import statistics\n",
        "\n",
        "# Calculate the mode\n",
        "print(statistics.mode([1, 3, 3, 3, 5, 7, 7, 9, 11]))\n",
        "print(statistics.mode([1, 1, 3, -5, 7, -9, 11]))\n",
        "print(statistics.mode(['red', 'green', 'blue', 'red']))"
      ],
      "metadata": {
        "colab": {
          "base_uri": "https://localhost:8080/"
        },
        "id": "AxRsWLG6Z3fT",
        "outputId": "b5e94062-43f8-4d3c-a183-1da38b2d53be"
      },
      "execution_count": 6,
      "outputs": [
        {
          "output_type": "stream",
          "name": "stdout",
          "text": [
            "3\n",
            "1\n",
            "red\n"
          ]
        }
      ]
    },
    {
      "cell_type": "markdown",
      "source": [
        "**statistics.stdev() Method**\n",
        "\n",
        "*   The statistics.stdev() method calculates the standard deviation from a sample of data.\n",
        "\n",
        "*   Step 1: Find the mean. Step 2: For each data point, find the square of its distance to the mean. Step 3: Sum the values from Step 2. Step 4: Divide by the number of data points.\n",
        "\n",
        "*   Standard deviation is a measure of how spread out the numbers are.\n",
        "*   A large standard deviation indicates that the data is spread out, - a small standard deviation indicates that the data is clustered closely around the mean.\n",
        "\n",
        "**Tip:** Standard deviation is (unlike the Variance) expressed in the same units as the data.\n",
        "\n",
        "**Tip:** Standard deviation is the square root of sample variance.\n",
        "\n",
        "**Tip:** To calculate the standard deviation of an entire population, look at the statistics.pstdev() method.\n",
        "\n",
        "![sd.png](data:image/png;base64,iVBORw0KGgoAAAANSUhEUgAABdwAAAPoCAMAAADz0MzXAAAAq1BMVEX06NDy5s7058//9dvy5881NTUkJScAh6MzMjJAwdz47NP879YAgaDIFSYrLCz98dkDiaUEYXX+7r6MdUBjYVtQT0vs4stAPz3QxKudl4nLJDL39drBt6KKhXrb18Ho2sKr8v+xqJdqsLMckqj/7tNMpbDezLYDWG2Xw75zb2e8qXWFbzg5kqCCbDR/e3Haa2vlopeGubS70cFpgmaux7Wfi1wpU1szsMq5ISE7pGtMAAAgAElEQVR42uyd226rOhCG8cYgZEv2DUcJEnGDxA3v/3jbY042IUlDkzZd+b9sLXVH1Ifx+GcYbDcIAAAAAAAAAAAAAAAAAAAAAAAAAAAAAAAAAAAAAAAAAAAAAAAAAAAAAAAAAAAAAAAAAAAAAAAAAAAAAAAAAAAAAAAAAAAAAAAAAAAAAAAAAAAAAAAAAAAAAAAAAAAAAAAAAAAAAAAAAAAAAAAAAAAAAAAAAAAAAAAAAAAAAAAAAAAAAAAAAAAAAAAAAAAAAAAAAMC/DGcOL6/NrYy/qIKxUxjZbzgC/7Faf9T7nuZfr2kst4bnDM4LnuNQQq/Il1cnndrE8yWEcx1KwQIZhgFmyFsNzRW0W+v7zxbyr4D8SwdPNxETYSj+Y8JUAd8Fz9D2U12un5fHPU5d9fnpEsKFrJs0y7J0aAPMkIcQnTM03U+pe+46RC7efraI2b9qIZ7sX0yf294UnvZVp+GPny3L9jGaf3MSsrCKEzWSxNmr58a5UGqprQ3Zs8vPexXb0mOVnX5d3fk8Rvz93Ynp1HGEIfwR23HZJWqlfPP7sfHfdPGv9MmxCdN1EdvC4zhpZAA+VNcpKyekRUyZum+IezSjfkDck7W2+rsKwjcdZ7JfOxNnv6oUNnHtjhG725lfFvderbb7OXGPVodIbos7u8aP3Tu5SB3/Sr9p8K3vlokzAFWI585PxMiEDnVw7kpDd2YyDMVhfbfinoz8kLgvtX1P3OmdqZ8bNvNDzaUbyXj+k8EDbaOsv8hP4xidchFSqpbd6AuXvxusWXGfbfej4r5yU9y5DvfRUvzM+3MTW6/+ZYxUa/YN35WS+xNxiB1bFHnAIXWfJ+0yzMuqzwrrClGRpU17kkffH/5NcbeTIwzz+uSqu9uX1ygU/9KiDs5EKMpqSJcxKtKhKlkod3/XFErv0Lr6w8X9duTORVvt0tZdTu83X7/Ch4WN51/NMSMxO96iLP20DsvUV20B/tGEjNRlk6k4VpMb2PxflLbsmLz/QXGfJkfX9lnsFbGZfCp98vwg0Q6NDN9REXPVqcoSyp8myyDFcZI1pZYbCRrvUjqvm/TpzT0s7tE7Ru5MpvEuSkVF2phbp3i1vHvBtTFS/7iRxvGW57rJfBt7U8NODg1x/7CwPQjLPonH3Jy9wU/ZShVnlTgiDn9Q3I0Y0uSIjF76U+DF4m5E+9w2Q9/eLJaz8NxE5t47j5EVgnGMkr4M/TUW5m4RdFVf0Gu6txH3t4zcjbivKWmfxL4/r86vXv3Kwt6L3A+IuxlvVlYpjbcf+EPcP17bZdAkcbJoxuoLUWTkvTwwI/+guJejGNpOb8TdT8v0T50fTOYNLWeI01uhOw90W6xDZO+/yyCZsRtyp1E8OLeDjfGpL4jc74p7svcZb54qLir2WkH0gofoSFpGnOx4W9/d2thPyyikZT5M2/UpixN3NqzKYdxFJQfeIP41cacixslxGd8wXXovvJ76QpXJjoxv6s3y62vgeCAGV9ov9N27BZNaqKkzESL3L4j7dejWeSi8ecRE9ff8i1Zzzc67tbH3WBAlRS7wQvWjtL0sXP+Okq2GHFhA9ffE/VSs6Y7NwyvlZZ2lkM+cH4yW6I/1Rt3V0N1oOy3GTG4MklJVOK/dM+Ku1r4gcv+OuB8Obx4ic/3rQICQruO9FXdZqmVVaIKlkJ+m7V104d6R/z+P6+VfFHe3CE/caZNJPG0yMWHcM8WS033jbjqUaW89246+08RtwmmZm/ucj8g9+qa42wnwUlE0zpet/vX4Jjm3D5dpGd1GY9kqVoOA4H0Qdnenr+WR885ufpo7PRit/lPiTtvDW1qBmGV9mz9TK1nYxkvIdVVAnKu8IfIHKYob8dbi/hci9x3Djur+0tidyYBOCCiytG/548Pl9GHHxkyfKjraIEubUmOV+0cF7kvouISAalwI5rr8wy8R/y1xN1OCdnTltGnouUsnxPi6y766u6Z8PMgzX4AowovHNKunQFNiB5H74ch9Pigh2YY3UfdKMzLyr/yof92M3O1yLB3kOZOhZND2T9J2Pygk3SjSYRj6THl6osqt3N0+ZPdL4n6nDL7z0+73XxD3m1Xxu+I+n8XgH8nAL3+4f7at15Jp7yvdUFWcXXk68lfrUHo964emaXpa+ua8+o4rajUnQd0Xd/6Y/Q/20L/iXuR+/0Bgfq2C67UejtyjzFIUEe3y8IyeirvDec1Nd7qwU8ylf33JRvx65D5fO9nq6iC/wgvAWyRl3KWPiUrrXIahuceXvXKFw1t8S5sfpbNRW2xPY/mCuJtfEc7Ob3n8qIO74v6VqrZFHGkLo91II2J/wyntNXFbYkPsKImLvqmqit0O7xeZqdlYhjjXfTS/aKUldOsLVU/cr0zpA/a/30NOh1g4V9yM3OkoI7cNwRe2+y9N0Lvt0rTn6GDkbrxc5ixnLD93tB3Ie6mxlzXzbSjFK04rGDdNr2ci7NiIa7cPj62k9It/lheAtwjcvSXcSdJKUmpmz5mp1JWsu3mI1HnZVkNvGJq2PovtFvh74k67MuW5rprBFlG1Zb59IqVZNpGzm9/fFvepqtZW1duqtL/tkKZz4EfuIvf+0sN/e21ZG5JTYYxrebK1DFV70vpylpBRg27qtDVcbpc5qOasN2rl5xi8ZTEN7YkfwyajLN10DyZhotUyVpukJ+5LXxwzevbfNYq9yu8hZ1qf7LAPdDSF3ntiE2FuSqUyjQ0k4zcidzrxQpxWH6g7Rl3blui3nknThIaur9eB4Eu7qjqnbhyK3GlzqLZdEsLcgllbePfUi1WEm/ZbEwY73jFZb9euU7eu+Tp1LeRd69jIzD33LDg73sKL3OVmvNn1hhhLjR5pHfKKFzzs5+A9AvfccWDzg9HFeazYqs82D7+8UWLc+H1fJJT0jW32VxVp1WnJvi7udiv9uKEuVmP6uOhbFq4H8TE5FNnyadY0CUud78dG3RR32gBqq7LNpbqoqvOypZPJkoqazmuZz1eaKjD/mZua6YxTZy+mfMOwXlVrM9NlnUZTf1TR13pzMLe5JQb1kNED/2g48xkrbSkAunq4jJc5M1rtzG1O+tLaPTcq5aZdTPa2QV6+eG36Enw69h+NonyjTOnyZu2hsbR5Wqtpn9f4C1F60UN6NXGyh1jYS6K+DG9E7uOJF9E4/PafKBtqHvrHWIp+Nf1ZcB6W5mFldJs5d0btspa3XxdNrtnhyH0s0p6pbPriPTFtQ3fT/m5tvxr9anZhOmg3W63XePsmPNc2vXIMbT6DdMZXy3LY2KipxSqo42zI9nyXpoe5UOROXYWXb7TFj11wpkbuB1kP+zl4x4x7pNowd4aej+kAuwMybefj5JgQbabidfEspQWUmcmdI823xd2o5WmIvCJoK6DK2vUvFSzngCebc8BZ5nxf3RV3pmkDqFcVNddKwHRBHdsXad76CEUfIrLi3jh1TmkOo1r0pf1N045cn1Kl1qVGsRpyXyrlhd2mHVNpeHN6+BsYLySGhWWkjInPVAi9Ht/ry9T0+Ymd6fPWKPSStqhyf2fuMPdQ2R6ee+WsmVaq36wcMq5RRbFyrmhEIPcjdyPTXZ9sBmbjA2NKajG96iTTld1KbRs8abZxptRtV2wkSByO3J0rzZA6OUt6BPLS6OOJHV77qflSsDlsmuxurJexTUSVLGNiqpwMvX6x1lGn6tJGzm11mg1Xxtvckce/deB+44Y9F8XTWkx/R+6jfg7eRdydZJ3x3s2SGCv9dgN2U5oH0HkynFM7f90l8daxo8pZaHVL3Jet9N5xB7am9DzPw6vngNN26s3x1DfEnYX1XJV3qgJJwHiZ3X+6Xf22zqViEvfV/VdxV2s7tDT1eG/gonjU26UhnW+31XhJ2t1Kk/rnSsXt9l2v6WKiis5+PZ+Ukux2ZhZ3xyiJbxRvL6bb7bgxQR71MHIGfbMmm4k8XbbRTlekVyL3/9m7tl5XVSAsRzQGE3ypt0Tb9MWkL/3/P+8AgszAYO2q+5y1k5LsZKerFxyGj4+5Kh0YXcWLIqUDBtx96RcF0vXsDOHqsrIaCs3DFAWKCbjnnzF3vwFk4pBQ59gM5w+nv64E1Bk0BZvwDLoPmBXe9Gubg/4NKQsgI7vX9LFqVcvuBnq9pQV3/Ip/8u4pZawFQcGRN/X8O36nOzWsO2GyJw1pz2u+Ye6CFxcmsj5r76DfY+5EKr1TlN7BRfI6D2plvAZ3vT0l/VPSKjouLhAnCjlwDx2UmtEU3ok1hJlga1sPL4+pICdiBF/sRW9icJePPKhCq61G7pl3U3IcuB8QSvjDegWWPvxqtbDADs0Fv4SqoR3xFHPnWf0sK1KNlA7AqEPvTNYLey995u1amlxdvKpQ8pWcbtXnzF0/EjDMwEuTPcfo6ZvAMpMZSt638NbQlny4wn4OXLBLYqt5QEWVY6L13sAd3M391Xhpy5QWwOm+peff8XuI+wSJexQQrda1eA4CuMSZuPYpbUIlj9LgHqfSI73qndaeAe4KUmVVJNMOjQHyHHDPYrFAeagfCa4OkDGp/w3pPIKwKOWsFiQMmXPwdQTcNba/EgoB7jUBIwgNgUAQwEDgem52oTmlA5XRAU6CewfK6axWElYTCqm+YehPYO6hu2P7qzZkl+npr4eTaOkv5lFUOg3umbikfqMy/Zr4J+DO6iW9k2GZgrf0/Dt+kcl9z5qrdXi5atIOAsuxwoVJkh4Z0uBOptIDRYFWDyrKwqvzS7MMCl6vqsD4YkFkF9yro+A+E8+kXrFZRdhxXVkHWZGgwLsRTfq947XOGwHjljdj1g642024tqBLL6EPCsHgPlJPCKoMRmm0m38vXscouyK46D88GgNwL6c5glouqAdWi9Sfw9yv8Dhpnd+J148g8w+ZhcxixgQ9I0O7GgTufg7hsocysrewdm+90+AeJ6bHH6XAfV/Pv+M3MfcHXOB4D3CB41gxkymMk6VAGCVeMfd4X1foK5xancHcEZd00w2ZrCbVR2zue+Au254AygoYuTH5buf7fd4NxcA2dYnxt+wv83TVTRFdIzgGoSr5MHJ93gNCicA9+YSboQWfX9vtBDo73Ls18ZXpOaCSy5C5z71/m1284ERxVyKcXfpj5h6cHcWWAYwCiLWHHumweUwcaw9oD7gu251BMXd8Bq8ywsewmQxrq+RyA5t7DO4oMd3uwoLKyH1Hz7/jFw14cySrgf4TvgI/UFbtpe0l2QsgBe5R8wDtZJSYxLKTmLsOEAdMryzUdAuY0llp6q6jZWzKeZSFrl89AO7eVhlUbZAtQdwVSGV5k+d8hq+13UHPiI1MlUX7GKdbrTN/OISqUkbRE27oPcjrgRAK3NabHgTtNwvqCbd3h0SzWkPrCliC3q0jeq/OiVZzqHCeFgHuVdFvVda9Mx0XZrBXoqBm5o+Ze+jvWLUb8XmzD/q+l1EzO3xs+ChUqEzOUBYz9+BWbWSEfsN+tN9b7yS4B2Fypk9Phe+SLvftDT3/jt/kT+360Ib5gukP4P3FvHRCdDDVAxhVE+AecdhxWJbpIiPbzgnMPZjD/cpEdp1h3q3WdVYPpqoSihVeX9H/Lrcj4F6sVQEueANWlv9g34Z6GJNXkqFK23LYqQkZGrNtTJxJMBgykHbC6qeZeo/sIu5Z2lGH3c1YKHwVCnlAP8Mn7MMn9HaZoClE9RhH3f2kIHg+sjrLy3TLBBuQecWnzIk2LGu31tUxpbxwJXT1/f1T/epFnsbcg2PIXiox4vfjcOuuE4w7M98DARTkCSMn7To10ubetUClH0OXiW5qER3Qbkz2iNf7si24iXMnwJ2j1dJbeVqWYcQraNXgDT3/jt8E7igr83VtMBfetVK2QZFGNfIBmSX3zTKYhRbyyfO6rnUyrO8ct1Y6OIO5i7b0weRdLrQz1/8UuE4KQZYfECJba3ccYO7qISd11rGJ2CFIGNXmMtYE8JBdBgZeBB4Eqa5P4zVHwYOCmK/wlVFaF9Co/sR2hBIx9/UJOX7CzYo24evXYtLyr9Du59ZR3ai2EDx1jWkaPYcamQi9FQPFq1SuVMP8aEt1GuI1UN/VmRz6KTAnf8Lc71G4TKBt7S2vhRANkqH21Jj3eci1TmIOQvAdoSKYu8m+2GQ05kZGObawWyORWhKq/IAgTfz3LV4KHhNL3qhtmIsniq8gwH1fz7/jF4E7sgoeqNjH63vrco8U/pnsZt6FyMV3wD0MP9CBODobML/Y0N9KpxiaMIgzbO6z6z2m5lWvudMwtB8ECO0WDjsA7upZRJ5xnaIJT68V+hAzgxzuYEkQfN0Jg9NlWTwXlFW4WxWym10qVdV3TiiISj8o5r4eBeYJb0R8ILYiyLZrTM6twGW5LLiLq29oeGlWsxJDa+iPOhHYXXSilUZwNilNC8xd43olYpBvfMjc8Z1rtNFGSOGbjpmMVkS/x8C74Ykw/PQmvIi5qwPdJBC7LA8jo07HXFVU5Eu6KiQN7ugkLZa8Y2tOLuFheEPPv+N3gvuxWtusEcvdtl3eEhdQNmCxpQ3S4I41xQe1m0QinY//uN/qs6JlskZ3DdYdr6GXMHGl+Ajc9SV5FQg66zY4IEPdXlRqPRY9umYQF6MQ7Bi4A6GMLiE5EIrIKOauzscVYiA8uUMJeR61jamzobNwZbxD1bQi1wcvdDQ+iJjJsGhae7UAnulwIew/uNScU/FFnzD3eojuNJh2eBkCS/x6QEJ+DHzrnqX7PKzY5s5FfXONUa+CxSYdaMbfqedOgTt+Tc2s2542rpT2hp5/x1/M3NdCQ2ZjbqvJWQY1pdoHd1iZHFWaVJAtZf+83/L8zDj3rM7r6/3RbpZhzmoUrLAFt30I7qUPQ4g3SMjc2ZvMXUctPcqq2GkVhPI698FdC0Vc9Rk92DuEEsodCoVR3sQNxjg2J82EqeICYuWRX9CuI2eiyTN9xvTOj8w7WKfYqwY2y/TXpnNzTljEs7AA/kfMPQZ3+OWauGeat+uBw0oY9qN7lxYgJ3KLeiQOf13aLdfncOUVhonHC3A/xNwDV4UXDyWMN/T8O/5m5m6u8HpjikEbFdeLd15HHqIUuOOCTtJn0pt0qakzJUR5dhpz19Plao90Q7fWoFZ8KF/OB3dQNJNBU8EG7pBJbvElYNavuI8C5LGg03ptHAts7fqiWQcnhDK8AncYy4zO15XNprY6JNdwHbkpNdtch/X/LFNzGCF9JcHd8+T4OSuQ+hTM/APm3kTgDnVYz1O4kSGT49WEuj+DV5CgNqQk49ydjOplUB90MoJv/DFzDzYnI/3Hbte+oeff8cvAvXi/2ZJRusxgQl53y30msgET4I7dbiD1QSw3XfLXR/WdU35gm66tvC1uw/2BcofOAXcJGm3wNgb30C23mobnOMwuKXNbZ6tI5nWWl6PgboUialtO3QjlBbhDDCBuHEkuyDEGBCV//Ryy6zRe5D5zj6J18RKAaC/s2jnX5o7i1Mu5u97suHbgvSb4CYe0h7gKHVSk2c6RE7HWXG+YklF7CnNP/R4yJNnpvaHn3/GbomXwXfp4NNNKKbrhPusA5ZKITEiAO4oO61FhkqBNwEnM3aF7oyFsfF56bcT8A+AOdkhsF8VxE5W6seRNk9cjjIHpuxeRqEzdObwvlPCsgqTCA232uOm4IG6TFUpRvQB33/MD58/PlJMRLuwOqzRz0Lj+aI33sNpl7kQC6SVh5KsHeQ5zx/6FMcibUlLvfc5QH4ePcJBf+7QG+7KI44ZJ5u5l1LBFy6jAMvo5c0fvn7HcKnhXY2/p+Xf8JnCHFvDjjU614b1TREuXdJdhH88X4I5e5Yiahr7bs5i7bi1ym2ZT0l1WQUbtSeCOdlQ8QYZC2it5GSdNVN/L8dO127tJ+9hswFJUxcvVb3oN7twI5f60QimKOIssBHdfEoAE9zFxaqfruZt+Icv9sdYTx3NIgHsopNQfeb2cFC0TW/VDb60L0QwWw1LkGZjhs9AMTyUU4DloZBfDSMvox8wdH4rjvtze0fPv+E3ofpE034Lm2egl00BAlpKCmHfAPdGV8lzmrlCM3bfIuyBt+iRwLxBtJBgNC3LJ114dKC30Jo60N1M3EGb3elytFYDFC3BXQul2hJJg7ofBfZPq7jqaJipFScyBZu6EXwL9MQXun9ncH6HxPgR3XJ3f385iV8RSc2CoAYauJHPXt7WRPs0/Ye5J0k3J7R09/47fMzChJKy+XOielNhcIhpT4R8o20+Z+1Fw/4S5szobW1mCvfFnmPtjn9GYB9+pCvk6CYQz4IfUt/RLj84HnH20D+6sYbtC+UPgjuq5s3zrF1LFc0gw9/G/Zu5I29YTmGDuVGnIexghasxmkMqTRXzgHHiWL48iLaMfM/dj4E4y98eXuf814A4vnbFlgNXTc+oa07jYVQqsdTseAAo6i+aHzH3XDnQOc2f50JbJ6f5nzD3L/mnGUibrHMsDOSBbrXy2dtluuqCHM4i22wf3l0L588x969cCTjv5wub+PzB3zLxdlS9cNYweVoNgq0r9TEB04MyhmTs3fa2QjCpZFV/m/h2HwB1F8RKdThVIyP4x6qa81q9fw14droLV8WgZ5FCFGJBlgQEo2cGne6ueO2hLsbaSk337PzB33aH+3idSTMt2erU1eH19CiAtvkakdiOsubgVH3sR546FUsVC+RDcsUOVYpWc16Bfy1onp2rbqniPuWPb8RM5Bk+pLUNF6QdJ1mVigBpjQK5eUUEF1UScu+59UqGtpmREZvG+HS1TJxIskNwoh+qXuf9FAyV7xPxRFxStylI35TV5o6gKtCkVcJnvV3Y8zh3Ghrn8PDsCA1CCuXMqODxd8hf06lD7sFIH1dQNp8e5H2E0TOR3gulJ2M519x5jSjqGQUC4Rsi/7F1Rr7Qqz9VHMUYTvFHURJ14Y+KN///nfbQo0oLjzN77/XImGc/VM8etWKAsSrvWydD4xLkTrQ4wCrBLxt1tKuSNc59pesqZ46pCfO6uVgdSU659V97kuYuARDWlknBTIf8iWyZl9bVeBZC21XZxHVmOrpBlVzghd7cYIITcU6cqWaCNtrmr/ijPfb2I8ZP56aVCfpH7Z8VlCL9dUxC5LDNFdlHedlVQyVg7011sQDmblCQueVPE1OVBtqG07GgNE0Pua4gNO78lDnOXItmOHYSYku5/UMR0i2jipIPsGGBLBVJaw8iK6vGzSop7xjZtTe1GI16ORJKNX3Lu7EMPowy/dO602McRcysXnxWSZsXLpl9i3fXuiHkNuZMGusmkFHH/FLmnjBZzd3akDGlLkOnmuCr7L3+vCgqkbhWuUxQWQO50LyTreYrARmv2J3nu45XYgl/d9EXun+rcaVERTFRXHN2CLsiirouUgZZlF4tQLyN3VtJCVfmQfaA6NP2Icz8LVMi4vKX8dcfwqpJSP9sNRf3/IXcUsRbgTOehH9car22cO/zgV6iWMapcljGNS0SqfdO5s/zGGA9UWMe+79xdSgICBmNKQbI7HtdEskdO+lgl7yN3mqh4dto/SvP+M+QeU/x/kr642YytSuPzKqoyVcpw33i+FR5g12K20fCQO6NPnfUwwX5a/wa5kw9bzkUxQCD3Re4fexG+J+DVQ5pGZLkry5WhMTe7xtBCpnz0XDj3OBRJdxXdYPe684ZVCb8zt9xJIJmZ3yD3AzcyEhBVYnOZHws798wSIxjGwt8id0B7+KPoNEpOgOYYKFYTXG5uUyDTwuyN9AK7gOoh9BDErdOYUbeGD1QbN+HG5fDXHRCXsTHK/Dvnrv0p0VayMj6UOPwo5HHX1zpJfSO/iNyZBvARt1LUeb2D3Et1OOqogiqzIMG5+xfzSYigxzxsP1l40c4Zbe50ESEexRArJCGPHHdayCv9j/DuI42jqzx3Rjbtcp89Iw77IvfPistQmbJse+jBqS/teZZa8j1p7HrLPWKuklDlOT9hiwynKANyOGj1ZZ6Bh4tZW8/cd+YmJKHvTWKyGIWdux6syHvj0pocLJYpq6k/nTuJ5a/wCFzhivQvkLv5DQJfKiZXmr7SSXuTIRLWFbAkwFkc9NHQ5kGlFKKIspQKvyUq+dq2O2xt/xDRwDvOnWXV1rhJgkMBN7BhjyTdAEy/u0yK0V9C7rgi0/RDvCqmD/qGcz+jLPFQU99upYlowdajwl5MY1U9RCYbE14MLUBCLsdso4fOIT53Yvsda1yxEcUlhUyR4SAuyvSK8rekBS7lPtopx7Mx2xe5f+zFRCJBy2YAtoxlXgWP2DB5scnMX0rvDfSLaerlFMxJVBRVRacj7hSQeCmZ9meY5JHCD5vmfVwlVTRQdm/r3El0ok5wdYooHDWtTZOBFzGhfyWqVLoZA7arSroFU5t/h9yPCQ7zSM/7wr0MJdSLCzBIutXjvDz0JkRBH1H3Mwc0DpE1v0KDqCHy5IGCRsEF913nPlPWb4UB6Gik/bX51CZjgutdkYxcygg75qkL4Xrgc4lR74WOktedu6wHvOa5X7nWkJXKorgXSIjLApdamAjH9tNJFTiDm1l/jCMWAPKRO00Emo2NiKAJWsMMXrayjqgeotuDjGMXYh1kKVb7aO8D+8Avcv/kbEhWhZRJ0bYtpFHwCkpXRMaMIUi39oR50qL0hk87PNRjmFPO16dn06S9VE8lRn0mRb2naNaNTTgHvFDVsPEBz+yIi8sHbG7RU33NKTlEilLiEdp+UWoaNmnoRH6H3O3fo6acUg/nP8horKInsRmmlAyH26ic17RG+TKQ18k9Lbz00fVN45m1Q6NEJKMyFw9jlHecOxd6le04D0PfsP7i/CrYamyD2ihvewWL4L+bPHeWc254HeYNYMlPkDvKj2ZYPpxlVCWUHhBRmb2x065XdWYQG8EZMQdIj7UNz5D7HHbuZ9y/IUdOCUTxXF0rHHO7whYTc5Fbh/3dAvNy2LkTKKM7q1+MUmAeoKz8Ij8FmLAAACAASURBVPcPDsx41dS8Fu7oaVbikG9D1801k9RsO6UW5cmuSb1gZE1pFgjyP/RSIrI8UDsxMOTEJ5wzpuj+IzfPHKhzb/uu096GvEpPG722TH6MXy8m8AyjKf175G4nrzGEczVNDZmITxJm9Lf5HWREkVkf9Ukopeh4KSSuPgoG6sNGWY1R3oq5e2ramZSshDZAnmV0XHUbxpZ+pBz12gr496kL4XLrhtcBZbl/gtxppirjZIii1F1u3S+FxVbbN3cKKlyO9M6rXqP0O8FsGUJ1LGttI7NouS+e0UZecFUYxe4say5i7t6qKGG0t0ynvjizcL/I/VMDM+XqlVN7NBabf4Kfo5CO8bfumaweWI0qYveA0tRgaETh8y6Z4kjhp1rwl50EJMIv0vM8i0TxMLo8BJoLUexGrJW/U8DiHvgcI6nzW+TuIDNa0IsZkbLpn6S6F7PPS+V7H5fNgdvOGrkr+VljyCg5GGWr4vecO1v5Tw/Ztl7MnYqkZ3m+7xPdX9smB0/0FLl7AoTHW/VaLn6C3POrGuLW0ULxilSxG91BTHygp/Htcx8HYu50zYGl3NhIkO1RI+CUl9Uemf4Wx3Y75Nz1Rde0PCcMgCK3Uagvcv9k5677+VrDbacK32ELBchC5If8NGHIQ2ZxBqYxm3LPmquDWwV+UMsctjMvaq8QhJ8Lm5FN3Y24bO4uN7EEikdNrsnvkbsLl11waNqk/duTItU0GcS9/5Ht5ObWrdweYo/d0s+8NgqQzr/j3K+EXvUNNae9ZUBTHO3LybpjCHeeuxCqouqOovlHyP3Ct2ftQh/hj2GCLUh5XohGkubaBrNlxsybaoIRUILB8E18sh32hAOwsHOHtVg+mYbuNvCL3D84MFNEzzTcIMV910284EzSHrAl/zRol99ryc1Vc8m85FBoEYFMsqGtbfb9GZZhMB8JhdPgvNW/NHnuBxcZAaB72PBr5B78FE4vc4ndkQvm+fIL4TA3iBsIBexxY88PHB/a0PjG/K5zT8nBh7u9d/pr8zLxiE8kxzemzOc5cqdFyO5Qm+RfIXemYWimzM0YJric7Wl8po8gcu+C3aTBOvm9VUUI3Jyu/Aq575UXV1N+c0XSvsj9g717VPa5DHsPcDvbIb5MSj4JaCSy10ZqMuBv7WlOHV5MIKjjFDcGoKD+95D4yN2/F51RNQR8ol6raKBWWhqQ0MeBZ/iDPPc6u/MgT1xQXKlVyqcK2c3kl135kV7tN+Iq4Adg1jKjdG+GZUwNghd/kKJLVobcwyAffHdHwjUYl75zIYxv06LfRfwJckf18bHgRyI4hoV4jQbOewXn6AtWqIaGjG7MwM7KzRYhDd5tFvOLsIz27m14TOm3jJam7ovcPz40A8XxvoTbETCIYoKTeLSl7RIn5cZycGg0QYPmtgqkKMbcFwRFH9WRYOXGnqCd/1DZpF43WwahlPAcGXdx8I5aMf7d5fDWEP7wbqdErcS5yxtEYxsYBxcO5gbrS0b3f3GRDI0MajAJ436ikpWuoqI27yk4JIuBn+TOKAK2+y84dzeL5F9cuaxypr9EV5ZbRpE7gnyvDRIKcFeXcgbZMG6QO3p3yTNbalKT9iPnvsfNZCbWxaN9wO3uGJwxARo4jqsFX25Y1XB1DBnfRpC81ZA014OIBsc/7+/6iXPXA2Gqfd1G+IJ2Tq5oPZ+P8+/138yILObaajcIO7Jl08cJofMa2ozoE2RynSqVzLm0v+2MeHHVS+eBuZQHm0YaJR0IgvK3MQqtNCrNImBZtsD5K1eozKnjmBr31j2SXo6SvEWCHyzicsxsc09OkrgCKtycNClfXwjLeIjGC13qR7fZXdS8uz5UTeNKd5DI6NeYJmqzTT7rzLGAunc2M35pETCKxqbaCVujQCUMde7ZLXI/+KBz58H1osfG6AnLIfCVrPO13zF7umMYQSbfC5t/gKDOw/S4GvUaplrbC/LGuYc3VXjUnTfjkgT/OtZjuL4fwzZo+GwdD7JC4ohmNoJ1gwz088SjiDfJZ2YzmANVGeYGhEnf+F8gtged8m+M8+/1n/TuaVJ0o1HzOlit8mYdYuY24mTa2uMmJL4aqgKkgGGkZ+bH80jU/qh/Faby9BhXFXubFHX/YC9L9Y5iFfYJedOnECPZ5C5c2UqHWa9U49EwyD8ZIY8u/aebIJyXwFwFUFLNjb13PbNMSvSg9nY9tbvKFDFJq5XpIvfjx1a62Q+1nS5nAzW02nXEGS3k5V7ddyblAtKGJ/EY9hFUzIToaUDpgfZUPcfJ/n8G9pXGKCUxCv9sJrNnv9BtNSq5iLMTehDA1si65WaKi/Nl8Bmi6RWkUmk8DBok+KvE2tUiZE0vatWfLRdrlyDtgf27e+Qeutqm3uZOW/2ixiw1Yzj3xrCf1Yrg13my9AnQXEPbQ6e0d2ykHz6nmBqjNmvi3B7M6s1dt7KZWVRHEZN9+BxUKXO+oOkn+gXvjfPv9R9172USLXO/GVardZw7FSivAXW0eae+2vrhUVU760XZmT/d5pMxptT+yDxvnJeych8T49ssh1Y/TEXAR+kJNO03bb2eaej8H9NxLYo0TA3HrYNKjvq6cpk3/HXVT1B6rpqavnS/dxxSMtqLo1Grntrxfrvzyml6HHc7Py4Pp9HOvUcD0/9j726Y01SiAAyzdHPtLKTrjAnXqJVpPpgGapPbKf//r12WBQKKH7FpXMn7JG0yjlHYZQ/HBQ6eNpezX9hTLNs+99as3dZB5qbkTeEx20dbK4+Vt1ytmv/xxhTw9JoTIEyjXNWNImxuWuxKRdMoG2u4bK9hvOztAnsPxuqlH4sX2eivuLXf9qb1whUbh7IRpdjxFFuXXeKp2v1ena4Xi5uq6xNtQ3nr76KdG357JdvrK0zF012Xl5ltWO7fho2o+9pi1zLE7dhbrZZpo2XVgcXaLqsmvmmdlWN2NvGiNTLN4F3fHtebwt5f+ObnY6cj5NaF27edw9nwbm7hZqpamYuXdblli76MRX36pIvnmGvmtBLiJfSYPy3+bxXNqB80P6TY9m72lWTfsDDXpdvnlMtjJ/tqgVLrT9X2qS87JSGCapV0e6yau5HqcsH0RgQtX0R1GqBbMcDbeDBoL4jaWEBzUx0zdVBeT3R9fXV1XX9dX/TcU3P75IwwK1csX9lF+yqPlffzqBuvU86q7pd9jdK72r1r6G10uW6CS38zld1fLlx7GWTV38WD1a5ux3u1tyVdd32VafvVH90rpXa3avWste/ggMIQB27DdmHsy5b/VO8ybC6uNKv1qR6OSgpvvY060zvlAKiH28vI9FvvHPRtUrra4stV6dmbHb6dw+kjq7aYVVlFaGvUkNVz1p7SPCo3n9v/Ys277Xiz9rs1WZ9vrVfdaj1VHri4m+O3/fTWBJHfkJsPys6SSF92Hy8+HD+WVwoVn7mnsVAv5WW8KPnZXJF+LQ7soFYX7a4p2W5guX8tW721Y7V3rHnvi7T7qzvVvKu7epZB7qiyJje2Pvt30vzY06RFfxVPEt1vXx42YsQh27BX9le5WZRL1bcM9Sr6PcNnaxvJQ0ZmtYLle3hHjMKDt3Pg430kqk5QufhypbWqhrq01bmC+ojhYcEdAOBMbK/qINgSiGuZWX3qyZ4bhgMAHAvuTT32z/8u7R116mrurTKrG3dnBgC47OW8cFOGMfFe7roZRIvHL5wrDADnHdzNld0X149fb0pff169lFnt3psHAOC6zgWI5jx3cxnSP+WlI636xSTuAHBewd0UMPvcd0OIdkGeK04VBoCzsl7Cvq/G6nXEpAwAnFlwj3cVZDfV/h6FYlIGAM6LUFFdLrGnYq8p16iJ7QBwhtFdL8r6lmtVIT/bcpnyk2BOBgDOjxRaL789XtuSvZUvXy6uH2+SoOdmEACA80jeTc0+L54uvt18tW6+TZdis1wmAOC8snfhlcVbX65QNbUImJABgAEE+DYCOwAAAAAAAAAAAAAAAAAAAAAAAAAAAAAAAAAAAAAAAAAAAAAAAAAAAAAAAAAAAAAAAAAAAAAAAAAAAAAAAAAAAAAAAAAAAAAAAAAAAAAAAAAAAAAAAAAAAAAAAAAAAAAAAAAAAAAAAAAAAAAAAAAAAAAAAAAAAAAAAAAAAAAAAAAAAAAAAAAAAADASRFwNMYP4CZ5//sOONaDZAwBThL3t+EIOE54R3AHXM3cH8IxQQpHIrgDzqbud2TuIHMHBsZXS/J2HGtM5g44OyvzKxyPxsBRCO6Aq5My9/8VwT0EjkNwB1zN3B/C0fgBOM4twR1wk7obhQ/3wJEYQoCbsT0aj8Lb+0gCR2EMAW7OyvwajcPv9wxRABgQcf89HI9+EdwBYFjB/TYc3UWKlgCAAZHqIQx/ENsBYFiiO3M8lVkZABhS4l4dTxU0BQAMKbh/D8chx1MBYGDB/TYcjZeK4A4AgwruD+HojnYAgIFF97L4AIk7AAxIWcw9/I/jqQAwqLzdFHMPf5O5A8CQ2GLuS4I7AAwrczfHUyMaAgAGRf3geCoADC6222LuBHcAGBCKuQPAIIM7xdwBYHAo5g4Ag8zcH8IRxdwBYGAo5g4AA0zcl6MxxQcAYGjBnWLuADA4pvgAxdwBYHCZuyk+QGgHgIFFd4q5A8DQ1MXcCe4AMKS8nWLuADA8Jyvm7hvVr0IUvxf/0R0A8FaZ++1pirkrw0Z5NbcU4d3d7URKOgc4q0F7omLufhQXRPHRYT5Pnp+M57gI7/SIe5uIENWuWNA9wNlQtvjAe49af/50OZvNkrmYJ0+XldlTNCd8OJeyK609syuOvOIX+gc4k6F7omLuYl6G9Oe5akJ7Gd4TortjoT0I4kWaT4w8nQrtcegdOI/gfppi7mVwnxXBvfzRxPbLS6K7S4QKknSyWmWZCe7ZKpssFNcyA2cxes3x1HGkTpW5P5ehfVaogvwsUhy4c2bXr+M0W03aVnlEdAfOInM3xdxPsFOxwf3JBPSnJPL8+NnG9ssnUndX+Go6KUN7lq3q7H2SEd2BsxCdpvhAFdxNOH+eB8UDau7bR2Yxqbsre36Vm9i+yvI8TdM8t+F9lXNjF+AMEvftxdzFm5Jbgrs5hGouZvKF8ssZmstnUndHCD3NJtkknYpAax2IaW6j+0LTQ4Dzwf331mLu+k11P8r7TXBvQnnxkJ2Af5q/X+YuvY+chap9Z774fr7KkyAwp7oXu2ft2eg+iRg5gPPBfWsx92jxhqaLuPseNrjPLmcvczC+J+y0u/DeK7qLIIo/cHSP5Z6LxoRepIFqPnUJZaN7Ng1I3QHXg/vWYu4qXWWr4vstvgpp56N8k7m352B8+9i7Tbr7Uk8XHzhKqTiN906wBK3s3i/naSaTtc4E4KKtx1NV/Rn8TWSTSG1m7ua0dn/nY391SkanufzAZ37IIM6n+8L0WvNEZqPIcsYN4PjwLou59xcfEEHyhsF9knWOwjWZeztLN5Pu7xfcpVLpRHzos/qETiYL/ZqCYDKwe/yIE2YAx2dlTDH3LcUHhE5Xx8dyM6XTeSDvxFHRMwVTB/fn9wju0nwyiT94oTKhp6s0eMUhjnqb4EozwPHBvbv4gLKHz8zJb3Hyuq9kagqS2PhuTqcrJEpuZO6zU2XuUol8Nf3wU8cmWKeBfNXzCe7AOWTuu4q5S5U0abcI1KsEBS9e5JMm+e8ehTtxcC/CWc5hQbsDf0072OBebA40HOD40P4Rhg9b552lXqyq1D0NhPRe8SXLIuBambJTzQ7COyxzf4dpGRmkKyJUtQN/xUVJUtkDqhQgAByP7baY+9aR6qv6jJmjpjCkkErHqdk7mB1E++zo7cF99g6Zu0lAMyZljmiKyO7qaTrA7bStKuYutidq8aSadp/ER2VrUiidlBVKyuz/oMz9rwd3c7p2e2k+eHgvduAHdm51njsXMQHOB/d9xdyFnZgxA/o1x9264T1QaVYm761IfsppGbvLiplasK1RBOzswFpg9kxIptwB53O2spj7Uu0czuURtD8qFyU8ndhzbppXOG3mrvIsY2ahafaiOQ6baKkufaDtAPczd1N8YE+WG/3hxIyNCnG+6hyHO2Fwt59GBpq4763O6fd0jplrSQ5oj+pwKidCAq5TBxRzr6ZZJ392joS5ZGjViiAnPFvG7K6Gm3zO9/mfvWvRbRvXgiIvgQWoBA5gQDDkIEa7uUIRNbBTrP7/19Z8ipIpiXq0Jr0z2S3urZtUslfD4ZzDOT5eFjuZgA9Xe3RI/AWA6IU7f3sZCnN3H2lzULVe8VSTTBjvLaXer1tG3c+jOu6XKXhS2aR0n+6YIXml1vgMuh0AYndlhsPcnT8l2ymUel9FidxpLb+f5y6qqQ/cy9cOGx+Af1skpPtUghgnzc1JYwAA4iT3wTD3G2G3Xz1gjYnDkLaH7m62DBEV4rrKH5SgyucJevetnNJvmXBb5McHUwYAEiF3UU+dflT1mfO1TzbjtGn0999NuctIhcc9YckXKXciyxDj0p0pd+7zI4duB4D4ETocm5mDqnW1IkeR8JM1du5F7nKhemD1eTlPwDsJRb4royUVXXn5bLIM5A4AkYPqMPfph9WU0qTmXcWsh2+KQO7VLSMdd1E7eNDPlEx2y3iroaqkOrKfIbtXuXNrChjuABA9TPhAwNPadsysK0Uyfigyq9zLP98tI93l+oGTB0QnOxv5GrpxKormg5UIze3iWC8MdwCInwcmwwcc5Hbm3qpaJCVdz/35jxdUBYl5olGowcB1j7985y3Y+otXbtXQwm25vUKmDAAkodzHwtx9dka932x+JuWnS3WpKnL7e5fi990yr7xHbWkbRD9wtRrHGLm9vXgffdNs/N4UfUtfZmB6HrgdABID//n0189AD7VNENuoR5zw4+7I8x5NHXNhC/++zYosHHq85aI66RlSPk/6uuqY14sIP0d7cSd/LIAdjzX61uzrgbRHZrkdTZAAkAa3qzD3wAdWBwLKjplNBBwlt06B7/e2xfUmbntlruStWwjL58vx5ubIsTKvliS645nCzDJX7zt+qoob4uLPRzLy8X7U/nUb3A4AiYGE11ONMVPbkUpptkyouYGeuqEp5XoJkqqjQaXq0oyP4Ezj0fXfW/rWC5N8kY8sTKrS3Hi5/RPcDgBJMd2cemrWDmpI+PC+ZrDCT5Ba/t4QpKN9LxFy+3XfUZTtESXSW5ioea08jWU5mnWv71jps0vw2wEgJeX+PSR8wPmG3CaIJTqJhwjvoW487T6KBJU87xGkq32PUXbLyH1H+XzTWtqqevHS1MJUeBwrZrn9xAlzk4Px/ABAxMp9Msy9L+4Ka8wkepZFRF/59x3WV/dI3DDte1d2P5uiQHffQeVdlVOGu9L/okm0Gy5AM7We1w35X77rAM8PAETMdKHhA63wTduY0daDd9tBO841XaR972fMKPOlvDFmqM2aKacGbOhGou4dmr3a60Hh1f4C6Q4A8TKdCB/4ep/zlDoHVQ8JsruuGvhzi6kTuuUQJAnXvneV7pXm9g6L2wUroFrgeXMYtz7cZw+YQAsAEbsyv55env55n/eMEtMPuU/QmNHi1N+qTg1B9pxrrmupMXZBDuw7SH9heg5YmG63NVRkRe7N590DyB0AomW696+nlzn1VGXMVCYeMsF8FtmqPxx9ZtIPXJFu3ew4uyDdfceNe0RNteCq3EN2cqebTOei2Q8BAWIAEK9yDwtz9xozdZLGjJzvPBhITqnD5JogHTV/PsZ9u7wqe536jpoPimKj/WqzKKAPAModACLGz5n1VP3E6wSx9J5vKrt9RmrB6qCqS5DU6uEzj3xw6M2+g3JbLQiqBMulrxvNwKpBgNoBIFqmCw1z71NAZTzYJrGZPDr8bGQkhSZI61w7//8UO7nrfUfbMcPsPiRs06ErEp3PNOdDwBMEANG6MrPCB1wOeNUz9+rE5hkxWTCoDyNrUrfv0UbOlPF2Qfb3HTYBp12YAtvzFbl3zXTGMv8XAADR7uJnhg8438lttHtaxoxq0x+dja1O8itjhjim9aD2pWI4RkTGTGmbY9o7CVyYdO4nzHQASF25yzD3BdtrPamuTm7OtGavauyird4VzjU3uQODJ4BodjweeTzsbvcdFbf/O7QSrBvdK5A7AKRN7vz/Isx9BUneNM4lQu7j0pRap7qsjuVAHJcFJ5fzpYiF3Wlm1frZBuIEt+frjc0hB7kDQNJQYe6LHuQ2QSwpnafbOMe52CSICcl7mTBltMs9K3KGLAILFN9tAfhyntueb0oSSPYFgKSFu6ynzgsfcFR/oQ8uDp8IipXc6wlydxPENE+W2YD2NVnAc8Ii3xci7H1u9x3PU9UCzzakqhPNlQAAwCH3H08vT7+WKXdjzwpj5ls6XOCNxvJTtkPto9q3nDmeiRc/FiKsOmIOpZb26BUPHmyl8gc+X0HuAJAyZoe5ex0OZcykQgYsDyJ3yo+asyezILn+Q6HkLvJ8FiJwHXYTxJ5le374p6PCZUDuAJC4cp8Z5t5XiCZBrG7Suecwcs8IrxzlPuK5SI0/x/pg728vyxDctOocZZrZnu8LlwEAID3p/vei8IGWKA9tglgiNdVQcs+ommxUTg3ouC5xgknPwe0yv1+5Xyma25jfeXk4DModAB5AuC8Icx80ZlI59hLouZv5RQHHOynn1aXi4c0y/O37QgQ7aE7JYAm5Q7kDQOKuzJIw965qzUTOlFDuqXRDhnXLSIlfPpuG8fHEMEbzY05ntLnz39st4058LZ9nzo5S5I5uGQBI2pR5/xL11BXkLpxp2S7T5MncdCC5t6kDAaf356YPsKUIXXN1m75emma04KPPHQAeQrmLemqx7meo0RckmWNMgeEpzmA9E4Y+THdUYt77pr5m/hIs3M9tf/7UvqP3rdPROwAAxI+fq+qpSgfLKJI1A5nYH+WRMHKnGSm7B4HKEUvkeIwpXEYfUS2dPv1wYwbZMgDwAMKdFzLMfQUvKypY1VvBGOd/Mj2WaWk6zl5OFOTkAFJ+Ol9RRpMHzEQUpGryObdHsGjoJ4pUSABIntyXhrk7NHIan2oU8iPy4pT9QROA8Wo6GavVvuXklDrTVRMNubemzKUoA/Yd/a2YLEng8QCAlMl9aZi7+QGqV2ZNssxVZX7s9822IYSjpcfpSUw6C6zUB4Daw57+P0siI3dnPofjz4RH/spOUTwdAJA0uYvwgWI5NWuVt2YLz3jzufEkVkZ4zvlI946coTqahkPdGPTjuc12J4PKPZoxTb3BUeVzQEHYfffymxmqAAAkBro8zF1zuxy1t6qYKj2SLZPHrtS+O4nZzcXIejJhJfVm09HSFCd9BBmbcu8MjiLqlK1cm7Kw6JvJdwcAgOihwtyXPsYkX3+W0eQX1FuxiaD2j31djxzDYcp4GNamPe1rvY2B4Me4lLtemExkgj2pGjyLSe5rcEAVAJJ2Zd6Wh7lLt1xqvFVuuR7WtxWbkGxXfOxlIMIwucsNR92wkYuyx5dke6MTj+4hyLiUu2nPN+2PunpQhg7s0BUJtLkDQNLkvibMXbnlgiNX0YCI8arrzyY4C33sZ2U78m2vs26Gz1jq3cKgy99qX02HzrxsH4PHpNxNkru4IN65m8BRe1NvDgAA8WNdmLuODDutznHnr03zUWxAJoxnr82nTqkcs2XGxamjfY1OFwSpbBnPkOyolLs7HNte/HlGgpje1uDpAICklbsIH1g8p+OwVQTJLue7bAtuPylq1wnzY5fWDNvKKpZFMaRVuqPONdXNkhGQu1MesNepKghl4CXKNRv1VABInN2Xh7mT9aeX2p/FGNng5L627+u6OezHp4COEpijfVsqdJ3rPkFGpNxlZkLZt2CcZvcQY6ZBPRUAEqf2FWHuKun3c5NuaEau2MLhFR3a9WdzyLMJ5S6zsQaOXvm0b+b48B5jJh7P3XFgLp2Ln+jUd+5FrZCw3AEgaVdGhLkvCx/Qxxi3cMop3+X5bovAYHFRzYHnsplvTLkzw2CetkYby9IlcerMresRZDzK3TS194cv2fO20xfJ1LqHpwMAEoYIc3/5a1GYuw6XWnV6qSXag8AGvMh49Y3tMqLIfcxzl8eYvOkyjsjt0qDpfffMvohFudv2/Of+7qI9lOUpCPc+2W+w3AEgeeW+NMx9i9NL9ip2shVyX2wRmMsFtV+vb0K5q8XJR2EjWSxOg2R35l40yt1bLTCrWWjHzOCyBwBAMuAizH2BsWJOL21z7EgPYd2E3Klu/ptW7tfVyXNG1Tmaejs0lbrONe0r9/t3yzjy/IbAKa+ehwrC3T9X7IPmywIAEDFUmPt8cqfq9FK2SQg725LcDc1NKXclUG/LhoK/y1L846FARZDljTETiXInR93Q41uYrnd2UddejhozstQMVwYAEndlFoa5bxAF+buUu0vuo33u6qjOoVczcGIGSs/lOMbMc+UWW2Pw3N3JUf4LaQczTX22yB4AgJRBFoa5m9NL64qppPjd5D6q3GW/zI1CpcXlrOGdKE1P9vVLezA3EuXOK3tt/ju2r59HxmWzpkavDACkrtwXhbnr2UvriqmMH7rkXt+Su2x/nwbztMhPK/eM5GL0a3FjXhjwgZlLFp3fjaFbhnJ7bWTi9UFul0OqcIIJAFIndxHmPvu7hLZbGwV5Ff82vn1Qub8HY4Fy1/3c/a4QSsyR/aErN69H2C2jq8mUktHXxz8Y8WHgBBMApI1iSfiAPr1E1hRTWUYaa+sOkXvx4ysIP75+8QXKXZZUNwqRjyhbZjU2e1MAALibcH97mR/mrk8vrYuCvPJ5YyXzALnnb389PZl/xn558ixQAcpdlw62cPqjm6G6/L+JvKoh3AEgeXL/Z36Yuzq9tDIKUiwQra074Lnz4u+XMHi6OYOUO6VXlbqJvUzimqG6atW9Cvccwh0Akn6Q379mh7kzXqyPgpSSuVWHA8qdv0lVHoJlyl2sPy+8eQAAIABJREFUMfUmc6AfR7nL3IYKwh0AElfuC8Lcxemlz4av+XvJruqkSQ567l/fw76+/8MXKfdMBltuQWX0QZS7XO7guANA8phdT9Wnl1ZFQQpu37tuyGi3TB7wtaxbJlOnMbfgsgdS7k0Nxx0AUhfuMsz9+5x6qipBroqCZNefse/W7Ib73K8I6XNni/rc1Xtw3YhsQGYPotzFYofkAQBIntxnh7kTGYK+6oQLya4b/15i19gJ1aW0G6bcxaHOLXJUlHJ/gFbI61qHyDAgfW6zovA/ugllMsx9RrOMPb20gttzJom806Nyn2wZ5+9e/xc/hi0j+iDXhkoAwL3/MyYZz3cKOc/Yf5HgZfjAnDB3ln+oKMilVHiV7VUjebxjhdwnW8beVbOFdOcnGdlSbXgLfx7kX/bOhjdRJorCDDuJyeCbMSEhRI1k15Y0TIlt0/n/f+1lZhhAK2XAVvk4j9uNq+1aQQ6XO/eeW+zgDI5hYMoQL+BeEu+zgr/7OCUBZ3R58UpPM3djozi8e6mQdpIpzS1UVzYl5NucuxuDI3fPV107t88KLG1bJq3t9Gc2BQCP+wx73IszGYpc5AoRSrlPWOAt7VOtzAfc11OJ7l0c2r1UnDuLrV6G7edZmdbI3Xe2lmHDI3eqXv1HCmZ8xaQPDCZzJGXAlMN2xmJZCHtYo2a8ydhbVszS08z9lu4lSijjpNjqeqMLreO0W9zp4cPxdhjmLWOvYKRA9Z8uhUKlDJi0pqm0b1PZK4GXy2rMoz3N3NXgItV61BO1Xh1wlmQNab9Yk21tYtqsVpvuW7v9gFPOXTsYS4haQXhbcxoAD9b2vUn7hpXA2zv5smYCk9LM3e09WytI5rE+BAHnLEozGTZPqBei2+4ts3JisLdM9fppHi9e3Yu9gIQ7mPYnOA+vhO3qa2HTZ4z5gPslu9pGMUnciYqvNN6b1Y16Q5uszPkJty1yX7up+1BvmRKfFGd84vnLPjKC9KbmNAAere3arrY48IVJtedCVIH70vKNPczcTffSAPQm/nKJdFEp32YcFr0eHbktcte/weKzzUxi/BKYLj5LG7kBEcosk7IKLOeRcqfMdVscVq5m7mq0hghvpE6GXZZktETu9KZJTz0id0+X8C87MVPsg7/QdjDp6ETYJEyYpRELgoCRJM4KpRfzWEyi7ODWltTLzJ1nN2t7E/Ilbr5e536ruLvXbRZbIVtyxQzlMQplwKSTMnEe2i6alAfKgYD6HuM82suZZGV89nxwOkspM/eNo5k7y8qWgJ/hckvTh3ao2pMiiaPlHhosiVEoAyYd1drkgggTXjkOUEIY9/azCNxUPO4WjZv1VMeU9D77ydtl/uuR3jJNdU8WfGwkkAcwaW1PqoqNy6OeeHwmkcvRuS+px3oq/1Euz6I6chfioZG75y27CBBxO5h2VmZvu9+vjFYjv1QJR4cz4C0+vazX7y6Kbc3cHavcfxJ6ZceEMgzlj4q7vH3SKwBgKuKe5bZD8m4Hvc+GM+DlnMsbe5oP/PKeUZJPfnSXRGqNHK1JACwjLRPYlHt+v4pecogG33oLr14kXR/dvrWf+cDvngF/4b+M9wUJ8/G5B2Ap4i7uKO5FfLw5boZx3Lw89fstdapl5VYCU5q5zzbV6mu3fmSSAVhY5J7dT9xVB/1mwG21cuwwakbj/9bqB53icfa6Xr/OuLJ7yTO2AFicuNuce3gvhySd2R7KumfkbgL3lePPGTN3qB8AYPqxHP+b21LIjNN76JoqOx9Oz8hdVa5vrnskXj/rjGU9FQAAbhJ3PUqoLIbMOLvHRTs7vA/no9flhdJrY4D77CLuI1pPBQCA2/ClqAysZHIXeWdPwVCennpeJejAvcCh71SvpzqaDwAAwMhDd9vFVDqHJXcYi01/stvne7n+LLXdRbQdzdwpAI4TtxAngIfCms61yhiS3Sc7cxeOVtxd3GWIU7fTEwCuQF7AA1HuMiKsUjNhHsp9NA95N01JZdK9c6HUZ4dNt5m7z14AcOQDOT7wUAkM4vMJqiIPsyRgM2hSV6WNx6pchjjkcNafnZH7cQ2AG89YnQcPTrvH5Yy9RvieJdybuLwr44HVMTLR+/q5K4jS3+6Qmj8Or9IHywLiDh4fu6cyt8peyzuZ+GhgFh3Xx4/AFEMWKt+Vn3I0cz86TqgGSwfiDsaggzQL88a4ZjuYqSF1lLR47ponxpej18YDH0/eoUy7HzoONJ+5uUdC3AHEHUwG6vFUirJX1S6u5mLPaS193FSaX35aKdMP87F5DSrjgULbiVXjrmy6NXPvDN2RlgFIy4ApyTsLUjUTu1EU2XSKpCyNNZfj4Fqf+PbF7jCsgzw9r5W2VwYEHXUwys/MyXwAC6oAC6pgUupOgyDZm/C9kvhqskOh4UKTx2eZeFVImesn+oj7DYXDroa1ynjgU8m59nN3uER2Nh94/weAGy8ohQQjkXfGvbRKvpuWVTsi23ayCnm2MGktg3u5wUcfwzm4qjt7NkaQ1Ba7v7LOFL2TmTs6cwCamMDk5J14AU+yquBdubzbJLtfdrKe+b7Xku8eoqh68tVqPejm7OdevEhp8mu9w7qEm7JnZeb+qzklAPsBAB4FIYwnMq87mmy6xXSy6gnLVWJGPWZI+oj7h+0bHVB/4Ornzj6Y/R2jo/nhjpSLMXPHfFEAwGzDd8YyYTPvdaDeTMzQKiljHuozdPk+4u6xOiR/XXcbEBgz93csgAEAZizvHs9sQ5OQ9cOllFd6b+W+34Q+nZYZWH3Qf8yecfLtNiDQqfk1zNwBAPNWdyqrvHuVcaEsOkvM2KSMkMTro4ks+vgctpr6+fF56D3f2a1chsDMHQAwf0xMbpQ8rfqWCI9Ni5M0S5V6/qr+jn6j77ynIGAD0L1S/c9UZiD36nurdkczdwAAmHTozlJbL1OE6bTW/KzOw5AgFv2TMua/t14GPYsPCBkw5bWckd01r8PNzB0AAKYt7klVLhM3HQciKapgnej7Qo7NeODru+kul/G1+cA7imUAAPMWdy+q+pia4m7naQtpo3jRpwryQW/GGhB8U2ljzAc+EbkDAGYfuVuPmbQZuVeJmf2fMnGz52OPdolDuYxZdcV6KgBgPpArWRWTTxdXI3NZPqzrIvNs/KbvpQHBt+UyZj01wqcBADAbOPsq74RXpZDyoj7FLrVK4/keeaMPdmsDgm/OQwzrqQCAOcGir+Owqa55tOYyF2mXqlH1wopg1O+xs1xGfcv6H8QdADATSBDnspD3wCvLDFXBocfTeuDel/VSwkyj6rAqyMfwauZ1tJbLGPOBFxTLAADmIu7KaCAPs5RwHjBWhLCM86jyhWy4QtZCaBtTm9YEo6a7XMbZzB0AAKaBKVzPhcz2aRKRKEpj4+jespyqTgh/TMVMKCYSuFcGBP/aI3dj5g5xBwDMAlp2mRZCnasRe1Lfq2ftXZvBQeoyyTCdhBwqqzKVdV8/t5kXOJu5AwDAJGLasmy9OTi1OUM141fEu5zacW4ZOW5xPxi/4NZaR2bM3BG4AwBmQnQh6U2RF+JvQNvOB2JSK6p2Xsfhun7DzB0AMCvMeOuwzrDX01MLaQ/jK3G7NSAIy0L4dAq1kLpFSfHZJu4wcwcAzIskCxs59uqeyMMsuhKV+6VdWJ5Zkxnq+aN/k5UBQYszGMzcR3lKJhrsFAAGwXgUS7WIWlAWOIo8D2WWcHZFCKskffInyyeTmOkyIDDmA1CRcUk74wHnQxz8AQD6GPJ4EMVZpgtltMCrqkjvsmvVanvp4b7nXhSKIaM6HiPuxoCgtSCGwnxgfNKexpqU+dgeAAxLWlAW8MCLklSRRJ6Klq5eDdtBe8rDvRqgKscfufvlvI7NJmJtT8PMfUwfScZ1vjAv/kylCxqAUcZJtNByM8eu+NujbXlOO1gvTBkplF6K6VTMHNft8zqMmfsLIvexSLunmqTziVlcADBmidd8c9DZYF0fb5Xn+wTcwxoGBFfFXZu5Q9zHIu1kH1btFxB3AH5fIa2pTJmIqf0hR9+3//28Dpi5jynC4N5e5qKq3YK4A3AHcZfnPr9kMomZjnIZ9rrGeuo4dlTA4qa0Q9wBuEP0y/9eFD/ScnBHmMcjPwCrcpnj1ZOWMXOHhjwelkohLi0wsGMA+FVtD0olbyRhaKn34dgTM5QZA4LNtU4la+aOyP3xn7Gs6qgTiNwBuJdA2qRM82CzmZosGLk0stfWcpnFmbn7xDKyCvLax07kMkbOHYB7HnfnE7HrxMx+3IcgtSuqVwJ0Yz4wVzN331K9XcJ2FuaPSt+tA7WSduZB3AG4ywVznKsr5cvpHVrzrzw+ut+/ntdBvgr/83r1OtconVU6bjaEt9slb28nzVvKdmxM0sm0S2ke7r3AdkBD3AH4XSJpRnlcRujMK5/IRi3uqk9p1VYuE83XfIDs3rYnfUt3RIXxO+/ttP3Pst2+JbsROb+pgiyhLOuKkxDEHYD7qESkZvAVl/SXh6NHo/K5Mf/6tDQgWB2vBO6H+Zq5k92p1PG3QtwJK7T+v3O2b2w8wbu6EMwSJe3FfYg7APe5Yu54ZuzmfdTM6/haLqOH8M3VzL2I3P/bWnEnu+R0Luzm72Q3FvmkLEmtGynEHQDgIhvGgGD1VcVVOn62Zu5K3I2Kn3Zkl271fXWzwq7/nY5I3Ss3Uog7AMBF5VrLZWZt5q7FXev4aWd0vpJ0o/Hm3yNS92pHQNwBAE6R+4stl7nU8TmbuZeReyHjp13aSMXUMm9UPhqfaTrEHQDgJO6lAcHzRf7FmLnP1XzA5NyVoJ+8Kk7fqjLI7bYp9Kfd6N4/xB0A4IIykNHlMtEX1Z+xmbtfxeunUxmkn1JP170nb9v/2bvXnkS2LAzAVUwllWzLAF/4ABNMEA8mUxOFOPP/f9pQNy42PY0e1GLzPOd4Sbcxp23zus7aq9bel+71MI1wB66whg3tfR3v9rY3jzdFOiwzSKtwnx60Y14ms5DUmwfCLDmYnXnpXV9GuAPn2I3LvB3neLWYIN5l7m3l3sX79HWWdAsHBmnSnLY2sf/XrG+LZoQ7cE5WdAsI3t2VmoWyasRHmu3vKve/Zoe7ZAa7R5ymPey6C3fgvMr97eR9HdUy4BMjNFFW7u8b64Mk3U+867kD1xnu87rlnpfh+JebZe6RBsggHFTuvxbn+2ecpr3rywh34DzNfR354yQchXvUy9zrcO/i/eGXQ9NBmOyeVO3bvIxwB87MueZE9TjJm2XukS4fSKp765poP91Vb7vu0z6Ougt34Cyn7+tolg9E/BNtX7mfKs27J1jrR1i1ZYCrDPfnU+MyES9zP67cT60YqKdp2jPVaRDuwFWG+4n7OrLlfBTtMvfjyv1keA/CQ9d0n5pzB64y3Hf3dRwlfsTL3A8r9/vTbZesOlFtnmOapkmv4l24A+dqFhAcHp/WjzZFfJ66q9ynpw9Mm0n35iOEO3Cdpfvy13GZ5jw14vQ4rNxP/jGDyh24bgf3dRzERdznqX+q3OtwV7kD1125/3JfR9zL3M+p3LPZByv3LM0+I/3wz0/hDpwb7vV9HYfjMnEvc/+Syn35WcId+KJwD90CgvS4mI94WOaPlftgNu1GJc8J9yysF5/z9tFDa+EOnJ3u5btxmbRZ5h6i/SNfunLPwmPxOR/ufQl34Nxwb05U84O59iruyxBv4X5W5f6BnvsgPOWjz8iFO/B14b5+t12mXeYeb3qo3IFbCPd2AUEXNJEvc/+Cyj0Jb8+fs9FzB74q3JsFBKPiqQ2a+M9Tv2Ba5s60DNC7eO/u62jzI/Jl7snFp2XMuQN9zPZuAUGb55Evc088oQrcSLi3Cwje2k5MGvfygeTyPXfhDvRPenxfR92Df3d3h8pduAPXV7kfLSBolrm/qdxV7sB1h3uY1C33ogxNIR/3MneVO3Ar6d7e19FsHGjOUydR/4kvPi0j3IEehvu7+zqiP09VuQO3Ee4HCwiy6Je5J3ruwI2E+1t3X0ca/zJ3lTtwM+E+34/LxL98QOUO3Irmvo7iMWkeaYp6mbvKHbiZ0j3UJ6r1AGQW/TL3xLQMcCPh3t7XkW+WabvMPepwV7kDN2G3gOB5mdbL3NdxD8vouQM3Urnv7uuYVDlfbG6icr+/ysq99i/hDpwR7rv7OpY3sMy9rty3sb31fyv36bSX4f7vf22p3IHztOMyaRL9MvfDyv3+D5V7D9sy/2n88064A38u3dsFBNuSfRL98oHq/1QeXlqv4XR2v3a/P+jZf/tdLQTftMAZ9WA7LlNsls0y97jDfVuMzzq/+Yjd7/ct3JP2hj7ftMA5lXt3X8cw/mXudbq3TY3B77I7HRx9HMB1hnt7X8fiH9UOsflSYQgQQbiHegHBqChvYJk7wA2le9ne11HGf54KcDPh3o3LbB6jX+YOcEPhvm62yyxGeeTL3AFuKdzrBQT56HF/2x4A1x7uzQKC2mjiCRmAODTjMrVStgPEUrq3J6r1akhdGYA4dAsI6mXuwh0glsr9uQn3vHCeChBPuG+689TYl7kD3FC4d+MyxaNoB4hHeCza25ikO0A0pXszLhP/5dgAtyRtFhCMLB8AiKpyf64XEFjmDhBVuM/zZumvrwVARKoFBKPiySAkQEyq+zpGlrkDRCWrFhA4TwWISzsuY/kAQFyV+2Yb7pa5A8QV7tUCgsIyd4DY4v0xt3wAILZsXz4Vlg8ARKa6r8N5KkB0lftzYZk7QHThvikeNWUAIhMmI+epAPGl++NCuANEJls+WT4AEF+4rw3LAMRmEDZzD6gCRCfIdgAAAAAAAAAAAAAAAAAAAAAAAAAAAAAAAAAAAAAAAAAAAAAAAAAAAAAAAAAAAAAAAAAAAAAAAAAAAAAAAAAAAAAAAAAAAAAAAAAAAAAAAAAAALghWZamaVa/l3bvAXDVyZ5mYTkcLpchScKyei9k8h3gypN9OVxONutFWZbj7T/lYv02D8NlIt8BrjbawzBs1uV4dWRcLjbJMIh3gCuN9ocm2cfj8WpcvW5frVblej5cineAa7ON9vliXAd7m+nde6s63sdP82317usEcE1lezacLA6K9fG791dV7JfzYSLeAa6nbF+G9T7OV21rpov1fRW/zpbSHeBqyvZ52Xba22q96HQJ373aDBOdd4BrKNvD3Xp8GO1FPsrzIq+MRqO8Svh99b4IOu8AV5Dty0m52h+fbpN9lB8YVf8Wu6PV8aqca80A9D7bh/OuZK+i/TjZdwk/Kvbt+PHbULoD9Dzb3/YzMb+J9i7eu49brYeZxjtAf2XDdffM0qputf9eE+/NSM1i6VgVoNfZvi/b8z8pds80SXeA3kqHi91we/7nbN8W721rZrUq76Q7QE/r9kU3AnNG2X7cmpHuAP2u28/P9l1rZvvy31JnBqCP2b5uO+jjD2R73s28j1eLO+EO0Mtsr30o2/NR3i0CXph3B+hbtr99qm6vtc88rdbSHaBX2b7cdM8kfTzbu6GZ1cqzqgB9yvYw7zY9fjzb97X7eLyxZwagL7IkKz9dt9e1+24XwSQ4VQXoSbgvy3bnwOeyvU735iKPMvhyAvTCfgjys9neTkQamQHoT7Yv31YffnbpRLq3h6rP0h3g52Xhobt44+9kez7qbt5zeQdAH8K9bLeFjf5euI+6fZKZPQQAP2zXcB//raZMl+7V53rSmAH44Wxfbi7RcN+NzNSfStsd4EdlyeQiDff2TLVon4Sam3YH+MnCfXiZhvvuSdXms5XCHeAns71dF3bWxUvntd2tEAP4WVmYjy/VcD9ou1e3a1syA/Bj4V6tHagbKRfK9rbtXjVmfHUBfkZ3P8elGu77NQTbHxnWEAD8TN3e7fkdF5fL9m5BpMYMwA8V7ne7SZk8v2S6a8wA/Fy2D58vN+H+fsmM/ZAAPyILk3YovbhwuOdFexnr/M60O8B3F+7d5UuXzvbd9l+PMgF8d7Y3S9y3L6OLh3uRt8PuHmUC+GbZVzVl9hvE7Ji5RYM0TQeDZLB9O/DVgG8v3IeLr5iU+WVixjjkrX1jDcJsNgshqd8M/PXDN5ftd5t2xH30JeFeNWbqrs+bdI9baHTRnsxmD68vL9Pp9OXl5fVhNkv8/cP3hnv5dU2Zwx0zY22ZmMv0WRXjldfZNsQHg1ny+jK9v7+vXiovr2Em3eE7mzLPXzYpczTsbgtB7OFeBfk2yqtwT8PstUv17u39NvYTrXf4rro9TNq6uvi6cB85U72JcJ/et+GeziYv/2PvXJjb5JUwjIwgjJSIZIaLcbgMPS2JZzJ22un//21nV+JuSNJzDO7Q3X7t56I7DY9er1ZiiHbzv7MgupORrSbcvy3rlGmC3dGt/yZJum9auWuKn5/Zc2UcMoea6+3fzhbRnYxsnUfSrKbC77v7BeF+Z6T7y2+i+3bh/t44159FdegU+6HzyxjtTkZGtopXxpzivqxw12uq+gsCsX3jcEd1bnR7z9luAF97ZmhVlYxsFafM65Ih7rSm+m8q98Yb84BBkOdD+1f9xzvRnYxsBasPDHu6W9iaF6rSmuq24Y4S/XxuJPx7pLcvFe/nHt4PdK/IyFYQ7muspg73qZLXfbtwr70xxst+rvS2VLbDfarvPUcNSXcysqWt9/qlu8Xt8ck492lNddvK/aFbVm0OlNmxnXbD11uaDoICZsjIFn4el96bOnWA2BuFS2xauR8az/quh/Ad0L31wz9Uz0R3MrJFhbs+6fdlyb2pUy9lorN/N6zcm9CY8/PoGMgmDL4OhKf7RUa2qNWv6LhfB+6P9VbYiNZUN+yWMcumFztRdyJq4yHP5JchI1v0afR/Ln2ozPRLmSgccuvKfWrNtJPuDw8F0Z2MbEGnTHuozONqcDfbVCkccqtwb7ajTklz9ly16e/kdCcjW1K4f1tvNbVPd3ptx+aV+1Sw486KDh+lk5GRXUu4582hMitavU+VwiG3qtyNy33S7bJ7brcy0YoqGdmCcP++yqEy06/teCO/zHaV++HhsJvOcKZwGTKy5R9F+XudQ2WmwyFfaU11w8p9Ohqmt8uJ4E5GtqBXxgj3p/t14V7T/Smif4LtKvfz8+6DDIdV4M4Zu9G3Q8bYIrWa36s2+jc0RvbH/zxrnQY5d8QMhUNuEu6HD1zqqyp3Lmxb3obuvm1ffziWbQuoeTbDqqP1b3Vryb7201KfBrky2/VrO3TLFA65ZeXO/pcM/4+SHBrnIk+y/U1+xESZJddulwtRHoMgKOfajJIsXW20MMKU6P4XC/efq4dBjtZUf5B03yLcPxDm3ds8rgx3EOkjE8xPXTexb/AjxmTgxldul4socNHCaYDDVOa5p9nRXteJwvzSdb39fLwb+WxuK9tFsd5pkHNrqjlN/ptU7oeHdZU7kK8cWyXk3lE3gTsHuIdXbpfZJ9cLs+RYTo8I4B6rbG60wvb5lTsTfzRx2j49DDcV7t9uJdx7p0PSTqbNwf3wuXL/ks+df8Vaqbx3XQXW+yOx5d5ztwJ30GKxCgsbqLmz5uDuZnPgj5KgvOLXZPhSpNy4mnUCRWWQ0LfyGwr33Jyt/nR3C6OD3f9t5f6FaJnvX7EW7pUTO2D6D/1BbQvuMH05wO5o1t/xEdyv76Dicl9Wc1+7uayUm9n0ZN/sMfz+djvhDnC/aw52J7/M5uD+uc/9C8pd/Hr9Db8+/uNXpxVzbcXRjffmY8RruJvl1QF9Li+1HcTLpkjvGuuV5KN8vKuSD+E+0cyoMxxr5mwqrJAPsvJI4GD8aCJrnXMAdz4sLFNPmcK8X2QKzPrqZTIf91za5tHthtA2x0QFXblsjh71lZ5C+Wvl0yCnY91pJ9M/qdwPn/rc+fcf93f3dx//d9/TBkIb+oIjaT4zDXef+WZ5tUdUYY8udebjZYnJsk3uov4wuNI02eUTGm6DIgbuphnf6s0SpoQuUlcnLZPt4kZZfq80F75d4Uwl7Qtvdj0aqwf34Qi59G24EyUU9k3v62R5eQOgR751cQO67oh2MNKXXQHL74aFfS3wWwY2p2/ccCxky3tl3urV1NvAvTvYnabzjcH9cBXljnB//MzufnRw3+34jjMf4F4A09AM3G0rTbKszG2rA3Re4qXKFhc9iNI098UekpOqIRlcqwMqucjTtMDPLC1zKTFfWdgAS7+qi/AO7nZRwrU0av0TzJTAS3q1AKor95avsw3fb8C5HaVdVt1u4qlTijZU1BY0k+iMLdwZjjDTgxZYuCq7wrmA+urK93J8A7go0jSqu1l1KOc2S/s9B0vLva4cC5hUvBN1X0tHHXVz6JZnfl2YkZBb5SH0f99UuPcOdqd3MpFyn4H75/afkVdPR3EU9UUN9zIPFQYQOhk3l5mIsthcOkUjuAGYHDfNA53sHQstyjHE8GgAzezEdVObcRHFbhnpfCpOhMyPTlMjb+AuyxivqbCsA1WYXwWea4rIprrQTzCbU/RHwi1Zmm5DaQlCHNtVnqMvxZHFezlFYkYTplENdxjhyTSt+8PsrC2stOe9KeIE+WjJC53zqirMDXCORZPst92BnnNsFhoLIJXZUKBIQ3MnMlH31W2aO8HN6gqn9KyvYnUY5N3trA6YoXcykc99wnbi9dvPT3+9jqsfw12dQtcJg9BTbiAMv6MQUBcGAeAnLIY/eyacMHSb5EhrU1DEpxbuygNC6UqyAPNhzVkRA7l0kYBr9gHcA2AcXAsVpGumATgdpeJAFzmhv4LZpRtCtjh0ggFluTy5StWlIStkdOLY82K0oA/3nTianNCDxMCdYecA3GbQyN/ECZvCTukzLFKPMB5tI8QoGCcNsbRJ1t3iMut1x7z+GNo4ItyhQJx5ujlIPDZ9dermEjvyk7qHSqmSVllXEO4/b7ma2tH9hQ4hIOU+YyYcRs7+6kfLzMLdAdVdCWmlcR04w/yj6wV7S4r86IH4vIC757g6eR+aPUEa7p1yV8rAPVZklUdoAAAgAElEQVSOG2K+FD6FblwyKVCY60YA7ipWcRkJESXQBYxC1LGMXlZgZ0KTD0Wu43lZzvJBVCFe96C0FFFZ9zsqohQ+8QLMusgJbUeJBz03HQZ446D1ENrCyhSOuJ/BpIQ9x+4ehw+fhnusbxkkA5P73RGSNbeR9+HuwBSa63vs6JFCcxjZY5qzZOWptodxQUpucYtut39pcAiBlu50CAH53KccM8ZxPmc6kX8Kd3W0JeS0gW6h9v+mSgXCh0vSDzSpx3BXgeWjdwFEPFY1B3eoDx3QzAa6qXhvYxFAfmikbqA8B69xS7esZTrI38QW2BmsWjtMAO54zRL9SUZPA3FlSlemF5ZlmwUEIcQwp+fonMIulYa7/lahB82giDLTV68wsj9k2HM/Mt0Ywx2Ij7dMwiDcEiuE7jSDgZ47+nntw11lZlgl3FqU+sLPcUFVr3HrmSG1cUsC3IB4T6HPiwv3b3+BcG+l+xtJd1Lu03z/07QLuKNWbHCLCXqf515ilF4kQF8e7Qu4e3sfjyuN7KPeYD8P99SOdJkQVLFtipxcB6O/sTUgXoQeGqjHzCFRCJBnumWsBrCpqwMcMovzoRxXdY1WZD4zq14dZpzzyZwwMmjHKPfilEO/cYSha7S3TNvCUDyDnmOyD93NL+DuwTXtRpKVg3MDQ2gnejDQHf2ZDZS7FzK9OMEtGCFOFkxUCHfdHM5p3h7j85kosoJ2pC9st3n/0qx0f3rKaTonn/t12r/wudd+B0ww0ArdoD1+JjDsG/rc67NbUHIakM+4ZepdSgxA7pj9PFqlojbVyr0WqXozJ4DewNk3DetQQcYaco+117F1hpvW/Q7uo+EeYTap++uXBu4Yi2hBF2U3QOYPCtfJPnD3Eu7tLTMn5MDc2GsEVTwupA7g3q5IYL/x5nNp4N76dIIcOiMhA31H/1eEuz6E4OXp5eWN4E7KfRm4d4zRIGPoYgiSxgKjNAdwd9vpoPwI7qFbr4FqBJpa+nBvrjV1oub1Tm3Leo22qW48CjGYdIz6noQ7F91OWE1Ug1keCVsU+zI7xmoK7pFly2hfJqdQTcC9zajvGQyn14hpkQ997s38hLPABdzNUoMTJGnFJkJPyRYR7vDf462V+yO9TpV87svCPRnBPXc8HZdXW3wJ9zYy5hO4N5MAhj1OwL2FLopdDXfX6dpVWGUTfDMeBc4cTbd09XNw199D6py94we4nSeBjnb0puDO/AiSMShTu2AulHsHd/PdRTfSZjB7bwdwLz+AO3bcBEo64Wnvk3JfGO7yJu9fmj2EgF6nSsp9RbjHKg7C2oLwyMZumeXgrjAms2058Wfhzr4O92AK7jJxMOo8PCbhhFsGeKwj6yE5UJ/B3RvDXf4p3KEIL4//Ze9qmBPltTAIKAIDtKNo71UYodo6wzgXX2f3//+zm5MPSCCo3W3fpu15dnfWmoSEtH04npzznCXEvcc+qol9MLc/nz+n/tI16V803dHn/u+QOw0l4VoFgSWHntxH7tN7yV0swwWhlZOTMRYUM09g5hFyl50tnOnHyB16ZoJD18wtYydbyCfa5Fai87lT37x33OV2qPe5dzY3tB9CdoPiAJud0b6F3MEL5GSH3XYZ+1NMY/pgcjfGcG8lZh4e8PuClvvgJ/X2z/Jbyd1lxDlxaZalHVr2neQu/PDHey331pkugk2YS5yRpGtR3ZYRcrdZ0A2/OvekjxyontqSGXQeCIUMD76/PDhJYGXBgNxdC86CVxso2Jcl+gNVkVAFzvZVFiiTQBwMufF7yZ1usxPYthWSGbd+fMIspo/89Xu+mGO483KqLyhCgD73AYJ78FZyp9HmOyezIYI+XGfJHW4ZCBChcjVZWEAE5J3kDk51CMVPeORMsIxXRZhBeL5lryFwZJTcGU3D6MzZMvLUk3vS9bQgJJOf0k53LPaQWP1LGo+YCElJpqZ2os22Q90ytkrusQeRi3C3DuFtcpOUv3vLuYvcYTooDrhlkZBkj1a90FPEOxvuAZP6fZiZgYib7pmFbne03OUPmGV9G+VNbZmB5Z7TlKMwCEJn7S03oX2D3MFLQijYAclJm7DhveQOvms6yzammUT0egsbrpMQ/j3SJ43e527Zy9jfsdE7SJYa97m3PWlcIwvBoZ8UYLnhKY6X8AQEcif8HCZhPqGaDGIVvlckQZ/coSYIDC+WPv/4oSwHzqBvk3u8INM5OS0OSK4HQp3Oxpui5f6Rv33JqxlhkIrpjvph6HMfkDuT/L1uGdS3yD2WyJ3GjrNc+qdDUayfVnF8ldwZ8wIr+6tdXuS75XR1i9y99kDVi09rMssx9rlTI1iADhi5zubo0yGjB6qQGeTT0VufEyx1qQ/InfXckp4bQqxLGjwfrmOy3KI47BZT3/dIG89kfVqvT2RzQDnhia5iSoh8l+V9cl9N6SpB+eBIJXCk5Xh+TLUUrpM7eebAqtbb1SEIjrDfZPAB9hszVD8UPH8pmpkClqb6gKoTaLn3yP2m/RHtB+R+vG65Q7DYUzwlfAOxgN7GueKW4YGAhJVBnGu18qaE9bwpT2KSyV0X537axVMyKIZZaE9e4dqj7y2L0Jan6HP2zhdr9Bl1jlnuyVMcQ8+YTLNgwmFU5osud3Ei0/lQrwQEZWIIAt0lIfkEQRgc7gZMd082plnY+hFW6U1BdozdV0Juu11OYvMD1YVIYuqTO9sI8kCYggiBdZzSwRDBg9EyH2q4N2YZ7l05VdQPQ597n9xvYUjuySleSuS+EsF3hNxjnvVpOxsaBO6vjodBUlCxirftQajPaBlkdUFhMV6dinwlVCHb3NfwGHeWu79i5H4ktLZZ0IjE40FkfAbkOl4MEd9bO7QZh3va+BHbORwpla6Oa86c9GaGTg3bWcPdxB65mQXXnwzZcpdbNwOpRjbD1osJ5W+LgPAxXQW5G7L0WHli0GiZXbJd0lU+BWIn+XLidjkgpsAtd8/n1VnlzQdVYTLdCQKUwh3dbxiMv+MfCTMUw3ThkKgf9o0s91HD/A3RMvk9GP6AF4VUPwhkCbuGNoknzDebzbpIhj4C7QiobrGGAU4g2uV+RTdlOwTkF8PwQKaRZiHXseCtte3wMJ1uUf11hEnBpmxHy1MqzzN6NzmZpshZB9exYWzmWIENs7Gpc3YHcLwaHNhrK1iTbqpbBjxZCb1dt61vQpbjsOW0N+MKecpM3TExwing3mmxENcZ32/EOxrupWmGuxAhQP2w72O5U9P9r2uo/km0DB038kX32raDJEnCQFe5VL6mNMIKyQioWifek/rpXtJjTJcNkmah1wGVFVe3WmWjhmsM9J3J5wg+TduBTgNxni6UCKRvTeyA34HVLoy8Dp3+gSotthrw8fJyejcj3ap2j7vp6Aod/X4j3gtMeODFnFAZVYTgjJJx38Ut859rlvvVDhImEzibu/5n+DPuquXq9A3uaL1mVxkyHCDek/rphrD33OEsvZnd8R/5wRpH+7rt2tyOjPlbXZ1reTHt694UIkNVU7O7vxy3u1X95vUKgWN97B9ouHOvO4gQ4Ke2b+OW+aQMVcTfMoQkP4D4cob7g2mGO+qHfR9MguJ/AsHkTzogPp3csRbeV/zOgWIYPU1NDSN31A/7Puz+XwE9ddtdB9wtE8l9OkXL/Qsa7s9nXhwjNc1yR/2w78Puogze5E87ID6RI8L1YoHiXl/wqfxsqOFO2Z3p3eB3CYH4TARhiO6yL8jtTDHMPMOd5hqiCAECYQJPYFTLF/zEFXDDfWYieKz7Q4bfKAQCgXjLAzm5XAuDTFN2sqk77RxrmY0khcsjU90QNN0RCATi3Sz3a8IDkUCPjdPRFmWUCrVVM2TEdKcJVqgfhkAgEG8x3K8ohkWzumwuBM0+jQYtr9oWYP5Sj4qOTPdwyaaWdVujinaox9gd9cMQCATibci4ZazTyC7zR4GiSWX6l1rysk/v6aMeFekXtSPPddSlol5YhxHpX9QPQyAQiDca7qPCA1F1Vqg5r3mfdNBSRerAYozc06iRvt5Hgtv3/Ov0ypkq6ochEAjEnRDCAy+aUJkq75OzMLUH5F2oJnc6Ru4zzuL9YeyCzVicPV8i6ochEAjE3xvulwE557zTediiPhbGLXf1gfHKpo3Ow2vopH+R3BEIBOINhjv5O+T2vYadqW093nLb586G5vu6ZKY7DYqMSuVzwWjVDhQhQCAQiDsN95rJuA8M9zR6FbRdV3V7CFrJJj1t4UZ6IV8g3Zf7suz+8QHlrKNxmdBr1joufpDycqqoH4ZAIBD3cPvzmTlldMIDnM/LSD4iBQYWrpV9RDhaahmNc68LMZYdp+ZA13V3pEqvd76j4B6a7ggEAnGPVyYUhruGTwvJmd4GuQAFV/xllMoW/iUaZq+yV3XruNGRu7h0dUs/jD6G8HuGQCAQtw33K8IDlcLZrZ+96rUIh7nql1GIOefPAsW7Ll6JK5fXFSmrCkUIEAgE4k5MuGLY79lNy73soiF7lnsjZSjpgtQvUtSj5kCVcf8luiH9O+elojIL3e4IBMII14dtKrLnV8rtL9VvHbXmUqJRF8JIvhSva8Ub32Yk9c5ly0clP6kfCsm4n1A/FasZ0SEj888r6kB6KZ8zYzcUHzsIxE/i9sAxFgGvvzSf92UbZYu8rKpq33IynIry4JdMbdGSu+D+c6QLsCyqNjWV9KzruuprIIiFVfM5k5h5yAzeT2R3BOIHcfvhyVTsTr8oHuqas/yDQssdB6vx7FGtbdF5zdvj1jaGXZEfqDn3EwN+f6Gv8kbRqUkjsTKyRrbaf3bGbijqViIQPwe2s5vG09hITGMf/vN9+EfhSfysqsAoyUptCLwC7ZFoPQilifaycBhLTZXnUnVqIr4yWKNHlzs1dDfJwtZ42otA/CBy38SMlMyDJ2hTcLvvq/ys6A80hZSJqugPNKPk3npwZJdNJ/nbZTI1Izo1qUTufJmeZ+ZukmfPGqPwEYgfRe7+cnsy8M/xF/dzPPzDPR6/fvU83hLnNpVM4anUUtaj5C5cO7muzEcb695Ifp5+5EzEF/ZCV+nR18etgbu5XfkxkjsC8bPIPT46iXGHf4lTslCZ3/N5d6Ca9sm5oT6U/FKLk1CeiBrVr6zltW0ZHqi2oTJ9uUdRZo+npopoyct5GFQpFgarnEOS6sNLbeRp6iJGyx2B+HHkHhoXvpcFXHggAtL8Hc103A5G9qyq6yptk44EhcstzeOo7ld+NUqyEVKRBXe280mkzwDpTCb3iosQGBgOaS1itNwRiB9H7uYdtLnPIn+JkvuYXlcEx6eK97watpzHMlSFV0afvNqmpvKsKErpuSQErCYxcdOdFo2CG7AmruVODPnrugFa7ggEkrsByxLCA9X8CrlHs7rJIb2I/FW956TllbdEbcIqa6iqNOp5Zc7RuCzBpQ2tBMufPSg06aqc3I0VIQByR8sdgUBy/3QEsuGuJ/coLc/UX05VHi+yoHsltYjIGS71noPvvFKD3LUVllgjpKZGrYZYOuPkPma5z3lNpsy0iHK03BEIJHcTVpU0suGuJfdIKLU3VZrWZ7nQnmgpq7TanztFMVEKta3YlF8JkpSqpopMJuHHacbJnZvupWk7ipY7AoHkbgIybgHPr5B7JxRQFEqUYisiRli86FRiZOUYFlMjSqnqzlMFoadd2b6m5vlN+1G3zHwesYXnhpnuaLkjEEju5hnuI26ZYQ1Vnl80Vl21ExFjtnd1RS/y0ln4qfS0kO1+Lbn/Zvphe8O2FC13LSYtbrTjViGQ3N+FiHLVcB85UO0Vs5aiHat+S1Erpjp3wNePj/o6HIOqqUrG614nUjOXTXdC8OfQsD1Fy12zKS0sPX13HXDnEEju72G476X8pXFyj/7P3rkwJ6szcZxIvDRB0DMoQr2MUq3OOFo7nen3/2ZvrhCQi23pK/bZbZ9zaoCQBP3xd7NZ4qxCX6bZv+L37JZY8fjDvAtox84qLomR1L71kWPeLS6FQfEJ3D9FHrHX4wtuF8dAuedVOdlF0Vn8RudCtqPnc7LDioB6BwO4NyXcnadquPOp0xTiy42Rr9Hpb5bGlr7W2grSks+J135U/J3AfGpqrHORLbfFcZNPeen+8dKuQQXlfkX35/NQWDQcnp9RAdvfhnqHou1gYAD3L3JIrF8aG8K9HO5OP95c9vuPy+aYy7Tu9I+by8fVltFmv79oPscbYdsruMsNceaJ2vGGn2c7cvo1cP+Ut6YjAeXecrhbJOJgF/92V/TuWNMoZTvodjCA+49bRD+MxAM1cO+rJF/Xz0galWxRRZmDS2otrK/0MXupxVK6t2olEyj3QrfLTqGd/ZcUOGXEVrY9AqcMGMC9CQxl1i/Vwb0/kuldCrcU5qPJPM+pX/LgPF5pUX39G+CerGQC5d56ur8pt8y14yV1ygyHb+CUAQO4/7xB+TDIOri3wzJwb+FKJlDuhY4ZRM6K7sNol3G9dCwUDeUPONzBAO5NQEitXxqPnx4X7lq6t2glEyj3YrqTVaTnVLOOGaRnW9kGZIFTBgzg/nPhvrkW7g8H90/Zh2OLbpqg3CscMxLwpkBPyqOiuVYwMID71xm0FDlzs8L94eAukxDwlUy4NQMLyr2E7soxE3HHDDKdMhAFCQZwb1K4X4VBPiTcP8WU8OuRtAnuoNzLHDMa5ElMjBEpc4ZAGTCAewOtoe9XYZAPCXeVP+z1oy0jC8q93jETJVExMkZSAh+iIMEA7o0g6JhLPPCocNfPZEIWbsnIgnIv0+7PScTMcCdIzv5FWrhDFCQYwL0Rp8y+YDb1MeHesnBIUO7lcDf968KPloS4g8MdDODeDIBkGGR2/dKjwr1l4ZCg3GscM8rxzoW6dsPz3yk4ZcAA7g0AqDAM8lHhrhK7tyQcEpR7Jd3PpovdeAlOGTCAeyP8yadxf2i463DID9qOwQXlXuGYET52od3Pz0rI1yxN7aAO+4WxAwO439IUepRi9/NvwP1Tzqm2IzskKPdq6b7TK5m4WNekj6zSpakd65kZ+GzAAO63tOTlozAM8mHhLudUX9uRHRKUe6V011Oo0TCK0jWr5UtTMUHn6HwGjzwYwP0mU06Zz78Cdz2numrBnCoo92q6d0jy4I6zzjZT7nDXATaQdQYM4H5DQ4qyQT443OP2pJgB5V43PqtIR8wkDvdOuRvnLQ2uAQMDuFd/uAqTyjw23KV0H7++v7RgfEG5V38QUseMwnvF0tRk3ROEwYMB3GvboZ+tF/8luH++qjnVu/tlQLnXOWbMeMg6UZ7sC3AHA7jXNYOWz6Y+MNx1ipn7z6mCcq+lu0jtHuk0M5XYlm4ZSE4ABnCvR4+Fx4VJZR4d7k/iuSMtmFMF5X6zY0YSvnqqtNMR0v1MYNjAAO7VrShdm/rocG/LnCoo93rpLkJgopuevtSxyNv5/EYgWAYM4F5DntK1qY8O97asUwXlfoNyPydTqrVTpXIRU+dR2Y4x/pPXEP/Vjj0w3KnM9DuO/x7cZYqZ8fje73pQ7rd5ZaJb08ogZveH2bfagDChpCIXNf6FnuH/w2ghRAixquZKEP5R9Q9242gD3JNMv87T34O7dszceU4VlHudU0bPpyZzqtXLTzvC7t1q6tFvvBdsstotSekjIDHxPNL4+8/zfp0j1JvulqjiPKxf+PtvkJ8c/a/CHZOpCnH//Itwb0fuX1DudZ/dxCmj/1ftmCHCGpOcGcM3X9SFf/rGHWHtB91gMs+9G3Citea+P2v26b/IW/v+L38CkDfj/QrCfL+wHq2d76+/izpMq49uI/ZbAHfkbStnU78I91G/73ATf91kcvfRb8Fdz6m+3BvuoNzrnDJRuj612jHT6ayENXRxPDtjt4IVk0lv8vWP26Ln9ly3N8986pFFEiSEvdzGBjDDTrr71cfFs3uS2+P9Wtgo4w7St2BEZ/mNX/pawI4Oy45GuI1xU/eHu35u6nj81AjcnX583G63x5j9ZVict1G6P999lNnbkfs0Ancd7L6/5yiDcq9+E5Jdklomcb2Xr1HlPhxmDeWWwWR9Whh2mt94ndhF7fnfgNQgCOfzcJr1WFhLrJGwdge/APfur8Kdff8P3O6J9StzGkzs1ZTonnfd8AdwLz8aU7qaAtyLrDLE/Ytwd+LL8j9p75s4Abaz/S9vW7VxI/dfXgy8O/GKl22cRuD+OZY9nN7RMQPKvdInY5FEtK+IfgxTeXYZkYmmPGAS32LG2T2/l7FbCcThPvk6Zl13bVPPztYUTnySKPcHhLsA2YL3y/yUITI7BHM5nBzPvZ/AfVB2NKJzP1i2zyF/d7gnIe7OUxNwv5j8XmmAj5xNCdxH70nBMr0X9AXw35txy7Qi2B2Ue7VTJskJ+facPkC11DGjZ19L4P5yi5kfgYMbTHzfn8ifya2O4e/B/dALVlY+1IdMeo8O99B15940O2PBvoX0er8Pd/vUA7gXjVlNiPuX4G6gWtrFUXC/lMDdPGAV9zN7x05DcNcJxO4Y7A7KvZLtO+1qj4gifTSscMxUKvcOuWzrbZOygMG9N5lSkljiLkYY5yiMZBk24W4WXTc1WwmaUg13U+Aiizt4xGxuAne2R/bkRe3Rbbp6kd3ZhLu5u1GbOCATMKlLinuWGQnWLy/sDeZkmmkf6+2afU+hU9EZT8JdHlde1fWJREc8A+65zk3pgsHdCI6trvCfgTsmx7rZ1Nvh7nxcIXzjjEq2MLjnBf1einnlw1GHNgF3mUBsPEZ3m1QH5V7llEmevcSfz9FR5JYZZjpfVu74ZevU2zEPdwvlPDaI2B6l1PZSSGDs2azIswlK4I4t206LricTVCUq/Nu2ucq0stO2hL1icJezuQrulNi5k7OqZFFunRCfDk46g6l8oc9L5fEG3PUeujm6dkvVnsSp6xK7KHId5UaCtWHdG8x4BzxstozhbS76RaRy9yzeMLNSZHnl50laQQzlnuscq5zBfSpHL21bSYX/DtyTLO7O08/hXuBYZ/JbbnsvgPtIuV/+e798mDuPROmH02/KLZM4ZjZ3G2hQ7nVOmSjJ8mguZyp2zFQqdw73UZ052zzc89/qkb1aH3zfX8woSXBP5wtWdFhPxRtJwJ1a6xMrCpcFLgOM7WUoKpkTce1RuAgnbiDmbfW7gXWGvQpUaajgbs/4mU7z9OTelJ+IVUUz9xFMwsVip/ZCrIHsBVLnPSxmntAzKdzFHokLgzVH145E7SfVUKNkja/ftogSORKs2+xeg8l6EbI3+IH3YJ20mLLSw2BwCHnxjki3jGjYaW3pSnVVpzUq+HTyraLXOzuBO7symc6F/NxdORm+ImaFd/683Rfuad6Bzwbg3tfyfLm/7PW0qmK0fHnZXDabi/yJmUSP1S6OkvDCVePsTR9NM3BXwe6v7xTdD+6g3EvYnjjZo6mCdbJOdVjomKlV7vVC5FgDd+StAzm96h7UNkSXvivL5CShiJZZqtnYoMhTT0Ndib/jm1GX/dkdiCIdFYjpju/QlVUHhIdCDmahmzu5Nw9Ukb8y30cicvKk7yxk0gtWTCTr8w5OIgTcgDv7qzfTTdWhnKz2ia59KW9D3kyXTHb59y2iOz0S3ZBaGNl8EFS/fC/xBfHSQVfuuPYIh/u8m63UqGoyuxrBdMi7652CO/bSzmE+OEF67h5rfHqVJnf+wN0Z7irvQLVT5la4yxAXhnAeud7fm9Jdblr1je/FqdQ/Mg0/WkkX/Ug7ZbbOqEm4f0rpPr6nWwaUe7GLZRrpZ3QonW744IfnIrhXK3eyfL/hx+Q4g/vKyqxg4jOB7sBnypNhwxd8ZfUGPTc4hQt/wH0NSCp3RlMmWNnV7V3RXYS080pOE9ft8quPTv4hcLs+N707q5e9YspdlC4Erbs+o6w+uWqP67oTURVrrHEnYmPBjpW3AMbogbuwpzyqvctaxY8/iZuKAfdQNkXC3fUtfRyvfcFqF1OTfP7SdVXTg1xSVQbkwNUj0TtRzG4m/mEyGPj8W0pIk+8asnTCS/0Z5VX63d7kFJ4CXamsasKrctkHJDeCfMjViVz3FAi48+FhIygHR5DzxM8ix/SwIuIq8Qr5mP9uaH+r4a6dMuPxUxNwP6oQSKfPvvdqsS5d51KiL80vxinc48QVw+Cu7gP7r7G9Fu46gdi9HDOg3KudMtkc7kZZoWOmJlqGvtB6y8Ed29QTJnDA2TYI5tS27VkwcEXsSodfwsPU9my6ZhuXBPGL2mXanTvQQ1aUU//8BqEqQQtGsCnT0JTwaJkpdxkby24o9dh3AF7ISgXc3f+xdyW6beNaVKokR6X0JKfQYmW0QHWjRkCgPhvBzP//2bsLSa2xlDRpMHlmpsHACzc7h4eH516mtWx8V9MyAgjuZCjOm12wGwGGaXVormTBogMMF16+c4EGw4vz1CVKMQL3Xc8ymLmTR92F2kPLKACACdwjJOXYXgsYOpGcbADODkXuUHVQCNbcxWhc+CiugwLnG+fUCYLMhvclkcu7DZrUzuQZDKb7J9vDKa9wymHfwsexXh7IweEngyOBOS1gv4I6u/cFF1y3wDbsNuh3NP934K5EmdsVUWYjuCvJ/US4vPcfel3GZ9w/y2hUFY7ak3Qp0MBCwEev5f7tIlS12f0jhZkrc78syoyDlsj3rm5Ubebo/rY+dwT3ND9wyRtBDTRxcEBnB1FmVFAwAjOIQkGPFbtdFhK4B7Hp0UMts/lRiYEkUyUGADDxTpsaq+j0dthhcstwvxjcc25cogNFmJLTxBTh5JtEJJsgBJcABH4PYK/h92dBwHT3ErgTGS4s8p/QOEKTauL2RAy4P/E3Qq8snomDAzOA/hVyy3iTcZlhTdXRuAjcCwu2SEkIaxUsdjypXJWNAQBjryNPuRByJiS4q8ElanDQClkhuW2721EbpgcrVvzpZBlza8Gr9eBnTZQBZPRfD+6A00pqATr++B3KvYpXYvlJRTAAACAASURBVEg/H2/2DxLmpfj++ELivg7ueKbK6SG/bJwd+63B/crcn1PPlcW9d1D81eiLO+7mWdtXmPuLN7AtoCkXxVLNsKo98iLiNr8jcG8VKgIr6g7qQ62thCX6OTQB6Hb0rIFgSYyYV5L53TGo3g987gEL17aREPzawJVhc0FfywSo6ziKH1h2wFoKe80BCZs6xM4nymKyxtwj2E3Q30WCwjgMF8E9sjwEYpE31oxPOyWf6iYIyXnIasncnW8yc1c+d9rdmGrKoT9yq5HQAohNjv5CaE8i66TVk4dS8ieTeI3DE4GjUz532wjripaDhPZIH+l+fw9w90JvU7GkKOOvAuPXi84DHVYq0dwnbN9XWnRXlseTjEb9VqlwVDbRVOdSGt1lHSeJ7SOEv2x/+LoF3UmYsbbNzmvy/V2Z+4uL+KVuxR6q6+pG1bvli1JXmPtrwN2VRUkQwJBhw29ZodcwuBsmIGHvIfQUKDJQL8TYKKjtdwf40mfA3ZiAu6xKOekZx0g48kIRT3UZubDooCpTeAl1PtwC7kT4OylLeWHMEBsHbtcYUIchxi5PFHE0CqNar6XwZ8C9HgQxqdnl/mAzuIZwyxY5UoehwzgeU34h1CCHg1sAdzxwteHDsywhPiG446FNG235+dtx/saf3yyKZe8ldANy+/5RO9uBhcuopLI3QpaP/tw8efIZ7Vm+kb/6ncHv9pMH60TRttkp3vJ7cWXul0SZufyivO/K/P7ezF3LModGYaxtiSbPuiglKqskD707VtBram1kBu6DqFCNZhuZu+KrHoM7gLQbt6rAJmD4TWJ+L4Z9MA3LaOqsxc6vgjsuHUFfewxbDNyJ7ILAibssr8IpuKvlTp0yd9ZG5u6oLYeaDhT7hy2n46PiJO5XkeXBLYG7GYZVnhVR7ASfD9xTyjq3oQBRCVz87Vz8wZddKrf7SRhq9fTwVA0N7QsxTGx1VNoNyzN9aKr/eDqX5/PpsUf3/a17cSQrg3DkYAM32FYGNO3K3N9Jk2H15W4pw6++AxtfYEww/O2Ze2zDdpcIpM5haGYR2fYCCe5lOj2fG6QfWAT3QVC8xtRtzN2dgjsqzoMylS8KqDxM6FyRtZ8ki1XnN4D7wR3VDgsF8N+arZBu2jXj/JUDkJYy/3bmnk3AvUrdYNCyM5wZE8FdYWM/waPBzcHdNsK8ZdfoJwT3L7HrbEF2h7eiEhovlZUXaH38WC1EMZGpcR7DpAzwfV6Cpz40taf9T3styty6v1nkQGHcG6bHYYn0ytzfE9y1oR1g3BBTUv/rP1qxmVD3t2fuMyuk18Toxo6KOk975m7NmftlcNfRRYhmh83MfQHc3ajoio5K0dWjCmxWbb4AFrKAFEKfofNtkdfbwB2+7YPaM14gzLyIUheYojP64tpa6za0pLOZuc/BPYhVy/C7GMaQE3Nvp8wdT1R5cHW9qLkbHSB7GnXZIfqEskwcOHW+WrK/f9LP43q5f7y9VDS4T1SWc59nQKH++emp7OUajiaheKfyCV8mQ1OPQ/1Go7t/sQ+bhsEj/llsmB337cH9ytyNRfyW0ssMppM7feneRJh5e7fMxIRHmOW2eeJZVsLgjtpH1Ou63gZwH8AdYXq5WXOfgjviaWaptPPhIMR/MAJMFYxOcUTfwOkO2PnmouYuj2txU1IMa5fLV2iJ5JDFbhAb07kZEeri1cwdDzLaYSr9yaz0+fLViTV01glcHly5AO7onAniukTXaPs5wb20wpViMWCvO2XILbPfH/fH5/7bLycgePiuQXz/cEZ4Px1vfP/mvhq5am78PWZ39/29Ck0dizgqDcGe+vBcFzYNQ56p3t4aa9NjHdwrc/8zgvvd2OK+8PTdDMVXmLvYkBRSXAR3EjoKyxM2mTiImgLOptIjYor6sA7uIdlaEimLp/Ks83nmzkr/ErjLlSWRm4vQmEVL5YihEa8+uGVwM7S6JGL5QJUT1pOHkmpHENUuMZndIKSUXcKzzChwRjGqbK7hIZAfsV5n7ra5CO685hmJ9AFN8vNIT4205XQE7sPBzdwysGbTmBILPrgk/KTg3ojLNr/kx3cOTb3dBIr/+DerZhlm11pQqU5+D+438P7jPUWF7/UKcB7kb/f7fGH30xQ1j/66W2aDFXIYyvT4Y8UG6eVX5v7uoowwAZ7Zz76c3hGIvXx6Av4rzL08r5dZhOrQIcuwUhHoADztujCx6ZyzsBiFKoAV8rlfAHcKDUqrMJGGcwlEF5g7Iau9AO6E12i6JOO5mVXzwEtgwNApSZIBfKGXstksTCSYCso5SQyY8jQCXrqxhFpEaBq6yEqqPYs86Sgc6jhqS6JngsbINsw5uLPHBRMBC09nhRweNqsoApMjCiaXC0pDPfeicejdvLLYanBFmGhwh9nz6OOi4XHX4HP7fOB+OezW9J4kh/1nG7i/4CKm4/3p4YRWdnVYetQIPnbVlGOjuq9CU+X7Tsfj6ds0WHX/ep+7zjHzc/26bArHvjL39wb3X9ops5gfjBMTLL1iPbfMauKwaW4ZMRIH0FXt5nj1BAZ5ok9QoAIcAGeETR+SWQrNuQjujHdRhW+wasd1yud97hTrijkV81IsgrvXYMQsNe4VExFcNpUqoko+9AN2PqwJET3eieDb2W0eU6c8aCdgn3uZBg7XHmY7J/cQ0SlwFB5JJiYWDpd1a34ychV7fpa5dzCuCjYLc+ZuE1q5WchzBKvOpAJ4NuBny3jHQUyhHlzuYNsU00sXoMB++yBwD9NRdRXQqdS0PpC6fwi485XYG3LKvBzc9yp9zI06RS2Vl+ZGpwI7f1u4i6MPTT0rXu+fN9/ZsRXcVY6ZUph/HNyvzH3yJfyvLstp203RLL/kzbNCBmk3KIWJTkC6DK9ug8Bx4zyvBGkfblTneRYzDR9cs7d4EwXGnQZpgbW4OkPAIrgT2KVZ1lFmmHoG7jZnVGmx8SjYRckkdzXirauOOQlnY7zJL9q5TgCdT2xMDhBnWQtfQa/Vzzoxy+mcSUfVHsNYKalLXAwGO4Vsfjk8GZmG/dwVI6iQY1rILE4rY3BRngZ3ivQKcFJxjvT580BucunZIt1FMYE7Di4dDU7gp+U4RVY4kTAqvu2vhnc4jpvlh49D9w8BdwpNXU/0+6pr9m7uT4Dr+HMcaOaA+Y9nTcHLqSzT39X06PdpZqQzclMqgq3gLgNVfz6KK3P/8PKXLs+S++WXvEE+9+OYuQ/9eDsHsFN0O7rueefWAIa7HWoIZEKhB4NCYNhof0H24u3PsH61WHFAWQ0lrD3D3KuU+xCJ4QXZCtwpF6Ijq9q1yYyakG4TaGm8lf1M8wjdLpVA0R77DaRGVLEaRV3orJC1Ix/cUdJJM+TcivSPBjv++6CUmfRkJGNOl6/1xqwE1Ocg9wZT1F/YPZjUXdzMU6/lqqGoinn1FGpwDg3OxQ2RiLgVXEJyV76jgAXtN67k/neCu07ivlGU2X5ZB9+gesQsj/p+Dkoc5h8fyL/OO+LxSekwvBUPWd8X3L/KPcvFDGJX5v5HdJmByL36ki/GVs3d/vHSm5i8Io6GpaUUX3WUpmncNVYJ/xMl5HSpMnqwPVgId7ACxJ3qURPNr+fDBPBtDO+ICpXuHRtr58d8ple2WHNBO4Q4OqiEuPBq2YLVFDE1XntiIcH6IYoLT90QJbjz0OoB3hNxZl14pKNO2TyK7mBlqv+mVRb0YFT/j72zYU4U2cIwJGSN2Ilg7bp1zS44IMFbRd0ZKGry///Z7W8aRQHFj8j7JjuTlRYBnYc3p0+fIxak2jP3Bz90Omy+1+NGD9cHQ3mvj7r+Vv34i437h95VqkvERweykuVSHM6f/2mov05vMvys2WH9lz977+R4UR2bjaJvlktvwZ//E684c/+l4/6ZjwnuzqZob4l9EtyTUi1GIsTLjZK/Xh6KIjK8B05Q75BthGqKytjzemPl4GGZqoJYeeSiw7lfh+5KHcZYnZ07vdb9smWoGZzNXPPL4n02ZsswtJ9ntuvSv0XhXfeZ/hwun9VnxzVqINbqIapDceZzupfQNRo1sQqJTw0hqGc60OIhYteoWVm9gj17ttiLz58dp+mkWU1EHQ/iB2+x9kf0gMWzZ/S5M7mVnQU/tWrv8tTmz5LktkXPMmQ7afrUVsP1wZhHbR4YG7icz3cvkR7NdrVkx9bc8snlZ03/dOSz5TvjyJOT2e3PNntfRDsS/jM9Mote+6U7pglV+tukn3bPguzTiUktVQp3m3XoDWWelzsdU/e6pkrLn9CbhdyDNyTceT4ki82Eh+EN537v8fqWPHe79av+m0BTDjwriOiydG/HMdqqOvJB/URzJ00fJVYO17XstnF013rcgb06clfNH6Kd3H1H7o09pzodZ+cs9vbuGnu3j73e7pU4eF78CORuzZczX5ntinruA9fF4huNp+yfnBglj8bWr1id8kjgbs+TbkXc+zv3+ECbvZ1WqYv9FqmZ8ZBKhQwaHf75cNf5kLMrwx3OfTDLP+gK1cNvmqJJvTyv4/Tdi9Pv5QbYV9PBt96J9vZ+/OUGPLHWF+rwzjSdXt/36pvDXQbcU79zwL0z3L0GiIuGSiTfrz5Qe2a9a2pQW+c6mQwM96m4tx0Ju8O5f2vnDkH3oGvD3d4EvYMynZ27twdx5br3NpRmqGW3a2pWs/5kcLh/icBMWm5sOHc4dwh6BLg7li0nU8l0eLizkIrpusuqqCNJzNphYdTQ5cPompoF9dLAA8NdlyE4FHaHc4dzh6BvBneZ4d4n4N43z30bhItwEbB6vUZYnUxYFd+Qgj0odScmCeaSrQfPa2nvEStGExaRRyYXgLsOu7tw7nDuEPQAcD8p4N6v/ACrEyMrge1WCyCsRJjnTXQP1WpV64SQScNYQjqvjO0H9y9xFQ6F3eHc4dwh6DvB3RYZ7j0D7j3hLmw6aagDw6dWDxQt8JrHeheCuw67bxsvPZz7N3DuKzh3CHCv/M4pAfcT4H60+MxF1BfuqqOqHzRNqsK5371zf4NzhwB3/S/Cck8KuA8L98mdwJ2F3fnVaKr4DOd+587dWv7ksgB3CHCvVi+lPQPuDwr3L//wpCqc+73LPVpwDIJGBXc9mZp+TQF3ManKglRNk6pw7vf/D+dowTEIGhHcdX+OvpOpDwt3FXZv6NwB5w5B0DeBu1yZesJk6uPCXdZ299NiZsO5QxD0HeEuey/5XZumjgPufC0TA3yw27UMzh2CoO8Ad5kok/p+/8nUR4b71JfpQ8u99l5w7hAEfQO4z2QSZHoS2x8X7l+yQGRWbyQG5w5B0HeAuz2PhG8/ZTL1oeHOVqrylJlkc3m4w7lDEOA+KNxVz9ST2f7AcNcpM7WESDh3CILuH+72vJS+nUwB9wMrVesJkXDuEATdPdxZtTD/9ESZh4e7Kv9rdsyGc4cg6N7hrhPcT0yUeXy4T33h3f2K7nDuEATdOdyrtnpnsP3B4T5VV6hQFSLh3CEIum+42xu5eOnUJMhRwP1Lpbur+r9w7hAE3TXcbbkwNT09UWYMcNcVIhXd4dwhCLpnuNuunZ2ZBDkOuMvGTNq7w7lDEHTHcKe+PRvCt48A7jLdXXl3OHcIgu4X7oP59jHAXVWIFN4dzh2CoLuFu+HbyRRw7+rdOd3h3CEIule4LyXb/QHYPgq4m959CecOQdB9wt3d6DyZ89k+DribcfcZnPst9dRBuErQSOH+HPiD+faxwL3y7sUznPst5bYLFwkaJ9xfw2BA394X7l7tr/0Nu1u8A8ObHroo3CvvXny+w7nfzriH7VriMkHjdO4/hvTtPeFOCJF/75C62kB2ntAwnHBdGe66q6r/7wuc+63Q7n6uWvX28wPXEhol3OWCy4HY3gfuhGRRGVAV28Qz4Uy8JC/4hjLKDGwTj48v8qyG8rykyq8Nd50zk77Aud8sKPP51i7AHRoz3M/Pbz8B7lm50Aoig9d5UG1YFJrkJNGPlzoM45GIP5KQa8NdR2Yo3IdEMZx7H+f+9rZi34f/gHOHRgh327Uk3NPB2N4d7hLKWlu1IS7qGxa5DNEkJvI13eOlMeaqcOd0Txnc/7Lc4d4WOHc4dwhwP5PtTvb6+poO6du7w53ki2aGT4LdDQvh6uOwdi+Qowm/FQTXzpYxqoilry/v2XIz2PsC597nQ/zr81fL96/QRTIkNCq427MgS18Y3FM/nl4Z7t6ub2di8RdvH/pUsbEhXOrHqv1k5CZw53RPX1/prz/FYG8MnHsf6/4x/2j5/gDboVHB3bHnJQUTh/s5vTlOde6VDQ/0TwVHr/rfMo907D0nnnL0iRdvpZ1nkZnM+PkGcGd0p879hTdncoaZVYVz7/Wvwraf6FfzN9to2WA7NCa429YsTynWX5jp/JpeG+6VP89jz5MTqyFLeCGx3JCw9EZPht9LCu9YxW6IwHxJdAynuP4iJrM3E3XuLLQVucME3uHcW9S+9hSLU6HRwt3eOKKaDHXu/rCs6wR3ooy7iKaTkqXLxMSYNS2I59F7QFZ5+lgynz5eSrire0R8S7hPfebc2aT0QIF3OPcWthtrT59aR0DQmODu2PNCrlyicP+6BdyTypFPKK2zMpnIlJhMzZfyQEusUS9/jCjcxRwqfa7cTdInKDM83BPh3Plq1SFCM3DuLarWntqNdH9yl8YICBoP3G13lsvFlSwscwO4e2SrJkX5YlTC1px6tWB8QPi4pEK9CMYXdLQO0HhGfOaWcGfOna9XTfPZ+aEZOPfjH9+PXyx5XWSwN82VPrkh33xwAAQ9Jtwde6MK/FIc/X0TuE8mIpYesABNQpVVC1QV93OPYjwLqjwa4dcXZRSFKijPwzMhC8p4nndDuL//Vm2z0yyY22eadzj3lrDMx0+dwv6rIYXdrravkAUJjQfutsWzZLhtT8n2r/fB4d7FRwvLTT13VkqjnscytkJiCfSwLAszA762holuNoMyvYrLXADuf64z0Vk1Tf3yXPMO594Cd8teabrv05s5e7lstZH9EPSQcKe23YlUG6E0W6+Hh/vUO6pa7CUyeB2q+gGa7nurm0rzwUROyrL0mTiJoiibVHg/egjxJeC+TlJZjCDNlueZdzj31sDMp6wu0LD6VAZl+FYsTYVGA3fblTOp3GZG6wvAPfGPSthzle9YhnVcy4B8fR1ToBcoeUVt0apYmuoRVaLGKE9D0mMHkX1dAO7r3Jcl3s8173Du7XQXgZdVQ2BGB2Uo4p8sBGWgUcDdcebLKFXBYbJdXwLu2R+vx+QL6x4vFs3rUHnpx7xu3YuqJpjaQh/SS1ONpa6lugv478cO4o/sEnBfr0n1O1Ewd05/n+DcWwMz7qHAjAjKCFf/CeMOjQLujr3ZVNH2NOE4ugDc31+OcbXu3HlkPc+LhZH+uB+VMaqCEY8FYKJ4QuTS1LweiRcFZzzPP3YML+8XgrsIzYhLnLubU2MzcO5dAzM8NlOLvTy5y5Uy7gjKQOOAu23Ng0zbdj9fXwzur7/T3wclZ011jYEiZlOhkWHd5VzrIoiSJNnWKocZjTk8vTQ12CtPwyI7R47h79eLwX29VXdPat6L+YmxGTj3dusuDfpexowIyvCg+08X61OhEcCdon0Z6XQ9NpN6QbinrfOpmuAUxuxBUqqou65LUHic4kktYjNRSY96aaocEOaRTJQkrROqvy8Id3Ne1U/CuXXKmwXn3oHuT25TvqPBfGRBQmOAu+1s3FxN9smZ1Es6d49MWuAuc9ZlpV5dIpJlNerMdo9vKRcNlcFUFmSk5l5ZuyY5v9qaL3NZuAvzLmrk+7l9Ct7h3LvQnSXFyJSZnx9PtaDMClmQ0DjgbrNge6ajwYZtvxjcZcdqb+drv25YUa9GEBE11RrGdezvrEJVS1Ml/FkhGjkyrvXM9nb/oP9dGO5m5D31S3fTe2YVzr3Tx7ohMGNkyiDgDj083BnaiyrYnvrb9XXg3qm2TCiYq1ifaLjzwgTGlhrcPb00VZeZ0btsrSF2ebivt1UmZpr1xzuce0e663xIGYLhvBcp7qslgjLQY8PddjTaxX/Jen0PcNczqjmPrKsakVkFd5Ego7eYcK8tTT3i3G8G9/U6qmIzDO+zXsEZOPdegRnh0wXKV8fKEkDQw8CdGsaZW2rXvhuRuSXcq3ruZZJlslgM8/HVVOs29rxYd8SuxdwF8XkxsYMx99vCfb02fllieJ9b3RMj4dy7B2ZWBsxVoGaFpam9frUXLU1q903xIC7OvcLdsSlRFNp5ajvZru8F7rsNUXW/JbPLXlj1aKoZcmJg/EC2zO3hvt4a0xxpli/nble8w7n3Csxwvq+WlZNfva0sLE3tqg+uWhDryRUP4uLcJdwd29nMl7lfBWRqOTJ3APedMmAVrpuoL9rs1buvZo3ttLP/s3c2zKnqQBgmELhMaKHO4UM9orW1tkytVuv0//+0u5sQvq3gwWqnWZ1qwUQk8LC82WyuBu5cm8m998F26i3aue/Kc28rzKQZxNI0MnkyyOVfxfaWFr5v8FGMG6Vsxpe9q514hXAn4LQvdoItzzLo+v7+quBenyF7loJ5Vaf7vuTzl3DfNEL1SuAu8S6bYLVj4L6TVnBXnntbYSZV3QHoad6BsRLcO1wf0+ECm9pAMKVtXSHcKdHQaV8N8oiNg2i/INwRyyWK7x4lmB/3Feo/lMpVZk0t0n3f5qryjXDPvPeU76vt1AH3nRyHu/LcW4oKmbe++Zt2r+Zh78paOBLauJJ/TXZlqN14ZXAnSHayf8oEga/RflG43908ZhnCZvunEvZfcrFlt30suuPZ0NR8UUNWyKuBe1Gc4erMah96R/iuPPcOwow2lrL7JvXh1dDUIzwvzQTJs/QUB/TK7DxqN14T3CknO+VyjPAWnw9r7VcAd8wT8x/PxP6weixPtXFzcydWPD1hjrBSfSu0x8p029V87lcE95I4w5vmYU+8BSMH9XfluXcRZpa3eYLIC0VBEkJ/DNmJxlixa1/PRRi9JMoobeta4E4pocwBn12SXbqKN1+i/cJwTydQbZ5D6UauuqsUOfThtt/57XAHvOdBS5LvoeMx2kwF5bl3ld1vs0yQlxiayjyD/RC6U83QZtPQKWxvlj5Z0FzuTyW4XwXcOdgX3mLK1Zgs7yPvwnu5v79muP/31eyndwfW3HWq5SrgjoGRg9JFF9tmysCBbwC88ty7CDNEdAlKwX1MzhkFSUnVKHWWiT/xfkRrUUZGQRRFyaxA9yx9MuowuhZ+w25U1gbuiAYEe7jDHlSZkPC41H5FcP9uuwzc0X2/Kbjvgu/gwC/qgFeeeye68/B26bmfd4IOyoyqOcQbWtbI+AmtRTXiW5blWmZYvNWQg782fCDY5lbNc3JpuFNOhIWTg70wsxyCY3t/r+B+TXCvuu+izQDw4MF7C36dpspzP1GYGWcJIs/K9llcsfWQOUPT/RlwJ0Zs2cF8MpoXPURdL8jsafeqEmUuBXe8N9TAX/cWZLp/WJVUdukS3rc0BfdvhDtX3wfF+ysJ+JddiO3JcDA4Jcpz7666S829s5xAj1v2TQ446RWLDWdo/xDPXdMCN5oZnuGUlUAi0yeHPPhojPOcVPaxGvJ75psq4s0R7hzrLNy9AChyjz2/2b9pTXYF92+HewPfRasB4be7mcbbNvXcqTrm27nTqds+PsXnZG0sg/syEBaZZvpu7v0YuFMWRlbihfWsMZkwY7yn09JWPvFXZyrqvff2oGkXDsXDkHvuzhSxLoSYjA4n+OwK7heCu+R7Bvg0ZpUvQCd+SsFzXxoAedmBR8uxycqKmnuew/0U0T2cHreweDGAh2asrWjG33F3nsO9nmuLHE6/hSc0zVfTNoVJRoJaHfSQO1ishBJtBnB3GuAupfbxO79G1qIg2WY8fld0P+3Gssko5zlbLMCZ85wFHIW7fQzkFByocF3e3t93NQX3S8Bd8L2qp2XtOIhsO97vACoLhzf+AkGvUdp8oChRJkd7xzgPunj6ckpGMXvYUyXSkQi4Uy2Hu6cZnuMZXkHD0Ty+yGhK92wYjDC+Gm/Q4K3hOEZh1i5ZOF9EabU67MzVeEGjebJeUa3cKOwMZpG15t3ArHqFxJFL4zxNT8MuxtRsCtWdDQHOzXHwXOaG57NGwK3Y7ffbLXjqK37m27ZZJHoJ7C/3J5iC+4Xgjv2rD6uyrJYlKjBtO3XkVw/b7R44Pw2Jll7ohTmOPGrY7/bbl3mYe/dAd4D7DZ8l7KvnTQu4G9NR4vvrCZOcJQ6bxHyRVu09oSwcxUtjBiWSeAj89sL5urFwPGFpYcIcUd2cpEvoKJ4YvGAyChsiMakG24Rr46ED9VI2jUdx5AajUTwazVjjNTJNsFlR3NGtH49vl2rE6ima4T6zly0YjrZcCZwPpJ8uzvVPGz337G5e+vCrp5PAruB+WbhLwKeEf84v1wj3YuPz9/yYwKG4eIzkh8x+yn6z756OwBkjfsadh6gi3OVwucO2Ogr3+cTk3auuPxXsJc7Sd8WiYFhBL3AWSgwjvtpeU2MSHSzsL/ki4sxq1UXWaBmIZVE9zp5qzkhUK+ol3gS/zRS1DB3arG7BTqzuPj0Fv0L7CfeVzv65bp+lgaapLDsQnvvzIBvNPnh8erj/FzsH3J/vrtquCu5Conlaldo6h/ugmLQ5PSyqtvV+b1yN1IoxMlvCqcsUe3Tx8Lg6+ng4BnfbN61gHa8j1wp4CDngOXJdXBS4rlmJfAK4R3YSYYkESqwnrhUl+Mms8NDMCkdId3AAAyurLuV94CYBFoxhmVujO3XWlmv7Mf+KaMqgUt/3TTvy0eoOgUwpczuua+s6e99sVKqZU45Pb1+MfcazOU8kWMD4oOS5w+LPT/8D7rD+yeLINj/WH/1Z7Lt28HHF5n9EcC7Gff7kDxdvdv+xIT78z6xpU7g/D54r6lvq5JcOit8Md5KLMpu/s8x17xYxO9wtmAAAIABJREFU0zZW5gu4A4tHxDCMmW9bsQicgfNgHaK6PbLdgGo1uNsuXz0F7yqy/Cm8DZOscODaMdanxVAY9XbHt0R1JHEtMdQF4G5bycyDr4hd/FRlE+eWHU0c3KjEdX0GrjxzMFrGaPxJQns5lDBZr07noawj3MscL9ykFxYKzR2w7r/+QXsFezvdXl/hKHv706cFth38eZWP63vhW9jvT36z7ehfWgGaId2gV18gvuC5l7tby9FRvx3ucrIOngpSk/ncOye90ql2+KE3aF4NcI8NjZDQmJqc5CJo2WDY3W2sXXdeipTkcBerQ2PoYhEHPgnodQPCuey6a6yPaLwwtu/aEtXxDwn/PkBmY0HNqw16o1oIV40hj+FhsJpvgYiW8UhT6JUcvXQgHaSadK8Pz71yPle0GvDcI4QBh3ovBhh5e+3TgHTB61v6eJWv1/PyBtczN+j7J0e9VfYHr9bQKp8VBabhUv/rPfeCKAM4l/NOjG+7CDMnfW9NlolCTUjjPkoglHiJZS4ZBh2GQHKrkjME4W4KfZ3SwHYnRoiRikaSFYZXUXhpAtXhg958imyHq0GSfjXCXYgxxBhVrx/Em7hwwQlTBd/kA9spm1U3Jb9M6uMsP8+mvvOY8txPhnuzDWQ/Go+YmAyHS2hEfzns0+Aom/dZ3xJuEdf9bmLPtgQ/ZtTnFmKrBP1uI9xxz3ETC5FSg+qVXmnuWYQHOO6AnlyjOXdOw3qH6lqgFVeYQGEgr+UbIvTNARwHNc3d8tMuTebLqjA5ANfTwwCAnsbNGb7FFRfqaeCCG7A4h7sVhBnJK8OoeKIB6cxT+A74KP0C7vIy2ZjtV2ezzWasUgCfEi3j7FZFi0U8xH6/wwC4UJNhkp7D8H4Njpn+zNPh5m3aY40MnYjYYOK/RcOf4t/GVeddCFvIb5NZjz8ZnKSgr30oNhLgPsQaFwuPN74WYlAsj4rdPshgKml753dGy+gsV9lx5JJemET1vNnIm0IhiWQqwh0o6gbrJFkn+CdIhZQS3NcSxr5Ev4Q7rC0XxtV66BjhcB4ngelmcPdFrRzuFc89c/Dl5sItwWG4y+kK35nYo+WoRyin0s2ceIzq+qJoXv6WlYeuhKjk+aiyEZ0/5St/6qTzk+iozC0ZEeX//UH4HWLskXTbKn9K39206hsWwmHPZcz+fjKcWnagNfzEY8+sCtka2TPguWXKw9kWh+y33i5noox01IUEnw7GOWdwx3G4T03bLSSgiQ7DndXg7ixNs1SY8KD1IYa9YDSjncPdOQh3rwR3vlWH4S4jZTZMpiEo7TyRd1PB/TS85yMPgfTZGV0bdM57WnxHHMd8uJjOH+IpX9s/dWhUhHuPnp+A+zUn2hBw73ELubwZ8POo6/4vtV9x/F9QywpJeSKKLBlFdpjgMfPLRZl8UGohhdhZZwBt6blnlsS0Jssc89xzi5HtLAaym0EymhRkmdZwP+K5y1ueGWuchokquPep1Bw6pjK493SQ/j6462eBux30O5AoUFkhW4kyaf9phqJCD+s5hZmjcBeyuZemfMecAQfhXvfcMb3XulDYw2MsttxgNNU8L/vqr+Eu6pJbKHT9Q3CX10TeKS3yQ5Yy9CjP/Vuczp7hTpXn3qvn3iPcVT73Y5ZNwFTADhdm0hQpLYWZ5nw9X2fvOQZ3KnCaVh06jGgdPHcMao9CUigMBUw3mBmYkMRr57kjKtKN4kxHef4A3OVlcswKoP+fvWtbbhzVokJcioI68CKElNalVOeUavTiSc3/f9xhS9bFidOxIzrjyHt1V6bjEZQE1mKxgbVfFCr3n03uBMkdlftPDcr8fW1f9jaj6m2Bmf/dgrvJHV6D2SnSdr1ltyt3KCzmwkx34yfjdhggfM3Akh32Xf6W3KfhgIz7KUO902aaj8j9IvnSvKF0w+Wo3FG5o3JH5f5twbUp7+fLRVBmw1S3BmaYGt2cPsFf95I7OKcb2VFqLQ0vreze7XP/WLmP0RPDz4XLsTB8xYbRFDIfjPQ5JOT+LbmPt2gGMt2AnDbYXCf3bZK9cbTpZ+vkFJU7Knckd1Tu30zu45mb/5y3tF/u7MiXUPwNPoZgHPY5/vuJt8ySZg/4GZYupxFfDl1VdUOg1l6x25S7h5fxTWFYoA1jBT9VRVU7wbksi0Jdkrt8+5UG3QZh+qqAOqZTrlfJfT4dsDglz3OilwSVOyp3JHdU7v9OUOZl2uKRvhWi8/b3v28i90+d5q5Y/g4X5G5W5X4ScjTlCt8K8GQ0sHvR9fbtISa+krvbkrscX0Ziu7VwEwoDfY+ZrYUYOiENeNBckPv7FN1EtdlcB5++79fIPZ1tNZdpzvLJwuao3H+qcpdPR+6n6OQuZRaZ3CWS+2+5/XU5i/ou9nLXjpkvKndbu2xD7pBsbyJ3W87/g9i2zjz3Pitz/XZBtc1ceSZZdXLDmdyhcHM+rNrUbio82bcT25/gg6xTuvaew0GNwZ3Oh5g2d7B9uVWXQRlXN/PKap65+vJmZr+wDXWfQ17rjhlU7t9D7kJkNqpyDwohMrmLNZz4oMpdiKjkToNuiq3chSgsvksfa5LlaOrLO3G+HFyd+Okz7f7PX5/jn3elLowVlV5/2yRcVVS1TdOqa6mYtpd9UDiBwnouTDTNx99ZYttmzLVxteC2mRKqoUyyJGpK3124bI7ZzH+Wk75z7iVU7t/xpdZFXXcRaYQlpKzrNmKNRFd1XT2y6CS6q+siamyrr+syKrmnoVeeOwXHbUGZ6xlTt0eZXtRnueG+slsGep198Mv6b0ZGN2F2LQ/ipgS7+PeHhQmBQYSRdTi4XvCiJcho70s+vi5V/SvgIraVJuR1+ykq9+8ApEG0cd95+z6f4r5b1JQ+ttcJg0dmkXuFxr1HGvkWDxqUuc44q/K8xRGF3YIvfzX2JDZ/V3j+/Y5KP72BVP369c6sPU1+bT9F5f49xBTdVjl6hezhnZ+j55T+I72C3P4hHbVrytT0mjDfXnFDYObZx8qUpW8tLMDfiKVpum1PJHcEAvGHp69tP+MD2/Z0cwlmh4vR4kjuCATiG6T7r9kg+aOA+uYS5PZIcyUkdwQC8afJZnRPHbHjEgQqdwQC8Wj0nqQ3XJLecBniNuX+guSOQCAQh1PumIkJgUAgjof89fXvV9x2hEAgEIdCmsKud+R2BAKBOBieN5vjt7Zx1OMtjPyJ4zJ7juV9E6LeYvxW/DP9gkAgHpSQSKKttTqJ9doTpkJ9djSsiHmfV22MHmuQjHiLoRX11IosidkvWhFcwUIgnkK1K0r6qqp6QlWMt54kVDWhvmK1noujiVXbto+tOonO25ZEelyq2yI0Y6MitSKY+U39Yi2qdwTiCbgdLJ65MUYu/sw7CS4pM6jPgEm0isXuJKUl5y5/YN8rSEnpve9jOEMSpbvMy9CKfLbe3t0vKtQI/eyzyqJ9GAJxeG63HRdyguDdbrNvonsnzFSfEVkTxwOXEa1rI41/XHJnYQbUyfDkMcidqDw7tyI3wkXwYCe6yZZ+MQNBdkcgjq7bSyG54M4Fmcjl7mwTgdu9CbrdO8ehYh/D1J0E3uwzSPL4sMqdkYS2gwm3yCOQ+5iokktoxaC1ueG7feKhX8TUL96EfskUfvcRiGNzexVIhJd9nuf9KbC7353LwQUyyqo2z5sy0PycjnEXNG1rDhxnHpbcNc3hcUEaR0jYwewgvHFdaMW2c+NzJ7uemykC1Qxjv3TQLyXFVVUE4sDcrnIvpS+oUonStNz90sNEIHCIgkQdirZAKNXukEJe1KA6+SAfl9yL0gkpzeBjhGUgNXYYIfOpFVm2n4shR7I3NbVjjX2YpTkMyyAQBwbThTeiozkkViEJc3J3nmxnTKYUgQpzWkguhp0ScczHyrnwRSUeNSzDdDYGt7o+inIndjDS53psRaLbwMU7E2UzNRiRWXbulzpM13pMlI1AHBmKlEO+4RTjdrGSDnS+anVis50Vnm9LGF/ntDOPSu4wYTFyaMJoFkG5M9X6VaszUN1y99qFKrK5X6aJQYWJshGIQ2t3taY6JfZk9klEQjuxYfOJlvbyMbGdK1ua2gcmd124uqdKFTGUe6jNmJXNoVE57/euXVi7Nmggd1mgckcgDo3NafRRaJ/2RVHyTq5xmDjkPo1AhDywch9vUROYuMSIuTPVebeQeSRyX4+lEhgmo2xjQiAQDy/gCSE57TnfvReS9oVaaekkpCMxbo8lj03ucLY/mcg9hiSmbbVOqGCRmjdxHhy8ZRIaBvEYu5gQCMTDc7uiAY0bN1HsDKKolTWYGlkkzvT/0ck9SZJYyv2yFQkdDAyRUR5ch35WteECQ+4IxFNwe1t15cCNiCA7V7ewcXk12obqH0PuUYLZayvC8qoUp0itWHRd7YwRNXI7AnEgkC02JElsJYwQkmf3EtNHNc6S80vxhOuVPpVyv2hFODpQRCJjFzracFdiwB2BOBLoFpuYK2yfkJJzX99pBaMuanxDGIRWYfpf3y05P6j0uZT7ps6e82ixrUDuoZ95VukE2R2BOI5w78puQbmue447+ZznQdTJ+5zD8m6Dsr8gXqIb/4UjpUy1F5U2mx2BT6jcCfgGRPGrmTB454N2F0OC7I5AHATjSc8F5q2kzvO+CzRi7tCdTPdmW+PFRhuiczAfuDucEAhSbLFU+pTKnSgF5gNdPCMYkjfVILk4YdAdgTiKbg/kfrZ8BSPZdwudStHc3XXOPZA7l5satxR05vb7WWkiyKXSzXHXJ1TugdsH8ZXQ1m+glAUTIYOHmBCI4yh351fwM7nPZ1tGz5H7Ti4y3fhtjZuQDrGN+5rdFXjTbiv9eeQejzXDCJkBt9sIiVmXZH1gIqScjDtiIBCIfxX5BaZXXtsN/UOU/A6xnZKLCtf97YQWYZZgvhRNYJeVruPF0yn3nI4jZBRuJ2qz3j2aCOEpJgTiOFDLj/N/mKJFuTlzBDuq71bb6vxzPVKZ0o5Lw6sd2lBtfj6ncp9HyJJG4PaEknK9L0JPxjhM14FAHAaBJVLGWJomacomNj9xsbz0RPfyzsW7sSY2/Vz2LCoNRyBd/1VuT6e7hEpT9vPIPY5yJwktpTS+ihI9YZ3bnIMiOjN7TYQRCMQjk73uISmEneKxZPT53n1chtg2E1IMZztyxiJxyHMpd6LZyUiRNTaP0IqBzQWXBR0jZyy3YCJ0wpg7AnFccgdnL25qqmGKrmklOZjLpPsCAJU30ndUJ+qMJyP3GMqd0R6OG5XWRmlFYgvI1deO9s6K5hn6uSMQB2d31ULiz6HIAwH0tZQRtlSXRkpXkLZpz8hRud/fLx0PI2TF2hU7Gw8mZb5rQ+uNWVkFrqciEIdGkHSQd9p45xwPM/e9hlKTPa30ni+bGWWkPXdPpNyJ7YJsv2zFYVfHhEaDwMzYz2FixYVDO3cE4vDs7oQJrz0cGRK81HsZ+BQ4RJpQnTn/ETHJ3T+Fch+HSAlNuLZitm/UZSo5zb0ijchaPMKEQBwcTOelC9o9vPmQKW7n8meY/ht+CfNUyp3zCD4w8KhvW3HYGSJnia0yP/azzyqtkNsRiMNrd0WTvuq6qshpBDnX9k2z/dv0baw7zUN1Dx5LIOGBY6wxvG3Ffn8rMmJt+3/2zm3XVRwJw3gbELIl+4ZD0AARN5G4yfs/3tTBEHJax+yZVuf/e6lFAthl0/25XC4Tes7z4ehtjpgMBL0B3Y38Po/1mXnB//LOu6s/51+3Wcb7f/zGG2rvS4q56UX/ipwjY1yk5xydgdsOQW+i/OGPbfysqGv9yV/oJOb/fIfzRSbmt3rNC3pf+JwhCIIgCIIgCIIgCIIgCIIgCIIgCIIgCIIgCIIgCIIgCIIgCIIgCIIgCIIgCIIgCIIgCIIgCIIgCIIgCIIgCIIgCIIgCIIgCIIgCIIgCIIgCIIgCIIg6A30y58rfd0Psub4VVIIgqDHfJSfbjbfuMNkzmXm5/XR7bn5WdV3JWU/vx2CIOjfzHZnI+sbt9isbelfP6xPbncx36r2P7Y8mrb1/iXOe87Cfw0QBL2csSpz88Vfr9fEuV6WpT63Wf7IoGTW3j92fdN1Te8+mQ48sz0f+fbZ51vV351orGw/LU3X1Af/a9+dy3SOpyMGgIcg6KVyXrV9IZ/c34e7HcsQQtm1Ln9okMhav8ZhCMllqKpQ9tE8Z6WL1v15Wh/fPsR2rfpbEPZ2m2Q0ZRWqsju6X64AGG+9OZIyax2iPBAEvdJ/7pua1Jxd8kqP8nGMf5s1xvZlURShuYb7alDSuT84q/MIE5dQ8B31U9uIv+0wDg/P//GN3F6eLcGdD6vm6yMgDRnTPEq5xp+qQgwZftdJxtlTX9NsguYTy9zaDM47BEGvQ+yZnFj+m60RuE/8sazt/wTuVRFuPHdjF6o+iQ+qZvbi1Qrcq+ojuJ/6patSS+4B3cjtCnep+utwpyGjKZKnb/yB4M6G/A7uJk5LQT1fVTyfKLvewXmHIOiFwZGgbmgjsW+Cu3xa/n9wP6tBm0K5tIw9voFBWPaPbSPTO2JlER7DnYcxwegcvwt3jSBVydPPM9NwSb8Myxg7dCVPAagobmZV1q2D7w5B0Os8d8YLebQjM5Hhzh/2cH++wHr7/dWF9zddnX4OdzZIbKrUQy7KFLrJx64oujF/bJmYznGXB3Dn61x77oqOHGSB9Qb3Lywey/XFNhiQ615TSc3gzeOmPW/0FdtDKLYmSjPrx6sFn/X6wyoxTEAQ4K5wr4qJCHoHd2Py23SONZ1Gzuw/S+aHSYnkfLzPwbnNC/kY7lXBoeiqDIq9RQMgsZ2mNj4p0QjcyfY5GrFntUtt4QTGo96+g7u2YWvbPlMov9y/Xp++yb2jkrItFfJBysulT9zWJ1f9rsbSHzWRJidCeZ2T3NtwX+LFuDuzHzwwCILeGO4J6Ddw53wO1x6PxzZe0jk0nSbPreM8jy29hi5t+ULmsHE2p2NvN+Q4GyUvJF8L+hDuBFK6djrNjXq3KbztOHsmrfxSib5NmSaSUOPsMcHdOkn30bQbqk1syf7wsqjcfoF1Jm1wW9v8LlXIrcfOrddfvok2rhlFhpvEhphLH7m1j2Lc+uS63+OSJijnwzQdzjq+8gzF7ZOXdvasvRw9tzmd+LO/jFq4e2Ae+TcQBLgLZYSg13A3Lh7GWtI56v4opDbuJOk0ffQznSlmO2l6DV26cObHMkQqdeKc8q6enUuZLm2/bHkhgrrP4M7uJ1H3nBZRPWHroIk9J294R9K0yzSJcrLRYYqvapY2znJwsC2nx3cnO2gaztFtcHeu59Y14zGaLVOIbuEK3FluH70bm7rT8U/Ozt6PcuosYRnj3XC+pLzo0q9U1czRD0uX+uS623lRVsqcabihMasX/z0M3m9W5ps99FxcWzdiTRzYYk0logo0krZ9ohFv/8BAdwiC586wqxkoO7gbf1xCqekcoex6z4uJ/iDpNIumjZObfKo42aYmPsmloSTOz0U6Xgyj28S52+WFiBv+Gdx1D5PL1HeviOhxKCWvh9ibu2zcZZoQ/vhk0EB90PR5Kp8PZtewLcXJznx7GaYL3E2dzBSTOFNILtEPjdy+RM8XKYmlehrWFjlVM9xNPNVrH1HTZt4Aa7gqumDkzJ8gBo3X21nVgooDMa2hZkpt3Xgw660cIyO4F/Kht0YPy4Z6mXv93Klx8pS0YdQvPAacK+0H7gIxBoKg94V7UXWMUFmK3MHd+KkrL1krhBQvPqdmi89yqhrs1FWcfD5r6gdfNw98zOMFXUegFPzs0l/CLF9+DPcUfJGrlIJxkLSSwI41Ybnal9jbQZYlU+oJRzjEG6Y2nVM6vZ3Vhh3cl1JNLkIlI8Z0yV/PXR0kbYhQHvYlh16/4dmEYSe9CPs+6qVpg1Q9jlv33ab4SF4m9XtqPDWzIbffc1dJCn6ncO/WFWI9DPUQ5JshrfByhlPKL6Khmdje7Lrlo+1eEAS9BdxDN0tku2uzC9xzQoXGREpxXZVQHFCQOIluCSKHWFcGu469RY3wXI4rQXFa6azYwZQCOYnwS3DPcn+SMjk7PQ56N5Uo6StsGc8iGIbheFg9d/1WPHeZjii964yxyadXuEssqixTUL9ZM4WqHdy5I8RzD8VlTtBbv2jJMh50Wx/p2i+RWODOIXQedqrUJ/tmKrarbaFYImCW1115HBTqb3Cv9nBvat3HdTioRfIGBKMjM/v3dZmMKfWBDaA7BL23514cGQucDnmB+xo6CN04LhK3keCIwH2FaFkcfSJ3Fbq6S3SvQkHw12VacrmtOs9dP/dpIxGPEl+Ce5bJCCMkvcB9HS2oxLmvOfAx/+dQL7XW3iw1v7Im+fzsTksMJd7DPRTLWCc711nLLdytG+ulUUQvXPLsL3Bf10VDM2pB0h6FO1m165OrHU+pE6/8+VyyWz6E+9br5cltQF8fCLUrzumBncdFOugb27QgCPoXwp3QcFRXsDjFDe6u7RQQrbV2WHPh2w3uYZmH/tz6lNMXlqMz50SyenLZuG4INe7M0epustGuHuvX4e4S3N0O7n49sjZGN/O+pdz5XbZMjD4FdPib8zyM/T3cCaEHMqnXssiJfgx34/0axome/nFKdIF7mleExVEfaUFUfZvgXoSeV0K38ezSyNSU+5T8z+DO8a9hXqZkEY8v6wyFrKm1q1pq1aB0h+sOQW8O95MVYBHLVrhvUZDBtsboaUJuvjqKoSey2i3mQqeILsfkUR9jWgrVyIOb5nM3SjmK7jp+F+7NA7hXy6EljttZwLnLc2/5Ze3Jc1eCW2fuwjJpOdMqEpsUkrqHe97GdQGWlV/g3q4DyERV5omtS0xw54GN2nO6c9I3uN9tpv3zCdyLMHrp9fQUuqPTtzJwq93UqQtvaQzS3tWdaRAEvTPcT8roA/vrAnfFQyWb7E3cmJMiCvyCAiZdviKV2J3lKfyry7H1BvfM2dhmNmbTITmXX4d79sBzd6cUoghNPc6TtSZfd6hu7vB+KVaQfAv3tG1r8/An9wTu1zta1xx1hfuat5nvsudNvo2LkQxruzWC8mvPnWvK5FdGknlUg5TPjymTQnn9RDRu5kMQ9M5wXzfq1Be4bzt9NhpV1cG55InOOuG/QarCnf3F1aMUuJssmgNnuoft3V9fXFB1ykaOmuwWVKOsFPASI8d7akJc/gTuVXFaE1Ju4U4Y5mSTrWn+23BPbQyLv+R2bpiV/M08LUvfwP1BzF23lH4C980TN5tnLrMYfR3arPMZee9aSG/Q9IA7BL033P26csmbQvdwr53w7LB5zclzH74BdxOPY5OywavvwZ3fr3ufLePa+pJcWYVw5i34j+CeZh5P4L73on8Ed78fwFYufw73R9ky8kp38xnc11LSfgR6Osk2fkv9nJJ6VoWqBNwh6O3hrmxIOY57z93sPPdi89y/A3e6u0uvUGn+y97d9jaKcwEYhuIgZCQsPeItWhIUaYVEP+T//7zH59i8pem2nZ2ZHan31VUnCcEYZ3XiGvvQfS24L3Ne5DLlLrgba8/6bRHnqcsRfyC4t4c/Sn5yz/30fnD36upQOXdrLsNYlp8N7jG7vX+fk9mR8imtJ9gF8m9x54Iq8N2DuwmD5Guemedj7uM65v6F4C6LWmUUpT739vLZC6p6j722bGN2mWk/FTKVjq4ZLvWSWkxD9i5xmO/Hfxjci4cx92kdc5fMYy/7ywf7ESrz4Zi7ST/quR9XqOrVX5lML+kawnRGrVrMUfBOcI/fxUN7iik902XM/ToqI7l8Wv4XBwju2wz2Z7NlljkrPxLcw8W/S+bsMlum3AV3kz4L7pIKy2VxImHYYd9zN2frixv7c7fmxdlq0qbWfhzcQ2hN4myZbp0toxE0DmA/9Nz99015CO4hFBeTFGSX6UFt9lHPXUabiphbxsl56mpaWd/qhjy2emqXaj4L7saGiyMXfX9YYDuGP4uGzJ+wM+deRnpIQAB8++C+dCfXDJFpnIR4zbLsVpwO89y/EtyTONNjyKzmKpC4mJXJ2mPO3LPgPk1TP5x3WSEPPffynt9b52QGfrUF91i4zbJ2Sj4O7jJLMivfzHMvuiFtb+FLYxfcNRJn5dQm27DM0tevW7/l8jjP/R+GZdaskNU89P1trmJWyHWiTX1tx3Oo8NPgvqwtri/6O1wYiWM9vfNNes+r5j7QcwcI7stlvthzXyeKV918D6svNTB+PbivEXDw/ewwitLd+jG7LYs7510OlC2TmVwpXdb0a4aa/WwZH9Kq7iJxsV5D9pouobnP3ezch8Mysub0vluhmiwFFE1X7b/llinz8vZTb7fgvtxaRNqoCStUmzZJP+y5a1tXMZ/7mrdBvhfWZQSnrQ7Pg3tsjm6ddbM2UFHf5yakmey5oAoQ3Nfh53V+dEhVUqx5U7bV7l/qubdx6KSSm1KEPm1V9VlcFBvSHr4J7kuA11sUJducRQnuTvNmSVqBqoqjJxr955hVQG4Caz/uudf61jW3TBKWaml/upLMMFsGtT5miJEphkO5zy2zxug4+K9/Y3zcc5f5R0W13YUpfoXJdP34x0ohWWma94P7+s7l4oGUGXJJFCHTzWk/GwfAdwvu4R6qU0hJa2M6sCrcuGM8Jhm8OLNkhdwHd01dGBdbNvp4De6aVrHVmBML6ebwWGJuPFgnA8y74H68h6pOdAx5g/tws1GZjrmvmNyHT6/6ln21vOpjehzHPgT3NSukburrpV6aFVKDeLUWOeiGe8h9PC/v7GRq+S4rZNnvM2dW2gwxK6S2qgT34klaSDmd7pDZMr9bzfF421JJzjGx5ZI4TJYF71pqSTq5zGb35znviuSurMA377nLopcQ3CVlujyV9Oy6oL+9a0ZxyQ5eNSFXednrGpk8BmQf3DXbY+y5d/o4BPc6D4nffWSqQye7yrs+kTzpRd7o14S+nOe7wQPpPYdVOPqT56d/x02rAAANmElEQVSwRClUTuvWu9SN9y6PZfo/B+56B22Z07NWtxkln7umNluDu5YX87nrSZtYL18tF2d8nuIrzXXSSszhzrJtHQ+XV+fSzVpyyOdejnOxtdGwZVgPrSoXPtc2eYju7WU9Cdk1nKYpJTG+NkttQwr6JZ97fvwbx3+X5aGlbuvsd3vWIgvNCX9PuRkT8G2Du7vVs3eNEbC86NP6HIK9zabz3DRdU99vqUYQH8xnfUcf+vq+ex+eh578XXavdTJiea5jSTK3pZZS5ltb2vbSeGeZ6ne9hFd33cs07La43K6lC3cDNeUU6jZZucfe9Xav/c5NM58nF4NY6q4XfdEfKCmHUNCSMn15LulY4kmX9jbLyZ1bdyzAv5JdY0OEs7ZDaIdLb2MV60tsI7lbVWijwWo5puzDoWSyetLe56VNHtreZqOchBYru8abpbr+rs0y2EyrrE0bSzkmArvEphqXDrpJfJG+orL7eQq3HwTwLRlJRJVl61N5IqmpYqCRe5+atvX/bJFCdnC7SXYu2567bW8tOTz2MadM2zaRm4wam9m2tS5EN//QH/JNhVwgddnuLu331LraWDG/qdVCy/Ve0HJjVTmQvMm/XWuTbLsvz5eTTk3m0jbd3W40VMm/oktGdw0htdQNcuU5nlksV15MtY1ckm6Hckur7tvn2PbLSfgSXLLrksuhfNW09Zddn5WiH4TLsuM3hhZp9s0C4DtGd11EswWHaLc5/mOObzHJs+dvH6e7UnRLTFweXg6vPqnQyrzZsnzvrIc5vMXsDnQ8NXOoT3ikv8yuhFg7zfNyOPz+RB7a6HiSD4d6217HczW7Eg6Hkt9m2/VZKY8f1loL+9AsAPAsBJmfXMrzhz9Upvn51X13/38q+F8c9BecgyGwAwAAAAAAAAAAAAAAAAAAAAAAAAAAAAAAAAAAAAAAAAAAAAAAAAAAAAAAAAAAAAAAAAAAAAAAAAAAAAAAAAAAAAAAAAAAAAAAAAAAAAAAAAAAAAAAAAAAAAAAAAAAAAAAAAAAAAAAAAAAAAAAAAAAAAAAAAAAAAAAAAAAAAAAAAAAAAAAAH8kk77DbwsPzO+qAx8GAPysuGrdO/zGMssyl9lfHd1N6Y/isvKrxzHGhN+GzxEAjrF9HJ7r2yQZbv7BbfrF0d3YXo/T2y/tldhNQngHgJ00u+VF5X/e/ne1SZNXVZVfsvQX1+Gux6nd548job2dev+d8Dr00+ifEd4B4BDcT17x+F/R+eBeV35Tfv4Nwd0fp5qfBff02XC8D+3p9LrXj/TeAeAY3Iu3fHgPwb34TcG9eB7cjQz7Zw/D8cYm/eujvqXzDgBbcJfeuYphPT7p/oTgbuxwvvmfYR+4jR1fn5ksnycArD33KldViO7xWV5drW3+6+CeZrOv3sNwvJ1en+v5PAEgRM+yn+f5Lj+1RveTfxiej39Az91vqh6G4827sf31lc8TAJZYqYPamYuD76drFvmN/3Vwf3m76TAm00+j1w/h2ZAwLgMAS7QM01Fadw7BfbLrBBW7BXfzzlJV8/U1rLtdjC5A2kfwh+Ok7k3cb7cxdhMmuf9tRw3v/0te+DgB4KH7vAT33cyUJbi3Sel8594+TklMU6uLWK35dHz3uziZ/pJse2zBvTXWheKWL4LHnruxyzyZIbX+y+EleXnxRcpQzQuzZQDgM8F97bk7Ow232zA6t1/pnxrn2l42XG1mPzV0k5qsHP0et77NyrRVZgvurrxqcWWWaHFpa4/B/WUblNnPazfGjiOxHQC+1HP/69ycKq+bh3IL4mlph7krZMOpPo+ZxH0fZOtG9GUa33TR5xeNzrJL3VV5XhXN5erqTjZNNgT3fM5ufqMWd0v8/qm7dE2nM3j0jc3VpnZ4Etu1R88aJgD4Ss+9mhsfjHXue1XVY4zafoe+rvIibsi7s/Vx39irfA0U+RC72qmbc3k+y0XZ1E11tRSVn86a3aDqY3Cv6no9Tt70WSo9+mVJlbyxmOw64v6mn77vxpNKDP9v72x2XMWBKIxjgyxbMpsARoJYSCMk7oL3f7yh/AdJmnTuzCwmt8+36O64MEQd6VApyscAgO8y9011TVzgRF4E3RzUfTtemnIPyOraKraJe0evzEHcvYXBuok740N5mCLj6qko7pSg7wupjJx4m8bT0qpZpTZIe1qDSX5iSOQBAOBV5i6D20xcwlqazlFlhg6XZVJd/7tqNnX34i7vxD2WXBirrTR5inew8WRxp4F8OmmsrtfDbSWIuz1J3HdpF26e7ewYrMQAAOBV5h6ktqq8mG8afvXl8MEELaaASZGX4q5cZ8p8sj1L3zP3HPJ3kaal5anxhV8zu721WJU5eXorVGsPXjP4VAEAEPdXmXtVLmO/RG0m4Y5CXcqqWcfxGjPyqufFqbinIktp/MmakPgfM/ctJK9jvzZGxrMN/RTK/k1PONW+rsrcL161UHcAAMT9vOYuzXqj3nS3+JfVUrd8rHyk7Bk1rdtYnO9afSruao4CvviTtVO4Vxwzd3O11DYvxnC25qJrfyGaXvs1sy/F/aIsvGYAAODtzH3iftWqit0zXavamMUP3Buu1+FISrbPxL2uw/2AZN6vf+W3Jqh7EvfSjHUdQmuKtDr2ueuWAi8zd6GefIAt6u4AAIj7WZ/7yFsaunh7YKrSWD4kLfeRgmkXNP16Ku68yHeGEGnDSXLmTpPDylSm51C/SQ0z+yKmF+J+NJ0ZdhdgqDsAAOJ+tkKVRfm8xaJ7KJbILjetsDBiOubOxD0Edhcypu1d5k7peXYdSF7Dj+LOonh/qdmpBV4oVbi81gkAACDuJ94ySdx9NYYy6uXBzst3z3hPyVNxt6EdxuoHcd8z93w6pvNXhoeQOvX2zYm704UQuYCD1B0AAHH/NnPP4p7EN4u7tqH1ZT4Xd5pCm/eJ08z9W3EXyX3guc0xVdzTGquo9ai6AwAg7t9k7uxR3NdHcS/Na3GXX4j772XupytUL1H38zuKr/HJAgAg7m9n7qEsc9V7WWaKifmpuM+5Sf6fZ+5FfmjKnuwFLrEaf7nP5GHxDgCAuL+dufdVrLFEJ14W5b5h4ZBqSnOy42MMjPzf1NxzXebpkepFPYxHcWf4aAEAEPd3M/fYCrlyv32HaOPj0mqp4w1h8U2SgmkWGl+WWi8ht59jJDZWfpe5j3eNNPsGqlYfc3f6M8j+Xw+Ze+FtIvH5AgAg7m9k7r5Xcfur56Sxis/BjcAMuo6rTQeuhFDcXdOq1noKK5WaGyfLRs2ne2+ZE3HvwzcCHTb+21P3X1apJNrbhXKN3aW6TJEzefKIBAAAiPu3mbsOSi2lWSxTyvVR2xsVeyLJmKDdAtFjgDL5SxsP6vpboVq7mGgu81LcY4ulnGg3v+J+qZKLqr39cr/meo4ZvQhfGeZ0C2CzdVB3AADE/Y3MnUVnAmlkc226aBjpn5ZGJwJZdRSI/jHeOCzcECjS0HZMyc33lbjTJelOIeUyjgu9NXEwBxtmR+7Dbh5I1PPq1U3ylU5d7+FmAJcZAADE/Y2ae6vnmJP7jZeC+69/WLqbAcsQSJk7E3pJtu0m7//xTebOWLIoqyoT3sgXFjKh9V3bJPlt62w2hoTLDAAA4v525s5qW5oybb0REvLVz/QnyoEyZ+5suzdcDxH5VuYusgt8mQ/4Wt1tzb5Q/FTFyS2SAADw08Q9bHv3kLmX9NR0z9y9yE4+Q5/Jkj0hK9nXoX9F1L0xedx09Mv4bfYUW6ocKY81d3PQ7iju20D4JuDvIn5C89gyc4fT7mnoYDIDcQcA/NTM3e93tIv7RTV+aNwz95KOCE3sTIu+o12YpDSmkovd0ux0qqExFKDxPpw2bJCt9EQRClXmOmU/98Ufcz2Iu7/OGnbVtnlOMqY5bLi0M6tkKPPruIs2PGYAAD9a3LUdPcfOkp4G1mFfiOoHxqCxrODttDRd1zXX3tZ6Xy7E6iIErv3M7UpTJh8WjBfDeqUp61DPoSyzifIUjkkCLNTkrxMuzLQa1nCZJO6iUO5B3memtnniMGqZEqm7ZsAHDAD4oQjFPceuwdqP7HWaSxiIIizYNqVonWOaa3ZcCrrpPhfOtYorpo7n2I6quWpdW3DtuxzDMlftj6nzdYS+mxTmuFbv6bdQijkbe97t7ArqnSfRb+chPlX1I1RLmq3DxwsA+LnqzlhcKbSLtEecDgjaHUmp4mFaUPEtILZDD6cVBe2tzYSf0vpeeb97RzyEPV6H3Z9NHVeaXkQY8j+VSstV/WtBve+HEY02dwAA+N17wtni/qfA9nKu6c7gI8mO5vpeNVw8XyeOXLY/LveXodgb7xAAAMB/8M2Aj8Zvx7qpLWu5DR3wu28wAACAz4P6caQZW14rpfRuR1ND3AEA4KO1nfrhu3G4uZsdy2hHg/8MAAB8sLbT81NasWoqU3bbz+hLMKEqAwAAn4tQt6YKrgPRTSDY0aAoAwAAH5266zaYD8hoK1N6Oxr8YwAA4LPVncwHKiOz60zVTXWBLkUAAPhsBONsIid3wsimd5xB2wEA4POT94JrN/Tjuo6TLbhCvR0AAP6M5J2p4E/DdYG0HQAA/iR9fzaxAQAAAAAAAAAAAAAAAAAAAAAAAAAAAAAAAAAAAAAAAAAAAAAA/2f+BjpFxLCJRdIXAAAAAElFTkSuQmCC)\n"
      ],
      "metadata": {
        "id": "j7lNpxfPaZp6"
      }
    },
    {
      "cell_type": "code",
      "source": [
        "# Calculate the standard deviation of the given data:\n",
        "\n",
        "# Import statistics Library\n",
        "import statistics\n",
        "\n",
        "# Calculate the standard deviation from a sample of data\n",
        "print(statistics.stdev([1, 3, 5, 7, 9, 11]))\n",
        "print(statistics.stdev([2, 2.5, 1.25, 3.1, 1.75, 2.8]))\n",
        "print(statistics.stdev([-11, 5.5, -3.4, 7.1]))\n",
        "print(statistics.stdev([1, 30, 50, 100]))\n",
        "\n"
      ],
      "metadata": {
        "colab": {
          "base_uri": "https://localhost:8080/"
        },
        "id": "XBBk8f6LbAdJ",
        "outputId": "e4051b3e-cf7f-4522-d0b1-5c274df982ce"
      },
      "execution_count": 10,
      "outputs": [
        {
          "output_type": "stream",
          "name": "stdout",
          "text": [
            "3.7416573867739413\n",
            "0.6925797186365383\n",
            "8.414471660973927\n",
            "41.67633221226008\n"
          ]
        }
      ]
    },
    {
      "cell_type": "code",
      "source": [
        "import math\n",
        "\n",
        "# Calculate the standard deviation from a sample of data\n",
        "print(\"claculate standard deviation\")\n",
        "print(statistics.mean([1, 3, 5, 7, 9, 11]))\n",
        "print(statistics.stdev([1, 3, 5, 7, 9, 11]))\n",
        "\n",
        "# By coding\n",
        "#declare the dataset list\n",
        "dataset = [1, 3, 5, 7, 9, 11]\n",
        "\n",
        "#find the mean of dataset\n",
        "sm=0\n",
        "for i in range(len(dataset)):\n",
        "   sm+=dataset[i]\n",
        "   mean = sm/len(dataset)\n",
        "\n",
        "print(\"mean : \", mean)\n",
        "\n",
        "#calculating population standard deviation of the dataset\n",
        "deviation_sum = 0\n",
        "for i in range(len(dataset)):\n",
        "   deviation_sum+=(dataset[i]- mean)**2  # taken abs value\n",
        "   print(deviation_sum)\n",
        "psd = math.sqrt((deviation_sum)/len(dataset)) # statistics.pstdev()\n",
        "\n",
        "#calculating sample standard deviation of the dataset\n",
        "ssd = math.sqrt((deviation_sum)/(len(dataset) - 1))\n",
        "\n",
        "#display output\n",
        "print(\"Population standard deviation of the dataset is\", psd)\n",
        "print(\"Sample standard deviation of the dataset is\", ssd)"
      ],
      "metadata": {
        "colab": {
          "base_uri": "https://localhost:8080/"
        },
        "id": "hSxIAqO4h0tf",
        "outputId": "f6d5a39b-f9e2-4ccd-9d2b-bc01464e7a1e"
      },
      "execution_count": 17,
      "outputs": [
        {
          "output_type": "stream",
          "name": "stdout",
          "text": [
            "claculate standard deviation\n",
            "6\n",
            "3.7416573867739413\n",
            "mean :  6.0\n",
            "25.0\n",
            "34.0\n",
            "35.0\n",
            "36.0\n",
            "45.0\n",
            "70.0\n",
            "Population standard deviation of the dataset is 3.415650255319866\n",
            "Sample standard deviation of the dataset is 3.7416573867739413\n"
          ]
        }
      ]
    },
    {
      "cell_type": "code",
      "source": [
        "(1-6)**2"
      ],
      "metadata": {
        "colab": {
          "base_uri": "https://localhost:8080/"
        },
        "id": "RNLAR1evlBzw",
        "outputId": "c66d0424-c3ea-4f26-9b86-fff89987d7e3"
      },
      "execution_count": 18,
      "outputs": [
        {
          "output_type": "execute_result",
          "data": {
            "text/plain": [
              "25"
            ]
          },
          "metadata": {},
          "execution_count": 18
        }
      ]
    },
    {
      "cell_type": "code",
      "source": [
        "-5**2"
      ],
      "metadata": {
        "colab": {
          "base_uri": "https://localhost:8080/"
        },
        "id": "IA51X9WKlIXn",
        "outputId": "bcbd742b-0393-4d76-af16-1357d6437951"
      },
      "execution_count": 19,
      "outputs": [
        {
          "output_type": "execute_result",
          "data": {
            "text/plain": [
              "-25"
            ]
          },
          "metadata": {},
          "execution_count": 19
        }
      ]
    },
    {
      "cell_type": "markdown",
      "source": [
        "**statistics.pstdev() Method**\n",
        "\n",
        "calculates the standard deviation from an entire population.\n",
        "\n",
        "![psd.png](data:image/png;base64,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)"
      ],
      "metadata": {
        "id": "itR-HuBwljQM"
      }
    },
    {
      "cell_type": "code",
      "source": [
        "# Import statistics Library\n",
        "import statistics\n",
        "\n",
        "# Calculate the standard deviation from an entire population\n",
        "print(statistics.pstdev([1, 3, 5, 7, 9, 11]))\n",
        "print(statistics.pstdev([2, 2.5, 1.25, 3.1, 1.75, 2.8]))\n",
        "print(statistics.pstdev([-11, 5.5, -3.4, 7.1]))\n",
        "print(statistics.pstdev([1, 30, 50, 100]))"
      ],
      "metadata": {
        "colab": {
          "base_uri": "https://localhost:8080/"
        },
        "id": "7tsqynQnlrfV",
        "outputId": "a3a07583-e4a1-4719-e20e-8b576ef6e488"
      },
      "execution_count": 20,
      "outputs": [
        {
          "output_type": "stream",
          "name": "stdout",
          "text": [
            "3.415650255319866\n",
            "0.6322358912796886\n",
            "7.287146217827662\n",
            "36.09276243237694\n"
          ]
        }
      ]
    },
    {
      "cell_type": "markdown",
      "source": [
        "**statistics.variance() Method**\n",
        "\n",
        "*   calculates the variance from a sample of data (from a population).\n",
        "\n",
        "*   A large variance indicates that the data is spread out, - a small variance indicates that the data is clustered closely around the mean.\n",
        "*   Square root of variance is standard deviation\n",
        "\n",
        "\n",
        "![var.png](data:image/png;base64,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)\n",
        "\n",
        "\n"
      ],
      "metadata": {
        "id": "t4GJT7Spl_hP"
      }
    },
    {
      "cell_type": "code",
      "source": [
        "# Import statistics Library\n",
        "import statistics\n",
        "\n",
        "# Calculate the variance from a sample of data\n",
        "print(statistics.variance([1, 3, 5, 7, 9, 11]))\n",
        "print(statistics.variance([2, 2.5, 1.25, 3.1, 1.75, 2.8]))\n",
        "print(statistics.variance([-11, 5.5, -3.4, 7.1]))\n",
        "print(statistics.variance([1, 30, 50, 100]))"
      ],
      "metadata": {
        "colab": {
          "base_uri": "https://localhost:8080/"
        },
        "id": "rSgYYBwlmO6_",
        "outputId": "193ff4a6-7e0a-49f9-b754-1df85a8f83e3"
      },
      "execution_count": 21,
      "outputs": [
        {
          "output_type": "stream",
          "name": "stdout",
          "text": [
            "14\n",
            "0.47966666666666663\n",
            "70.80333333333333\n",
            "1736.9166666666667\n"
          ]
        }
      ]
    },
    {
      "cell_type": "markdown",
      "source": [
        "**statistics.pvariance() Method**\n",
        "\n",
        "* The statistics.pvariance() method calculates the variance of an entire population.\n",
        "\n",
        "* Square root of population variance is population standard deviation (PSD)"
      ],
      "metadata": {
        "id": "xYXmRh7NntfY"
      }
    },
    {
      "cell_type": "code",
      "source": [
        "# Calculate the variance of an entire population:\n",
        "\n",
        "# Import statistics Library\n",
        "import statistics\n",
        "\n",
        "# Calculate the variance of an entire population\n",
        "print(statistics.pvariance([1, 3, 5, 7, 9, 11]))\n",
        "print(statistics.pvariance([2, 2.5, 1.25, 3.1, 1.75, 2.8]))\n",
        "print(statistics.pvariance([-11, 5.5, -3.4, 7.1]))\n",
        "print(statistics.pvariance([1, 30, 50, 100]))"
      ],
      "metadata": {
        "colab": {
          "base_uri": "https://localhost:8080/"
        },
        "id": "Rxw6NFernmh0",
        "outputId": "1134b088-1b62-47e9-de50-8735608e34f6"
      },
      "execution_count": 22,
      "outputs": [
        {
          "output_type": "stream",
          "name": "stdout",
          "text": [
            "11.666666666666666\n",
            "0.3997222222222222\n",
            "53.1025\n",
            "1302.6875\n"
          ]
        }
      ]
    },
    {
      "cell_type": "markdown",
      "source": [
        "# **Excercise**"
      ],
      "metadata": {
        "id": "fAiPw7tZo4N_"
      }
    }
  ]
}